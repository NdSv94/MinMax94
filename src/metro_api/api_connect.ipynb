{
 "cells": [
  {
   "cell_type": "code",
   "execution_count": 12,
   "metadata": {},
   "outputs": [],
   "source": [
    "import requests\n",
    "import json\n",
    "from time import sleep\n",
    "import pandas as pd\n",
    "import sys\n",
    "sys.path.append('/home/ndsviriden/MinMax94/src/utils')\n",
    "sys.path.append('/home/ndsviriden/mmcc/calc_service/app/web/validation/common')"
   ]
  },
  {
   "cell_type": "markdown",
   "metadata": {},
   "source": [
    "## API connect and get result"
   ]
  },
  {
   "cell_type": "code",
   "execution_count": 13,
   "metadata": {},
   "outputs": [],
   "source": [
    "url = 'http://127.0.0.1:5000'\n",
    "url_roadcast = url+ '/roadcast'\n",
    "url_calc = url + '/calculation'\n",
    "\n",
    "#with open(\"/home/ndsviriden/data_metro_1.txt\", \"r\") as file:\n",
    "with open(\"/mnt/HARD/MinMax94/data/json_test/1.txt\", \"r\") as file:\n",
    "    data = json.load(file)\n",
    "\n",
    "for k, v in data['global_forecast'].items():\n",
    "    data['global_forecast'][k]['cloudiness'] = int(data['global_forecast'][k]['cloudiness'])\n",
    "    #data['global_forecast'][k]['p_weather'] = int(data['global_forecast'][k]['p_weather'])"
   ]
  },
  {
   "cell_type": "code",
   "execution_count": 14,
   "metadata": {},
   "outputs": [
    {
     "ename": "KeyError",
     "evalue": "'job_id'",
     "output_type": "error",
     "traceback": [
      "\u001b[0;31m---------------------------------------------------------------------------\u001b[0m",
      "\u001b[0;31mKeyError\u001b[0m                                  Traceback (most recent call last)",
      "\u001b[0;32m<timed exec>\u001b[0m in \u001b[0;36m<module>\u001b[0;34m()\u001b[0m\n",
      "\u001b[0;31mKeyError\u001b[0m: 'job_id'"
     ]
    }
   ],
   "source": [
    "%%time\n",
    "with requests.Session() as session:\n",
    "    session.headers = {'Content-type': 'application/json', 'Host': \".api.mmcc.pkcup.ru\", \n",
    "                       'cache-control': \"no-cache\", #'postman-token': '727b926f-c7b5-854e-06d7-bea9df150a12', \n",
    "                       'User-Agent':'test'}\n",
    "    \n",
    "    response_post = session.post(url_calc, params={\"key\":\"MeAuthKeyMeSmart\"}, json=data)\n",
    "    sleep(2) ## What should I do with it\n",
    "    job_id = json.loads(response_post.text)['job_id']\n",
    "    response_get = session.get(url_roadcast, params={\"job_id\": job_id, \"key\": \"MeAuthKeyMeSmart\"}, timeout=5)\n",
    "    print(response_get.url)\n",
    "    z = response_get.content\n",
    "z"
   ]
  },
  {
   "cell_type": "code",
   "execution_count": 15,
   "metadata": {},
   "outputs": [
    {
     "data": {
      "text/plain": [
       "b'{\\n  \"error\": \"global_forecast p_weather with ts 2015-12-02 21:30 UTC is invalid.\"\\n}\\n'"
      ]
     },
     "execution_count": 15,
     "metadata": {},
     "output_type": "execute_result"
    }
   ],
   "source": [
    "response_post.content"
   ]
  },
  {
   "cell_type": "code",
   "execution_count": 57,
   "metadata": {},
   "outputs": [
    {
     "data": {
      "text/plain": [
       "b'{\\n  \"emergency_report\": null, \\n  \"forecast_alerts\": null, \\n  \"roadcast\": null, \\n  \"roadcast_alerts\": null\\n}\\n'"
      ]
     },
     "execution_count": 57,
     "metadata": {},
     "output_type": "execute_result"
    }
   ],
   "source": [
    "response.content"
   ]
  },
  {
   "cell_type": "code",
   "execution_count": null,
   "metadata": {},
   "outputs": [],
   "source": []
  },
  {
   "cell_type": "code",
   "execution_count": null,
   "metadata": {},
   "outputs": [],
   "source": []
  }
 ],
 "metadata": {
  "kernelspec": {
   "display_name": "Python 3",
   "language": "python",
   "name": "python3"
  },
  "language_info": {
   "codemirror_mode": {
    "name": "ipython",
    "version": 3
   },
   "file_extension": ".py",
   "mimetype": "text/x-python",
   "name": "python",
   "nbconvert_exporter": "python",
   "pygments_lexer": "ipython3",
   "version": "3.5.2"
  }
 },
 "nbformat": 4,
 "nbformat_minor": 2
}
