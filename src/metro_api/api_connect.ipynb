{
 "cells": [
  {
   "cell_type": "code",
   "execution_count": 22,
   "metadata": {},
   "outputs": [],
   "source": [
    "import requests\n",
    "import json\n",
    "from time import sleep\n",
    "import pandas as pd\n",
    "import sys\n",
    "sys.path.append('/home/ndsviriden/MinMax94/src/utils')\n",
    "sys.path.append('/home/ndsviriden/mmcc/calc_service/app/web/validation/common')"
   ]
  },
  {
   "cell_type": "markdown",
   "metadata": {},
   "source": [
    "## API connect and get result"
   ]
  },
  {
   "cell_type": "code",
   "execution_count": 23,
   "metadata": {},
   "outputs": [],
   "source": [
    "url = 'http://127.0.0.1:5000'\n",
    "url_roadcast = url+ '/roadcast'\n",
    "url_calc = url + '/calculation'\n",
    "\n",
    "with open(\"/home/ndsviriden/data_metro.txt\", \"r\") as file:\n",
    "#with open(\"/mnt/HARD/MinMax94/data/json_test/1.txt\", \"r\") as file:\n",
    "    data = json.load(file)\n",
    "\n",
    "for k, v in data['global_forecast'].items():\n",
    "    data['global_forecast'][k]['cloudiness'] = int(data['global_forecast'][k]['cloudiness'])\n",
    "    data['global_forecast'][k]['p_weather'] = int(data['global_forecast'][k]['p_weather'])"
   ]
  },
  {
   "cell_type": "code",
   "execution_count": 24,
   "metadata": {},
   "outputs": [
    {
     "name": "stdout",
     "output_type": "stream",
     "text": [
      "http://127.0.0.1:5000/roadcast?job_id=5b17abee67b560001c3a60e2&key=MeAuthKeyMeSmart\n",
      "CPU times: user 10.3 ms, sys: 0 ns, total: 10.3 ms\n",
      "Wall time: 2.06 s\n"
     ]
    }
   ],
   "source": [
    "%%time\n",
    "with requests.Session() as session:\n",
    "    session.headers = {'Content-type': 'application/json', 'Host': \".api.mmcc.pkcup.ru\", \n",
    "                       'cache-control': \"no-cache\", #'postman-token': '727b926f-c7b5-854e-06d7-bea9df150a12', \n",
    "                       'User-Agent':'test'}\n",
    "    \n",
    "    response_post = session.post(url_calc, params={\"key\":\"MeAuthKeyMeSmart\"}, json=data)\n",
    "    sleep(2) ## What should I do with it\n",
    "    job_id = json.loads(response_post.text)['job_id']\n",
    "    response_get = session.get(url_roadcast, params={\"job_id\": job_id, \"key\": \"MeAuthKeyMeSmart\"}, timeout=5)\n",
    "    print(response_get.url)\n",
    "    z = response_get.content\n",
    "z"
   ]
  },
  {
   "cell_type": "code",
   "execution_count": 17,
   "metadata": {},
   "outputs": [
    {
     "data": {
      "text/plain": [
       "b'{\\n  \"error\": null, \\n  \"job_id\": \"5b16765e67b5600011961b77\"\\n}\\n'"
      ]
     },
     "execution_count": 17,
     "metadata": {},
     "output_type": "execute_result"
    }
   ],
   "source": [
    "response_post.content"
   ]
  },
  {
   "cell_type": "code",
   "execution_count": 18,
   "metadata": {},
   "outputs": [
    {
     "data": {
      "text/plain": [
       "b'{\\n  \"emergency_report\": \"\\\\u0421\\\\u0435\\\\u0433\\\\u043e\\\\u0434\\\\u043d\\\\u044f \\\\u043f\\\\u0435\\\\u0440\\\\u0435\\\\u0445\\\\u043e\\\\u0434 \\\\u0447\\\\u0435\\\\u0440\\\\u0435\\\\u0437 0 c 15:00 \\\\u0434\\\\u043e 15:20 \\\\u043e\\\\u0442 -0.0 \\\\u0434\\\\u043e -0.5\\\\n\\\\u0421\\\\u0435\\\\u0433\\\\u043e\\\\u0434\\\\u043d\\\\u044f \\\\u0433\\\\u043e\\\\u043b\\\\u043e\\\\u043b\\\\u0435\\\\u0434\\\\u0438\\\\u0446\\\\u0430 c 15:20 \\\\u0434\\\\u043e 16:20\\\\n\\\\u0421\\\\u0435\\\\u0433\\\\u043e\\\\u0434\\\\u043d\\\\u044f \\\\u0433\\\\u043e\\\\u043b\\\\u043e\\\\u043b\\\\u0435\\\\u0434 c 19:00 \\\\u0434\\\\u043e 20:00\\\\n\\\\u0421\\\\u0435\\\\u0433\\\\u043e\\\\u0434\\\\u043d\\\\u044f \\\\u043f\\\\u0435\\\\u0440\\\\u0435\\\\u0445\\\\u043e\\\\u0434 \\\\u0447\\\\u0435\\\\u0440\\\\u0435\\\\u0437 0 c 19:00 \\\\u0434\\\\u043e 20:00 \\\\u043e\\\\u0442 -1.0 \\\\u0434\\\\u043e 1.0\\\\n\\\\u0421\\\\u0435\\\\u0433\\\\u043e\\\\u0434\\\\u043d\\\\u044f \\\\u0434\\\\u043e\\\\u0436\\\\u0434\\\\u044c c 19:00 \\\\u0434\\\\u043e 21:00 \\\\u043e\\\\u0442 2.0 \\\\u0434\\\\u043e 3.0 \\\\u043c\\\\u043c/\\\\u0447\\\\n\\\\u0421\\\\u0435\\\\u0433\\\\u043e\\\\u0434\\\\u043d\\\\u044f \\\\u043f\\\\u043e\\\\u0445\\\\u043e\\\\u043b\\\\u043e\\\\u0434\\\\u0430\\\\u043d\\\\u0438\\\\u0435 \\\\u0441 \\\\u043f\\\\u0435\\\\u0440\\\\u0435\\\\u0445\\\\u043e\\\\u0434\\\\u043e\\\\u043c \\\\u0447\\\\u0435\\\\u0440\\\\u0435\\\\u0437 0 c 20:00 \\\\u0434\\\\u043e 21:00 \\\\u043e\\\\u0442 1.0 \\\\u0434\\\\u043e -6.0\\\\n\\\\u0417\\\\u0430\\\\u0432\\\\u0442\\\\u0440\\\\u0430 \\\\u043f\\\\u0435\\\\u0440\\\\u0435\\\\u0445\\\\u043e\\\\u0434 \\\\u0447\\\\u0435\\\\u0440\\\\u0435\\\\u0437 0 c 03:00 \\\\u0434\\\\u043e 04:00 \\\\u043e\\\\u0442 -6.0 \\\\u0434\\\\u043e 1.0\\\\n\\\\u0417\\\\u0430\\\\u0432\\\\u0442\\\\u0440\\\\u0430 \\\\u043f\\\\u043e\\\\u0445\\\\u043e\\\\u043b\\\\u043e\\\\u0434\\\\u0430\\\\u043d\\\\u0438\\\\u0435 \\\\u0441 \\\\u043f\\\\u0435\\\\u0440\\\\u0435\\\\u0445\\\\u043e\\\\u0434\\\\u043e\\\\u043c \\\\u0447\\\\u0435\\\\u0440\\\\u0435\\\\u0437 0 c 04:00 \\\\u0434\\\\u043e 05:00 \\\\u043e\\\\u0442 1.0 \\\\u0434\\\\u043e -6.0\\\\n\", \\n  \"forecast_alerts\": [\\n    {\\n      \"alert_id\": \"e2b91a01-9856-47ac-a2ba-c6be8e874c6c\", \\n      \"emergency_message\": \"\\\\u0421\\\\u0435\\\\u0433\\\\u043e\\\\u0434\\\\u043d\\\\u044f \\\\u0433\\\\u043e\\\\u043b\\\\u043e\\\\u043b\\\\u0435\\\\u0434 c 19:00 \\\\u0434\\\\u043e 20:00\", \\n      \"end_ts\": \"2016-12-30 20:00 UTC\", \\n      \"group\": \"slipperiness\", \\n      \"level\": 2, \\n      \"message\": \"\\\\u0412\\\\u043e\\\\u0437\\\\u043c\\\\u043e\\\\u0436\\\\u0435\\\\u043d \\\\u0433\\\\u043e\\\\u043b\\\\u043e\\\\u043b\\\\u0435\\\\u0434\", \\n      \"recommendations\": [], \\n      \"start_ts\": \"2016-12-30 19:00 UTC\", \\n      \"type\": \"faSleet\"\\n    }, \\n    {\\n      \"alert_id\": \"86de29d3-b23e-4fe5-9138-77238b967a34\", \\n      \"emergency_message\": \"\\\\u0421\\\\u0435\\\\u0433\\\\u043e\\\\u0434\\\\u043d\\\\u044f \\\\u043f\\\\u0435\\\\u0440\\\\u0435\\\\u0445\\\\u043e\\\\u0434 \\\\u0447\\\\u0435\\\\u0440\\\\u0435\\\\u0437 0 c 19:00 \\\\u0434\\\\u043e 20:00 \\\\u043e\\\\u0442 -1.0 \\\\u0434\\\\u043e 1.0\", \\n      \"end_ts\": \"2016-12-30 20:00 UTC\", \\n      \"group\": \"temperature\", \\n      \"level\": 1, \\n      \"message\": \"\\\\u041f\\\\u043e\\\\u0432\\\\u044b\\\\u0448\\\\u0435\\\\u043d\\\\u0438\\\\u0435 \\\\u0442\\\\u0435\\\\u043c\\\\u043f\\\\u0435\\\\u0440\\\\u0430\\\\u0442\\\\u0443\\\\u0440\\\\u044b \\\\u0432\\\\u043e\\\\u0437\\\\u0434\\\\u0443\\\\u0445\\\\u0430 \\\\u0432\\\\u044b\\\\u0448\\\\u0435 0 \\\\u0434\\\\u043e 1.0 \\\\u00b0C\", \\n      \"recommendations\": [], \\n      \"start_ts\": \"2016-12-30 19:00 UTC\", \\n      \"type\": \"faZeroCrossingToPlus\"\\n    }, \\n    {\\n      \"alert_id\": \"5f9808e8-b3b5-44a3-9114-99de011fcebe\", \\n      \"emergency_message\": \"\\\\u0421\\\\u0435\\\\u0433\\\\u043e\\\\u0434\\\\u043d\\\\u044f \\\\u0434\\\\u043e\\\\u0436\\\\u0434\\\\u044c c 19:00 \\\\u0434\\\\u043e 21:00 \\\\u043e\\\\u0442 2.0 \\\\u0434\\\\u043e 3.0 \\\\u043c\\\\u043c/\\\\u0447\", \\n      \"end_ts\": \"2016-12-30 21:00 UTC\", \\n      \"group\": \"precipitation\", \\n      \"level\": 2, \\n      \"message\": \"\\\\u041f\\\\u0440\\\\u043e\\\\u0434\\\\u043e\\\\u043b\\\\u0436\\\\u0438\\\\u0442\\\\u0435\\\\u043b\\\\u044c\\\\u043d\\\\u044b\\\\u0439 \\\\u0434\\\\u043e\\\\u0436\\\\u0434\\\\u044c 5.0 \\\\u043c\\\\u043c \\\\u0437\\\\u0430 2 \\\\u0447\", \\n      \"recommendations\": [], \\n      \"start_ts\": \"2016-12-30 19:00 UTC\", \\n      \"type\": \"faLongRain\"\\n    }, \\n    {\\n      \"alert_id\": \"f6d23d54-8f6c-422e-a811-e19aac73fa7d\", \\n      \"emergency_message\": \"\\\\u0421\\\\u0435\\\\u0433\\\\u043e\\\\u0434\\\\u043d\\\\u044f \\\\u043f\\\\u043e\\\\u0445\\\\u043e\\\\u043b\\\\u043e\\\\u0434\\\\u0430\\\\u043d\\\\u0438\\\\u0435 \\\\u0441 \\\\u043f\\\\u0435\\\\u0440\\\\u0435\\\\u0445\\\\u043e\\\\u0434\\\\u043e\\\\u043c \\\\u0447\\\\u0435\\\\u0440\\\\u0435\\\\u0437 0 c 20:00 \\\\u0434\\\\u043e 21:00 \\\\u043e\\\\u0442 1.0 \\\\u0434\\\\u043e -6.0\", \\n      \"end_ts\": \"2016-12-30 21:00 UTC\", \\n      \"group\": \"temperature\", \\n      \"level\": 2, \\n      \"message\": \"\\\\u0420\\\\u0435\\\\u0437\\\\u043a\\\\u043e\\\\u0435 \\\\u043f\\\\u043e\\\\u043d\\\\u0438\\\\u0436\\\\u0435\\\\u043d\\\\u0438\\\\u0435 \\\\u0442\\\\u0435\\\\u043c\\\\u043f\\\\u0435\\\\u0440\\\\u0430\\\\u0442\\\\u0443\\\\u0440\\\\u044b \\\\u0432\\\\u043e\\\\u0437\\\\u0434\\\\u0443\\\\u0445\\\\u0430 \\\\u0441 \\\\u043f\\\\u0435\\\\u0440\\\\u0435\\\\u0445\\\\u043e\\\\u0434\\\\u043e\\\\u043c \\\\u0447\\\\u0435\\\\u0440\\\\u0435\\\\u0437 0 \\\\u0434\\\\u043e -6.0 \\\\u00b0C\", \\n      \"recommendations\": [], \\n      \"start_ts\": \"2016-12-30 20:00 UTC\", \\n      \"type\": \"faZeroCrossCooling\"\\n    }, \\n    {\\n      \"alert_id\": \"89a22ed3-9c02-4ea3-8ba9-94306a29b30a\", \\n      \"emergency_message\": \"\\\\u0417\\\\u0430\\\\u0432\\\\u0442\\\\u0440\\\\u0430 \\\\u043f\\\\u0435\\\\u0440\\\\u0435\\\\u0445\\\\u043e\\\\u0434 \\\\u0447\\\\u0435\\\\u0440\\\\u0435\\\\u0437 0 c 03:00 \\\\u0434\\\\u043e 04:00 \\\\u043e\\\\u0442 -6.0 \\\\u0434\\\\u043e 1.0\", \\n      \"end_ts\": \"2016-12-31 04:00 UTC\", \\n      \"group\": \"temperature\", \\n      \"level\": 1, \\n      \"message\": \"\\\\u041f\\\\u043e\\\\u0432\\\\u044b\\\\u0448\\\\u0435\\\\u043d\\\\u0438\\\\u0435 \\\\u0442\\\\u0435\\\\u043c\\\\u043f\\\\u0435\\\\u0440\\\\u0430\\\\u0442\\\\u0443\\\\u0440\\\\u044b \\\\u0432\\\\u043e\\\\u0437\\\\u0434\\\\u0443\\\\u0445\\\\u0430 \\\\u0432\\\\u044b\\\\u0448\\\\u0435 0 \\\\u0434\\\\u043e 1.0 \\\\u00b0C\", \\n      \"recommendations\": [], \\n      \"start_ts\": \"2016-12-31 03:00 UTC\", \\n      \"type\": \"faZeroCrossingToPlus\"\\n    }, \\n    {\\n      \"alert_id\": \"a9bf9ab1-a88b-4425-9be5-6bfd7022977f\", \\n      \"emergency_message\": \"\\\\u0417\\\\u0430\\\\u0432\\\\u0442\\\\u0440\\\\u0430 \\\\u043f\\\\u043e\\\\u0445\\\\u043e\\\\u043b\\\\u043e\\\\u0434\\\\u0430\\\\u043d\\\\u0438\\\\u0435 \\\\u0441 \\\\u043f\\\\u0435\\\\u0440\\\\u0435\\\\u0445\\\\u043e\\\\u0434\\\\u043e\\\\u043c \\\\u0447\\\\u0435\\\\u0440\\\\u0435\\\\u0437 0 c 04:00 \\\\u0434\\\\u043e 05:00 \\\\u043e\\\\u0442 1.0 \\\\u0434\\\\u043e -6.0\", \\n      \"end_ts\": \"2016-12-31 05:00 UTC\", \\n      \"group\": \"temperature\", \\n      \"level\": 2, \\n      \"message\": \"\\\\u0420\\\\u0435\\\\u0437\\\\u043a\\\\u043e\\\\u0435 \\\\u043f\\\\u043e\\\\u043d\\\\u0438\\\\u0436\\\\u0435\\\\u043d\\\\u0438\\\\u0435 \\\\u0442\\\\u0435\\\\u043c\\\\u043f\\\\u0435\\\\u0440\\\\u0430\\\\u0442\\\\u0443\\\\u0440\\\\u044b \\\\u0432\\\\u043e\\\\u0437\\\\u0434\\\\u0443\\\\u0445\\\\u0430 \\\\u0441 \\\\u043f\\\\u0435\\\\u0440\\\\u0435\\\\u0445\\\\u043e\\\\u0434\\\\u043e\\\\u043c \\\\u0447\\\\u0435\\\\u0440\\\\u0435\\\\u0437 0 \\\\u0434\\\\u043e -6.0 \\\\u00b0C\", \\n      \"recommendations\": [], \\n      \"start_ts\": \"2016-12-31 04:00 UTC\", \\n      \"type\": \"faZeroCrossCooling\"\\n    }\\n  ], \\n  \"roadcast\": [\\n    {\\n      \"air_temperature\": -1.4, \\n      \"cloudiness\": 7, \\n      \"dew_point_temperature\": -2.4, \\n      \"humidity\": 92.9, \\n      \"rain_intensity\": 0.0, \\n      \"rain_on_road\": 0.0, \\n      \"road_temperature\": 2.1, \\n      \"snow_intensity\": 0.0, \\n      \"snow_on_road\": 0.0, \\n      \"timestamp\": \"2016-12-30 13:20 UTC\", \\n      \"underground_temperature\": -6.1, \\n      \"wind_speed\": 5.1\\n    }, \\n    {\\n      \"air_temperature\": -1.8, \\n      \"cloudiness\": 7, \\n      \"dew_point_temperature\": -3.7, \\n      \"humidity\": 86.6, \\n      \"rain_intensity\": 0.0, \\n      \"rain_on_road\": 0.0, \\n      \"road_temperature\": 1.8, \\n      \"snow_intensity\": 0.0, \\n      \"snow_on_road\": 0.0, \\n      \"timestamp\": \"2016-12-30 13:40 UTC\", \\n      \"underground_temperature\": -5.5, \\n      \"wind_speed\": 6.1\\n    }, \\n    {\\n      \"air_temperature\": -2.1, \\n      \"cloudiness\": 7, \\n      \"dew_point_temperature\": -5.0, \\n      \"humidity\": 81.0, \\n      \"rain_intensity\": 0.0, \\n      \"rain_on_road\": 0.0, \\n      \"road_temperature\": 1.3, \\n      \"snow_intensity\": 0.0, \\n      \"snow_on_road\": 0.0, \\n      \"timestamp\": \"2016-12-30 14:00 UTC\", \\n      \"underground_temperature\": -5.2, \\n      \"wind_speed\": 7.0\\n    }, \\n    {\\n      \"air_temperature\": -2.4, \\n      \"cloudiness\": 7, \\n      \"dew_point_temperature\": -6.1, \\n      \"humidity\": 76.2, \\n      \"rain_intensity\": 0.0, \\n      \"rain_on_road\": 0.0, \\n      \"road_temperature\": 0.9, \\n      \"snow_intensity\": 0.0, \\n      \"snow_on_road\": 0.0, \\n      \"timestamp\": \"2016-12-30 14:20 UTC\", \\n      \"underground_temperature\": -5.0, \\n      \"wind_speed\": 7.1\\n    }, \\n    {\\n      \"air_temperature\": -2.7, \\n      \"cloudiness\": 7, \\n      \"dew_point_temperature\": -7.1, \\n      \"humidity\": 72.0, \\n      \"rain_intensity\": 0.0, \\n      \"rain_on_road\": 0.0, \\n      \"road_temperature\": 0.4, \\n      \"snow_intensity\": 0.0, \\n      \"snow_on_road\": 0.0, \\n      \"timestamp\": \"2016-12-30 14:40 UTC\", \\n      \"underground_temperature\": -4.9, \\n      \"wind_speed\": 7.1\\n    }, \\n    {\\n      \"air_temperature\": -3.0, \\n      \"cloudiness\": 7, \\n      \"dew_point_temperature\": -8.1, \\n      \"humidity\": 68.3, \\n      \"rain_intensity\": 0.0, \\n      \"rain_on_road\": 0.0, \\n      \"road_temperature\": -0.0, \\n      \"snow_intensity\": 0.0, \\n      \"snow_on_road\": 0.0, \\n      \"timestamp\": \"2016-12-30 15:00 UTC\", \\n      \"underground_temperature\": -4.8, \\n      \"wind_speed\": 7.1\\n    }, \\n    {\\n      \"air_temperature\": -3.2, \\n      \"cloudiness\": 7, \\n      \"dew_point_temperature\": -8.9, \\n      \"humidity\": 65.0, \\n      \"rain_intensity\": 0.0, \\n      \"rain_on_road\": 0.0, \\n      \"road_temperature\": -0.5, \\n      \"snow_intensity\": 0.0, \\n      \"snow_on_road\": 0.0, \\n      \"timestamp\": \"2016-12-30 15:20 UTC\", \\n      \"underground_temperature\": -4.8, \\n      \"wind_speed\": 7.1\\n    }, \\n    {\\n      \"air_temperature\": -3.4, \\n      \"cloudiness\": 7, \\n      \"dew_point_temperature\": -9.7, \\n      \"humidity\": 62.0, \\n      \"rain_intensity\": 0.0, \\n      \"rain_on_road\": 0.0, \\n      \"road_temperature\": -0.9, \\n      \"snow_intensity\": 0.0, \\n      \"snow_on_road\": 0.0, \\n      \"timestamp\": \"2016-12-30 15:40 UTC\", \\n      \"underground_temperature\": -4.8, \\n      \"wind_speed\": 7.0\\n    }, \\n    {\\n      \"air_temperature\": -3.6, \\n      \"cloudiness\": 7, \\n      \"dew_point_temperature\": -10.5, \\n      \"humidity\": 59.4, \\n      \"rain_intensity\": 0.0, \\n      \"rain_on_road\": 0.0, \\n      \"road_temperature\": -1.3, \\n      \"snow_intensity\": 0.0, \\n      \"snow_on_road\": 0.0, \\n      \"timestamp\": \"2016-12-30 16:00 UTC\", \\n      \"underground_temperature\": -4.9, \\n      \"wind_speed\": 7.0\\n    }, \\n    {\\n      \"air_temperature\": -3.8, \\n      \"cloudiness\": 7, \\n      \"dew_point_temperature\": -11.2, \\n      \"humidity\": 57.1, \\n      \"rain_intensity\": 0.0, \\n      \"rain_on_road\": 0.0, \\n      \"road_temperature\": -1.6, \\n      \"snow_intensity\": 0.0, \\n      \"snow_on_road\": 0.0, \\n      \"timestamp\": \"2016-12-30 16:20 UTC\", \\n      \"underground_temperature\": -5.0, \\n      \"wind_speed\": 6.1\\n    }, \\n    {\\n      \"air_temperature\": -4.0, \\n      \"cloudiness\": 7, \\n      \"dew_point_temperature\": -11.8, \\n      \"humidity\": 55.1, \\n      \"rain_intensity\": 0.0, \\n      \"rain_on_road\": 0.0, \\n      \"road_temperature\": -1.9, \\n      \"snow_intensity\": 0.0, \\n      \"snow_on_road\": 0.0, \\n      \"timestamp\": \"2016-12-30 16:40 UTC\", \\n      \"underground_temperature\": -5.1, \\n      \"wind_speed\": 5.1\\n    }, \\n    {\\n      \"air_temperature\": -4.2, \\n      \"cloudiness\": 7, \\n      \"dew_point_temperature\": -12.4, \\n      \"humidity\": 53.2, \\n      \"rain_intensity\": 0.0, \\n      \"rain_on_road\": 0.0, \\n      \"road_temperature\": -2.2, \\n      \"snow_intensity\": 0.0, \\n      \"snow_on_road\": 0.0, \\n      \"timestamp\": \"2016-12-30 17:00 UTC\", \\n      \"underground_temperature\": -5.2, \\n      \"wind_speed\": 4.1\\n    }\\n  ], \\n  \"roadcast_alerts\": [\\n    {\\n      \"alert_id\": \"8e303a8e-40f3-48a0-8498-8c354c9c9009\", \\n      \"emergency_message\": \"\\\\u0421\\\\u0435\\\\u0433\\\\u043e\\\\u0434\\\\u043d\\\\u044f \\\\u043f\\\\u0435\\\\u0440\\\\u0435\\\\u0445\\\\u043e\\\\u0434 \\\\u0447\\\\u0435\\\\u0440\\\\u0435\\\\u0437 0 c 15:00 \\\\u0434\\\\u043e 15:20 \\\\u043e\\\\u0442 -0.0 \\\\u0434\\\\u043e -0.5\", \\n      \"end_ts\": \"2016-12-30 15:20 UTC\", \\n      \"group\": \"temperature\", \\n      \"level\": 1, \\n      \"message\": \"\\\\u041e\\\\u0441\\\\u0442\\\\u044b\\\\u0432\\\\u0430\\\\u043d\\\\u0438\\\\u0435 \\\\u0434\\\\u043e\\\\u0440\\\\u043e\\\\u0433\\\\u0438 \\\\u043d\\\\u0438\\\\u0436\\\\u0435 0 \\\\u0434\\\\u043e -0.5 \\\\u00b0C\", \\n      \"recommendations\": [], \\n      \"start_ts\": \"2016-12-30 15:00 UTC\", \\n      \"type\": \"raZeroCrossingToMinus\"\\n    }, \\n    {\\n      \"alert_id\": \"56b7d14a-f581-48fd-b3e8-239e366035e0\", \\n      \"emergency_message\": \"\\\\u0421\\\\u0435\\\\u0433\\\\u043e\\\\u0434\\\\u043d\\\\u044f \\\\u0433\\\\u043e\\\\u043b\\\\u043e\\\\u043b\\\\u0435\\\\u0434\\\\u0438\\\\u0446\\\\u0430 c 15:20 \\\\u0434\\\\u043e 16:20\", \\n      \"end_ts\": \"2016-12-30 16:20 UTC\", \\n      \"group\": \"slipperiness\", \\n      \"level\": 2, \\n      \"message\": \"\\\\u0413\\\\u043e\\\\u043b\\\\u043e\\\\u043b\\\\u0435\\\\u0434\\\\u0438\\\\u0446\\\\u0430\", \\n      \"recommendations\": [\\n        {\\n          \"deicing_info\": {\\n            \"general_initial\": \"1. \\\\u0422\\\\u0435\\\\u0445\\\\u043d\\\\u0438\\\\u0447\\\\u0435\\\\u0441\\\\u043a\\\\u0438\\\\u0439 \\\\u0445\\\\u043b\\\\u043e\\\\u0440\\\\u0438\\\\u0441\\\\u0442\\\\u044b\\\\u0439 \\\\u043d\\\\u0430\\\\u0442\\\\u0440\\\\u0438\\\\u0439 \\\\u043a\\\\u0430\\\\u0440\\\\u044c\\\\u0435\\\\u0440\\\\u043d\\\\u044b\\\\u0439 (\\\\u0422\\\\u0423 2152-067-00209527-95);\\\\n2. \\\\u041f\\\\u0413\\\\u041c \\\\u043d\\\\u0430 \\\\u043e\\\\u0441\\\\u043d\\\\u043e\\\\u0432\\\\u0435 \\\\u0445\\\\u043b\\\\u043e\\\\u0440\\\\u0438\\\\u0441\\\\u0442\\\\u043e\\\\u0433\\\\u043e \\\\u043d\\\\u0430\\\\u0442\\\\u0440\\\\u0438\\\\u044f (\\\\u0422\\\\u0423 2152-082-00209527-99);\\\\n3. \\\\u0411\\\\u0438\\\\u043e\\\\u043c\\\\u0430\\\\u0433 (\\\\u0422\\\\u0423 2152-001-53561075-02);\\\\n4. \\\\u0425\\\\u041a\\\\u0424 (\\\\u0422\\\\u0423 2152-05761643-2000)\"\\n          }, \\n          \"end_ts\": \"2016-12-30 15:20 UTC\", \\n          \"message\": \"\\\\u0420\\\\u0435\\\\u043a\\\\u043e\\\\u043c\\\\u0435\\\\u043d\\\\u0434\\\\u0443\\\\u0435\\\\u0442\\\\u0441\\\\u044f \\\\u043f\\\\u0440\\\\u043e\\\\u0432\\\\u0435\\\\u0441\\\\u0442\\\\u0438 \\\\u043f\\\\u0440\\\\u0435\\\\u0432\\\\u0435\\\\u043d\\\\u0442\\\\u0438\\\\u0432\\\\u043d\\\\u0443\\\\u044e \\\\u043e\\\\u0431\\\\u0440\\\\u0430\\\\u0431\\\\u043e\\\\u0442\\\\u043a\\\\u0443. \\\\u0420\\\\u0430\\\\u0441\\\\u043f\\\\u0440\\\\u0435\\\\u0434\\\\u0435\\\\u043b\\\\u0438\\\\u0442\\\\u044c \\\\u043b\\\\u044e\\\\u0431\\\\u043e\\\\u0439 \\\\u0438\\\\u0437 \\\\u0443\\\\u043a\\\\u0430\\\\u0437\\\\u0430\\\\u043d\\\\u043d\\\\u044b\\\\u0445 \\\\u041f\\\\u0413\\\\u041c \\\\u0432 \\\\u043a\\\\u043e\\\\u043b\\\\u0438\\\\u0447\\\\u0435\\\\u0441\\\\u0442\\\\u0432\\\\u0435 5-15 \\\\u0433/\\\\u043c2\", \\n          \"start_ts\": \"2016-12-30 14:20 UTC\", \\n          \"type\": \"initial_deicing\"\\n        }, \\n        {\\n          \"deicing_info\": null, \\n          \"end_ts\": \"2016-12-30 20:20 UTC\", \\n          \"message\": \"\\\\u041d\\\\u0435\\\\u043e\\\\u0431\\\\u0445\\\\u043e\\\\u0434\\\\u0438\\\\u043c\\\\u043e \\\\u043f\\\\u0440\\\\u043e\\\\u0432\\\\u0435\\\\u0441\\\\u0442\\\\u0438 \\\\u0440\\\\u0430\\\\u0431\\\\u043e\\\\u0442\\\\u044b \\\\u043f\\\\u043e \\\\u0443\\\\u0441\\\\u0442\\\\u0440\\\\u0430\\\\u043d\\\\u0435\\\\u043d\\\\u0438\\\\u044e\", \\n          \"start_ts\": \"2016-12-30 16:20 UTC\", \\n          \"type\": \"remedial_work\"\\n        }\\n      ], \\n      \"start_ts\": \"2016-12-30 15:20 UTC\", \\n      \"type\": \"raIceCrustedGround\"\\n    }\\n  ]\\n}\\n'"
      ]
     },
     "execution_count": 18,
     "metadata": {},
     "output_type": "execute_result"
    }
   ],
   "source": [
    "response_get.content"
   ]
  },
  {
   "cell_type": "code",
   "execution_count": null,
   "metadata": {},
   "outputs": [],
   "source": []
  },
  {
   "cell_type": "code",
   "execution_count": null,
   "metadata": {},
   "outputs": [],
   "source": []
  }
 ],
 "metadata": {
  "kernelspec": {
   "display_name": "Python 3",
   "language": "python",
   "name": "python3"
  },
  "language_info": {
   "codemirror_mode": {
    "name": "ipython",
    "version": 3
   },
   "file_extension": ".py",
   "mimetype": "text/x-python",
   "name": "python",
   "nbconvert_exporter": "python",
   "pygments_lexer": "ipython3",
   "version": "3.5.2"
  }
 },
 "nbformat": 4,
 "nbformat_minor": 2
}
