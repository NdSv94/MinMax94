{
 "cells": [
  {
   "cell_type": "code",
   "execution_count": 5,
   "metadata": {},
   "outputs": [],
   "source": [
    "import requests\n",
    "import json\n",
    "import numpy as np\n",
    "import pandas as pd\n",
    "from copy import deepcopy\n",
    "import sys\n",
    "sys.path.append('/home/ndsviriden/MinMax94/src/utils') \n",
    "from Preprocessing import Preprocessor\n",
    "from constants import RUSSIAN_TIME_ZONES\n",
    "from Preprocessing import vincenty_dist\n",
    "\n",
    "mypath = '/mnt/HARD/MinMax94/data/data_all/CSV/Raw_extended/'"
   ]
  },
  {
   "cell_type": "markdown",
   "metadata": {},
   "source": [
    "## Station_config"
   ]
  },
  {
   "cell_type": "code",
   "execution_count": 6,
   "metadata": {},
   "outputs": [],
   "source": [
    "stations_mm94 = pd.read_csv('/mnt/HARD/MinMax94/data/data_all/CSV/stations_mm94_def.csv')\n",
    "stations_rp5 = pd.read_csv('/mnt/HARD/MinMax94/data/data_all/CSV/stations_rp5_def.csv')"
   ]
  },
  {
   "cell_type": "code",
   "execution_count": 7,
   "metadata": {},
   "outputs": [],
   "source": [
    "stations = deepcopy(stations_mm94)\n",
    "stations['station_type'] = \"road\"\n",
    "stations['station_nature'] = \"real\"\n",
    "stations['timezone'] = stations['timezone'].apply(lambda row: RUSSIAN_TIME_ZONES[row])\n",
    "stations['road_category'] = 1\n",
    "#stations['roadlayers'] = str({\"1\": {\"type\": \"asphalt\", \"thickness\": 0.2}})\n",
    "stations = stations[['station_id', 'timezone', 'longitude', 'latitude', \n",
    "              'station_type', 'station_nature', 'road_category']]"
   ]
  },
  {
   "cell_type": "code",
   "execution_count": 8,
   "metadata": {},
   "outputs": [
    {
     "data": {
      "text/plain": [
       "{'latitude': 53.603,\n",
       " 'longitude': 54.446999999999996,\n",
       " 'road_category': 1,\n",
       " 'roadlayers': {'1': {'thickness': 0.2, 'type': 'asphalt'}},\n",
       " 'station_id': 113,\n",
       " 'station_nature': 'real',\n",
       " 'station_type': 'road',\n",
       " 'timezone': 'MSK'}"
      ]
     },
     "execution_count": 8,
     "metadata": {},
     "output_type": "execute_result"
    }
   ],
   "source": [
    "mm94_station_id = 113\n",
    "exact_station = stations[stations['station_id']==mm94_station_id]\n",
    "station_config = exact_station.to_dict(orient='records')[0]\n",
    "station_config['roadlayers'] = {\"1\": {\"type\": \"asphalt\", \"thickness\": 0.2}}\n",
    "#with open(\"file\", \"w\") as file:\n",
    "#    json.dump(exact_station_data, file)\n",
    "    \n",
    "#with open(\"file\", \"r\") as file:\n",
    "#    station_config = json.load(file)\n",
    "\n",
    "station_config"
   ]
  },
  {
   "cell_type": "markdown",
   "metadata": {},
   "source": [
    "## Road_config"
   ]
  },
  {
   "cell_type": "code",
   "execution_count": 9,
   "metadata": {},
   "outputs": [],
   "source": [
    "road_config = {\n",
    "    \"maintainability_level\": \"low\",\n",
    "    \"category\": \"1А\"}"
   ]
  },
  {
   "cell_type": "markdown",
   "metadata": {},
   "source": [
    "## Global_forecast"
   ]
  },
  {
   "cell_type": "code",
   "execution_count": 10,
   "metadata": {},
   "outputs": [],
   "source": [
    "## find nearest wmo station\n",
    "\n",
    "station_data = stations_mm94[stations_mm94['station_id']==mm94_station_id]\n",
    "mm94_coords = station_data[['latitude', 'longitude']].values[0]\n",
    "\n",
    "nearest_rp5_station_id = stations_rp5.loc[[stations_rp5.apply(\n",
    "                                lambda x: vincenty_dist(mm94_coords, (x['latitude'], x['longitude'])), \n",
    "                                axis=1).idxmin()]]['station_id'].values[0]"
   ]
  },
  {
   "cell_type": "code",
   "execution_count": 11,
   "metadata": {},
   "outputs": [],
   "source": [
    "wmo_station_id = nearest_rp5_station_id\n",
    "mypath = '/mnt/HARD/MinMax94/data/data_all/CSV/RP5/'\n",
    "preprocessor = Preprocessor()\n",
    "\n",
    "rp5 = pd.read_csv(mypath + str(wmo_station_id) + '.csv', sep=';', skiprows=6, index_col=False,\n",
    "                 dtype={'VV': str, 'RRR': str})\n",
    "date_time_col = [col for col in rp5.columns if col.startswith('Местное время')][0]\n",
    "rp5 = rp5.rename(columns={date_time_col: 'Местное время'})\n",
    "rp5['station_id'] = wmo_station_id\n",
    "\n",
    "mmx_wmo_data = preprocessor.ConvertData(rp5, from_format=\"RP5\", to_format=\"Mmx\")\n",
    "del mmx_wmo_data['data_p_weather'], mmx_wmo_data['data_precip_interval']\n",
    "mmx_wmo_data = preprocessor.AddUTC(mmx_wmo_data, '/mnt/HARD/MinMax94/data/data_all/CSV/stations_rp5_def.csv')\n",
    "mmx_wmo_interpolated = preprocessor.InterpolatePatterns(mmx_wmo_data)\n",
    "\n",
    "forecast_data = preprocessor.ConvertData(mmx_wmo_interpolated, from_format=\"Mmx\", to_format=\"Metro\")\n",
    "forecast_data = forecast_data.set_index('date_time_utc')\n",
    "forecast_data[\"p_weather\"] = np.nan\n",
    "del forecast_data['station_id'], forecast_data['wind_gusts']\n",
    "forecast_data = forecast_data.fillna(9999)"
   ]
  },
  {
   "cell_type": "code",
   "execution_count": 12,
   "metadata": {},
   "outputs": [],
   "source": [
    "current_date_time = pd.Timestamp(2015, 12, 30, 13, 0)\n",
    "predict_future_delta = pd.Timedelta(45, unit='h')\n",
    "predict_previous_delta = pd.Timedelta(3, unit='h')\n",
    "global_forecast = forecast_data[(forecast_data.index >= pd.Timestamp(2015, 12, 30, 10, 0)) & \\\n",
    "                                (forecast_data.index <= pd.Timestamp(2016, 1, 1, 14, 0))]\n",
    "global_forecast = global_forecast.set_index('date_time_metro', drop=True)\n",
    "global_forecast_json = global_forecast.to_dict(orient='index')"
   ]
  },
  {
   "cell_type": "markdown",
   "metadata": {},
   "source": [
    "## RWIS data"
   ]
  },
  {
   "cell_type": "code",
   "execution_count": 13,
   "metadata": {},
   "outputs": [],
   "source": [
    "mypath = '/mnt/HARD/MinMax94/data/data_all/CSV/Raw_extended/'\n",
    "\n",
    "# reading loaded csv files from data_csv directory, output is a list (length=number of stations) of raw df\n",
    "raw = pd.read_csv(mypath + str(mm94_station_id) + '_raw.csv', parse_dates = ['date_time']) \n",
    "raw = raw.reset_index(drop=True)\n",
    "\n",
    "raw_data = preprocessor.SelectFeatures(raw)\n",
    "raw_data = preprocessor.PivotTable(raw_data)\n",
    "mmx_data = preprocessor.ConvertData(raw_data, from_format=\"Raw\", to_format=\"Mmx\")\n",
    "mmx_data = preprocessor.AddUTC(mmx_data)\n",
    "mmx_patterns = preprocessor.CreatePatternList(mmx_data)\n",
    "mmx_interpolated = preprocessor.InterpolatePatterns(mmx_patterns)\n",
    "\n",
    "rwis_df = preprocessor.ConvertData(mmx_interpolated, from_format=\"Mmx\", to_format=\"Metro\")\n",
    "rwis_df = rwis_df.set_index('date_time_utc')\n",
    "rwis_df['salinity'] = 0\n",
    "rwis_df['freezing_point'] = 0\n",
    "del rwis_df['cloudiness'], rwis_df['station_id']\n",
    "rwis_df = rwis_df.fillna(9999)"
   ]
  },
  {
   "cell_type": "code",
   "execution_count": 14,
   "metadata": {},
   "outputs": [
    {
     "data": {
      "text/plain": [
       "{'2015-12-30 07:00 UTC': {'freezing_point': 0.0,\n",
       "  'humidity': 98.150000000000006,\n",
       "  'precipitation_intensity': 0.20000000000000001,\n",
       "  'precipitation_type': 20.0,\n",
       "  'pressure': 746.0,\n",
       "  'salinity': 0.0,\n",
       "  't_air': -14.550000000000001,\n",
       "  't_dew_point': -14.800000000000001,\n",
       "  't_road': -9.25,\n",
       "  't_underroad': -8.9000000000000004,\n",
       "  'wind_direction': 112.5,\n",
       "  'wind_gusts': 2.0499999999999998,\n",
       "  'wind_speed': 1.25},\n",
       " '2015-12-30 07:30 UTC': {'freezing_point': 0.0,\n",
       "  'humidity': 98.299999999999997,\n",
       "  'precipitation_intensity': 0.60000000000000009,\n",
       "  'precipitation_type': 20.0,\n",
       "  'pressure': 746.0,\n",
       "  'salinity': 0.0,\n",
       "  't_air': -14.5,\n",
       "  't_dew_point': -14.699999999999999,\n",
       "  't_road': -8.9499999999999993,\n",
       "  't_underroad': -8.8000000000000007,\n",
       "  'wind_direction': 112.5,\n",
       "  'wind_gusts': 2.0,\n",
       "  'wind_speed': 1.3},\n",
       " '2015-12-30 08:00 UTC': {'freezing_point': 0.0,\n",
       "  'humidity': 97.650000000000006,\n",
       "  'precipitation_intensity': 0.69999999999999996,\n",
       "  'precipitation_type': 20.0,\n",
       "  'pressure': 746.0,\n",
       "  'salinity': 0.0,\n",
       "  't_air': -14.4,\n",
       "  't_dew_point': -14.699999999999999,\n",
       "  't_road': -8.75,\n",
       "  't_underroad': -8.5999999999999996,\n",
       "  'wind_direction': 67.5,\n",
       "  'wind_gusts': 1.7,\n",
       "  'wind_speed': 1.1000000000000001},\n",
       " '2015-12-30 08:30 UTC': {'freezing_point': 0.0,\n",
       "  'humidity': 96.900000000000006,\n",
       "  'precipitation_intensity': 0.29999999999999999,\n",
       "  'precipitation_type': 20.0,\n",
       "  'pressure': 746.0,\n",
       "  'salinity': 0.0,\n",
       "  't_air': -14.25,\n",
       "  't_dew_point': -14.699999999999999,\n",
       "  't_road': -8.5,\n",
       "  't_underroad': -8.4499999999999993,\n",
       "  'wind_direction': 45.0,\n",
       "  'wind_gusts': 2.0,\n",
       "  'wind_speed': 0.90000000000000002},\n",
       " '2015-12-30 09:00 UTC': {'freezing_point': 0.0,\n",
       "  'humidity': 95.650000000000006,\n",
       "  'precipitation_intensity': 0.10000000000000001,\n",
       "  'precipitation_type': 20.0,\n",
       "  'pressure': 746.0,\n",
       "  'salinity': 0.0,\n",
       "  't_air': -13.6,\n",
       "  't_dew_point': -14.199999999999999,\n",
       "  't_road': -8.0999999999999996,\n",
       "  't_underroad': -8.3000000000000007,\n",
       "  'wind_direction': 202.5,\n",
       "  'wind_gusts': 1.8999999999999999,\n",
       "  'wind_speed': 0.75},\n",
       " '2015-12-30 09:30 UTC': {'freezing_point': 0.0,\n",
       "  'humidity': 92.5,\n",
       "  'precipitation_intensity': 0.050000000000000003,\n",
       "  'precipitation_type': 20.0,\n",
       "  'pressure': 746.0,\n",
       "  'salinity': 0.0,\n",
       "  't_air': -13.0,\n",
       "  't_dew_point': -14.0,\n",
       "  't_road': -8.1999999999999993,\n",
       "  't_underroad': -8.1999999999999993,\n",
       "  'wind_direction': 202.5,\n",
       "  'wind_gusts': 1.1499999999999999,\n",
       "  'wind_speed': 0.20000000000000001},\n",
       " '2015-12-30 10:00 UTC': {'freezing_point': 0.0,\n",
       "  'humidity': 89.200000000000003,\n",
       "  'precipitation_intensity': 0.0,\n",
       "  'precipitation_type': 20.0,\n",
       "  'pressure': 746.0,\n",
       "  'salinity': 0.0,\n",
       "  't_air': -13.550000000000001,\n",
       "  't_dew_point': -15.0,\n",
       "  't_road': -8.5500000000000007,\n",
       "  't_underroad': -8.25,\n",
       "  'wind_direction': 90.0,\n",
       "  'wind_gusts': 1.55,\n",
       "  'wind_speed': 0.84999999999999998},\n",
       " '2015-12-30 10:30 UTC': {'freezing_point': 0.0,\n",
       "  'humidity': 90.25,\n",
       "  'precipitation_intensity': 0.0,\n",
       "  'precipitation_type': 20.0,\n",
       "  'pressure': 746.0,\n",
       "  'salinity': 0.0,\n",
       "  't_air': -14.899999999999999,\n",
       "  't_dew_point': -16.149999999999999,\n",
       "  't_road': -9.1499999999999986,\n",
       "  't_underroad': -8.5500000000000007,\n",
       "  'wind_direction': 135.0,\n",
       "  'wind_gusts': 2.0499999999999998,\n",
       "  'wind_speed': 1.1499999999999999},\n",
       " '2015-12-30 11:00 UTC': {'freezing_point': 0.0,\n",
       "  'humidity': 92.699999999999989,\n",
       "  'precipitation_intensity': 0.050000000000000003,\n",
       "  'precipitation_type': 20.0,\n",
       "  'pressure': 746.5,\n",
       "  'salinity': 0.0,\n",
       "  't_air': -15.75,\n",
       "  't_dew_point': -16.649999999999999,\n",
       "  't_road': -10.1,\n",
       "  't_underroad': -8.9499999999999993,\n",
       "  'wind_direction': 247.5,\n",
       "  'wind_gusts': 1.5,\n",
       "  'wind_speed': 0.29999999999999999},\n",
       " '2015-12-30 11:30 UTC': {'freezing_point': 0.0,\n",
       "  'humidity': 93.900000000000006,\n",
       "  'precipitation_intensity': 0.050000000000000003,\n",
       "  'precipitation_type': 20.0,\n",
       "  'pressure': 747.0,\n",
       "  'salinity': 0.0,\n",
       "  't_air': -16.300000000000001,\n",
       "  't_dew_point': -17.049999999999997,\n",
       "  't_road': -10.949999999999999,\n",
       "  't_underroad': -9.3999999999999986,\n",
       "  'wind_direction': 270.0,\n",
       "  'wind_gusts': 0.45000000000000001,\n",
       "  'wind_speed': 0.0},\n",
       " '2015-12-30 12:00 UTC': {'freezing_point': 0.0,\n",
       "  'humidity': 95.349999999999994,\n",
       "  'precipitation_intensity': 0.0,\n",
       "  'precipitation_type': 20.0,\n",
       "  'pressure': 747.0,\n",
       "  'salinity': 0.0,\n",
       "  't_air': -17.100000000000001,\n",
       "  't_dew_point': -17.649999999999999,\n",
       "  't_road': -11.699999999999999,\n",
       "  't_underroad': -9.9499999999999993,\n",
       "  'wind_direction': 270.0,\n",
       "  'wind_gusts': 0.34999999999999998,\n",
       "  'wind_speed': 0.0},\n",
       " '2015-12-30 12:30 UTC': {'freezing_point': 0.0,\n",
       "  'humidity': 96.349999999999994,\n",
       "  'precipitation_intensity': 0.0,\n",
       "  'precipitation_type': 20.0,\n",
       "  'pressure': 747.0,\n",
       "  'salinity': 0.0,\n",
       "  't_air': -17.850000000000001,\n",
       "  't_dew_point': -18.299999999999997,\n",
       "  't_road': -12.449999999999999,\n",
       "  't_underroad': -10.5,\n",
       "  'wind_direction': 360.0,\n",
       "  'wind_gusts': 0.59999999999999998,\n",
       "  'wind_speed': 0.0},\n",
       " '2015-12-30 13:00 UTC': {'freezing_point': 0.0,\n",
       "  'humidity': 96.700000000000003,\n",
       "  'precipitation_intensity': 0.050000000000000003,\n",
       "  'precipitation_type': 20.0,\n",
       "  'pressure': 747.0,\n",
       "  'salinity': 0.0,\n",
       "  't_air': -18.600000000000001,\n",
       "  't_dew_point': -19.0,\n",
       "  't_road': -12.949999999999999,\n",
       "  't_underroad': -11.0,\n",
       "  'wind_direction': 337.5,\n",
       "  'wind_gusts': 0.94999999999999996,\n",
       "  'wind_speed': 0.0}}"
      ]
     },
     "execution_count": 14,
     "metadata": {},
     "output_type": "execute_result"
    }
   ],
   "source": [
    "rwis_previous_delta = pd.Timedelta(12, unit='h')\n",
    "rwis_data = rwis_df[(rwis_df.index >= pd.Timestamp(2015, 12, 30, 7, 0)) & \\\n",
    "                                (rwis_df.index <= pd.Timestamp(2015, 12, 30, 13, 0))]\n",
    "rwis_data = rwis_data.set_index('date_time_metro', drop=True)\n",
    "rwis_data_json = rwis_data.to_dict(orient='index')\n",
    "rwis_data_json"
   ]
  },
  {
   "cell_type": "markdown",
   "metadata": {},
   "source": [
    "## All together"
   ]
  },
  {
   "cell_type": "code",
   "execution_count": 17,
   "metadata": {},
   "outputs": [],
   "source": [
    "import simplejson\n",
    "test_path = '/home/ndsviriden/metro_test.txt'\n",
    "\n",
    "data_for_metro = {\"station_config\": station_config, \n",
    "                  \"road_config\": road_config,\n",
    "                  \"global_forecast\": global_forecast_json,\n",
    "                  \"rwis_data\": rwis_data_json}"
   ]
  },
  {
   "cell_type": "code",
   "execution_count": 18,
   "metadata": {},
   "outputs": [],
   "source": [
    "with open(test_path, \"w\") as file:\n",
    "    simplejson.dump(data_for_metro, file, indent=4, ignore_nan=True)\n",
    "    \n",
    "with open(test_path, \"r\") as file:\n",
    "    data_for_metro = json.load(file)"
   ]
  },
  {
   "cell_type": "code",
   "execution_count": null,
   "metadata": {},
   "outputs": [],
   "source": []
  }
 ],
 "metadata": {
  "kernelspec": {
   "display_name": "Python 3",
   "language": "python",
   "name": "python3"
  },
  "language_info": {
   "codemirror_mode": {
    "name": "ipython",
    "version": 3
   },
   "file_extension": ".py",
   "mimetype": "text/x-python",
   "name": "python",
   "nbconvert_exporter": "python",
   "pygments_lexer": "ipython3",
   "version": "3.5.2"
  }
 },
 "nbformat": 4,
 "nbformat_minor": 2
}
