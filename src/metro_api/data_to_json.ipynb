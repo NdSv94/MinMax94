{
 "cells": [
  {
   "cell_type": "code",
   "execution_count": 1,
   "metadata": {},
   "outputs": [],
   "source": [
    "import requests\n",
    "import json\n",
    "import pandas as pd\n",
    "from copy import deepcopy\n",
    "import sys\n",
    "sys.path.append('/home/ndsviriden/MinMax94/src/utils') \n",
    "from Preprocessing import Preprocessor\n",
    "\n",
    "mypath = '/mnt/HARD/MinMax94/data/data_all/CSV/Raw_extended/'"
   ]
  },
  {
   "cell_type": "markdown",
   "metadata": {},
   "source": [
    "## Station_config"
   ]
  },
  {
   "cell_type": "code",
   "execution_count": 2,
   "metadata": {},
   "outputs": [],
   "source": [
    "stations_lmeteo = pd.read_csv('/mnt/HARD/MinMax94/data/data_all/CSV/stations_def.csv', index_col=0)\n",
    "stations_rp5 = pd.read_csv('/mnt/HARD/MinMax94/data/data_all/CSV/stations_rp5.csv', index_col=0)\n",
    "\n",
    "#stations_lmeteo = stations_lmeteo.merge(stations_rp5[['station_id', 'meteostation_id']], how='inner', on='station_id')"
   ]
  },
  {
   "cell_type": "code",
   "execution_count": 3,
   "metadata": {},
   "outputs": [],
   "source": [
    "RUSSIAN_TIME_ZONES = {\n",
    "    '2': 'USZ1',\n",
    "    '3': 'MSK',\n",
    "    '4': 'SAMT',\n",
    "    '8': 'IRKT',\n",
    "    '5': 'YEKT',\n",
    "    '6': 'OMSK',\n",
    "    '7': 'KRAT',\n",
    "    '9': 'YAKT',\n",
    "    '10': 'VLAT',\n",
    "    '11': 'MAGT',\n",
    "    '12': 'PETT'\n",
    "}"
   ]
  },
  {
   "cell_type": "code",
   "execution_count": 4,
   "metadata": {},
   "outputs": [],
   "source": [
    "stations = deepcopy(stations_lmeteo)\n",
    "stations['station_type'] = \"road\"\n",
    "stations['station_nature'] = \"real\"\n",
    "stations['timezone'] = stations['timezone'].apply(lambda row: RUSSIAN_TIME_ZONES[str(row)])\n",
    "stations['road_category'] = 1\n",
    "stations['roadlayers'] = str({\"1\": {\"type\": \"asphalt\", \"thickness\": 0.2}})"
   ]
  },
  {
   "cell_type": "code",
   "execution_count": 5,
   "metadata": {},
   "outputs": [
    {
     "data": {
      "text/plain": [
       "{'station_config': {'latitude': 53.603,\n",
       "  'longitude': 54.446999999999996,\n",
       "  'road_category': 1,\n",
       "  'roadlayers': \"{'1': {'thickness': 0.2, 'type': 'asphalt'}}\",\n",
       "  'station_id': 113,\n",
       "  'station_nature': 'real',\n",
       "  'station_type': 'road',\n",
       "  'timezone': 'MSK'}}"
      ]
     },
     "execution_count": 5,
     "metadata": {},
     "output_type": "execute_result"
    }
   ],
   "source": [
    "z = stations[['station_id', 'timezone', 'longitude', 'latitude', \n",
    "              'station_type', 'station_nature', 'road_category',\n",
    "              'roadlayers']]\n",
    "z = z[z['station_id']==113]\n",
    "x = {\"station_config\": z.to_dict(orient='records')[0]}\n",
    "\n",
    "with open(\"file\", \"w\") as file:\n",
    "    json.dump(x, file)\n",
    "    \n",
    "with open(\"file\", \"r\") as file:\n",
    "    station_config = json.load(file)\n",
    "station_config"
   ]
  },
  {
   "cell_type": "markdown",
   "metadata": {},
   "source": [
    "## Road_config"
   ]
  },
  {
   "cell_type": "code",
   "execution_count": 6,
   "metadata": {},
   "outputs": [],
   "source": [
    "road_config = str({\"road_config\": {\n",
    "    \"maintainability_level\": \"low\",\n",
    "    \"category\": \"1А\"}})"
   ]
  },
  {
   "cell_type": "markdown",
   "metadata": {},
   "source": [
    "## Global_forecast"
   ]
  },
  {
   "cell_type": "code",
   "execution_count": 7,
   "metadata": {},
   "outputs": [],
   "source": [
    "from os import listdir\n",
    "from os.path import isfile, join\n",
    "\n",
    "wmo_id = 22867\n",
    "global_forecast_path = '/mnt/HARD/MinMax94/data/data_all/CSV/forecast'\n",
    "wmo_files = [f for f in listdir(global_forecast_path) if isfile(join(global_forecast_path, f))]\n",
    "wmo_id_file = [f for f in wmo_files if f.startswith(str(wmo_id))][0]\n",
    "\n",
    "forecast_data = pd.read_csv(global_forecast_path + '/' + wmo_id_file, sep=';', skiprows=6, index_col=False)\n",
    "date_time_column = [col for col in forecast_data.columns if col.startswith('Местное время в')][0]\n",
    "forecast_data.rename(columns={date_time_column: 'date_time_loc'}, inplace=True) \n",
    "forecast_data['wmo_id'] = wmo_id"
   ]
  },
  {
   "cell_type": "markdown",
   "metadata": {},
   "source": [
    "### Get timezone from lat, lon"
   ]
  },
  {
   "cell_type": "code",
   "execution_count": 8,
   "metadata": {},
   "outputs": [
    {
     "name": "stdout",
     "output_type": "stream",
     "text": [
      "8.0\n"
     ]
    }
   ],
   "source": [
    "import datetime\n",
    "import pytz\n",
    "from tzwhere import tzwhere\n",
    "\n",
    "def hours_from_utc(lat, lon):\n",
    "    tzwh = tzwhere.tzwhere()\n",
    "    timezone_str = tzwh.tzNameAt(lat, lon) # Seville coordinates\n",
    "    timezone_str\n",
    "\n",
    "    timezone_now = pytz.timezone(timezone_str)\n",
    "    hours_from_utc = datetime.datetime.now(timezone_now).utcoffset().total_seconds()/60/60\n",
    "    return hours_from_utc\n",
    "\n",
    "lat, lon = 55.278888888889, 105.157222222222\n",
    "print(hours_from_utc(lat, lon))"
   ]
  },
  {
   "cell_type": "markdown",
   "metadata": {},
   "source": [
    "### Calculate distance between stations from lat, lon"
   ]
  },
  {
   "cell_type": "code",
   "execution_count": 9,
   "metadata": {},
   "outputs": [
    {
     "name": "stdout",
     "output_type": "stream",
     "text": [
      "279.35290160386563 km\n"
     ]
    }
   ],
   "source": [
    "import geopy.distance\n",
    "\n",
    "def vincenty_dist(point_1, point_2):\n",
    "    return geopy.distance.vincenty(point_1, point_2).km\n",
    "\n",
    "coord_1 = (52.2296756, 21.0122287)\n",
    "coord_2 = (52.406374, 16.9251681)\n",
    "\n",
    "print(vincenty_dist(coord_1, coord_2), 'km')"
   ]
  },
  {
   "cell_type": "markdown",
   "metadata": {},
   "source": [
    "### Load rp5 stations coordinates"
   ]
  },
  {
   "cell_type": "code",
   "execution_count": 10,
   "metadata": {},
   "outputs": [],
   "source": [
    "import codecs\n",
    "\n",
    "path = '/mnt/HARD/MinMax94/data/data_all/CSV/wmo_russia_list.txt'\n",
    "\n",
    "with codecs.open(path, encoding='cp1251', errors='replace') as f:\n",
    "    lines = f.readlines()\n",
    "    f.close()"
   ]
  },
  {
   "cell_type": "code",
   "execution_count": 1,
   "metadata": {
    "scrolled": true
   },
   "outputs": [
    {
     "name": "stdout",
     "output_type": "stream",
     "text": [
      "except\n"
     ]
    }
   ],
   "source": [
    "from selenium import webdriver\n",
    "from selenium.webdriver.common import action_chains, keys\n",
    "import time\n",
    "from selenium.webdriver.support import expected_conditions as EC\n",
    "from selenium.webdriver.support.ui import WebDriverWait\n",
    "\n",
    "driver = webdriver.Chrome()\n",
    "driver.get(\"https://rp5.ru/%D0%90%D1%80%D1%85%D0%B8%D0%B2_%D0%BF%D0%BE%D0%B3%D0%BE%D0%B4%D1%8B_%D0%B2_%D0%9C%D0%B0%D0%BB%D0%BE%D1%8F%D1%80%D0%BE%D1%81%D0%BB%D0%B0%D0%B2%D1%86%D0%B5\")\n",
    "action = action_chains.ActionChains(driver)\n",
    "\n",
    "wmo_id = 22867\n",
    "start = '01.01.2012'\n",
    "end = '01.01.2017'\n",
    "\n",
    "wmo_id_field = driver.find_element_by_id('wmo_id')\n",
    "wmo_id_field.clear()\n",
    "wmo_id_field.send_keys(str(wmo_id))\n",
    "time.sleep(1)\n",
    "\n",
    "action.send_keys(keys.Keys.ENTER)\n",
    "action.perform()\n",
    "\n",
    "download_archive_button = driver.find_element_by_id('tabSynopDLoad')\n",
    "download_archive_button.click()\n",
    "\n",
    "start_date_field = driver.find_element_by_id('calender_dload')\n",
    "start_date_field.clear()\n",
    "start_date_field.send_keys(start)\n",
    "\n",
    "action.send_keys(keys.Keys.ENTER)\n",
    "action.perform()\n",
    "\n",
    "end_date_field = driver.find_element_by_id('calender_dload2')\n",
    "end_date_field.clear()\n",
    "end_date_field.send_keys(end)\n",
    "\n",
    "driver.execute_script(\"document.getElementById('format2').click();\")\n",
    "driver.execute_script(\"document.getElementById('coding2').click();\")\n",
    "\n",
    "create_gz_button = driver.find_element_by_xpath(\"//*[contains(text(), 'Выбрать в файл GZ (архив)')]\")\n",
    "create_gz_button.click()\n",
    "\n",
    "time.sleep(3)\n",
    "download_ref = driver.find_element_by_link_text(\"Скачать\")\n",
    "\n",
    "wait = WebDriverWait(driver, 10)\n",
    "try:\n",
    "    wait.until(EC.element_to_be_clickable(download_ref))\n",
    "    download_ref.click()\n",
    "except:\n",
    "    print('except')"
   ]
  },
  {
   "cell_type": "code",
   "execution_count": null,
   "metadata": {},
   "outputs": [],
   "source": []
  }
 ],
 "metadata": {
  "kernelspec": {
   "display_name": "Python 3",
   "language": "python",
   "name": "python3"
  },
  "language_info": {
   "codemirror_mode": {
    "name": "ipython",
    "version": 3
   },
   "file_extension": ".py",
   "mimetype": "text/x-python",
   "name": "python",
   "nbconvert_exporter": "python",
   "pygments_lexer": "ipython3",
   "version": "3.5.2"
  }
 },
 "nbformat": 4,
 "nbformat_minor": 2
}
