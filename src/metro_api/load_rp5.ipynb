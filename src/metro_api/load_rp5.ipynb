{
 "cells": [
  {
   "cell_type": "code",
   "execution_count": 97,
   "metadata": {},
   "outputs": [],
   "source": [
    "from selenium import webdriver\n",
    "from selenium.webdriver.common import action_chains, keys\n",
    "import time\n",
    "from os import listdir\n",
    "from os.path import isfile, join\n",
    "import os\n",
    "import shutil"
   ]
  },
  {
   "cell_type": "code",
   "execution_count": 148,
   "metadata": {},
   "outputs": [],
   "source": [
    "def load_station_rp5(wmo_id, driver, start, end):\n",
    "    driver.get(\"https://rp5.ru/%D0%90%D1%80%D1%85%D0%B8%D0%B2_%D0%BF%D0%BE%D0%B3%D0%BE%D0%B4%D1%8B_%D0%B2_%D0%9C%D0%B0%D0%BB%D0%BE%D1%8F%D1%80%D0%BE%D1%81%D0%BB%D0%B0%D0%B2%D1%86%D0%B5\")\n",
    "    action = action_chains.ActionChains(driver)\n",
    "    \n",
    "    wmo_id_field = driver.find_element_by_id('wmo_id')\n",
    "    wmo_id_field.clear()\n",
    "    wmo_id_field.send_keys(str(wmo_id))\n",
    "    time.sleep(2.5)\n",
    "\n",
    "    action.send_keys(keys.Keys.ENTER)\n",
    "    action.perform()\n",
    "\n",
    "    download_archive_button = driver.find_element_by_id('tabSynopDLoad')\n",
    "    download_archive_button.click()\n",
    "\n",
    "    start_date_field = driver.find_element_by_id('calender_dload')\n",
    "    start_date_field.clear()\n",
    "    start_date_field.send_keys(start)\n",
    "\n",
    "    action.send_keys(keys.Keys.ENTER)\n",
    "    action.perform()\n",
    "\n",
    "    end_date_field = driver.find_element_by_id('calender_dload2')\n",
    "    end_date_field.clear()\n",
    "    end_date_field.send_keys(end)\n",
    "\n",
    "    driver.execute_script(\"document.getElementById('format2').click();\")\n",
    "    driver.execute_script(\"document.getElementById('coding2').click();\")\n",
    "\n",
    "    create_gz_button = driver.find_element_by_xpath(\"//*[contains(text(), 'Выбрать в файл GZ (архив)')]\")\n",
    "    create_gz_button.click()\n",
    "\n",
    "    time.sleep(4)\n",
    "    \n",
    "    try:\n",
    "        download_ref = driver.find_element_by_link_text(\"Скачать\")\n",
    "        download_ref.click()\n",
    "    except:\n",
    "        print(\"Data from WMO station #{0} can't be downloaded\".format(wmo_id))\n",
    "    \n",
    "    time.sleep(4)\n",
    "    driver.stop_client()\n",
    "    \n",
    "def crawl_rp5(wmo_id_list, start='01.01.2012', end='01.01.2017', \n",
    "              target_directory=None, verbose=True):\n",
    "    \n",
    "    chromeOptions = webdriver.ChromeOptions()\n",
    "    \n",
    "\n",
    "    if target_directory:\n",
    "        prefs = {\"download.default_directory\": target_directory}\n",
    "        chromeOptions.add_experimental_option(\"prefs\", prefs)\n",
    "\n",
    "    driver = webdriver.Chrome(chrome_options=chromeOptions)\n",
    "\n",
    "    rp5_loaded_files_names = [f for f in listdir(target_directory) if \n",
    "                              (isfile(join(target_directory, f)) and (f.endswith('.csv.gz')))]\n",
    "    \n",
    "    rp5_loaded_stations_ids = [int(file_name.split('.')[0]) for file_name in rp5_loaded_files_names]\n",
    "\n",
    "    for i, wmo_id in enumerate(wmo_id_list):        \n",
    "        if wmo_id not in rp5_loaded_stations_ids:\n",
    "            if verbose:\n",
    "                print('Downloading', wmo_id)\n",
    "            \n",
    "            load_station_rp5(wmo_id, driver, start, end)\n",
    "            rp5_loaded_stations_ids.append(wmo_id)\n",
    "            \n",
    "            filename = [f for f in listdir(target_directory) if f.startswith(str(wmo_id))][0]\n",
    "            newfilename = filename.split('.')[0] + '.csv.gz'\n",
    "            print(filename, newfilename)\n",
    "            shutil.move(join(target_directory, filename), join(target_directory, newfilename))\n",
    "        \n",
    "        else:\n",
    "            if verbose:\n",
    "                print('In directory', wmo_id)\n",
    "        \n",
    "        if verbose:\n",
    "                print('----------------------------')"
   ]
  },
  {
   "cell_type": "code",
   "execution_count": 149,
   "metadata": {},
   "outputs": [
    {
     "name": "stdout",
     "output_type": "stream",
     "text": [
      "Downloading 22867\n"
     ]
    },
    {
     "ename": "IndexError",
     "evalue": "list index out of range",
     "output_type": "error",
     "traceback": [
      "\u001b[0;31m---------------------------------------------------------------------------\u001b[0m",
      "\u001b[0;31mIndexError\u001b[0m                                Traceback (most recent call last)",
      "\u001b[0;32m<ipython-input-149-1da56c5df761>\u001b[0m in \u001b[0;36m<module>\u001b[0;34m()\u001b[0m\n\u001b[1;32m      3\u001b[0m \u001b[0;34m\u001b[0m\u001b[0m\n\u001b[1;32m      4\u001b[0m crawl_rp5(wmo_id_list=wmo_id_list, \n\u001b[0;32m----> 5\u001b[0;31m               target_directory=target_directory, verbose=True)\n\u001b[0m",
      "\u001b[0;32m<ipython-input-148-d8cf06450746>\u001b[0m in \u001b[0;36mcrawl_rp5\u001b[0;34m(wmo_id_list, start, end, target_directory, verbose)\u001b[0m\n\u001b[1;32m     67\u001b[0m             \u001b[0mrp5_loaded_stations_ids\u001b[0m\u001b[0;34m.\u001b[0m\u001b[0mappend\u001b[0m\u001b[0;34m(\u001b[0m\u001b[0mwmo_id\u001b[0m\u001b[0;34m)\u001b[0m\u001b[0;34m\u001b[0m\u001b[0m\n\u001b[1;32m     68\u001b[0m \u001b[0;34m\u001b[0m\u001b[0m\n\u001b[0;32m---> 69\u001b[0;31m             \u001b[0mfilename\u001b[0m \u001b[0;34m=\u001b[0m \u001b[0;34m[\u001b[0m\u001b[0mf\u001b[0m \u001b[0;32mfor\u001b[0m \u001b[0mf\u001b[0m \u001b[0;32min\u001b[0m \u001b[0mlistdir\u001b[0m\u001b[0;34m(\u001b[0m\u001b[0mtarget_directory\u001b[0m\u001b[0;34m)\u001b[0m \u001b[0;32mif\u001b[0m \u001b[0mf\u001b[0m\u001b[0;34m.\u001b[0m\u001b[0mstartswith\u001b[0m\u001b[0;34m(\u001b[0m\u001b[0mstr\u001b[0m\u001b[0;34m(\u001b[0m\u001b[0mwmo_id\u001b[0m\u001b[0;34m)\u001b[0m\u001b[0;34m)\u001b[0m\u001b[0;34m]\u001b[0m\u001b[0;34m[\u001b[0m\u001b[0;36m0\u001b[0m\u001b[0;34m]\u001b[0m\u001b[0;34m\u001b[0m\u001b[0m\n\u001b[0m\u001b[1;32m     70\u001b[0m             \u001b[0mnewfilename\u001b[0m \u001b[0;34m=\u001b[0m \u001b[0mfilename\u001b[0m\u001b[0;34m.\u001b[0m\u001b[0msplit\u001b[0m\u001b[0;34m(\u001b[0m\u001b[0;34m'.'\u001b[0m\u001b[0;34m)\u001b[0m\u001b[0;34m[\u001b[0m\u001b[0;36m0\u001b[0m\u001b[0;34m]\u001b[0m \u001b[0;34m+\u001b[0m \u001b[0;34m'.csv.gz'\u001b[0m\u001b[0;34m\u001b[0m\u001b[0m\n\u001b[1;32m     71\u001b[0m             \u001b[0mprint\u001b[0m\u001b[0;34m(\u001b[0m\u001b[0mfilename\u001b[0m\u001b[0;34m,\u001b[0m \u001b[0mnewfilename\u001b[0m\u001b[0;34m)\u001b[0m\u001b[0;34m\u001b[0m\u001b[0m\n",
      "\u001b[0;31mIndexError\u001b[0m: list index out of range"
     ]
    }
   ],
   "source": [
    "wmo_id_list = [22867, 22912, 26795, 26795, 28722, 27485]\n",
    "target_directory = \"/mnt/HARD/MinMax94/data/data_all/CSV/RP5\"\n",
    "\n",
    "crawl_rp5(wmo_id_list=wmo_id_list, \n",
    "              target_directory=target_directory, verbose=True)"
   ]
  },
  {
   "cell_type": "code",
   "execution_count": 27,
   "metadata": {},
   "outputs": [
    {
     "name": "stdout",
     "output_type": "stream",
     "text": [
      "22912.01.01.2012.01.01.2017.1.0.0.ru.utf8.00000000.csv.gz\n",
      "28722.01.01.2012.01.01.2017.1.0.0.ru.utf8.00000000.csv.gz\n",
      "27485.01.01.2012.01.01.2017.1.0.0.ru.utf8.00000000.csv.gz\n",
      "22867.01.01.2012.01.01.2017.1.0.0.ru.utf8.00000000.csv.gz\n",
      "26795.01.01.2012.01.01.2017.1.0.0.ru.utf8.00000000.csv.gz\n",
      "27606.01.01.2012.01.01.2017.1.0.0.ru.utf8.00000000.csv.gz\n"
     ]
    }
   ],
   "source": [
    "import gzip\n",
    "target_directory = \"/mnt/HARD/MinMax94/data/data_all/CSV/RP5\"\n",
    "\n",
    "rp5_files_loaded = [f for f in listdir(target_directory) if \n",
    "                        (isfile(join(target_directory, f)) and (f.endswith('csv.gz')))]\n",
    "\n",
    "for rp5_station_data_file_name in rp5_files_loaded:\n",
    "    print(rp5_station_data_file_name)\n",
    "    inF = gzip.GzipFile(join(target_directory, rp5_station_data_file_name), 'rb')\n",
    "    s = inF.read()                                                                                      \n",
    "    inF.close()\n",
    "    \n",
    "    unzip_file_name = rp5_station_data_file_name.split('.')[0] + '.csv'\n",
    "    \n",
    "    outF = open(join(target_directory, unzip_file_name), 'wb')\n",
    "    outF.write(s)\n",
    "    outF.close()"
   ]
  },
  {
   "cell_type": "code",
   "execution_count": 90,
   "metadata": {},
   "outputs": [],
   "source": [
    "chromeOptions = webdriver.ChromeOptions()\n",
    "    \n",
    "\n",
    "if target_directory:\n",
    "    prefs = {\"download.default_directory\": target_directory}\n",
    "    chromeOptions.add_experimental_option(\"prefs\", prefs)\n",
    "\n",
    "driver = webdriver.Chrome(chrome_options=chromeOptions)"
   ]
  },
  {
   "cell_type": "code",
   "execution_count": 95,
   "metadata": {},
   "outputs": [
    {
     "data": {
      "text/plain": [
       "selenium.webdriver.chrome.webdriver.WebDriver"
      ]
     },
     "execution_count": 95,
     "metadata": {},
     "output_type": "execute_result"
    }
   ],
   "source": [
    "z = webdriver.Chrome"
   ]
  },
  {
   "cell_type": "code",
   "execution_count": 68,
   "metadata": {},
   "outputs": [
    {
     "data": {
      "text/plain": [
       "{'prefs': {'download.default_directory': '/mnt/HARD/MinMax94/data/data_all/CSV/RP5'}}"
      ]
     },
     "execution_count": 68,
     "metadata": {},
     "output_type": "execute_result"
    }
   ],
   "source": [
    "chromeOptions.experimental_options"
   ]
  }
 ],
 "metadata": {
  "kernelspec": {
   "display_name": "Python 3",
   "language": "python",
   "name": "python3"
  },
  "language_info": {
   "codemirror_mode": {
    "name": "ipython",
    "version": 3
   },
   "file_extension": ".py",
   "mimetype": "text/x-python",
   "name": "python",
   "nbconvert_exporter": "python",
   "pygments_lexer": "ipython3",
   "version": "3.5.2"
  }
 },
 "nbformat": 4,
 "nbformat_minor": 2
}
