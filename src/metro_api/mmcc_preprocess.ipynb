{
 "cells": [
  {
   "cell_type": "code",
   "execution_count": 1,
   "metadata": {},
   "outputs": [],
   "source": [
    "import json\n",
    "from tqdm import tqdm_notebook\n",
    "import numpy as np\n",
    "import pandas as pd\n",
    "from copy import copy\n",
    "import sys\n",
    "sys.path.append('/home/ndsviriden/MinMax94/src/utils') \n",
    "from interpolation import interpolate_mmx, create_patterns\n",
    "from constants import mmcc_forecast_columns, mmx_columns, MmccRwisColumns, MmxColumns, mmx_meteo_columns\n",
    "from converters import convert_rp5_to_mmx, convert_raw_to_mmx, convert_mmx_to_mmcc_forecast, convert_raw_to_mmx, \\\n",
    "                convert_mmx_to_mmcc_rwis, convert_mmcc_rwis_to_mmx, convert_input_for_anomaly_detection\n",
    "from loaders import load_rp5_stations, load_mm94_stations\n",
    "from geographical import find_nearest_wmo_station, add_solar_angles\n",
    "from mmcc_input import get_mmcc_input_json, get_mmcc_prediction\n",
    "from map_data_dicts import map_data_mmcc_rwis_to_mmx\n",
    "from preprocessing import create_feature_df\n",
    "from sklearn.metrics import mean_squared_error\n",
    "from sklearn.metrics import mean_absolute_error\n",
    "import lightgbm as lgb\n",
    "from constants import params_anomaly_feature_selection, anomaly_threshold\n",
    "import pickle"
   ]
  },
  {
   "cell_type": "markdown",
   "metadata": {},
   "source": [
    "## Load data"
   ]
  },
  {
   "cell_type": "code",
   "execution_count": 2,
   "metadata": {},
   "outputs": [],
   "source": [
    "mm94_station_id = 1896\n",
    "\n",
    "raw = load_mm94_stations(mm94_station_id)\n",
    "mmx_rwis = convert_raw_to_mmx(raw)\n",
    "\n",
    "mmcc_rwis = convert_mmx_to_mmcc_rwis(mmx_rwis)\n",
    "#mmx_rwis_interpolated = interpolate_mmx(mmx_rwis)\n",
    "#mmx_rwis_interpolated = create_patterns(mmx_rwis_interpolated)\n",
    "#mmcc_rwis = convert_mmx_to_mmcc_rwis(mmx_rwis_interpolated)\n",
    "mmcc_rwis = mmcc_rwis.set_index(\"date_time_utc\")"
   ]
  },
  {
   "cell_type": "code",
   "execution_count": 3,
   "metadata": {},
   "outputs": [
    {
     "name": "stdout",
     "output_type": "stream",
     "text": [
      "distance([68.286167 33.355477], [67.97 32.88]) = 40.43 km\n"
     ]
    }
   ],
   "source": [
    "wmo_station_id = find_nearest_wmo_station(mm94_station_id, verbose=True)\n",
    "rp5 = load_rp5_stations(wmo_station_id)\n",
    "mmx_forecast = convert_rp5_to_mmx(rp5)\n",
    "mmx_forecast_interpolated = interpolate_mmx(mmx_forecast, 20)\n",
    "mmcc_forecast = convert_mmx_to_mmcc_forecast(mmx_forecast_interpolated)\n",
    "mmcc_forecast = mmcc_forecast.set_index(\"date_time_utc\")"
   ]
  },
  {
   "cell_type": "markdown",
   "metadata": {},
   "source": [
    "##  Transform into anomaly input format"
   ]
  },
  {
   "cell_type": "code",
   "execution_count": 4,
   "metadata": {},
   "outputs": [
    {
     "name": "stderr",
     "output_type": "stream",
     "text": [
      "Widget Javascript not detected.  It may not be installed or enabled properly.\n"
     ]
    },
    {
     "data": {
      "application/vnd.jupyter.widget-view+json": {
       "model_id": "cef1c31f5c89422382e98c2a28275c68"
      }
     },
     "metadata": {},
     "output_type": "display_data"
    },
    {
     "name": "stdout",
     "output_type": "stream",
     "text": [
      "\n"
     ]
    }
   ],
   "source": [
    "start = pd.Timestamp(2016, 3, 17)\n",
    "end = pd.Timestamp(2016, 3, 19)\n",
    "mmcc_rwis_part = mmcc_rwis[(mmcc_rwis.index <= end) & (mmcc_rwis.index >= start)]\n",
    "\n",
    "prediction_list = []\n",
    "\n",
    "for time_record in tqdm_notebook(mmcc_rwis_part.index):\n",
    "    \n",
    "    data = get_mmcc_input_json(mm94_station_id, mmcc_rwis_part, mmcc_forecast, time_record)\n",
    "    prediction_list.append(data)\n",
    "        \n",
    "\n",
    "input_anomaly = {'station_id': mm94_station_id, 'meteo_data': prediction_list}"
   ]
  },
  {
   "cell_type": "markdown",
   "metadata": {},
   "source": [
    "## Pipeline of the algorithm"
   ]
  },
  {
   "cell_type": "code",
   "execution_count": 5,
   "metadata": {},
   "outputs": [
    {
     "name": "stdout",
     "output_type": "stream",
     "text": [
      "Anomaly! We should write something in logs!\n"
     ]
    }
   ],
   "source": [
    "# Convert input json format into more convenient pd.Dataframe\n",
    "test_input_json = input_anomaly['meteo_data'][-31]  # select one record \n",
    "record_to_check = max(test_input_json['rwis_data'].keys()) \n",
    "mmx_rwis = convert_input_for_anomaly_detection(test_input_json)\n",
    "\n",
    "# Select sensor for analysis\n",
    "target = MmxColumns.ROAD_TEMPERATURE  # example: data_t_road\n",
    "target_feature = target.replace('data', 'target')  # example: target_t_road\n",
    "sensor = target.split('_', 1)[-1]  # example: t_road\n",
    "\n",
    "# Feature selection\n",
    "features_anomaly_params = params_anomaly_feature_selection[target]\n",
    "df = create_feature_df(mmx_rwis, target,  **features_anomaly_params)\n",
    "features = [col for col in df if col.startswith('data_')]\n",
    "\n",
    "# Create X, y for regression\n",
    "X = np.array(df[features].values)\n",
    "y_true = np.array(df[target_feature].values)\n",
    "\n",
    "# Create LightGBM Matrix\n",
    "lgb_Xy = lgb.Dataset(X, y_true, feature_name=features)\n",
    "\n",
    "# Load model\n",
    "detector_path = '/mnt/HARD/MinMax94/models/anomaly_detection/detector_{0}.pickle'.format(sensor)\n",
    "\n",
    "with open(detector_path, 'rb') as detector:\n",
    "    anomaly_detector = pickle.load(detector)\n",
    "    \n",
    "# Load threshold\n",
    "threshold = anomaly_threshold[target]\n",
    "    \n",
    "# Predict values and label anomalies\n",
    "y_pred = anomaly_detector.predict(X)\n",
    "df['decision_function'] = np.abs(y_true - y_pred)\n",
    "df['anomaly_label'] = df['decision_function'] > threshold\n",
    "\n",
    "# Extract label of the last measurement\n",
    "target_record_label = df['anomaly_label'].iloc[-1]  # the last measurment\n",
    "\n",
    "# Create output json\n",
    "test_output_json = copy(test_input_json)\n",
    "\n",
    "# If anomaly: 1. change value for 9999, 2. write something in logs\n",
    "if target_record_label:\n",
    "    print('Anomaly! We should write something in logs!')\n",
    "    test_output_json['rwis_data'][record_to_check][MmccRwisColumns.ROAD_TEMPERATURE] = 9999"
   ]
  },
  {
   "cell_type": "code",
   "execution_count": null,
   "metadata": {},
   "outputs": [],
   "source": []
  }
 ],
 "metadata": {
  "kernelspec": {
   "display_name": "Python 3",
   "language": "python",
   "name": "python3"
  },
  "language_info": {
   "codemirror_mode": {
    "name": "ipython",
    "version": 3
   },
   "file_extension": ".py",
   "mimetype": "text/x-python",
   "name": "python",
   "nbconvert_exporter": "python",
   "pygments_lexer": "ipython3",
   "version": "3.5.2"
  }
 },
 "nbformat": 4,
 "nbformat_minor": 2
}
