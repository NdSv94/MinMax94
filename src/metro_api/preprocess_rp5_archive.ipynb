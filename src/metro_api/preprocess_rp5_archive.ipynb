{
 "cells": [
  {
   "cell_type": "code",
   "execution_count": 92,
   "metadata": {},
   "outputs": [],
   "source": [
    "import pandas as pd\n",
    "from copy import deepcopy\n",
    "import sys\n",
    "sys.path.append('/home/ndsviriden/MinMax94/src/utils') \n",
    "from Preprocessing import Preprocessor\n",
    "\n",
    "mypath = '/mnt/HARD/MinMax94/data/data_all/CSV/RP5/'"
   ]
  },
  {
   "cell_type": "code",
   "execution_count": 93,
   "metadata": {},
   "outputs": [],
   "source": [
    "def parse_datetime_rp5(datetime_rp5):\n",
    "    date, time = datetime_rp5.split(' ')\n",
    "    date = '-'.join(date.split('.')[::-1])\n",
    "    time = time + ':00'\n",
    "    datetime_standard = date + ' ' + time\n",
    "    return datetime_standard"
   ]
  },
  {
   "cell_type": "markdown",
   "metadata": {},
   "source": [
    "## Load RP5 station data from file"
   ]
  },
  {
   "cell_type": "code",
   "execution_count": 167,
   "metadata": {},
   "outputs": [],
   "source": [
    "wmo_id = 22867\n",
    "df = pd.read_csv(mypath + str(wmo_id) + '.csv', sep=';', skiprows=6, index_col=False)\n",
    "\n",
    "columns_to_use = ['T', 'P', 'U', 'DD', 'Ff', 'ff10', 'N', 'VV', 'Td', 'RRR', 'tR', 'W1', 'WW', 'lol']\n",
    "columns_to_use = [column for column in columns_to_use if column in df.columns]\n",
    "initial_date_time_column = [column for column in df.columns if column.startswith(\"Местное время\")][0]\n",
    "columns_to_use.append(initial_date_time_column)\n",
    "df = df[columns_to_use]\n",
    "\n",
    "renaming_columns_dict = {initial_date_time_column: 'date_time',\n",
    "                         'T': 't_air',\n",
    "                         'P': 'pressure',\n",
    "                         'U': 'dampness',\n",
    "                         'DD': 'wind_dir',\n",
    "                         'Ff': 'wind_velocity',\n",
    "                         'ff10': 'wind_speedmax',\n",
    "                         'N': 'cloudiness',\n",
    "                         'VV': 'visibility',\n",
    "                         'Td': 'dew_point',\n",
    "                         'RRR': 'precip_count', # quantity of precipitation (mm)\n",
    "                         'tR': 'precip_interval', # time interval during which precip_count was calculated\n",
    "                         'W1': 'precip_type',\n",
    "                         'WW': 'p_weather'} \n",
    "\n",
    "df = df.rename(columns=renaming_columns_dict)\n",
    "df['date_time'] = pd.to_datetime(df['date_time'].apply(parse_datetime_rp5))"
   ]
  },
  {
   "cell_type": "markdown",
   "metadata": {},
   "source": [
    "## Wind direction rp5 format convert to mm94 format"
   ]
  },
  {
   "cell_type": "code",
   "execution_count": 168,
   "metadata": {},
   "outputs": [
    {
     "name": "stdout",
     "output_type": "stream",
     "text": [
      "Ветер, дующий с запада --> 90°\n",
      "Ветер, дующий с северо-северо-запада --> 157.5°\n",
      "Ветер, дующий с западо-юго-запада --> 67.5°\n",
      "Ветер, дующий с юго-запада --> 45°\n",
      "Ветер, дующий с юго-юго-запада --> 22.5°\n",
      "Штиль, безветрие --> 0°\n",
      "Ветер, дующий с севера --> 180°\n",
      "Ветер, дующий с северо-запада --> 135°\n",
      "Ветер, дующий с юга --> 0°\n",
      "Ветер, дующий с западо-северо-запада --> 112.5°\n",
      "Ветер, дующий с юго-юго-востока --> 337.5°\n",
      "Ветер, дующий с юго-востока --> 315°\n",
      "Ветер, дующий с востоко-юго-востока --> 292.5°\n",
      "Ветер, дующий с востока --> 270°\n",
      "Ветер, дующий с востоко-северо-востока --> 247.5°\n",
      "Ветер, дующий с северо-северо-востока --> 202.5°\n",
      "Ветер, дующий с северо-востока --> 225°\n"
     ]
    }
   ],
   "source": [
    "converter_wind_dir_dict_rp5 = {\n",
    "    \"Штиль, безветрие\": 0,\n",
    "    \"Ветер, дующий с юга\": 0,\n",
    "    \"Ветер, дующий с юго-юго-запада\": 22.5,\n",
    "    \"Ветер, дующий с юго-запада\": 45,\n",
    "    \"Ветер, дующий с западо-юго-запада\": 67.5,\n",
    "    \"Ветер, дующий с запада\": 90,\n",
    "    \"Ветер, дующий с западо-северо-запада\": 112.5,\n",
    "    \"Ветер, дующий с северо-запада\": 135,\n",
    "    \"Ветер, дующий с северо-северо-запада\": 157.5,\n",
    "    \"Ветер, дующий с севера\": 180,\n",
    "    \"Ветер, дующий с северо-северо-востока\": 202.5,\n",
    "    \"Ветер, дующий с северо-востока\": 225,\n",
    "    \"Ветер, дующий с востоко-северо-востока\": 247.5,\n",
    "    \"Ветер, дующий с востока\": 270,\n",
    "    \"Ветер, дующий с востоко-юго-востока\": 292.5,\n",
    "    \"Ветер, дующий с юго-востока\": 315,\n",
    "    \"Ветер, дующий с юго-юго-востока\": 337.5\n",
    "}\n",
    "\n",
    "wind_dir_values = [value for value in df['wind_dir'].unique() if pd.notnull(value)]\n",
    "\n",
    "for elem in wind_dir_values:\n",
    "    print(elem, '-->', str(converter_wind_dir_dict_rp5[elem]) + '°')"
   ]
  },
  {
   "cell_type": "markdown",
   "metadata": {},
   "source": [
    "## Cloudiness rp5 format convert to mm94 format"
   ]
  },
  {
   "cell_type": "code",
   "execution_count": 169,
   "metadata": {},
   "outputs": [
    {
     "name": "stdout",
     "output_type": "stream",
     "text": [
      "70 – 80%. --> 75%\n",
      "100%. --> 100%\n",
      "90  или более, но не 100% --> 90%\n",
      "20–30%. --> 25%\n",
      "40%. --> 40%\n",
      "Облаков нет. --> 0%\n",
      "50%. --> 50%\n",
      "10%  или менее, но не 0 --> 10%\n",
      "60%. --> 60%\n",
      "Небо не видно из-за тумана и/или других метеорологических явлений. --> nan%\n"
     ]
    }
   ],
   "source": [
    "converter_cloudiness_dict_rp5 = {\n",
    "    \"100%.\": 100,\n",
    "    \"90  или более, но не 100%\": 90,\n",
    "    \"70 – 80%.\": 75,\n",
    "    \"60%.\": 60,\n",
    "    \"50%.\": 50,\n",
    "    \"40%.\": 40,\n",
    "    \"20–30%.\": 25,\n",
    "    \"10%  или менее, но не 0\": 10,\n",
    "    \"Облаков нет.\": 0,\n",
    "    \"Небо не видно из-за тумана и/или других метеорологических явлений.\": np.nan\n",
    "    }\n",
    "\n",
    "cloudiness_values = [value for value in df['cloudiness'].unique() if pd.notnull(value)]\n",
    "\n",
    "for elem in cloudiness_values:\n",
    "    print(elem, '-->', str(converter_cloudiness_dict_rp5[elem]) + '%')"
   ]
  },
  {
   "cell_type": "markdown",
   "metadata": {},
   "source": [
    "## Precipitation type rp5 format convert to mm94 format"
   ]
  },
  {
   "cell_type": "code",
   "execution_count": 170,
   "metadata": {
    "scrolled": true
   },
   "outputs": [
    {
     "name": "stdout",
     "output_type": "stream",
     "text": [
      "Ливень (ливни).\n",
      "Дождь со снегом или другими видами твердых осадков\n",
      "Снег и/или другие виды твердых осадков\n",
      "nan\n",
      "Дождь.\n",
      "Облака покрывали более половины неба в течение всего соответствующего периода.\n",
      "Облака покрывали более половины неба в течение одной части соответствующего периода и половину или менее в течение другой части периода.\n",
      "Морось.\n",
      "Облака покрывали половину неба или менее в течение всего соответствующего периода.\n",
      "Туман или ледяной туман или сильная мгла.\n",
      "Гроза (грозы) с осадками или без них.\n",
      "Метель\n"
     ]
    }
   ],
   "source": [
    "for elem in df['precip_type'].unique():\n",
    "    print(elem)"
   ]
  },
  {
   "cell_type": "code",
   "execution_count": 175,
   "metadata": {},
   "outputs": [
    {
     "name": "stdout",
     "output_type": "stream",
     "text": [
      "Ливень (ливни). --> 10\n",
      "Дождь со снегом или другими видами твердых осадков --> 30\n",
      "Снег и/или другие виды твердых осадков --> 20\n",
      "Дождь. --> 10\n",
      "Облака покрывали более половины неба в течение всего соответствующего периода. --> 0\n",
      "Облака покрывали более половины неба в течение одной части соответствующего периода и половину или менее в течение другой части периода. --> 0\n",
      "Морось. --> 10\n",
      "Облака покрывали половину неба или менее в течение всего соответствующего периода. --> 0\n",
      "Туман или ледяной туман или сильная мгла. --> 0\n",
      "Гроза (грозы) с осадками или без них. --> 0\n",
      "Метель --> 40\n"
     ]
    }
   ],
   "source": [
    "converter_precip_type_dict_rp5 = {\n",
    "    np.nan:    0,\n",
    "    \"Облака покрывали более половины неба в течение всего соответствующего периода.\": 0,\n",
    "    \"Облака покрывали более половины неба в течение одной части соответствующего периода\" + \\\n",
    "    \" и половину или менее в течение другой части периода.\": 0,\n",
    "    \"Облака покрывали половину неба или менее в течение всего соответствующего периода.\": 0,\n",
    "    \"Туман или ледяной туман или сильная мгла.\": 0,\n",
    "    \n",
    "    \"Морось.\": 10,\n",
    "    \"Дождь.\":  10,\n",
    "    \"Ливень (ливни).\": 10,\n",
    "    \"Снег и/или другие виды твердых осадков\": 20,\n",
    "    \"Дождь со снегом или другими видами твердых осадков\": 30,\n",
    "    \"Метель\": 40\n",
    "    }\n",
    "\n",
    "precip_type_values = [value for value in df['precip_type'].unique() if pd.notnull(value)]\n",
    "\n",
    "for elem in precip_type_values:\n",
    "    try:\n",
    "        print(elem, '-->', str(converter_precip_type_dict_rp5[elem]))\n",
    "    except:\n",
    "        print(elem, '-->', 0)"
   ]
  },
  {
   "cell_type": "markdown",
   "metadata": {},
   "source": [
    "## Precipitation count rp5 format convert to mm94 format"
   ]
  },
  {
   "cell_type": "code",
   "execution_count": 179,
   "metadata": {},
   "outputs": [],
   "source": [
    "converter_precip_count_dict_rp5 = {\n",
    "    np.nan:    np.nan,\n",
    "    \"Осадков нет\": 0,\n",
    "    \"Следы осадков\": 0.05\n",
    "    }"
   ]
  },
  {
   "cell_type": "code",
   "execution_count": null,
   "metadata": {},
   "outputs": [],
   "source": []
  }
 ],
 "metadata": {
  "kernelspec": {
   "display_name": "Python 3",
   "language": "python",
   "name": "python3"
  },
  "language_info": {
   "codemirror_mode": {
    "name": "ipython",
    "version": 3
   },
   "file_extension": ".py",
   "mimetype": "text/x-python",
   "name": "python",
   "nbconvert_exporter": "python",
   "pygments_lexer": "ipython3",
   "version": "3.5.2"
  }
 },
 "nbformat": 4,
 "nbformat_minor": 2
}
