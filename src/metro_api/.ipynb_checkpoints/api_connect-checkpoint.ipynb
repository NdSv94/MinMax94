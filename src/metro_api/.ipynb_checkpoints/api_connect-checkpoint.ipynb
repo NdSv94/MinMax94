{
 "cells": [
  {
   "cell_type": "code",
   "execution_count": 36,
   "metadata": {},
   "outputs": [],
   "source": [
    "import requests\n",
    "import json\n",
    "from time import sleep\n",
    "import pandas as pd\n",
    "import sys\n",
    "sys.path.append('/home/ndsviriden/MinMax94/src/utils')\n",
    "sys.path.append('/home/ndsviriden/mmcc/calc_service/app/web/validation/common')"
   ]
  },
  {
   "cell_type": "markdown",
   "metadata": {},
   "source": [
    "## API connect and get result"
   ]
  },
  {
   "cell_type": "code",
   "execution_count": 186,
   "metadata": {},
   "outputs": [],
   "source": [
    "url = 'http://127.0.0.1:5000'\n",
    "url_roadcast = url+ '/roadcast'\n",
    "url_calc = url + '/calculation'\n",
    "\n",
    "#with open(\"/home/ndsviriden/data_metro_1.txt\", \"r\") as file:\n",
    "with open(\"/mnt/HARD/MinMax94/data/json_test/0.txt\", \"r\") as file:\n",
    "    data = json.load(file)\n",
    "\n",
    "for k, v in data['global_forecast'].items():\n",
    "    data['global_forecast'][k]['cloudiness'] = int(data['global_forecast'][k]['cloudiness'])\n",
    "    #data['global_forecast'][k]['p_weather'] = int(data['global_forecast'][k]['p_weather'])"
   ]
  },
  {
   "cell_type": "code",
   "execution_count": 187,
   "metadata": {},
   "outputs": [
    {
     "name": "stdout",
     "output_type": "stream",
     "text": [
      "http://127.0.0.1:5000/roadcast?key=MeAuthKeyMeSmart&job_id=5a71fa0ef46c16000dadb2ad\n",
      "CPU times: user 10.9 ms, sys: 361 µs, total: 11.3 ms\n",
      "Wall time: 2.04 s\n"
     ]
    }
   ],
   "source": [
    "%%time\n",
    "with requests.Session() as session:\n",
    "    session.headers = {'Content-type': 'application/json', 'Host': \".api.mmcc.pkcup.ru\", \n",
    "                       'cache-control': \"no-cache\", #'postman-token': '727b926f-c7b5-854e-06d7-bea9df150a12', \n",
    "                       'User-Agent':'test'}\n",
    "    \n",
    "    response = session.post(url_calc, params={\"key\":\"MeAuthKeyMeSmart\"}, json=data)\n",
    "    sleep(10) ## What should I do with it\n",
    "    job_id = json.loads(response.text)['job_id']\n",
    "    response = session.get(url_roadcast, params={\"job_id\": job_id, \"key\": \"MeAuthKeyMeSmart\"}, timeout=5)\n",
    "    print(response.url)\n",
    "    z = response.content\n",
    "z"
   ]
  },
  {
   "cell_type": "code",
   "execution_count": 57,
   "metadata": {},
   "outputs": [
    {
     "data": {
      "text/plain": [
       "b'{\\n  \"emergency_report\": null, \\n  \"forecast_alerts\": null, \\n  \"roadcast\": null, \\n  \"roadcast_alerts\": null\\n}\\n'"
      ]
     },
     "execution_count": 57,
     "metadata": {},
     "output_type": "execute_result"
    }
   ],
   "source": [
    "response.content"
   ]
  },
  {
   "cell_type": "code",
   "execution_count": null,
   "metadata": {},
   "outputs": [],
   "source": []
  },
  {
   "cell_type": "code",
   "execution_count": null,
   "metadata": {},
   "outputs": [],
   "source": []
  }
 ],
 "metadata": {
  "kernelspec": {
   "display_name": "Python 3",
   "language": "python",
   "name": "python3"
  },
  "language_info": {
   "codemirror_mode": {
    "name": "ipython",
    "version": 3
   },
   "file_extension": ".py",
   "mimetype": "text/x-python",
   "name": "python",
   "nbconvert_exporter": "python",
   "pygments_lexer": "ipython3",
   "version": "3.5.2"
  }
 },
 "nbformat": 4,
 "nbformat_minor": 2
}
