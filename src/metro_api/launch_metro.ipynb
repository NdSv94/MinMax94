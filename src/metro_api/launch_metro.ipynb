{
 "cells": [
  {
   "cell_type": "code",
   "execution_count": 1,
   "metadata": {},
   "outputs": [],
   "source": [
    "import json\n",
    "from tqdm import tqdm_notebook\n",
    "import numpy as np\n",
    "import pandas as pd\n",
    "from copy import copy\n",
    "import sys\n",
    "sys.path.append('/home/ndsviriden/MinMax94/src/utils') \n",
    "from interpolation import interpolate_mmx, create_patterns\n",
    "from constants import mmcc_forecast_columns \n",
    "from converters import convert_rp5_to_mmx, convert_raw_to_mmx, convert_mmx_to_mmcc_forecast, convert_raw_to_mmx, \\\n",
    "                convert_mmx_to_mmcc_rwis\n",
    "from loaders import load_rp5_stations, load_mm94_stations\n",
    "from geographical import find_nearest_wmo_station\n",
    "from mmcc_input import get_mmcc_input_json, get_mmcc_prediction"
   ]
  },
  {
   "cell_type": "markdown",
   "metadata": {},
   "source": [
    "## Choose MM94 station"
   ]
  },
  {
   "cell_type": "code",
   "execution_count": 2,
   "metadata": {},
   "outputs": [],
   "source": [
    "mm94_station_id = 150\n",
    "\n",
    "raw = load_mm94_stations(mm94_station_id)\n",
    "mmx_rwis = convert_raw_to_mmx(raw)\n",
    "mmx_rwis_interpolated = interpolate_mmx(mmx_rwis)\n",
    "mmx_rwis_interpolated = create_patterns(mmx_rwis_interpolated)\n",
    "mmcc_rwis = convert_mmx_to_mmcc_rwis(mmx_rwis_interpolated)\n",
    "mmcc_rwis = mmcc_rwis.set_index(\"date_time_utc\")"
   ]
  },
  {
   "cell_type": "code",
   "execution_count": 3,
   "metadata": {},
   "outputs": [
    {
     "name": "stdout",
     "output_type": "stream",
     "text": [
      "distance([ 55.255  63.256], [ 55.23  63.32]) = 4.93 km\n"
     ]
    }
   ],
   "source": [
    "wmo_station_id = find_nearest_wmo_station(mm94_station_id, verbose=True)\n",
    "\n",
    "rp5 = load_rp5_stations(wmo_station_id)\n",
    "mmx_forecast = convert_rp5_to_mmx(rp5)\n",
    "mmx_forecast_interpolated = interpolate_mmx(mmx_forecast)\n",
    "mmcc_forecast = convert_mmx_to_mmcc_forecast(mmx_forecast_interpolated)\n",
    "mmcc_forecast = mmcc_forecast.set_index(\"date_time_utc\")"
   ]
  },
  {
   "cell_type": "code",
   "execution_count": null,
   "metadata": {},
   "outputs": [],
   "source": [
    "start = pd.Timestamp(2014, 1, 1)\n",
    "end = pd.Timestamp(2015, 10, 1, 12)\n",
    "#mmcc_rwis_part = mmcc_rwis[(mmcc_rwis.index <= end) & (mmcc_rwis.index >= start)]\n",
    "mmcc_rwis_part = copy(mmcc_rwis)"
   ]
  },
  {
   "cell_type": "markdown",
   "metadata": {},
   "source": [
    "## Get station configuration"
   ]
  },
  {
   "cell_type": "code",
   "execution_count": null,
   "metadata": {
    "scrolled": true
   },
   "outputs": [
    {
     "data": {
      "application/vnd.jupyter.widget-view+json": {
       "model_id": "9b9b3ab46cbe49168f5154c63c0e06a7"
      }
     },
     "metadata": {},
     "output_type": "display_data"
    },
    {
     "name": "stdout",
     "output_type": "stream",
     "text": [
      "b'{\\n  \"error\": \"rwis_data should contain at least two records with valid t_road.\"\\n}\\n'\n",
      "2013-08-28 12:00:00 fails\n",
      "-----------------------------\n",
      "b'{\\n  \"error\": \"rwis_data should contain at least two records with valid t_road.\"\\n}\\n'\n",
      "2013-10-11 05:30:00 fails\n",
      "-----------------------------\n",
      "b'{\\n  \"error\": \"time interval between valid t_road values should be less than 4 hours.\"\\n}\\n'\n",
      "2013-11-20 06:00:00 fails\n",
      "-----------------------------\n",
      "b'{\\n  \"error\": \"time interval between valid t_road values should be less than 4 hours.\"\\n}\\n'\n",
      "2013-11-20 06:30:00 fails\n",
      "-----------------------------\n",
      "b'{\\n  \"error\": \"time interval between valid t_road values should be less than 4 hours.\"\\n}\\n'\n",
      "2013-11-20 07:00:00 fails\n",
      "-----------------------------\n",
      "b'{\\n  \"error\": \"time interval between valid t_road values should be less than 4 hours.\"\\n}\\n'\n",
      "2013-11-20 07:30:00 fails\n",
      "-----------------------------\n",
      "b'{\\n  \"error\": \"time interval between valid t_road values should be less than 4 hours.\"\\n}\\n'\n",
      "2013-11-20 08:00:00 fails\n",
      "-----------------------------\n",
      "b'{\\n  \"error\": \"time interval between valid t_road values should be less than 4 hours.\"\\n}\\n'\n",
      "2013-11-20 08:30:00 fails\n",
      "-----------------------------\n",
      "b'{\\n  \"error\": \"time interval between valid t_road values should be less than 4 hours.\"\\n}\\n'\n",
      "2013-11-20 09:00:00 fails\n",
      "-----------------------------\n",
      "b'{\\n  \"error\": \"time interval between valid t_road values should be less than 4 hours.\"\\n}\\n'\n",
      "2013-11-20 09:30:00 fails\n",
      "-----------------------------\n",
      "b'{\\n  \"error\": \"time interval between valid t_road values should be less than 4 hours.\"\\n}\\n'\n",
      "2013-11-20 10:00:00 fails\n",
      "-----------------------------\n",
      "b'{\\n  \"error\": \"time interval between valid t_road values should be less than 4 hours.\"\\n}\\n'\n",
      "2013-11-20 10:30:00 fails\n",
      "-----------------------------\n",
      "b'{\\n  \"error\": \"time interval between valid t_road values should be less than 4 hours.\"\\n}\\n'\n",
      "2013-11-20 11:00:00 fails\n",
      "-----------------------------\n",
      "b'{\\n  \"error\": \"rwis_data should contain at least two records with valid t_road.\"\\n}\\n'\n",
      "2013-11-28 18:00:00 fails\n",
      "-----------------------------\n",
      "b'{\\n  \"error\": \"rwis_data should contain at least two records with valid t_road.\"\\n}\\n'\n",
      "2014-01-17 08:00:00 fails\n",
      "-----------------------------\n",
      "b'{\\n  \"error\": \"time interval between valid t_road values should be less than 4 hours.\"\\n}\\n'\n",
      "2014-01-26 18:30:00 fails\n",
      "-----------------------------\n",
      "b'{\\n  \"error\": \"time interval between valid t_road values should be less than 4 hours.\"\\n}\\n'\n",
      "2014-01-26 19:00:00 fails\n",
      "-----------------------------\n",
      "b'{\\n  \"error\": \"time interval between valid t_road values should be less than 4 hours.\"\\n}\\n'\n",
      "2014-01-26 19:30:00 fails\n",
      "-----------------------------\n",
      "b'{\\n  \"error\": \"time interval between valid t_road values should be less than 4 hours.\"\\n}\\n'\n",
      "2014-01-26 20:00:00 fails\n",
      "-----------------------------\n",
      "b'{\\n  \"error\": \"time interval between valid t_road values should be less than 4 hours.\"\\n}\\n'\n",
      "2014-01-26 20:30:00 fails\n",
      "-----------------------------\n",
      "b'{\\n  \"error\": \"time interval between valid t_road values should be less than 4 hours.\"\\n}\\n'\n",
      "2014-01-26 21:00:00 fails\n",
      "-----------------------------\n",
      "b'{\\n  \"error\": \"time interval between valid t_road values should be less than 4 hours.\"\\n}\\n'\n",
      "2014-01-26 21:30:00 fails\n",
      "-----------------------------\n",
      "b'{\\n  \"error\": \"time interval between valid t_road values should be less than 4 hours.\"\\n}\\n'\n",
      "2014-01-26 22:00:00 fails\n",
      "-----------------------------\n",
      "b'{\\n  \"error\": \"time interval between valid t_road values should be less than 4 hours.\"\\n}\\n'\n",
      "2014-01-26 22:30:00 fails\n",
      "-----------------------------\n",
      "b'{\\n  \"error\": \"time interval between valid t_road values should be less than 4 hours.\"\\n}\\n'\n",
      "2014-01-26 23:00:00 fails\n",
      "-----------------------------\n",
      "b'{\\n  \"error\": \"time interval between valid t_road values should be less than 4 hours.\"\\n}\\n'\n",
      "2014-01-26 23:30:00 fails\n",
      "-----------------------------\n",
      "b'{\\n  \"error\": \"time interval between valid t_road values should be less than 4 hours.\"\\n}\\n'\n",
      "2014-01-27 00:00:00 fails\n",
      "-----------------------------\n",
      "b'{\\n  \"error\": \"time interval between valid t_road values should be less than 4 hours.\"\\n}\\n'\n",
      "2014-01-27 00:30:00 fails\n",
      "-----------------------------\n",
      "b'{\\n  \"error\": \"time interval between valid t_road values should be less than 4 hours.\"\\n}\\n'\n",
      "2014-01-27 01:00:00 fails\n",
      "-----------------------------\n",
      "b'{\\n  \"error\": \"time interval between valid t_road values should be less than 4 hours.\"\\n}\\n'\n",
      "2014-01-27 01:30:00 fails\n",
      "-----------------------------\n",
      "b'{\\n  \"error\": \"time interval between valid t_road values should be less than 4 hours.\"\\n}\\n'\n",
      "2014-01-27 02:00:00 fails\n",
      "-----------------------------\n",
      "b'{\\n  \"error\": \"time interval between valid t_road values should be less than 4 hours.\"\\n}\\n'\n",
      "2014-03-01 23:30:00 fails\n",
      "-----------------------------\n",
      "b'{\\n  \"error\": \"time interval between valid t_road values should be less than 4 hours.\"\\n}\\n'\n",
      "2014-03-02 00:00:00 fails\n",
      "-----------------------------\n",
      "b'{\\n  \"error\": \"time interval between valid t_road values should be less than 4 hours.\"\\n}\\n'\n",
      "2014-03-02 00:30:00 fails\n",
      "-----------------------------\n",
      "b'{\\n  \"error\": \"time interval between valid t_road values should be less than 4 hours.\"\\n}\\n'\n",
      "2014-03-02 01:00:00 fails\n",
      "-----------------------------\n",
      "b'{\\n  \"error\": \"time interval between valid t_road values should be less than 4 hours.\"\\n}\\n'\n",
      "2014-03-02 01:30:00 fails\n",
      "-----------------------------\n",
      "b'{\\n  \"error\": \"time interval between valid t_road values should be less than 4 hours.\"\\n}\\n'\n",
      "2014-03-02 02:00:00 fails\n",
      "-----------------------------\n",
      "b'{\\n  \"error\": \"time interval between valid t_road values should be less than 4 hours.\"\\n}\\n'\n",
      "2014-03-02 02:30:00 fails\n",
      "-----------------------------\n",
      "b'{\\n  \"error\": \"rwis_data should contain at least two records with valid t_road.\"\\n}\\n'\n",
      "2014-03-31 00:00:00 fails\n",
      "-----------------------------\n"
     ]
    }
   ],
   "source": [
    "import requests\n",
    "from time import sleep\n",
    "import simplejson\n",
    "\n",
    "prediction_list = []\n",
    "\n",
    "for time_record in tqdm_notebook(mmcc_rwis_part.index):\n",
    "    data = get_mmcc_input_json(mm94_station_id, mmcc_rwis, mmcc_forecast, time_record)\n",
    "    \n",
    "    prediction = get_mmcc_prediction(data)\n",
    "    \n",
    "    if prediction['roadcast']:\n",
    "        data = {'date_time_utc': str(time_record), 'roadcast': prediction['roadcast']}\n",
    "        prediction_list.append(data)\n",
    "    \n",
    "    else:\n",
    "        print(\"{0} fails\".format(time_record))\n",
    "        print(\"-----------------------------\")\n",
    "        \n",
    "\n",
    "to_save = {'station_id': mm94_station_id, 'meteo_data': prediction_list}\n",
    "\n",
    "with open('/mnt/HARD/MinMax94/data/JSON/{0}_metro.txt'.format(mm94_station_id), \"w\") as file:\n",
    "    json.dump(to_save, file, indent=2)"
   ]
  },
  {
   "cell_type": "code",
   "execution_count": null,
   "metadata": {},
   "outputs": [],
   "source": [
    "with open('/mnt/HARD/MinMax94/data/JSON/{0}_metro.txt'.format(mm94_station_id), \"r\") as file:\n",
    "    z = json.load(file)"
   ]
  },
  {
   "cell_type": "code",
   "execution_count": null,
   "metadata": {},
   "outputs": [],
   "source": [
    "z = z['meteo_data']"
   ]
  },
  {
   "cell_type": "code",
   "execution_count": 12,
   "metadata": {},
   "outputs": [
    {
     "data": {
      "text/plain": [
       "0.9549568443978382"
      ]
     },
     "execution_count": 12,
     "metadata": {},
     "output_type": "execute_result"
    }
   ],
   "source": [
    "len(z) / len(mmcc_rwis)"
   ]
  },
  {
   "cell_type": "code",
   "execution_count": null,
   "metadata": {},
   "outputs": [],
   "source": []
  }
 ],
 "metadata": {
  "kernelspec": {
   "display_name": "Python 3",
   "language": "python",
   "name": "python3"
  },
  "language_info": {
   "codemirror_mode": {
    "name": "ipython",
    "version": 3
   },
   "file_extension": ".py",
   "mimetype": "text/x-python",
   "name": "python",
   "nbconvert_exporter": "python",
   "pygments_lexer": "ipython3",
   "version": "3.5.2"
  }
 },
 "nbformat": 4,
 "nbformat_minor": 2
}
