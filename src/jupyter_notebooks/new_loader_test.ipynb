{
 "cells": [
  {
   "cell_type": "code",
   "execution_count": 1,
   "metadata": {},
   "outputs": [],
   "source": [
    "import pandas as pd\n",
    "import numpy as np\n",
    "from copy import deepcopy\n",
    "import gc\n",
    "from tqdm import tqdm_notebook\n",
    "import sys\n",
    "sys.path.append('/home/ndsviriden/MinMax94/src/utils')\n",
    "from Preprocessing import Preprocessor\n",
    "from converters import convert_rp5_to_mmx, mmx_datetime_to_metro_format\n",
    "import matplotlib.pyplot as plt\n",
    "import warnings\n",
    "warnings.filterwarnings('ignore')\n",
    "\n",
    "preprocessor = Preprocessor()"
   ]
  },
  {
   "cell_type": "markdown",
   "metadata": {},
   "source": [
    "## Load and preprocess MM94 stations data"
   ]
  },
  {
   "cell_type": "code",
   "execution_count": 2,
   "metadata": {},
   "outputs": [
    {
     "name": "stdout",
     "output_type": "stream",
     "text": [
      "CPU times: user 2.87 s, sys: 378 ms, total: 3.25 s\n",
      "Wall time: 3.25 s\n"
     ]
    }
   ],
   "source": [
    "%%time\n",
    "# getting file tree in directory \"data_csv\", which contains raw unfiltered data\n",
    "station_list = [113, 114, 612, 115] \n",
    "                #, 116, 117, 118, 119, 1809, 1810, 1811, 1812, 1813, 1814, 1815]\n",
    "mypath = '/mnt/HARD/MinMax94/data/data_all/CSV/Raw_extended/'\n",
    "\n",
    "# reading loaded csv files from data_csv directory, output is a list (length=number of stations) of raw df\n",
    "raw_list = [pd.read_csv(mypath + str(station_id) + '_raw.csv', parse_dates = ['date_time']) \n",
    "              for station_id in station_list]\n",
    "raw = pd.concat(raw_list)\n",
    "raw = raw.reset_index(drop=True)"
   ]
  },
  {
   "cell_type": "code",
   "execution_count": 3,
   "metadata": {
    "scrolled": true
   },
   "outputs": [
    {
     "name": "stdout",
     "output_type": "stream",
     "text": [
      "CPU times: user 3.25 s, sys: 556 ms, total: 3.8 s\n",
      "Wall time: 3.8 s\n"
     ]
    }
   ],
   "source": [
    "%%time\n",
    "useful_features = ['t_air', 't_road', 't_underroad', 'pressure', 'dampness', 'cloudiness', 'precip_code', 'salinity',\n",
    "                  'visibility', 'p_weather', 'wind_dir']\n",
    "raw_lmeteo = preprocessor.SelectFeatures(raw, useful_features)\n",
    "raw_lmeteo = preprocessor.AddUTC(raw_lmeteo)\n",
    "lmeteo_pivot = preprocessor.PivotTable(raw_lmeteo)\n",
    "lmeteo_pivot = preprocessor.FixPressureScale(lmeteo_pivot)\n",
    "lmeteo_pivot = preprocessor.ConvertDataToMmx(lmeteo_pivot)\n",
    "lmeteo_patterns = preprocessor.CreatePatternList(lmeteo_pivot)\n",
    "lmeteo_interpolated = preprocessor.InterpolatePatterns(lmeteo_patterns)"
   ]
  },
  {
   "cell_type": "markdown",
   "metadata": {},
   "source": [
    "## Load and preprocess RP5 stations data"
   ]
  },
  {
   "cell_type": "code",
   "execution_count": 6,
   "metadata": {},
   "outputs": [
    {
     "name": "stdout",
     "output_type": "stream",
     "text": [
      "CPU times: user 380 ms, sys: 4.15 ms, total: 384 ms\n",
      "Wall time: 384 ms\n"
     ]
    }
   ],
   "source": [
    "%%time\n",
    "station_list = [22831, 22925, 22867, 28696, 31318, 31917]\n",
    "mypath = '/mnt/HARD/MinMax94/data/data_all/CSV/RP5/'\n",
    "\n",
    "rp5_list = []\n",
    "for station_id in station_list:\n",
    "    df = pd.read_csv(mypath + str(station_id) + '.csv', sep=';', skiprows=6, index_col=False)\n",
    "    date_time_col = [col for col in df.columns if col.startswith('Местное время')][0]\n",
    "    df = df.rename(columns={date_time_col: 'Местное время'})\n",
    "    df['station_id'] = station_id\n",
    "    rp5_list.append(df)"
   ]
  },
  {
   "cell_type": "code",
   "execution_count": 7,
   "metadata": {},
   "outputs": [],
   "source": [
    "rp5_data = pd.concat(rp5_list).reset_index(drop=True)\n",
    "rp5_data = convert_rp5_to_mmx(rp5_data)\n",
    "del rp5_data['data_p_weather'], rp5_data['data_precip_interval']\n",
    "\n",
    "rp5_data = preprocessor.AddUTC(rp5_data, '/mnt/HARD/MinMax94/data/data_all/CSV/stations_rp5_def.csv')\n",
    "rp5_interpolated = preprocessor.InterpolatePatterns(rp5_data)"
   ]
  },
  {
   "cell_type": "markdown",
   "metadata": {},
   "source": [
    "## Convert MM94 data to METRO"
   ]
  },
  {
   "cell_type": "code",
   "execution_count": 8,
   "metadata": {},
   "outputs": [
    {
     "data": {
      "text/plain": [
       "0        2011-12-31 21:30 UTC\n",
       "1        2011-12-31 22:00 UTC\n",
       "2        2011-12-31 22:30 UTC\n",
       "3        2011-12-31 23:00 UTC\n",
       "4        2011-12-31 23:30 UTC\n",
       "5        2012-01-01 00:30 UTC\n",
       "6        2012-01-01 01:00 UTC\n",
       "7        2012-01-01 01:30 UTC\n",
       "8        2012-01-01 02:00 UTC\n",
       "9        2012-01-01 02:30 UTC\n",
       "10       2012-01-01 03:30 UTC\n",
       "11       2012-01-01 04:00 UTC\n",
       "12       2012-01-01 04:30 UTC\n",
       "13       2012-01-01 05:00 UTC\n",
       "14       2012-01-01 05:30 UTC\n",
       "15       2012-01-01 06:30 UTC\n",
       "16       2012-01-01 07:00 UTC\n",
       "17       2012-01-01 07:30 UTC\n",
       "18       2012-01-01 08:00 UTC\n",
       "19       2012-01-01 08:30 UTC\n",
       "20       2012-01-01 09:30 UTC\n",
       "21       2012-01-01 10:00 UTC\n",
       "22       2012-01-01 10:30 UTC\n",
       "23       2012-01-01 11:00 UTC\n",
       "24       2012-01-01 11:30 UTC\n",
       "25       2012-01-01 12:30 UTC\n",
       "26       2012-01-01 13:00 UTC\n",
       "27       2012-01-01 13:30 UTC\n",
       "28       2012-01-01 14:00 UTC\n",
       "29       2012-01-01 14:30 UTC\n",
       "                 ...         \n",
       "53366    2016-12-30 04:30 UTC\n",
       "53367    2016-12-30 05:00 UTC\n",
       "53368    2016-12-30 05:30 UTC\n",
       "53369    2016-12-30 06:30 UTC\n",
       "53370    2016-12-30 07:00 UTC\n",
       "53371    2016-12-30 07:30 UTC\n",
       "53372    2016-12-30 08:00 UTC\n",
       "53373    2016-12-30 08:30 UTC\n",
       "53374    2016-12-30 09:00 UTC\n",
       "53375    2016-12-30 12:30 UTC\n",
       "53376    2016-12-30 13:00 UTC\n",
       "53377    2016-12-30 13:30 UTC\n",
       "53378    2016-12-30 14:00 UTC\n",
       "53379    2016-12-30 14:30 UTC\n",
       "53380    2016-12-30 15:30 UTC\n",
       "53381    2016-12-30 16:00 UTC\n",
       "53382    2016-12-30 16:30 UTC\n",
       "53383    2016-12-30 17:00 UTC\n",
       "53384    2016-12-30 17:30 UTC\n",
       "53385    2016-12-30 18:30 UTC\n",
       "53386    2016-12-30 19:00 UTC\n",
       "53387    2016-12-30 19:30 UTC\n",
       "53388    2016-12-30 20:00 UTC\n",
       "53389    2016-12-30 20:30 UTC\n",
       "53390    2016-12-30 21:00 UTC\n",
       "53391    2016-12-31 03:30 UTC\n",
       "53392    2016-12-31 04:00 UTC\n",
       "53393    2016-12-31 04:30 UTC\n",
       "53394    2016-12-31 05:00 UTC\n",
       "53395    2016-12-31 05:30 UTC\n",
       "Name: date_time_utc, Length: 395420, dtype: object"
      ]
     },
     "execution_count": 8,
     "metadata": {},
     "output_type": "execute_result"
    }
   ],
   "source": [
    "rp5_interpolated['date_time_utc'].apply(mmx_datetime_to_metro_format)"
   ]
  },
  {
   "cell_type": "code",
   "execution_count": null,
   "metadata": {},
   "outputs": [],
   "source": []
  }
 ],
 "metadata": {
  "kernelspec": {
   "display_name": "Python 3",
   "language": "python",
   "name": "python3"
  },
  "language_info": {
   "codemirror_mode": {
    "name": "ipython",
    "version": 3
   },
   "file_extension": ".py",
   "mimetype": "text/x-python",
   "name": "python",
   "nbconvert_exporter": "python",
   "pygments_lexer": "ipython3",
   "version": "3.5.2"
  }
 },
 "nbformat": 4,
 "nbformat_minor": 2
}
