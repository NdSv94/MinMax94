{
 "cells": [
  {
   "cell_type": "code",
   "execution_count": 78,
   "metadata": {
    "collapsed": true
   },
   "outputs": [],
   "source": [
    "import pandas as pd\n",
    "import numpy as np\n",
    "from copy import deepcopy\n",
    "import gc\n",
    "from tqdm import tqdm_notebook\n",
    "import sys\n",
    "sys.path.append('/home/ndsviriden/PycharmProjects/MinMax94/src/utils')\n",
    "from Preprocessing import Preprocessor\n",
    "import warnings\n",
    "warnings.filterwarnings('ignore')"
   ]
  },
  {
   "cell_type": "code",
   "execution_count": 79,
   "metadata": {
    "collapsed": false
   },
   "outputs": [],
   "source": [
    "def InterpolatePatterns(pattern_list):\n",
    "\n",
    "    def round_30min(time):\n",
    "        return datetime.datetime(time.year, time.month, time.day, time.hour, time.minute - time.minute % 30, 0)\n",
    "\n",
    "    def interpolate(df):\n",
    "        # copy the initial dataframe, so that no actions inside the function can affect it\n",
    "        df_result = deepcopy(df)\n",
    "\n",
    "        start = round_30min(df_result.date_time.min())\n",
    "        end = round_30min(df_result.date_time.max())\n",
    "\n",
    "        df_add = pd.DataFrame(pd.date_range(start=start, end=end, freq='30min'),\n",
    "                              columns=pd.MultiIndex.from_tuples([('date_time', '')]))\n",
    "\n",
    "        # !!if len(df_result.station_id.unique()) > 1 --- Raise Error ##\n",
    "        df_add[('station_id', '')] = df_result.station_id.unique()[0]\n",
    "\n",
    "        # adding a new column, so that we can define, which data is original and which is interpolated\n",
    "        df_result[('interpol', '')] = False\n",
    "        df_add[('interpol', '')] = True\n",
    "\n",
    "        # Merging 2 tables\n",
    "        df_result = pd.merge(df_result, df_add, how='outer',\n",
    "                             on=['date_time', 'interpol', 'station_id'])\n",
    "\n",
    "        df_result = df_result.set_index('date_time')\n",
    "        df_result = df_result.sort_index()\n",
    "        df_result.valid = True\n",
    "\n",
    "        # Interpolating data in '30min - round' timestamp\n",
    "        df_result.data = df_result.data.interpolate(method='time', limit_direction='both')\n",
    "        df_result.id = df_result.id.interpolate(method='nearest', limit_direction='both')\n",
    "\n",
    "        # Deleting original data, leaving only interpolated rows\n",
    "        df_result = df_result[df_result.interpol]\n",
    "        del df_result[('interpol',)]\n",
    "        df_result = df_result.dropna()\n",
    "        df_result = df_result.reset_index()\n",
    "        return df_result\n",
    "\n",
    "    patterns_interpolated = [interpolate(pattern) for pattern in tqdm_notebook(pattern_list)]\n",
    "    \n",
    "def round_30min(time):\n",
    "    return datetime.datetime(time.year, time.month, time.day, time.hour, time.minute - time.minute % 30, 0)"
   ]
  },
  {
   "cell_type": "code",
   "execution_count": 80,
   "metadata": {
    "collapsed": false
   },
   "outputs": [],
   "source": [
    "# getting file tree in directory \"data_csv\", which contains raw unfiltered data\n",
    "mypath = '/home/ndsviriden/data_csv/113_raw.csv'\n",
    "\n",
    "# reading loaded csv files from data_csv directory, output is a list (length=number of stations) of raw df\n",
    "raw_lmeteo = pd.read_csv(mypath, parse_dates = ['date_time'])\n",
    "\n",
    "preprocessor = Preprocessor()\n",
    "useful_features = ['t_air', 't_road', 't_underroad', 'pressure', 'dampness', 'cloudiness']\n",
    "raw_lmeteo = preprocessor.SelectFeatures(raw_lmeteo, useful_features)\n",
    "lmeteo_pivot = preprocessor.PivotTable(raw_lmeteo)\n",
    "lmeteo_pivot = preprocessor.FixPressureScale(lmeteo_pivot)\n",
    "pattern_list = preprocessor.CreatePatternList(lmeteo_pivot)\n",
    "\n",
    "data_columns = [column for column in lmeteo_pivot.columns if column.startswith('data_')]\n",
    "id_columns = [column for column in lmeteo_pivot.columns if column.startswith('id_')]"
   ]
  },
  {
   "cell_type": "code",
   "execution_count": 81,
   "metadata": {
    "collapsed": false
   },
   "outputs": [],
   "source": [
    "test = pattern_list[28]"
   ]
  },
  {
   "cell_type": "code",
   "execution_count": 90,
   "metadata": {
    "collapsed": false
   },
   "outputs": [
    {
     "name": "stdout",
     "output_type": "stream",
     "text": [
      "CPU times: user 40 ms, sys: 0 ns, total: 40 ms\n",
      "Wall time: 43.2 ms\n"
     ]
    }
   ],
   "source": [
    "%%time\n",
    "data_columns = [column for column in lmeteo_pivot.columns if column.startswith('data_')]\n",
    "id_columns = [column for column in lmeteo_pivot.columns if column.startswith('id_')]\n",
    "\n",
    "# copy the initial dataframe, so that no actions inside the function can affect it\n",
    "df_result = deepcopy(test)\n",
    "df_result = df_result.set_index('date_time')\n",
    "df_result['interpol'] = False\n",
    "\n",
    "# create table with rounded date_time\n",
    "start = df_result.index.min().round('30min')\n",
    "end = df_result.index.max().round('30min')\n",
    "df_add = pd.DataFrame(index=pd.date_range(start, end, freq='30min', name='date_time'))\n",
    "df_add['interpol'] = True\n",
    "df_add['station_id'] = df_result['station_id'].unique()[0]\n",
    "\n",
    "df_result = df_result.merge(df_add, how='outer', on=['station_id', 'interpol'], left_index=True, right_index=True, sort=True)\n",
    "\n",
    "for column in data_columns:\n",
    "    df_result[column] = df_result[column].resample('30T').transform('ffil', method='time', limit_direction='both', limit=4)\n",
    "\n",
    "for column in id_columns:\n",
    "    df_result[column] = df_result[column].interpolate(method='nearest', limit_direction='both', limit=4)\n",
    "    \n",
    "df_result = df_result[df_result['interpol']]\n",
    "del df_result['interpol']\n",
    "df_result"
   ]
  },
  {
   "cell_type": "code",
   "execution_count": null,
   "metadata": {
    "collapsed": true
   },
   "outputs": [],
   "source": [
    "df_add = pd.DataFrame(pd.date_range(start=start, end=end, freq='30min'),\n",
    "                      columns=pd.MultiIndex.from_tuples([('date_time', '')]))\n",
    "\n",
    "# !!if len(df_result.station_id.unique()) > 1 --- Raise Error ##\n",
    "df_add[('station_id', '')] = df_result.station_id.unique()[0]\n",
    "\n",
    "# adding a new column, so that we can define, which data is original and which is interpolated\n",
    "df_result[('interpol', '')] = False\n",
    "df_add[('interpol', '')] = True\n",
    "\n",
    "# Merging 2 tables\n",
    "df_result = pd.merge(df_result, df_add, how='outer',\n",
    "                     on=['date_time', 'interpol', 'station_id'])\n",
    "\n",
    "df_result = df_result.set_index('date_time')\n",
    "df_result = df_result.sort_index()\n",
    "df_result.valid = True\n",
    "\n",
    "# Interpolating data in '30min - round' timestamp\n",
    "df_result.data = df_result.data.interpolate(method='time', limit_direction='both')\n",
    "df_result.id = df_result.id.interpolate(method='nearest', limit_direction='both')\n",
    "\n",
    "# Deleting original data, leaving only interpolated rows\n",
    "df_result = df_result[df_result.interpol]\n",
    "del df_result[('interpol',)]\n",
    "df_result = df_result.dropna()\n",
    "df_result = df_result.reset_index()\n",
    "return df_result"
   ]
  }
 ],
 "metadata": {
  "kernelspec": {
   "display_name": "Python 3",
   "language": "python",
   "name": "python3"
  },
  "language_info": {
   "codemirror_mode": {
    "name": "ipython",
    "version": 3
   },
   "file_extension": ".py",
   "mimetype": "text/x-python",
   "name": "python",
   "nbconvert_exporter": "python",
   "pygments_lexer": "ipython3",
   "version": "3.6.0"
  }
 },
 "nbformat": 4,
 "nbformat_minor": 2
}
