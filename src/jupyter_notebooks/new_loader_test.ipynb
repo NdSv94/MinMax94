{
 "cells": [
  {
   "cell_type": "code",
   "execution_count": 1,
   "metadata": {},
   "outputs": [],
   "source": [
    "import pandas as pd\n",
    "import numpy as np\n",
    "from copy import deepcopy\n",
    "import gc\n",
    "from tqdm import tqdm_notebook\n",
    "import sys\n",
    "sys.path.append('/home/ndsviriden/MinMax94/src/utils')\n",
    "from Preprocessing import Preprocessor\n",
    "import matplotlib.pyplot as plt\n",
    "import warnings\n",
    "warnings.filterwarnings('ignore')"
   ]
  },
  {
   "cell_type": "code",
   "execution_count": 2,
   "metadata": {},
   "outputs": [
    {
     "name": "stdout",
     "output_type": "stream",
     "text": [
      "CPU times: user 15 s, sys: 1.77 s, total: 16.7 s\n",
      "Wall time: 16.7 s\n"
     ]
    }
   ],
   "source": [
    "%%time\n",
    "# getting file tree in directory \"data_csv\", which contains raw unfiltered data\n",
    "station_list = [113, 114, 612, 115, 116, 117, 118, 119, 1809, 1810, 1811, 1812, 1813, 1814, 1815]\n",
    "               #1816, 1817, 1818, 1819, 1820, 1821, 1822, 1823, 1823, 1824, 1825, 1826, 1827, 1828, 1829]\n",
    "mypath = '/mnt/HARD/MinMax94/data/data_all/CSV/Raw_extended/'\n",
    "\n",
    "# reading loaded csv files from data_csv directory, output is a list (length=number of stations) of raw df\n",
    "raw_list = [pd.read_csv(mypath + str(station_id) + '_raw.csv', parse_dates = ['date_time']) \n",
    "              for station_id in station_list]\n",
    "raw = pd.concat(raw_list)\n",
    "raw = raw.reset_index(drop=True)"
   ]
  },
  {
   "cell_type": "code",
   "execution_count": 6,
   "metadata": {},
   "outputs": [
    {
     "name": "stdout",
     "output_type": "stream",
     "text": [
      "CPU times: user 17.9 s, sys: 4.03 s, total: 22 s\n",
      "Wall time: 22 s\n"
     ]
    }
   ],
   "source": [
    "%%time\n",
    "preprocessor = Preprocessor()\n",
    "useful_features = ['t_air', 't_road', 't_underroad', 'pressure', 'dampness', 'cloudiness', 'precip_code', 'salinity',\n",
    "                  'visibility', 'p_weather']\n",
    "raw_lmeteo = preprocessor.SelectFeatures(raw, useful_features)\n",
    "raw_lmeteo = preprocessor.AddUTC(raw_lmeteo)\n",
    "lmeteo_pivot = preprocessor.PivotTable(raw_lmeteo)\n",
    "lmeteo_pivot = preprocessor.FixPressureScale(lmeteo_pivot)\n",
    "lmeteo_pivot = preprocessor.ConvertDataToMM94(lmeteo_pivot)\n",
    "lmeteo_patterns = preprocessor.CreatePatternList(lmeteo_pivot)\n",
    "lmeteo_interpolated = preprocessor.InterpolatePatterns(lmeteo_patterns)"
   ]
  },
  {
   "cell_type": "code",
   "execution_count": null,
   "metadata": {},
   "outputs": [],
   "source": []
  }
 ],
 "metadata": {
  "kernelspec": {
   "display_name": "Python 3",
   "language": "python",
   "name": "python3"
  },
  "language_info": {
   "codemirror_mode": {
    "name": "ipython",
    "version": 3
   },
   "file_extension": ".py",
   "mimetype": "text/x-python",
   "name": "python",
   "nbconvert_exporter": "python",
   "pygments_lexer": "ipython3",
   "version": "3.5.2"
  }
 },
 "nbformat": 4,
 "nbformat_minor": 2
}
