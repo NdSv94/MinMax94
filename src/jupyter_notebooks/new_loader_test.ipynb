{
 "cells": [
  {
   "cell_type": "code",
   "execution_count": 1,
   "metadata": {},
   "outputs": [],
   "source": [
    "import pandas as pd\n",
    "import numpy as np\n",
    "from copy import deepcopy\n",
    "import sys\n",
    "sys.path.append('/home/ndsviriden/MinMax94/src/utils')\n",
    "from Preprocessing import Preprocessor\n",
    "import matplotlib.pyplot as plt\n",
    "import warnings\n",
    "warnings.filterwarnings('ignore')\n",
    "\n",
    "preprocessor = Preprocessor()"
   ]
  },
  {
   "cell_type": "markdown",
   "metadata": {},
   "source": [
    "## Load and preprocess Mmx stations data"
   ]
  },
  {
   "cell_type": "code",
   "execution_count": 2,
   "metadata": {},
   "outputs": [
    {
     "name": "stdout",
     "output_type": "stream",
     "text": [
      "CPU times: user 2.16 s, sys: 268 ms, total: 2.43 s\n",
      "Wall time: 2.43 s\n"
     ]
    }
   ],
   "source": [
    "%%time\n",
    "# getting file tree in directory \"data_csv\", which contains raw unfiltered data\n",
    "station_list = [113, 114, 612] \n",
    "                #115, 116, 117, 118, 119, 1809, 1810, 1811, 1812, 1813, 1814, 1815]\n",
    "mypath = '/mnt/HARD/MinMax94/data/data_all/CSV/Raw_extended/'\n",
    "\n",
    "# reading loaded csv files from data_csv directory, output is a list (length=number of stations) of raw df\n",
    "raw_list = [pd.read_csv(mypath + str(station_id) + '_raw.csv', parse_dates = ['date_time']) \n",
    "              for station_id in station_list]\n",
    "raw = pd.concat(raw_list)\n",
    "raw = raw.reset_index(drop=True)"
   ]
  },
  {
   "cell_type": "code",
   "execution_count": 3,
   "metadata": {
    "scrolled": true
   },
   "outputs": [
    {
     "name": "stdout",
     "output_type": "stream",
     "text": [
      "CPU times: user 3.1 s, sys: 408 ms, total: 3.51 s\n",
      "Wall time: 3.5 s\n"
     ]
    }
   ],
   "source": [
    "%%time\n",
    "#features_to_select = ['t_air', 't_road', 't_underroad', 'pressure', 'dampness', 'cloudiness', 'precip_code', 'wind_dir']\n",
    "#raw_data = preprocessor.SelectFeatures(raw, features_to_select)\n",
    "raw_data = preprocessor.SelectFeatures(raw)\n",
    "raw_data = preprocessor.PivotTable(raw_data)\n",
    "mmx_data = preprocessor.ConvertData(raw_data, from_format=\"Raw\", to_format=\"Mmx\")\n",
    "mmx_data = preprocessor.AddUTC(mmx_data)\n",
    "mmx_patterns = preprocessor.CreatePatternList(mmx_data)\n",
    "mmx_interpolated = preprocessor.InterpolatePatterns(mmx_patterns)"
   ]
  },
  {
   "cell_type": "markdown",
   "metadata": {},
   "source": [
    "## Load and preprocess RP5 stations data"
   ]
  },
  {
   "cell_type": "code",
   "execution_count": 4,
   "metadata": {},
   "outputs": [
    {
     "name": "stdout",
     "output_type": "stream",
     "text": [
      "CPU times: user 487 ms, sys: 0 ns, total: 487 ms\n",
      "Wall time: 486 ms\n"
     ]
    }
   ],
   "source": [
    "%%time\n",
    "#station_list = [28719]\n",
    "station_list = [22831, 22925, 22867, 28696, 31318, 31917, 28719]\n",
    "mypath = '/mnt/HARD/MinMax94/data/data_all/CSV/RP5/'\n",
    "\n",
    "rp5_list = []\n",
    "for station_id in station_list:\n",
    "    df = pd.read_csv(mypath + str(station_id) + '.csv', sep=';', skiprows=6, index_col=False)\n",
    "    date_time_col = [col for col in df.columns if col.startswith('Местное время')][0]\n",
    "    df = df.rename(columns={date_time_col: 'Местное время'})\n",
    "    df['station_id'] = station_id\n",
    "    rp5_list.append(df)\n",
    "rp5 = pd.concat(rp5_list).reset_index(drop=True)\n",
    "#rp5_data"
   ]
  },
  {
   "cell_type": "code",
   "execution_count": 5,
   "metadata": {},
   "outputs": [],
   "source": [
    "rp5_data = preprocessor.ConvertData(rp5, from_format=\"RP5\", to_format=\"Mmx\")\n",
    "del rp5_data['data_p_weather'], rp5_data['data_precip_interval']\n",
    "rp5_data = preprocessor.AddUTC(rp5_data, '/mnt/HARD/MinMax94/data/data_all/CSV/stations_rp5_def.csv')\n",
    "rp5_interpolated = preprocessor.InterpolatePatterns(rp5_data)"
   ]
  },
  {
   "cell_type": "markdown",
   "metadata": {},
   "source": [
    "## Convert Mmx data to METRO format"
   ]
  },
  {
   "cell_type": "code",
   "execution_count": 7,
   "metadata": {},
   "outputs": [],
   "source": [
    "from Preprocessing import vincenty_dist"
   ]
  },
  {
   "cell_type": "code",
   "execution_count": 8,
   "metadata": {},
   "outputs": [],
   "source": [
    "global_forecast = preprocessor.ConvertData(mmx_interpolated, from_format='Mmx', to_format='Metro')"
   ]
  },
  {
   "cell_type": "code",
   "execution_count": 9,
   "metadata": {},
   "outputs": [],
   "source": [
    "station_id = 113\n",
    "\n",
    "stations_mmx = pd.read_csv('/mnt/HARD/MinMax94/data/data_all/CSV/stations_mm94_def.csv', index_col=0)\n",
    "stations_rp5 = pd.read_csv('/mnt/HARD/MinMax94/data/data_all/CSV/stations_rp5_def.csv', index_col=0)\n",
    "\n",
    "station_data = stations_mmx[stations_mmx.index==station_id]\n",
    "lat, lon = station_data[['latitude', 'longitude']].values[0]\n",
    "timezone = station_data['timezone'].values[0]"
   ]
  },
  {
   "cell_type": "code",
   "execution_count": 10,
   "metadata": {},
   "outputs": [
    {
     "data": {
      "text/plain": [
       "28719"
      ]
     },
     "execution_count": 10,
     "metadata": {},
     "output_type": "execute_result"
    }
   ],
   "source": [
    "from Preprocessing import vincenty_dist\n",
    "nearest_wmo_id = stations_rp5.loc[stations_rp5.apply(lambda x: vincenty_dist((lat, lon), (x['latitude'], x['longitude'])), \n",
    "                                        axis=1).idxmin()].name\n",
    "nearest_wmo_id"
   ]
  },
  {
   "cell_type": "code",
   "execution_count": 24,
   "metadata": {},
   "outputs": [],
   "source": [
    "global_forecast = preprocessor.ConvertData(mmx_interpolated, from_format='Mmx', to_format='Metro')\n",
    "global_forecast = global_forecast.set_index('date_time_utc')"
   ]
  },
  {
   "cell_type": "code",
   "execution_count": 21,
   "metadata": {},
   "outputs": [],
   "source": [
    "current_date_time = pd.Timestamp(2015, 2, 10, 10, 0)\n",
    "predict_delta = pd.Timedelta(48, unit='h')"
   ]
  },
  {
   "cell_type": "code",
   "execution_count": null,
   "metadata": {},
   "outputs": [],
   "source": [
    "global_forecast_point = global_forecast"
   ]
  }
 ],
 "metadata": {
  "kernelspec": {
   "display_name": "Python 3",
   "language": "python",
   "name": "python3"
  },
  "language_info": {
   "codemirror_mode": {
    "name": "ipython",
    "version": 3
   },
   "file_extension": ".py",
   "mimetype": "text/x-python",
   "name": "python",
   "nbconvert_exporter": "python",
   "pygments_lexer": "ipython3",
   "version": "3.5.2"
  }
 },
 "nbformat": 4,
 "nbformat_minor": 2
}
