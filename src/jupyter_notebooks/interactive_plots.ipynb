{
 "cells": [
  {
   "cell_type": "code",
   "execution_count": 16,
   "metadata": {
    "collapsed": false
   },
   "outputs": [],
   "source": [
    "import numpy as np\n",
    "import matplotlib\n",
    "matplotlib.use('qt5agg')\n",
    "import matplotlib.pyplot as plt\n",
    "import pandas as pd\n",
    "import matplotlib.lines as lines\n",
    "\n",
    "%matplotlib qt5"
   ]
  },
  {
   "cell_type": "code",
   "execution_count": 17,
   "metadata": {
    "collapsed": true
   },
   "outputs": [],
   "source": [
    "class HighlightSelected(lines.VertexSelector):\n",
    "    def __init__(self, line, fmt='ro', **kwargs):\n",
    "        lines.VertexSelector.__init__(self, line)\n",
    "        self.markers, = self.axes.plot_date([], [], fmt, **kwargs)\n",
    "        self.pos = []\n",
    "\n",
    "    def process_selected(self, ind, xs, ys):\n",
    "        self.markers.set_data(xs, ys)\n",
    "        self.canvas.draw()\n",
    "\n",
    "    def onpick(self, event):\n",
    "        \"\"\"When the line is picked, update the set of selected indicies.\"\"\"\n",
    "        if event.artist is not self.line:\n",
    "            return\n",
    "\n",
    "        thisline = event.artist\n",
    "        xdata = thisline.get_xdata()\n",
    "        ydata = thisline.get_ydata()\n",
    "        for i in event.ind:\n",
    "            data = (xdata[i], ydata[i])\n",
    "            if i in self.ind:\n",
    "                self.ind.remove(i)\n",
    "                self.pos.remove(data)\n",
    "                print('removed: ', data)\n",
    "            else:\n",
    "                self.ind.add(i)\n",
    "                self.pos.append(data)\n",
    "                print('added: ', data)\n",
    "        ind = list(self.ind)\n",
    "        ind.sort()\n",
    "        xdata, ydata = self.line.get_data()\n",
    "        self.process_selected(ind, xdata[ind], ydata[ind])"
   ]
  },
  {
   "cell_type": "code",
   "execution_count": 18,
   "metadata": {
    "collapsed": true
   },
   "outputs": [],
   "source": [
    "start = '2015-01-01'\n",
    "end = '2015-03-01'\n",
    "\n",
    "df = pd.DataFrame(pd.date_range(start=start, end=end, freq='D'),\n",
    "                                  columns=['time'])\n",
    "df['data'] = np.random.randint(1, 10, len(df))"
   ]
  },
  {
   "cell_type": "code",
   "execution_count": 19,
   "metadata": {
    "collapsed": false
   },
   "outputs": [],
   "source": [
    "fig = plt.figure()\n",
    "ax = fig.add_subplot(111)\n",
    "line, = ax.plot_date(df.time, df.data, 'o-', picker=5)\n",
    "\n",
    "#fig.canvas.mpl_connect('pick_event', on_pick)\n",
    "selector = HighlightSelected(line)\n",
    "plt.show()"
   ]
  },
  {
   "cell_type": "code",
   "execution_count": null,
   "metadata": {
    "collapsed": true
   },
   "outputs": [],
   "source": []
  }
 ],
 "metadata": {
  "kernelspec": {
   "display_name": "Python 3",
   "language": "python",
   "name": "python3"
  },
  "language_info": {
   "codemirror_mode": {
    "name": "ipython",
    "version": 3
   },
   "file_extension": ".py",
   "mimetype": "text/x-python",
   "name": "python",
   "nbconvert_exporter": "python",
   "pygments_lexer": "ipython3",
   "version": "3.6.0"
  }
 },
 "nbformat": 4,
 "nbformat_minor": 2
}
