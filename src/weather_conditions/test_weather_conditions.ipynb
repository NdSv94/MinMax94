{
 "cells": [
  {
   "cell_type": "code",
   "execution_count": 1,
   "metadata": {},
   "outputs": [],
   "source": [
    "import json\n",
    "import numpy as np\n",
    "import pandas as pd\n",
    "from copy import copy\n",
    "import sys\n",
    "sys.path.append('/home/ndsviriden/MinMax94/src/utils') \n",
    "from interpolation import interpolate_mmx, create_patterns\n",
    "from converters import convert_rp5_to_mmx, convert_raw_to_mmx, convert_raw_to_mmx\n",
    "from weather_conditions import is_heavy_loose_snow, is_light_loose_snow, is_frost, \\\n",
    "                               is_ice_crusted_ground, is_packed_snow, is_sleet\n",
    "from loaders import load_mm94_stations\n",
    "from constants import data_directory\n",
    "from shutil import copyfile\n",
    "from tqdm import tqdm_notebook"
   ]
  },
  {
   "cell_type": "markdown",
   "metadata": {},
   "source": [
    "## Loading station data"
   ]
  },
  {
   "cell_type": "code",
   "execution_count": 73,
   "metadata": {},
   "outputs": [],
   "source": [
    "mm94_station_id = 1836\n",
    "\n",
    "raw = load_mm94_stations(mm94_station_id)\n",
    "mmx_rwis = convert_raw_to_mmx(raw)\n",
    "mmx_rwis_interpolated = interpolate_mmx(mmx_rwis)\n",
    "roadcast = copy(mmx_rwis_interpolated)"
   ]
  },
  {
   "cell_type": "markdown",
   "metadata": {},
   "source": [
    "## Calculation of dangerous weather conditions"
   ]
  },
  {
   "cell_type": "code",
   "execution_count": 74,
   "metadata": {},
   "outputs": [
    {
     "name": "stderr",
     "output_type": "stream",
     "text": [
      "/usr/local/lib/python3.5/dist-packages/pandas/core/indexes/base.py:3033: RuntimeWarning: Cannot compare type 'Timestamp' with type 'int', sort order is undefined for incomparable objects\n",
      "  return this.join(other, how=how, return_indexers=return_indexers)\n"
     ]
    },
    {
     "name": "stdout",
     "output_type": "stream",
     "text": [
      "CPU times: user 52.1 s, sys: 0 ns, total: 52.1 s\n",
      "Wall time: 52.2 s\n"
     ]
    }
   ],
   "source": [
    "%%time\n",
    "roadcast['state_heavy_loose_snow'] = is_heavy_loose_snow(roadcast)\n",
    "roadcast['state_light_loose_snow'] = is_light_loose_snow(roadcast)\n",
    "roadcast['state_ice_crusted_ground'] = is_ice_crusted_ground(roadcast)\n",
    "roadcast['state_packed_snow'] = is_packed_snow(roadcast)\n",
    "roadcast['state_sleet'] = is_sleet(roadcast)\n",
    "roadcast['state_frost'] = is_frost(roadcast)"
   ]
  },
  {
   "cell_type": "markdown",
   "metadata": {},
   "source": [
    "## Loading pathes to pictures"
   ]
  },
  {
   "cell_type": "code",
   "execution_count": 75,
   "metadata": {},
   "outputs": [
    {
     "data": {
      "text/plain": [
       "6936"
      ]
     },
     "execution_count": 75,
     "metadata": {},
     "output_type": "execute_result"
    }
   ],
   "source": [
    "mm94_stations_def = pd.read_csv(data_directory + '/stations_mm94_def.csv')\n",
    "video_id = mm94_stations_def.loc[mm94_stations_def['station_id'] == mm94_station_id, 'video_id'].values[0]\n",
    "video_timezone = mm94_stations_def.loc[mm94_stations_def['station_id'] == mm94_station_id, 'video_timezone'].values[0]\n",
    "video_id"
   ]
  },
  {
   "cell_type": "code",
   "execution_count": 76,
   "metadata": {
    "scrolled": true
   },
   "outputs": [
    {
     "data": {
      "text/html": [
       "<div>\n",
       "<style>\n",
       "    .dataframe thead tr:only-child th {\n",
       "        text-align: right;\n",
       "    }\n",
       "\n",
       "    .dataframe thead th {\n",
       "        text-align: left;\n",
       "    }\n",
       "\n",
       "    .dataframe tbody tr th {\n",
       "        vertical-align: top;\n",
       "    }\n",
       "</style>\n",
       "<table border=\"1\" class=\"dataframe\">\n",
       "  <thead>\n",
       "    <tr style=\"text-align: right;\">\n",
       "      <th></th>\n",
       "      <th>full_path</th>\n",
       "      <th>date_time</th>\n",
       "      <th>video_dir</th>\n",
       "      <th>path</th>\n",
       "      <th>video_id</th>\n",
       "      <th>date_time_utc</th>\n",
       "    </tr>\n",
       "  </thead>\n",
       "  <tbody>\n",
       "    <tr>\n",
       "      <th>0</th>\n",
       "      <td>/mnt/HARD/MinMax94/data/Video/m18/1149km/2012/...</td>\n",
       "      <td>2012-10-19 11:22:21</td>\n",
       "      <td>m18/1149km</td>\n",
       "      <td>2012/10/19/image12-10-19_11-22-21-69.jpg</td>\n",
       "      <td>6936.0</td>\n",
       "      <td>2012-10-19 08:22:21</td>\n",
       "    </tr>\n",
       "    <tr>\n",
       "      <th>1</th>\n",
       "      <td>/mnt/HARD/MinMax94/data/Video/m18/1149km/2012/...</td>\n",
       "      <td>2012-10-19 11:27:20</td>\n",
       "      <td>m18/1149km</td>\n",
       "      <td>2012/10/19/image12-10-19_11-27-20-94.jpg</td>\n",
       "      <td>6936.0</td>\n",
       "      <td>2012-10-19 08:27:20</td>\n",
       "    </tr>\n",
       "    <tr>\n",
       "      <th>2</th>\n",
       "      <td>/mnt/HARD/MinMax94/data/Video/m18/1149km/2012/...</td>\n",
       "      <td>2012-10-19 11:32:01</td>\n",
       "      <td>m18/1149km</td>\n",
       "      <td>2012/10/19/image12-10-19_11-32-01-90.jpg</td>\n",
       "      <td>6936.0</td>\n",
       "      <td>2012-10-19 08:32:01</td>\n",
       "    </tr>\n",
       "    <tr>\n",
       "      <th>3</th>\n",
       "      <td>/mnt/HARD/MinMax94/data/Video/m18/1149km/2012/...</td>\n",
       "      <td>2012-10-19 12:02:01</td>\n",
       "      <td>m18/1149km</td>\n",
       "      <td>2012/10/19/image12-10-19_12-02-01-92.jpg</td>\n",
       "      <td>6936.0</td>\n",
       "      <td>2012-10-19 09:02:01</td>\n",
       "    </tr>\n",
       "    <tr>\n",
       "      <th>4</th>\n",
       "      <td>/mnt/HARD/MinMax94/data/Video/m18/1149km/2012/...</td>\n",
       "      <td>2012-10-19 12:09:12</td>\n",
       "      <td>m18/1149km</td>\n",
       "      <td>2012/10/19/image12-10-19_12-09-12-97.jpg</td>\n",
       "      <td>6936.0</td>\n",
       "      <td>2012-10-19 09:09:12</td>\n",
       "    </tr>\n",
       "  </tbody>\n",
       "</table>\n",
       "</div>"
      ],
      "text/plain": [
       "                                           full_path            date_time  \\\n",
       "0  /mnt/HARD/MinMax94/data/Video/m18/1149km/2012/...  2012-10-19 11:22:21   \n",
       "1  /mnt/HARD/MinMax94/data/Video/m18/1149km/2012/...  2012-10-19 11:27:20   \n",
       "2  /mnt/HARD/MinMax94/data/Video/m18/1149km/2012/...  2012-10-19 11:32:01   \n",
       "3  /mnt/HARD/MinMax94/data/Video/m18/1149km/2012/...  2012-10-19 12:02:01   \n",
       "4  /mnt/HARD/MinMax94/data/Video/m18/1149km/2012/...  2012-10-19 12:09:12   \n",
       "\n",
       "    video_dir                                      path  video_id  \\\n",
       "0  m18/1149km  2012/10/19/image12-10-19_11-22-21-69.jpg    6936.0   \n",
       "1  m18/1149km  2012/10/19/image12-10-19_11-27-20-94.jpg    6936.0   \n",
       "2  m18/1149km  2012/10/19/image12-10-19_11-32-01-90.jpg    6936.0   \n",
       "3  m18/1149km  2012/10/19/image12-10-19_12-02-01-92.jpg    6936.0   \n",
       "4  m18/1149km  2012/10/19/image12-10-19_12-09-12-97.jpg    6936.0   \n",
       "\n",
       "        date_time_utc  \n",
       "0 2012-10-19 08:22:21  \n",
       "1 2012-10-19 08:27:20  \n",
       "2 2012-10-19 08:32:01  \n",
       "3 2012-10-19 09:02:01  \n",
       "4 2012-10-19 09:09:12  "
      ]
     },
     "execution_count": 76,
     "metadata": {},
     "output_type": "execute_result"
    }
   ],
   "source": [
    "df_video = pd.read_csv(data_directory + '/VIDEO/'+ str(video_id) + '_video.csv', parse_dates=True)\n",
    "df_video['date_time_utc'] = pd.to_datetime(df_video['date_time_utc'])\n",
    "df_video.head()"
   ]
  },
  {
   "cell_type": "markdown",
   "metadata": {},
   "source": [
    "## Dangerous state photos"
   ]
  },
  {
   "cell_type": "code",
   "execution_count": 77,
   "metadata": {},
   "outputs": [
    {
     "name": "stdout",
     "output_type": "stream",
     "text": [
      "packed_snow 37659 376\n"
     ]
    },
    {
     "name": "stderr",
     "output_type": "stream",
     "text": [
      "Widget Javascript not detected.  It may not be installed or enabled properly.\n"
     ]
    },
    {
     "data": {
      "application/vnd.jupyter.widget-view+json": {
       "model_id": "79320de82f4041f7a6e3e1b1d70fb3ae"
      }
     },
     "metadata": {},
     "output_type": "display_data"
    },
    {
     "name": "stdout",
     "output_type": "stream",
     "text": [
      "\n",
      "sleet 2266 22\n"
     ]
    },
    {
     "name": "stderr",
     "output_type": "stream",
     "text": [
      "Widget Javascript not detected.  It may not be installed or enabled properly.\n"
     ]
    },
    {
     "data": {
      "application/vnd.jupyter.widget-view+json": {
       "model_id": "c8257d82052e4b7ca292ff3d5214bd93"
      }
     },
     "metadata": {},
     "output_type": "display_data"
    },
    {
     "name": "stdout",
     "output_type": "stream",
     "text": [
      "\n",
      "frost 9532 95\n"
     ]
    },
    {
     "name": "stderr",
     "output_type": "stream",
     "text": [
      "Widget Javascript not detected.  It may not be installed or enabled properly.\n"
     ]
    },
    {
     "data": {
      "application/vnd.jupyter.widget-view+json": {
       "model_id": "1a19a3121a21414e9a360670caa9cfc3"
      }
     },
     "metadata": {},
     "output_type": "display_data"
    },
    {
     "name": "stdout",
     "output_type": "stream",
     "text": [
      "\n",
      "ice_crusted_ground 0 0\n"
     ]
    },
    {
     "name": "stderr",
     "output_type": "stream",
     "text": [
      "Widget Javascript not detected.  It may not be installed or enabled properly.\n"
     ]
    },
    {
     "data": {
      "application/vnd.jupyter.widget-view+json": {
       "model_id": "869a522fb6044ea29d4b95febf4a1227"
      }
     },
     "metadata": {},
     "output_type": "display_data"
    },
    {
     "name": "stdout",
     "output_type": "stream",
     "text": [
      "\n",
      "heavy_loose_snow 1517 15\n"
     ]
    },
    {
     "name": "stderr",
     "output_type": "stream",
     "text": [
      "Widget Javascript not detected.  It may not be installed or enabled properly.\n"
     ]
    },
    {
     "data": {
      "application/vnd.jupyter.widget-view+json": {
       "model_id": "26aaf535ad1842bfaaa93e7507d09a82"
      }
     },
     "metadata": {},
     "output_type": "display_data"
    },
    {
     "name": "stdout",
     "output_type": "stream",
     "text": [
      "\n",
      "light_loose_snow 10509 105\n"
     ]
    },
    {
     "name": "stderr",
     "output_type": "stream",
     "text": [
      "Widget Javascript not detected.  It may not be installed or enabled properly.\n"
     ]
    },
    {
     "data": {
      "application/vnd.jupyter.widget-view+json": {
       "model_id": "c29f340ad1374af4a49cc1c07f4275ca"
      }
     },
     "metadata": {},
     "output_type": "display_data"
    },
    {
     "name": "stdout",
     "output_type": "stream",
     "text": [
      "\n"
     ]
    }
   ],
   "source": [
    "events = ['packed_snow', 'sleet', 'frost', 'ice_crusted_ground', 'heavy_loose_snow', 'light_loose_snow']\n",
    "for state in events:\n",
    "    state_dt = roadcast.loc[roadcast['state_{0}'.format(state)], 'date_time_utc']\n",
    "    state_list = []\n",
    "    gap = pd.Timedelta('1h')\n",
    "    \n",
    "    try:\n",
    "        for dt in state_dt.iteritems():\n",
    "            mask = (df_video['date_time_utc'] <= (dt[1] + gap)) & (df_video['date_time_utc'] >= (dt[1] - gap))\n",
    "            state_pathes = list(df_video.loc[mask, 'full_path'].values)\n",
    "            state_list.extend(state_pathes)\n",
    "\n",
    "        fraction = len(state_list) // 100\n",
    "        print(state, len(state_list), fraction)\n",
    "\n",
    "        state_list_read = state_list[::fraction+1]\n",
    "        state_list_write = ['/mnt/HARD/MinMax94/data/Photos/{0}/{1}'.format(state, elem.split('/')[-1]) for elem in state_list_read]\n",
    "        state_list = list(zip(state_list_read, state_list_write))\n",
    "\n",
    "        for path_read, path_write in tqdm_notebook(state_list):\n",
    "            copyfile(path_read, path_write)\n",
    "    except:\n",
    "        print(state, len(state_list), 'error')"
   ]
  },
  {
   "cell_type": "code",
   "execution_count": null,
   "metadata": {},
   "outputs": [],
   "source": []
  },
  {
   "cell_type": "code",
   "execution_count": null,
   "metadata": {},
   "outputs": [],
   "source": []
  },
  {
   "cell_type": "code",
   "execution_count": null,
   "metadata": {},
   "outputs": [],
   "source": []
  },
  {
   "cell_type": "code",
   "execution_count": 23,
   "metadata": {},
   "outputs": [
    {
     "name": "stdout",
     "output_type": "stream",
     "text": [
      "16350 163\n"
     ]
    }
   ],
   "source": [
    "#state = 'packed_snow'\n",
    "#state = 'sleet'\n",
    "#state = 'frost'\n",
    "#state = 'ice_crusted_ground'\n",
    "#state = 'heavy_loose_snow'\n",
    "#state = 'light_loose_snow'\n",
    "events = ['packed_snow', 'sleet', 'frost', 'ice_crusted_ground', 'heavy_loose_snow', 'light_loose_snow']\n",
    "state_dt = roadcast.loc[roadcast['state_{0}'.format(state)], 'date_time_utc']\n",
    "state_list = []\n",
    "gap = pd.Timedelta('1h')\n",
    "\n",
    "for dt in state_dt.iteritems():\n",
    "    mask = (df_video['date_time_utc'] <= (dt[1] + gap)) & (df_video['date_time_utc'] >= (dt[1] - gap))\n",
    "    state_pathes = list(df_video.loc[mask, 'full_path'].values)\n",
    "    state_list.extend(state_pathes)\n",
    "fraction = len(state_list) // 100\n",
    "print(len(state_list), fraction)"
   ]
  },
  {
   "cell_type": "code",
   "execution_count": 24,
   "metadata": {},
   "outputs": [],
   "source": [
    "state_list_read = state_list[::fraction]\n",
    "state_list_write = ['/mnt/HARD/MinMax94/data/Photos/{0}/{1}'.format(state, elem.split('/')[-1]) for elem in state_list_read]\n",
    "state_list = list(zip(state_list_read, state_list_write))"
   ]
  },
  {
   "cell_type": "code",
   "execution_count": 25,
   "metadata": {
    "scrolled": true
   },
   "outputs": [
    {
     "data": {
      "application/vnd.jupyter.widget-view+json": {
       "model_id": "c24e56b2800e4e47803e5de2f55e04b6"
      }
     },
     "metadata": {},
     "output_type": "display_data"
    },
    {
     "name": "stdout",
     "output_type": "stream",
     "text": [
      "\n"
     ]
    }
   ],
   "source": [
    "from shutil import copyfile\n",
    "from tqdm import tqdm_notebook\n",
    "\n",
    "for path_read, path_write in tqdm_notebook(state_list):\n",
    "    copyfile(path_read, path_write)"
   ]
  }
 ],
 "metadata": {
  "kernelspec": {
   "display_name": "Python 3",
   "language": "python",
   "name": "python3"
  },
  "language_info": {
   "codemirror_mode": {
    "name": "ipython",
    "version": 3
   },
   "file_extension": ".py",
   "mimetype": "text/x-python",
   "name": "python",
   "nbconvert_exporter": "python",
   "pygments_lexer": "ipython3",
   "version": "3.5.2"
  }
 },
 "nbformat": 4,
 "nbformat_minor": 2
}
