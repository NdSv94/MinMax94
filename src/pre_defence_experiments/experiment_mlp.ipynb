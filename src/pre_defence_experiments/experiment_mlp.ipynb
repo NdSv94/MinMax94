{
 "cells": [
  {
   "cell_type": "code",
   "execution_count": 4,
   "metadata": {},
   "outputs": [],
   "source": [
    "import numpy as np\n",
    "import pandas as pd\n",
    "from copy import copy\n",
    "import sys\n",
    "sys.path.append('/home/ndsviriden/MinMax94/src/utils') \n",
    "from constants import data_directory, MmxColumns\n",
    "from interpolation import interpolate_mmx, create_patterns\n",
    "from converters import convert_raw_to_mmx\n",
    "from preprocessing import get_clean_data\n",
    "from loaders import load_mm94_stations, select_mm94_features\n",
    "from geographical import find_nearest_wmo_station, add_solar_angles, add_coordinates, add_road_id\n",
    "from sklearn.ensemble import IsolationForest\n",
    "from score import get_labels\n",
    "from score import calculate_precision, calculate_recall\n",
    "import gc\n",
    "from tqdm import tqdm_notebook\n",
    "from functools import reduce"
   ]
  },
  {
   "cell_type": "markdown",
   "metadata": {},
   "source": [
    "## Loading data"
   ]
  },
  {
   "cell_type": "code",
   "execution_count": 5,
   "metadata": {},
   "outputs": [
    {
     "name": "stderr",
     "output_type": "stream",
     "text": [
      "/home/ndsviriden/MinMax94/src/utils/geographical.py:65: RuntimeWarning: invalid value encountered in arccos\n",
      "  solar_azimuth = np.arccos(cos_az) * np.sign(h_rad)\n"
     ]
    },
    {
     "name": "stdout",
     "output_type": "stream",
     "text": [
      "CPU times: user 1min 37s, sys: 10.3 s, total: 1min 47s\n",
      "Wall time: 1min 51s\n"
     ]
    }
   ],
   "source": [
    "%%time\n",
    "test_station_id = [114, 117, 119, 302, 303, 307, 393, 442, 503, 504, \n",
    "                   511, 516, 1838, 1896]\n",
    "\n",
    "\n",
    "train_station_id = [113, 115, 116, 118, 126, 150, 152, 200, 223, 228, \n",
    "                    239, 305, 308, 309, 401, 411, 432, 435, 454, 456, \n",
    "                    593, 628, 1831, 1899, 1911, 1921, 4007, 20323, 20717, 20743, \n",
    "                    20754, 20755, 20761, 20916, 20921]\n",
    "\n",
    "raw = load_mm94_stations(train_station_id + test_station_id)\n",
    "raw = select_mm94_features(raw, ['t_air', 't_road', 't_underroad', 'pressure', 'dampness'])\n",
    "\n",
    "mmx_rwis = convert_raw_to_mmx(raw)\n",
    "mmx_rwis_interpolated = interpolate_mmx(mmx_rwis)\n",
    "data = create_patterns(mmx_rwis_interpolated)\n",
    "\n",
    "data['data_solar_azimuth'], data['data_solar_altitude'] = add_solar_angles(data)\n",
    "data['data_latitude'], data['data_longitude'] = add_coordinates(data)\n",
    "data['data_road'] = add_road_id(data)\n",
    "data = data.dropna(subset=('data_t_road', ))\n",
    "\n",
    "del data[MmxColumns.ID_AIR_TEMPERATURE], data[MmxColumns.ID_UNDERGROUND_TEMPERATURE], \\\n",
    "    data[MmxColumns.ID_PRESSURE], data[MmxColumns.ID_HUMIDITY]\n",
    "\n",
    "train = data[data['station_id'].isin(train_station_id)]\n",
    "train = train.reset_index(drop=True)\n",
    "train_clean = get_clean_data(train)\n",
    "\n",
    "test = data[data['station_id'].isin(test_station_id)]\n",
    "test = test.reset_index(drop=True)\n",
    "test['label_true'] = get_labels(test, labels_type='true')\n",
    "\n",
    "del data, raw, mmx_rwis, mmx_rwis_interpolated\n",
    "gc.collect()"
   ]
  },
  {
   "cell_type": "markdown",
   "metadata": {},
   "source": [
    "## Feature selection"
   ]
  },
  {
   "cell_type": "code",
   "execution_count": 25,
   "metadata": {
    "scrolled": true
   },
   "outputs": [
    {
     "name": "stdout",
     "output_type": "stream",
     "text": [
      "CPU times: user 8.66 s, sys: 1.73 s, total: 10.4 s\n",
      "Wall time: 10.4 s\n"
     ]
    }
   ],
   "source": [
    "%%time\n",
    "from preprocessing import create_feature_df\n",
    "\n",
    "point = pd.Timestamp(2015, 6, 1)\n",
    "\n",
    "time = 0.5\n",
    "variables = ['data_t_road', 'data_t_air', 'data_t_underroad', 'data_dampness', 'data_pressure']\n",
    "road_id = False\n",
    "coordinates = False\n",
    "\n",
    "df_train = create_feature_df(train_clean[train_clean['date_time_utc'] < point], winter_period=False, \n",
    "                             time=time, variables=variables, road_id=road_id, coordinates=coordinates)\n",
    "df_valid = create_feature_df(train_clean[train_clean['date_time_utc'] >= point], winter_period=False, \n",
    "                             time=time, variables=variables, road_id=road_id, coordinates=coordinates)\n",
    "df_test = create_feature_df(test, winter_period=False, time=time,\n",
    "                           variables=variables, road_id=road_id, coordinates=coordinates)\n",
    "\n",
    "features = [col for col in df_train if col.startswith('data_')]\n",
    "target = [col for col in df_train if col.startswith('target_')][0]\n",
    "\n",
    "X_train = np.array(df_train[features].values)\n",
    "y_train = np.array(df_train[target].values)\n",
    "\n",
    "X_valid = np.array(df_valid[features].values)\n",
    "y_valid = np.array(df_valid[target].values)\n",
    "\n",
    "X_test = np.array(df_test[features].values)\n",
    "y_test = np.array(df_test[target].values)"
   ]
  },
  {
   "cell_type": "code",
   "execution_count": 26,
   "metadata": {},
   "outputs": [],
   "source": [
    "from sklearn.preprocessing import Normalizer\n",
    "\n",
    "normalizer = Normalizer()\n",
    "X_train_norm = normalizer.fit_transform(X_train)\n",
    "X_valid_norm = normalizer.transform(X_valid)\n",
    "X_test_norm = normalizer.transform(X_test)"
   ]
  },
  {
   "cell_type": "code",
   "execution_count": 33,
   "metadata": {},
   "outputs": [],
   "source": [
    "from keras.layers import Input, Dense, BatchNormalization, Dropout\n",
    "from keras.models import Model\n",
    "import keras.metrics as metrics\n",
    "from keras.optimizers import Nadam, Adam\n",
    "\n",
    "# This returns a tensor\n",
    "input_layer = Input(shape=(X_train_norm.shape[1],))\n",
    "#batch_norm = BatchNormalization()(input_layer)\n",
    "dense_1 = Dense(64, activation='relu')(input_layer)\n",
    "dropout_1 = Dropout(0.3)(dense_1)\n",
    "output_layer = Dense(1, activation='linear')(dropout_1)\n",
    "\n",
    "adam = Adam(lr=0.02)\n",
    "model = Model(inputs=input_layer, outputs=output_layer)\n",
    "model.compile(loss='mean_absolute_error',\n",
    "              optimizer=adam, )"
   ]
  },
  {
   "cell_type": "code",
   "execution_count": 34,
   "metadata": {
    "scrolled": true
   },
   "outputs": [
    {
     "name": "stdout",
     "output_type": "stream",
     "text": [
      "Train on 1262353 samples, validate on 472539 samples\n",
      "Epoch 1/1\n",
      "1262353/1262353 [==============================] - 25s 20us/step - loss: 2.3646 - val_loss: 1.9754\n",
      "Train on 1262353 samples, validate on 472539 samples\n",
      "Epoch 1/1\n",
      "1262353/1262353 [==============================] - 25s 20us/step - loss: 2.2238 - val_loss: 1.9024\n",
      "Train on 1262353 samples, validate on 472539 samples\n",
      "Epoch 1/1\n",
      "1262353/1262353 [==============================] - 25s 20us/step - loss: 2.1999 - val_loss: 1.8376\n",
      "Train on 1262353 samples, validate on 472539 samples\n",
      "Epoch 1/1\n",
      "1262353/1262353 [==============================] - 25s 20us/step - loss: 2.1839 - val_loss: 1.9807\n",
      "Train on 1262353 samples, validate on 472539 samples\n",
      "Epoch 1/1\n",
      "1262353/1262353 [==============================] - 26s 20us/step - loss: 2.1642 - val_loss: 1.8029\n",
      "Train on 1262353 samples, validate on 472539 samples\n",
      "Epoch 1/1\n",
      "1262353/1262353 [==============================] - 25s 20us/step - loss: 2.1354 - val_loss: 1.6009\n",
      "Train on 1262353 samples, validate on 472539 samples\n",
      "Epoch 1/1\n",
      "1262353/1262353 [==============================] - 26s 20us/step - loss: 2.1088 - val_loss: 1.5454\n",
      "Train on 1262353 samples, validate on 472539 samples\n",
      "Epoch 1/1\n",
      "1262353/1262353 [==============================] - 26s 20us/step - loss: 2.0901 - val_loss: 1.7772\n",
      "Train on 1262353 samples, validate on 472539 samples\n",
      "Epoch 1/1\n",
      "1262353/1262353 [==============================] - 25s 20us/step - loss: 2.0883 - val_loss: 1.7067\n",
      "Train on 1262353 samples, validate on 472539 samples\n",
      "Epoch 1/1\n",
      "1262353/1262353 [==============================] - 25s 20us/step - loss: 2.0822 - val_loss: 1.6126\n"
     ]
    }
   ],
   "source": [
    "import keras.backend as K\n",
    "\n",
    "epochs = 10\n",
    "for epoch in range(epochs):\n",
    "    model.fit(X_train_norm, y_train, epochs=1, validation_data=(X_valid_norm, y_valid), \n",
    "             batch_size=64)  # starts training\n",
    "    K.set_value(adam.lr, 0.8 * K.get_value(adam.lr))"
   ]
  },
  {
   "cell_type": "code",
   "execution_count": 63,
   "metadata": {},
   "outputs": [
    {
     "data": {
      "text/plain": [
       "4.703483164685054"
      ]
     },
     "execution_count": 63,
     "metadata": {},
     "output_type": "execute_result"
    }
   ],
   "source": [
    "from sklearn.metrics import mean_absolute_error\n",
    "y_pred = model.predict(X_valid_norm)\n",
    "mean_absolute_error(y_pred, y_valid)"
   ]
  },
  {
   "cell_type": "code",
   "execution_count": 22,
   "metadata": {},
   "outputs": [
    {
     "name": "stdout",
     "output_type": "stream",
     "text": [
      "0.28316024\n"
     ]
    }
   ],
   "source": [
    "std = np.std(y_true - y_pred)\n",
    "print(mean_absolute_error(y_true, y_pred))\n",
    "upper = y_pred + std * 7\n",
    "lower = y_pred - std * 7\n",
    "df_test['label_predict'] = ((y_true >= upper) | (y_true <= lower))"
   ]
  },
  {
   "cell_type": "markdown",
   "metadata": {},
   "source": [
    "df_test.to_csv('/mnt/HARD/MinMax94/models/results/xgboost_5.csv', index=False)"
   ]
  },
  {
   "cell_type": "markdown",
   "metadata": {},
   "source": [
    "## Recall"
   ]
  },
  {
   "cell_type": "code",
   "execution_count": 27,
   "metadata": {},
   "outputs": [
    {
     "data": {
      "text/plain": [
       "0.4377911600954437"
      ]
     },
     "execution_count": 27,
     "metadata": {},
     "output_type": "execute_result"
    }
   ],
   "source": [
    "predicted_anomalies_ids = set()\n",
    "window = pd.Timedelta('4h')\n",
    "\n",
    "#st_id = [114, 119, 302, 303, 442, 504, 511, 1838, 1896]\n",
    "#st_id = [114, 117, 119, 302, 303, 442, 503, 504, 511, 1838, 1896]\n",
    "st_id = [114, 117, 119, 302, 303, 307, 393, 442, 503, 504, 511, 516, 1838, 1896]\n",
    "for station in st_id:\n",
    "    df = df_test[df_test['station_id']==station]\n",
    "    predicted_anomalies = df[df['label_predict']==1]\n",
    "    for anomaly in predicted_anomalies.iterrows():\n",
    "        dt = anomaly[1]['date_time_utc']\n",
    "        locality = df_test[(df_test['date_time_utc'] >= (dt - window)) & \n",
    "                       (df_test['date_time_utc'] <= (dt + window))]\n",
    "        \n",
    "        predicted_anomalies_ids.update(set(locality.index))\n",
    "\n",
    "true_anomalies_ids = set(df_test[(df_test['label_true']==1) & (df_test['station_id'].isin(st_id))].index)\n",
    "\n",
    "tp = set.intersection(true_anomalies_ids, predicted_anomalies_ids)\n",
    "recall = len(tp) / len(true_anomalies_ids)\n",
    "recall"
   ]
  },
  {
   "cell_type": "markdown",
   "metadata": {},
   "source": [
    "## Precision"
   ]
  },
  {
   "cell_type": "code",
   "execution_count": 28,
   "metadata": {},
   "outputs": [
    {
     "data": {
      "text/plain": [
       "0.9142512077294686"
      ]
     },
     "execution_count": 28,
     "metadata": {},
     "output_type": "execute_result"
    }
   ],
   "source": [
    "true_anomalies_ids = set()\n",
    "window = pd.Timedelta('4h')\n",
    "\n",
    "#st_id = [114, 119, 302, 303, 442, 504, 511, 1838, 1896]\n",
    "#st_id = [114, 117, 119, 302, 303, 442, 503, 504, 511, 1838, 1896]\n",
    "st_id = [114, 117, 119, 302, 303, 307, 393, 442, 503, 504, 511, 516, 1838, 1896]\n",
    "for station in st_id:\n",
    "    df = df_test[df_test['station_id']==station]\n",
    "    true_anomalies = df[df['label_true']==1]\n",
    "    for anomaly in true_anomalies.iterrows():\n",
    "        dt = anomaly[1]['date_time_utc']\n",
    "        locality = df_test[(df_test['date_time_utc'] >= (dt - window)) & \n",
    "                       (df_test['date_time_utc'] <= (dt + window))]\n",
    "        \n",
    "        true_anomalies_ids.update(set(locality.index))\n",
    "        # print(list(locality.index))\n",
    "\n",
    "predicted_anomalies_ids = set(df_test[((df_test['label_predict']==1) & (df_test['station_id'].isin(st_id)))].index)\n",
    "\n",
    "tp = set.intersection(true_anomalies_ids, predicted_anomalies_ids)\n",
    "precision = len(tp) / len(predicted_anomalies_ids)\n",
    "precision"
   ]
  },
  {
   "cell_type": "markdown",
   "metadata": {},
   "source": [
    "## Cycle"
   ]
  },
  {
   "cell_type": "code",
   "execution_count": 17,
   "metadata": {},
   "outputs": [
    {
     "name": "stdout",
     "output_type": "stream",
     "text": [
      "114 : R = 0.611, P = 0.240\n",
      "117 : R = 0.543, P = 0.970\n",
      "119 : R = 0.848, P = 0.724\n",
      "302 : R = 0.567, P = 0.414\n",
      "303 : R = 0.730, P = 0.613\n",
      "307 : R = 0.160, P = 0.950\n",
      "393 : R = 0.099, P = 0.778\n",
      "442 : R = 1.000, P = 0.458\n",
      "503 : R = 0.861, P = 0.988\n",
      "504 : R = 1.000, P = 0.696\n",
      "511 : R = 1.000, P = 0.848\n",
      "516 : R = 0.256, P = 0.769\n",
      "1838 : R = 0.871, P = 0.167\n",
      "1896 : R = 0.561, P = 0.809\n"
     ]
    }
   ],
   "source": [
    "predicted_anomalies_ids = set()\n",
    "window = pd.Timedelta('4h')\n",
    "station_list = [114, 117, 119, 302, 303, 307, 393, 442, 503, 504, 511, 516, 1838, 1896]\n",
    "\n",
    "for station_id in station_list:\n",
    "    st_id = [station_id]\n",
    "    for station in st_id:\n",
    "        df = df_test[df_test['station_id']==station]\n",
    "        predicted_anomalies = df[df['label_predict']==1]\n",
    "        for anomaly in predicted_anomalies.iterrows():\n",
    "            dt = anomaly[1]['date_time_utc']\n",
    "            locality = df_test[(df_test['date_time_utc'] >= (dt - window)) & \n",
    "                           (df_test['date_time_utc'] <= (dt + window))]\n",
    "\n",
    "            predicted_anomalies_ids.update(set(locality.index))\n",
    "\n",
    "    true_anomalies_ids = set(df_test[(df_test['label_true']==1) & (df_test['station_id'].isin(st_id))].index)\n",
    "\n",
    "    tp = set.intersection(true_anomalies_ids, predicted_anomalies_ids)\n",
    "    recall = len(tp) / len(true_anomalies_ids)\n",
    "\n",
    "    true_anomalies_ids = set()\n",
    "    window = pd.Timedelta('4h')\n",
    "\n",
    "    for station in st_id:\n",
    "        df = df_test[df_test['station_id']==station]\n",
    "        true_anomalies = df[df['label_true']==1]\n",
    "        for anomaly in true_anomalies.iterrows():\n",
    "            dt = anomaly[1]['date_time_utc']\n",
    "            locality = df_test[(df_test['date_time_utc'] >= (dt - window)) & \n",
    "                           (df_test['date_time_utc'] <= (dt + window))]\n",
    "\n",
    "            true_anomalies_ids.update(set(locality.index))\n",
    "            # print(list(locality.index))\n",
    "\n",
    "    predicted_anomalies_ids = set(df_test[((df_test['label_predict']==1) & (df_test['station_id'].isin(st_id)))].index)\n",
    "\n",
    "    tp = set.intersection(true_anomalies_ids, predicted_anomalies_ids)\n",
    "    precision = len(tp) / len(predicted_anomalies_ids)\n",
    "    \n",
    "    print('{0} : R = {1:0.3f}, P = {2:0.3f}'.format(station_id, recall, precision))"
   ]
  },
  {
   "cell_type": "markdown",
   "metadata": {},
   "source": [
    "## Plot"
   ]
  },
  {
   "cell_type": "code",
   "execution_count": 20,
   "metadata": {},
   "outputs": [
    {
     "data": {
      "image/png": "[encoded data removed]",
      "text/plain": [
       "<matplotlib.figure.Figure at 0x7f5d2d2c9ba8>"
      ]
     },
     "metadata": {},
     "output_type": "display_data"
    }
   ],
   "source": [
    "import matplotlib.pyplot as plt\n",
    "\n",
    "#303, 307!!, 393!!, 503, 516\n",
    "#test_station_id = [114, 117, 119, 302, 303, 307, 393, 442, 503, 504, 511, 516, 1838, 1896]\n",
    "z = copy(df_test[df_test['station_id']==114].set_index('date_time_utc'))\n",
    "\n",
    "start = pd.Timestamp(2012, 6, 1)\n",
    "end = pd.Timestamp(2017, 8, 1)\n",
    "\n",
    "to_plot = z[(z.index<=end) & (z.index>=start)]\n",
    "\n",
    "plt.figure(figsize=(30, 10))\n",
    "\n",
    "for elem in [True, False]:\n",
    "    cond_predict = (to_plot['label_predict'] == 0) == elem\n",
    "    cond_true = (to_plot['label_true'] == 0) == elem\n",
    "    \n",
    "    if elem:\n",
    "        plt.plot_date(to_plot[cond_predict].index, to_plot[cond_predict]['target_t_road'], 'b',\n",
    "                      linestyle='none', marker='o', markersize=8, label='t_road')\n",
    "    else:\n",
    "        \n",
    "        plt.plot_date(to_plot[cond_true].index, to_plot[cond_true]['target_t_road'], 'g.',\n",
    "                              linestyle='none', marker='o', label='outliers', markersize=12)\n",
    "        \n",
    "        plt.plot_date(to_plot[cond_predict].index, to_plot[cond_predict]['target_t_road'], 'r.',\n",
    "                              linestyle='none', marker='o', label='outliers', markersize=8)\n",
    "\n",
    "plt.grid()\n",
    "plt.legend(fontsize=32)\n",
    "plt.ylabel(r' Температура дороги, $^{\\circ}C$', fontsize=30)\n",
    "\n",
    "plt.tick_params(labelsize=30)\n",
    "plt.show()"
   ]
  },
  {
   "cell_type": "code",
   "execution_count": null,
   "metadata": {},
   "outputs": [],
   "source": []
  }
 ],
 "metadata": {
  "kernelspec": {
   "display_name": "Python 3",
   "language": "python",
   "name": "python3"
  },
  "language_info": {
   "codemirror_mode": {
    "name": "ipython",
    "version": 3
   },
   "file_extension": ".py",
   "mimetype": "text/x-python",
   "name": "python",
   "nbconvert_exporter": "python",
   "pygments_lexer": "ipython3",
   "version": "3.5.2"
  },
  "widgets": {
   "state": {
    "00326b32892a43d4ba69bd9c99cfa796": {
     "views": [
      {
       "cell_index": 7
      }
     ]
    },
    "1eb71c32c655466b842aaa0c3a382add": {
     "views": [
      {
       "cell_index": 7
      }
     ]
    },
    "2ad459046cde4777afe3f9e3c8c5b3ae": {
     "views": [
      {
       "cell_index": 7
      }
     ]
    },
    "3a74dceb621c486a9341da5c8a982164": {
     "views": [
      {
       "cell_index": 7
      }
     ]
    },
    "660c86c1a4384674a185be4b3bff31a9": {
     "views": [
      {
       "cell_index": 7
      }
     ]
    },
    "7f3b66d1e80d4f5e87d2988624d955d0": {
     "views": [
      {
       "cell_index": 7
      }
     ]
    },
    "943e2c1cc988476e971e75100750df58": {
     "views": [
      {
       "cell_index": 7
      }
     ]
    },
    "b4c7e54d4afe468e8123b8ed01cc507b": {
     "views": [
      {
       "cell_index": 7
      }
     ]
    },
    "daaa68dca49744bc9ee634c5c1142d96": {
     "views": [
      {
       "cell_index": 7
      }
     ]
    },
    "db245a5162754e999cfdd51d9b929484": {
     "views": [
      {
       "cell_index": 7
      }
     ]
    },
    "e0a44a8d4a2840a2aa38273cc13524ef": {
     "views": [
      {
       "cell_index": 7
      }
     ]
    },
    "eaa208b4699544f9a2ee2c4559d77e40": {
     "views": [
      {
       "cell_index": 7
      }
     ]
    },
    "f0ea691c74e14437adaf0ac14d37253b": {
     "views": [
      {
       "cell_index": 7
      }
     ]
    },
    "fa6314ecdce54b00b1655f84e78f9297": {
     "views": [
      {
       "cell_index": 7
      }
     ]
    }
   },
   "version": "1.2.0"
  }
 },
 "nbformat": 4,
 "nbformat_minor": 2
}
