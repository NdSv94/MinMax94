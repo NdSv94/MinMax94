{
 "cells": [
  {
   "cell_type": "code",
   "execution_count": 1,
   "metadata": {},
   "outputs": [],
   "source": [
    "import numpy as np\n",
    "import pandas as pd\n",
    "from copy import copy\n",
    "import sys\n",
    "sys.path.append('/home/ndsviriden/MinMax94/src/utils') \n",
    "from constants import data_directory, MmxColumns\n",
    "from interpolation import interpolate_mmx, create_patterns\n",
    "from converters import convert_raw_to_mmx\n",
    "from preprocessing import get_clean_data\n",
    "from loaders import load_mm94_stations, select_mm94_features\n",
    "from geographical import find_nearest_wmo_station, add_solar_angles, add_coordinates, add_road_id\n",
    "from sklearn.ensemble import IsolationForest\n",
    "from score import get_labels\n",
    "from score import calc_precision, calc_recall, calc_f1_score\n",
    "import gc\n",
    "from tqdm import tqdm_notebook\n",
    "from functools import reduce"
   ]
  },
  {
   "cell_type": "markdown",
   "metadata": {},
   "source": [
    "## Loading data"
   ]
  },
  {
   "cell_type": "code",
   "execution_count": 2,
   "metadata": {},
   "outputs": [
    {
     "ename": "KeyboardInterrupt",
     "evalue": "",
     "output_type": "error",
     "traceback": [
      "\u001b[0;31m---------------------------------------------------------------------------\u001b[0m",
      "\u001b[0;31mKeyboardInterrupt\u001b[0m                         Traceback (most recent call last)",
      "\u001b[0;32m<timed exec>\u001b[0m in \u001b[0;36m<module>\u001b[0;34m()\u001b[0m\n",
      "\u001b[0;32m~/MinMax94/src/utils/loaders.py\u001b[0m in \u001b[0;36mload_mm94_stations\u001b[0;34m(mm94_stations_id, features_list)\u001b[0m\n\u001b[1;32m     45\u001b[0m     \u001b[0mloaded_stations_list\u001b[0m \u001b[0;34m=\u001b[0m \u001b[0;34m[\u001b[0m\u001b[0;34m]\u001b[0m\u001b[0;34m\u001b[0m\u001b[0m\n\u001b[1;32m     46\u001b[0m     \u001b[0;32mfor\u001b[0m \u001b[0mstation_id\u001b[0m \u001b[0;32min\u001b[0m \u001b[0mmm94_stations_id\u001b[0m\u001b[0;34m:\u001b[0m\u001b[0;34m\u001b[0m\u001b[0m\n\u001b[0;32m---> 47\u001b[0;31m         \u001b[0mraw\u001b[0m \u001b[0;34m=\u001b[0m \u001b[0mpd\u001b[0m\u001b[0;34m.\u001b[0m\u001b[0mread_csv\u001b[0m\u001b[0;34m(\u001b[0m\u001b[0mdata_directory\u001b[0m \u001b[0;34m+\u001b[0m \u001b[0;34m'/MM94/'\u001b[0m \u001b[0;34m+\u001b[0m \u001b[0mstr\u001b[0m\u001b[0;34m(\u001b[0m\u001b[0mstation_id\u001b[0m\u001b[0;34m)\u001b[0m \u001b[0;34m+\u001b[0m \u001b[0;34m'_raw.csv'\u001b[0m\u001b[0;34m,\u001b[0m \u001b[0mparse_dates\u001b[0m\u001b[0;34m=\u001b[0m\u001b[0;34m[\u001b[0m\u001b[0;34m'date_time'\u001b[0m\u001b[0;34m]\u001b[0m\u001b[0;34m)\u001b[0m\u001b[0;34m\u001b[0m\u001b[0m\n\u001b[0m\u001b[1;32m     48\u001b[0m         \u001b[0mraw\u001b[0m \u001b[0;34m=\u001b[0m \u001b[0mselect_mm94_features\u001b[0m\u001b[0;34m(\u001b[0m\u001b[0mraw\u001b[0m\u001b[0;34m,\u001b[0m \u001b[0mfeatures\u001b[0m\u001b[0;34m=\u001b[0m\u001b[0mfeatures_list\u001b[0m\u001b[0;34m)\u001b[0m\u001b[0;34m\u001b[0m\u001b[0m\n\u001b[1;32m     49\u001b[0m         \u001b[0mraw\u001b[0m \u001b[0;34m=\u001b[0m \u001b[0mraw\u001b[0m\u001b[0;34m.\u001b[0m\u001b[0mdrop_duplicates\u001b[0m\u001b[0;34m(\u001b[0m\u001b[0msubset\u001b[0m\u001b[0;34m=\u001b[0m\u001b[0;34m(\u001b[0m\u001b[0;34m'date_time'\u001b[0m\u001b[0;34m,\u001b[0m \u001b[0;34m'station_id'\u001b[0m\u001b[0;34m,\u001b[0m \u001b[0;34m'sensor_type_id'\u001b[0m\u001b[0;34m,\u001b[0m \u001b[0;34m'type'\u001b[0m\u001b[0;34m)\u001b[0m\u001b[0;34m)\u001b[0m\u001b[0;34m\u001b[0m\u001b[0m\n",
      "\u001b[0;32m~/.local/lib/python3.5/site-packages/pandas/io/parsers.py\u001b[0m in \u001b[0;36mparser_f\u001b[0;34m(filepath_or_buffer, sep, delimiter, header, names, index_col, usecols, squeeze, prefix, mangle_dupe_cols, dtype, engine, converters, true_values, false_values, skipinitialspace, skiprows, nrows, na_values, keep_default_na, na_filter, verbose, skip_blank_lines, parse_dates, infer_datetime_format, keep_date_col, date_parser, dayfirst, iterator, chunksize, compression, thousands, decimal, lineterminator, quotechar, quoting, escapechar, comment, encoding, dialect, tupleize_cols, error_bad_lines, warn_bad_lines, skipfooter, skip_footer, doublequote, delim_whitespace, as_recarray, compact_ints, use_unsigned, low_memory, buffer_lines, memory_map, float_precision)\u001b[0m\n\u001b[1;32m    707\u001b[0m                     skip_blank_lines=skip_blank_lines)\n\u001b[1;32m    708\u001b[0m \u001b[0;34m\u001b[0m\u001b[0m\n\u001b[0;32m--> 709\u001b[0;31m         \u001b[0;32mreturn\u001b[0m \u001b[0m_read\u001b[0m\u001b[0;34m(\u001b[0m\u001b[0mfilepath_or_buffer\u001b[0m\u001b[0;34m,\u001b[0m \u001b[0mkwds\u001b[0m\u001b[0;34m)\u001b[0m\u001b[0;34m\u001b[0m\u001b[0m\n\u001b[0m\u001b[1;32m    710\u001b[0m \u001b[0;34m\u001b[0m\u001b[0m\n\u001b[1;32m    711\u001b[0m     \u001b[0mparser_f\u001b[0m\u001b[0;34m.\u001b[0m\u001b[0m__name__\u001b[0m \u001b[0;34m=\u001b[0m \u001b[0mname\u001b[0m\u001b[0;34m\u001b[0m\u001b[0m\n",
      "\u001b[0;32m~/.local/lib/python3.5/site-packages/pandas/io/parsers.py\u001b[0m in \u001b[0;36m_read\u001b[0;34m(filepath_or_buffer, kwds)\u001b[0m\n\u001b[1;32m    453\u001b[0m \u001b[0;34m\u001b[0m\u001b[0m\n\u001b[1;32m    454\u001b[0m     \u001b[0;32mtry\u001b[0m\u001b[0;34m:\u001b[0m\u001b[0;34m\u001b[0m\u001b[0m\n\u001b[0;32m--> 455\u001b[0;31m         \u001b[0mdata\u001b[0m \u001b[0;34m=\u001b[0m \u001b[0mparser\u001b[0m\u001b[0;34m.\u001b[0m\u001b[0mread\u001b[0m\u001b[0;34m(\u001b[0m\u001b[0mnrows\u001b[0m\u001b[0;34m)\u001b[0m\u001b[0;34m\u001b[0m\u001b[0m\n\u001b[0m\u001b[1;32m    456\u001b[0m     \u001b[0;32mfinally\u001b[0m\u001b[0;34m:\u001b[0m\u001b[0;34m\u001b[0m\u001b[0m\n\u001b[1;32m    457\u001b[0m         \u001b[0mparser\u001b[0m\u001b[0;34m.\u001b[0m\u001b[0mclose\u001b[0m\u001b[0;34m(\u001b[0m\u001b[0;34m)\u001b[0m\u001b[0;34m\u001b[0m\u001b[0m\n",
      "\u001b[0;32m~/.local/lib/python3.5/site-packages/pandas/io/parsers.py\u001b[0m in \u001b[0;36mread\u001b[0;34m(self, nrows)\u001b[0m\n\u001b[1;32m   1067\u001b[0m                 \u001b[0;32mraise\u001b[0m \u001b[0mValueError\u001b[0m\u001b[0;34m(\u001b[0m\u001b[0;34m'skipfooter not supported for iteration'\u001b[0m\u001b[0;34m)\u001b[0m\u001b[0;34m\u001b[0m\u001b[0m\n\u001b[1;32m   1068\u001b[0m \u001b[0;34m\u001b[0m\u001b[0m\n\u001b[0;32m-> 1069\u001b[0;31m         \u001b[0mret\u001b[0m \u001b[0;34m=\u001b[0m \u001b[0mself\u001b[0m\u001b[0;34m.\u001b[0m\u001b[0m_engine\u001b[0m\u001b[0;34m.\u001b[0m\u001b[0mread\u001b[0m\u001b[0;34m(\u001b[0m\u001b[0mnrows\u001b[0m\u001b[0;34m)\u001b[0m\u001b[0;34m\u001b[0m\u001b[0m\n\u001b[0m\u001b[1;32m   1070\u001b[0m \u001b[0;34m\u001b[0m\u001b[0m\n\u001b[1;32m   1071\u001b[0m         \u001b[0;32mif\u001b[0m \u001b[0mself\u001b[0m\u001b[0;34m.\u001b[0m\u001b[0moptions\u001b[0m\u001b[0;34m.\u001b[0m\u001b[0mget\u001b[0m\u001b[0;34m(\u001b[0m\u001b[0;34m'as_recarray'\u001b[0m\u001b[0;34m)\u001b[0m\u001b[0;34m:\u001b[0m\u001b[0;34m\u001b[0m\u001b[0m\n",
      "\u001b[0;32m~/.local/lib/python3.5/site-packages/pandas/io/parsers.py\u001b[0m in \u001b[0;36mread\u001b[0;34m(self, nrows)\u001b[0m\n\u001b[1;32m   1837\u001b[0m     \u001b[0;32mdef\u001b[0m \u001b[0mread\u001b[0m\u001b[0;34m(\u001b[0m\u001b[0mself\u001b[0m\u001b[0;34m,\u001b[0m \u001b[0mnrows\u001b[0m\u001b[0;34m=\u001b[0m\u001b[0;32mNone\u001b[0m\u001b[0;34m)\u001b[0m\u001b[0;34m:\u001b[0m\u001b[0;34m\u001b[0m\u001b[0m\n\u001b[1;32m   1838\u001b[0m         \u001b[0;32mtry\u001b[0m\u001b[0;34m:\u001b[0m\u001b[0;34m\u001b[0m\u001b[0m\n\u001b[0;32m-> 1839\u001b[0;31m             \u001b[0mdata\u001b[0m \u001b[0;34m=\u001b[0m \u001b[0mself\u001b[0m\u001b[0;34m.\u001b[0m\u001b[0m_reader\u001b[0m\u001b[0;34m.\u001b[0m\u001b[0mread\u001b[0m\u001b[0;34m(\u001b[0m\u001b[0mnrows\u001b[0m\u001b[0;34m)\u001b[0m\u001b[0;34m\u001b[0m\u001b[0m\n\u001b[0m\u001b[1;32m   1840\u001b[0m         \u001b[0;32mexcept\u001b[0m \u001b[0mStopIteration\u001b[0m\u001b[0;34m:\u001b[0m\u001b[0;34m\u001b[0m\u001b[0m\n\u001b[1;32m   1841\u001b[0m             \u001b[0;32mif\u001b[0m \u001b[0mself\u001b[0m\u001b[0;34m.\u001b[0m\u001b[0m_first_chunk\u001b[0m\u001b[0;34m:\u001b[0m\u001b[0;34m\u001b[0m\u001b[0m\n",
      "\u001b[0;32mpandas/_libs/parsers.pyx\u001b[0m in \u001b[0;36mpandas._libs.parsers.TextReader.read\u001b[0;34m()\u001b[0m\n",
      "\u001b[0;32mpandas/_libs/parsers.pyx\u001b[0m in \u001b[0;36mpandas._libs.parsers.TextReader._read_low_memory\u001b[0;34m()\u001b[0m\n",
      "\u001b[0;32mpandas/_libs/parsers.pyx\u001b[0m in \u001b[0;36mpandas._libs.parsers.TextReader._read_rows\u001b[0;34m()\u001b[0m\n",
      "\u001b[0;32mpandas/_libs/parsers.pyx\u001b[0m in \u001b[0;36mpandas._libs.parsers.TextReader._convert_column_data\u001b[0;34m()\u001b[0m\n",
      "\u001b[0;32mpandas/_libs/parsers.pyx\u001b[0m in \u001b[0;36mpandas._libs.parsers.TextReader._convert_tokens\u001b[0;34m()\u001b[0m\n",
      "\u001b[0;32mpandas/_libs/parsers.pyx\u001b[0m in \u001b[0;36mpandas._libs.parsers.TextReader._convert_with_dtype\u001b[0;34m()\u001b[0m\n",
      "\u001b[0;32m~/.local/lib/python3.5/site-packages/pandas/core/dtypes/common.py\u001b[0m in \u001b[0;36mis_integer_dtype\u001b[0;34m(arr_or_dtype)\u001b[0m\n\u001b[1;32m    775\u001b[0m \u001b[0;34m\u001b[0m\u001b[0m\n\u001b[1;32m    776\u001b[0m \u001b[0;34m\u001b[0m\u001b[0m\n\u001b[0;32m--> 777\u001b[0;31m \u001b[0;32mdef\u001b[0m \u001b[0mis_integer_dtype\u001b[0m\u001b[0;34m(\u001b[0m\u001b[0marr_or_dtype\u001b[0m\u001b[0;34m)\u001b[0m\u001b[0;34m:\u001b[0m\u001b[0;34m\u001b[0m\u001b[0m\n\u001b[0m\u001b[1;32m    778\u001b[0m     \"\"\"\n\u001b[1;32m    779\u001b[0m     \u001b[0mCheck\u001b[0m \u001b[0mwhether\u001b[0m \u001b[0mthe\u001b[0m \u001b[0mprovided\u001b[0m \u001b[0marray\u001b[0m \u001b[0;32mor\u001b[0m \u001b[0mdtype\u001b[0m \u001b[0;32mis\u001b[0m \u001b[0mof\u001b[0m \u001b[0man\u001b[0m \u001b[0minteger\u001b[0m \u001b[0mdtype\u001b[0m\u001b[0;34m.\u001b[0m\u001b[0;34m\u001b[0m\u001b[0m\n",
      "\u001b[0;31mKeyboardInterrupt\u001b[0m: "
     ]
    }
   ],
   "source": [
    "%%time\n",
    "generate_station_id = [615, 618, 620, 624, 626, 627, 635, 702, \n",
    "                       704, 862, 874, 888, 1808, 1813, 1826]\n",
    "\n",
    "raw = load_mm94_stations(generate_station_id)\n",
    "raw = select_mm94_features(raw, ['t_air', 't_road', 't_underroad', 'pressure', 'dampness'])\n",
    "\n",
    "mmx_rwis = convert_raw_to_mmx(raw)\n",
    "mmx_rwis_interpolated = interpolate_mmx(mmx_rwis)\n",
    "data = create_patterns(mmx_rwis_interpolated)\n",
    "data['data_solar_azimuth'], data['data_solar_altitude'] = add_solar_angles(data)\n",
    "data['data_latitude'], data['data_longitude'] = add_coordinates(data)\n",
    "data['data_road'] = add_road_id(data)\n",
    "data = data.dropna(subset=('data_t_road', ))\n",
    "data_clean = get_clean_data(data)\n",
    "data_clean = data_clean.reset_index(drop=True)\n",
    "\n",
    "gc.collect()"
   ]
  },
  {
   "cell_type": "markdown",
   "metadata": {},
   "source": [
    "## Plot"
   ]
  },
  {
   "cell_type": "code",
   "execution_count": 3,
   "metadata": {},
   "outputs": [
    {
     "ename": "KeyboardInterrupt",
     "evalue": "",
     "output_type": "error",
     "traceback": [
      "\u001b[0;31m---------------------------------------------------------------------------\u001b[0m",
      "\u001b[0;31mKeyboardInterrupt\u001b[0m                         Traceback (most recent call last)",
      "\u001b[0;32m<ipython-input-3-97afa18b4773>\u001b[0m in \u001b[0;36m<module>\u001b[0;34m()\u001b[0m\n\u001b[0;32m----> 1\u001b[0;31m \u001b[0;32mimport\u001b[0m \u001b[0mmatplotlib\u001b[0m\u001b[0;34m.\u001b[0m\u001b[0mpyplot\u001b[0m \u001b[0;32mas\u001b[0m \u001b[0mplt\u001b[0m\u001b[0;34m\u001b[0m\u001b[0m\n\u001b[0m\u001b[1;32m      2\u001b[0m \u001b[0;34m\u001b[0m\u001b[0m\n\u001b[1;32m      3\u001b[0m \u001b[0mz\u001b[0m \u001b[0;34m=\u001b[0m \u001b[0mcopy\u001b[0m\u001b[0;34m(\u001b[0m\u001b[0mdata_clean\u001b[0m\u001b[0;34m[\u001b[0m\u001b[0mdata_clean\u001b[0m\u001b[0;34m[\u001b[0m\u001b[0;34m'station_id'\u001b[0m\u001b[0;34m]\u001b[0m\u001b[0;34m==\u001b[0m\u001b[0;36m615\u001b[0m\u001b[0;34m]\u001b[0m\u001b[0;34m.\u001b[0m\u001b[0mset_index\u001b[0m\u001b[0;34m(\u001b[0m\u001b[0;34m'date_time_utc'\u001b[0m\u001b[0;34m)\u001b[0m\u001b[0;34m)\u001b[0m\u001b[0;34m\u001b[0m\u001b[0m\n\u001b[1;32m      4\u001b[0m \u001b[0;31m#z = copy(data_clean.set_index('date_time_utc'))\u001b[0m\u001b[0;34m\u001b[0m\u001b[0;34m\u001b[0m\u001b[0m\n\u001b[1;32m      5\u001b[0m \u001b[0mstart\u001b[0m \u001b[0;34m=\u001b[0m \u001b[0mpd\u001b[0m\u001b[0;34m.\u001b[0m\u001b[0mTimestamp\u001b[0m\u001b[0;34m(\u001b[0m\u001b[0;36m2012\u001b[0m\u001b[0;34m,\u001b[0m \u001b[0;36m1\u001b[0m\u001b[0;34m,\u001b[0m \u001b[0;36m1\u001b[0m\u001b[0;34m)\u001b[0m\u001b[0;34m\u001b[0m\u001b[0m\n",
      "\u001b[0;32m~/.local/lib/python3.5/site-packages/matplotlib/pyplot.py\u001b[0m in \u001b[0;36m<module>\u001b[0;34m()\u001b[0m\n\u001b[1;32m     27\u001b[0m \u001b[0;32mfrom\u001b[0m \u001b[0mcycler\u001b[0m \u001b[0;32mimport\u001b[0m \u001b[0mcycler\u001b[0m\u001b[0;34m\u001b[0m\u001b[0m\n\u001b[1;32m     28\u001b[0m \u001b[0;32mimport\u001b[0m \u001b[0mmatplotlib\u001b[0m\u001b[0;34m\u001b[0m\u001b[0m\n\u001b[0;32m---> 29\u001b[0;31m \u001b[0;32mimport\u001b[0m \u001b[0mmatplotlib\u001b[0m\u001b[0;34m.\u001b[0m\u001b[0mcolorbar\u001b[0m\u001b[0;34m\u001b[0m\u001b[0m\n\u001b[0m\u001b[1;32m     30\u001b[0m \u001b[0;32mfrom\u001b[0m \u001b[0mmatplotlib\u001b[0m \u001b[0;32mimport\u001b[0m \u001b[0mstyle\u001b[0m\u001b[0;34m\u001b[0m\u001b[0m\n\u001b[1;32m     31\u001b[0m \u001b[0;32mfrom\u001b[0m \u001b[0mmatplotlib\u001b[0m \u001b[0;32mimport\u001b[0m \u001b[0m_pylab_helpers\u001b[0m\u001b[0;34m,\u001b[0m \u001b[0minteractive\u001b[0m\u001b[0;34m\u001b[0m\u001b[0m\n",
      "\u001b[0;32m~/.local/lib/python3.5/site-packages/matplotlib/colorbar.py\u001b[0m in \u001b[0;36m<module>\u001b[0;34m()\u001b[0m\n\u001b[1;32m     34\u001b[0m \u001b[0;32mimport\u001b[0m \u001b[0mmatplotlib\u001b[0m\u001b[0;34m.\u001b[0m\u001b[0mcollections\u001b[0m \u001b[0;32mas\u001b[0m \u001b[0mcollections\u001b[0m\u001b[0;34m\u001b[0m\u001b[0m\n\u001b[1;32m     35\u001b[0m \u001b[0;32mimport\u001b[0m \u001b[0mmatplotlib\u001b[0m\u001b[0;34m.\u001b[0m\u001b[0mcolors\u001b[0m \u001b[0;32mas\u001b[0m \u001b[0mcolors\u001b[0m\u001b[0;34m\u001b[0m\u001b[0m\n\u001b[0;32m---> 36\u001b[0;31m \u001b[0;32mimport\u001b[0m \u001b[0mmatplotlib\u001b[0m\u001b[0;34m.\u001b[0m\u001b[0mcontour\u001b[0m \u001b[0;32mas\u001b[0m \u001b[0mcontour\u001b[0m\u001b[0;34m\u001b[0m\u001b[0m\n\u001b[0m\u001b[1;32m     37\u001b[0m \u001b[0;32mimport\u001b[0m \u001b[0mmatplotlib\u001b[0m\u001b[0;34m.\u001b[0m\u001b[0mcm\u001b[0m \u001b[0;32mas\u001b[0m \u001b[0mcm\u001b[0m\u001b[0;34m\u001b[0m\u001b[0m\n\u001b[1;32m     38\u001b[0m \u001b[0;32mimport\u001b[0m \u001b[0mmatplotlib\u001b[0m\u001b[0;34m.\u001b[0m\u001b[0mgridspec\u001b[0m \u001b[0;32mas\u001b[0m \u001b[0mgridspec\u001b[0m\u001b[0;34m\u001b[0m\u001b[0m\n",
      "\u001b[0;32m~/.local/lib/python3.5/site-packages/matplotlib/contour.py\u001b[0m in \u001b[0;36m<module>\u001b[0;34m()\u001b[0m\n\u001b[1;32m     20\u001b[0m \u001b[0;32mimport\u001b[0m \u001b[0mmatplotlib\u001b[0m\u001b[0;34m.\u001b[0m\u001b[0mcollections\u001b[0m \u001b[0;32mas\u001b[0m \u001b[0mmcoll\u001b[0m\u001b[0;34m\u001b[0m\u001b[0m\n\u001b[1;32m     21\u001b[0m \u001b[0;32mimport\u001b[0m \u001b[0mmatplotlib\u001b[0m\u001b[0;34m.\u001b[0m\u001b[0mfont_manager\u001b[0m \u001b[0;32mas\u001b[0m \u001b[0mfont_manager\u001b[0m\u001b[0;34m\u001b[0m\u001b[0m\n\u001b[0;32m---> 22\u001b[0;31m \u001b[0;32mimport\u001b[0m \u001b[0mmatplotlib\u001b[0m\u001b[0;34m.\u001b[0m\u001b[0mtext\u001b[0m \u001b[0;32mas\u001b[0m \u001b[0mtext\u001b[0m\u001b[0;34m\u001b[0m\u001b[0m\n\u001b[0m\u001b[1;32m     23\u001b[0m \u001b[0;32mimport\u001b[0m \u001b[0mmatplotlib\u001b[0m\u001b[0;34m.\u001b[0m\u001b[0mcbook\u001b[0m \u001b[0;32mas\u001b[0m \u001b[0mcbook\u001b[0m\u001b[0;34m\u001b[0m\u001b[0m\n\u001b[1;32m     24\u001b[0m \u001b[0;32mimport\u001b[0m \u001b[0mmatplotlib\u001b[0m\u001b[0;34m.\u001b[0m\u001b[0mmlab\u001b[0m \u001b[0;32mas\u001b[0m \u001b[0mmlab\u001b[0m\u001b[0;34m\u001b[0m\u001b[0m\n",
      "\u001b[0;32m~/.local/lib/python3.5/site-packages/matplotlib/text.py\u001b[0m in \u001b[0;36m<module>\u001b[0;34m()\u001b[0m\n\u001b[1;32m     32\u001b[0m \u001b[0;32mfrom\u001b[0m \u001b[0mmatplotlib\u001b[0m\u001b[0;34m.\u001b[0m\u001b[0martist\u001b[0m \u001b[0;32mimport\u001b[0m \u001b[0mallow_rasterization\u001b[0m\u001b[0;34m\u001b[0m\u001b[0m\n\u001b[1;32m     33\u001b[0m \u001b[0;34m\u001b[0m\u001b[0m\n\u001b[0;32m---> 34\u001b[0;31m \u001b[0;32mfrom\u001b[0m \u001b[0mmatplotlib\u001b[0m\u001b[0;34m.\u001b[0m\u001b[0mtextpath\u001b[0m \u001b[0;32mimport\u001b[0m \u001b[0mTextPath\u001b[0m\u001b[0;34m\u001b[0m\u001b[0m\n\u001b[0m\u001b[1;32m     35\u001b[0m \u001b[0;34m\u001b[0m\u001b[0m\n\u001b[1;32m     36\u001b[0m \u001b[0;34m\u001b[0m\u001b[0m\n",
      "\u001b[0;32m~/.local/lib/python3.5/site-packages/matplotlib/textpath.py\u001b[0m in \u001b[0;36m<module>\u001b[0;34m()\u001b[0m\n\u001b[1;32m     18\u001b[0m \u001b[0;32mfrom\u001b[0m \u001b[0mmatplotlib\u001b[0m\u001b[0;34m.\u001b[0m\u001b[0mft2font\u001b[0m \u001b[0;32mimport\u001b[0m \u001b[0mKERNING_DEFAULT\u001b[0m\u001b[0;34m,\u001b[0m \u001b[0mLOAD_NO_HINTING\u001b[0m\u001b[0;34m\u001b[0m\u001b[0m\n\u001b[1;32m     19\u001b[0m \u001b[0;32mfrom\u001b[0m \u001b[0mmatplotlib\u001b[0m\u001b[0;34m.\u001b[0m\u001b[0mft2font\u001b[0m \u001b[0;32mimport\u001b[0m \u001b[0mLOAD_TARGET_LIGHT\u001b[0m\u001b[0;34m\u001b[0m\u001b[0m\n\u001b[0;32m---> 20\u001b[0;31m \u001b[0;32mfrom\u001b[0m \u001b[0mmatplotlib\u001b[0m\u001b[0;34m.\u001b[0m\u001b[0mmathtext\u001b[0m \u001b[0;32mimport\u001b[0m \u001b[0mMathTextParser\u001b[0m\u001b[0;34m\u001b[0m\u001b[0m\n\u001b[0m\u001b[1;32m     21\u001b[0m \u001b[0;32mimport\u001b[0m \u001b[0mmatplotlib\u001b[0m\u001b[0;34m.\u001b[0m\u001b[0mdviread\u001b[0m \u001b[0;32mas\u001b[0m \u001b[0mdviread\u001b[0m\u001b[0;34m\u001b[0m\u001b[0m\n\u001b[1;32m     22\u001b[0m \u001b[0;32mfrom\u001b[0m \u001b[0mmatplotlib\u001b[0m\u001b[0;34m.\u001b[0m\u001b[0mfont_manager\u001b[0m \u001b[0;32mimport\u001b[0m \u001b[0mFontProperties\u001b[0m\u001b[0;34m,\u001b[0m \u001b[0mget_font\u001b[0m\u001b[0;34m\u001b[0m\u001b[0m\n",
      "\u001b[0;32m/usr/lib/python3.5/importlib/_bootstrap.py\u001b[0m in \u001b[0;36m_find_and_load\u001b[0;34m(name, import_)\u001b[0m\n",
      "\u001b[0;32m/usr/lib/python3.5/importlib/_bootstrap.py\u001b[0m in \u001b[0;36m_find_and_load_unlocked\u001b[0;34m(name, import_)\u001b[0m\n",
      "\u001b[0;32m/usr/lib/python3.5/importlib/_bootstrap.py\u001b[0m in \u001b[0;36m_load_unlocked\u001b[0;34m(spec)\u001b[0m\n",
      "\u001b[0;32m/usr/lib/python3.5/importlib/_bootstrap_external.py\u001b[0m in \u001b[0;36mexec_module\u001b[0;34m(self, module)\u001b[0m\n",
      "\u001b[0;32m/usr/lib/python3.5/importlib/_bootstrap_external.py\u001b[0m in \u001b[0;36mget_code\u001b[0;34m(self, fullname)\u001b[0m\n",
      "\u001b[0;32m/usr/lib/python3.5/importlib/_bootstrap_external.py\u001b[0m in \u001b[0;36mget_data\u001b[0;34m(self, path)\u001b[0m\n",
      "\u001b[0;31mKeyboardInterrupt\u001b[0m: "
     ]
    }
   ],
   "source": [
    "import matplotlib.pyplot as plt\n",
    "\n",
    "z = copy(data_clean[data_clean['station_id']==615].set_index('date_time_utc'))\n",
    "#z = copy(data_clean.set_index('date_time_utc'))\n",
    "start = pd.Timestamp(2012, 1, 1)\n",
    "end = pd.Timestamp(2017, 12, 1)\n",
    "\n",
    "to_plot = z[(z.index<=end) & (z.index>=start)]\n",
    "\n",
    "plt.figure(figsize=(30, 10))\n",
    "\n",
    "plt.plot_date(to_plot.index, to_plot['data_t_road'], 'b',\n",
    "                      linestyle='none', marker='o', markersize=8, label='t_road')\n",
    "\n",
    "plt.grid()\n",
    "plt.legend(fontsize=32)\n",
    "plt.ylabel(r' Температура дороги, $^{\\circ}C$', fontsize=30)\n",
    "\n",
    "plt.tick_params(labelsize=30)\n",
    "plt.show()"
   ]
  },
  {
   "cell_type": "markdown",
   "metadata": {},
   "source": [
    "## Generated anomalies"
   ]
  },
  {
   "cell_type": "markdown",
   "metadata": {},
   "source": [
    "### Single outlier"
   ]
  },
  {
   "cell_type": "code",
   "execution_count": null,
   "metadata": {},
   "outputs": [],
   "source": [
    "def generate_single_anomaly(df, index, col=MmxColumns.ROAD_TEMPERATURE):\n",
    "    sign = np.random.choice([1, -1])\n",
    "    series_adding = sign * np.random.uniform(2, 5)\n",
    "    \n",
    "    perturbated_series = df.loc[index, col] + series_adding\n",
    "    return perturbated_series\n",
    "\n",
    "np.random.seed(42)\n",
    "test = copy(data_clean)\n",
    "test['label_true'] = False\n",
    "\n",
    "number_of_anomalies = 30 * len(generate_station_id)\n",
    "col = MmxColumns.ROAD_TEMPERATURE\n",
    "index_list = np.random.choice(test.index, number_of_anomalies, replace=False)\n",
    "\n",
    "for index in index_list:\n",
    "    perturbated_series = generate_single_anomaly(test, index)\n",
    "    test.loc[index, col] += perturbated_series\n",
    "    test.loc[index, 'label_true'] = True"
   ]
  },
  {
   "cell_type": "code",
   "execution_count": null,
   "metadata": {},
   "outputs": [],
   "source": [
    "# generate_station_id = [615, 618, 620, 624, 626, 627, 635, 702, \n",
    "#                       704, 862, 874, 888, 1808, 1813, 1826]\n",
    "start = pd.Timestamp(2015, 12, 20)\n",
    "end = pd.Timestamp(2016, 1, 27)\n",
    "\n",
    "to_plot = test[test['station_id']==615]\n",
    "to_plot = to_plot[(to_plot['date_time_utc']<=end) & (to_plot['date_time_utc']>=start)]\n",
    "to_plot = to_plot.set_index('date_time_utc')\n",
    "\n",
    "\n",
    "plt.figure(figsize=(30, 10))\n",
    "\n",
    "for elem in [False, True]:\n",
    "    cond = to_plot['label_true'] == elem\n",
    "    if elem:\n",
    "        plt.plot_date(to_plot[cond].index, to_plot[cond]['data_t_road'], 'r',\n",
    "                      linestyle='none', marker='o', markersize=10, label='artificial outliers')\n",
    "    else:\n",
    "        plt.plot_date(to_plot[cond].index, to_plot[cond]['data_t_road'], 'b',\n",
    "                      linestyle='none', marker='o', markersize=8, label='initial data')\n",
    "\n",
    "plt.grid()\n",
    "plt.legend(fontsize=32)\n",
    "plt.ylabel(r' Road surface temperature, $^{\\circ}C$', fontsize=30)\n",
    "\n",
    "plt.tick_params(labelsize=30)\n",
    "plt.show()\n",
    "#plt.savefig('/mnt/HARD/MinMax94/plots/single_outliers.png')"
   ]
  },
  {
   "cell_type": "markdown",
   "metadata": {},
   "source": [
    "### Short-term anomaly"
   ]
  },
  {
   "cell_type": "code",
   "execution_count": null,
   "metadata": {
    "scrolled": true
   },
   "outputs": [],
   "source": [
    "def generate_short_term_anomaly(df, index, col=MmxColumns.ROAD_TEMPERATURE):\n",
    "    series_duration = np.random.randint(3, 12)\n",
    "    sign = np.random.choice([1, -1])\n",
    "    \n",
    "    series_adding = sign * np.random.exponential(2, series_duration)\n",
    "    perturbation = np.cumsum(series_adding)\n",
    "    \n",
    "    perturbated_series = df.loc[index: (index+series_duration-1), col] + perturbation\n",
    "    return perturbated_series\n",
    "\n",
    "\n",
    "number_of_anomalies = 20 * len(generate_station_id)\n",
    "col = MmxColumns.ROAD_TEMPERATURE\n",
    "index_list = np.random.choice(test.index, number_of_anomalies, replace=False)\n",
    "\n",
    "for index in index_list:\n",
    "    perturbated_series = generate_short_term_anomaly(test, index)\n",
    "    series_duration = len(perturbated_series)\n",
    "    test.loc[index: (index + series_duration - 1), col] += perturbated_series\n",
    "    test.loc[index: (index + series_duration - 1), 'label_true'] = True"
   ]
  },
  {
   "cell_type": "code",
   "execution_count": null,
   "metadata": {},
   "outputs": [],
   "source": [
    "# generate_station_id = [615, 618, 620, 624, 626, 627, 635, 702, \n",
    "#                       704, 862, 874, 888, 1808, 1813, 1826]\n",
    "\n",
    "start = pd.Timestamp(2013, 12, 29)\n",
    "end = pd.Timestamp(2014, 1, 20)\n",
    "\n",
    "to_plot = test[test['station_id']==618]\n",
    "to_plot = to_plot[(to_plot['date_time_utc']<=end) & (to_plot['date_time_utc']>=start)]\n",
    "to_plot = to_plot.set_index('date_time_utc')\n",
    "\n",
    "\n",
    "plt.figure(figsize=(30, 10))\n",
    "\n",
    "for elem in [False, True]:\n",
    "    cond = to_plot['label_true'] == elem\n",
    "    if elem:\n",
    "        plt.plot_date(to_plot[cond].index, to_plot[cond]['data_t_road'], 'r',\n",
    "                      linestyle='none', marker='o', markersize=9, label='artificial outliers')\n",
    "    else:\n",
    "        plt.plot_date(to_plot[cond].index, to_plot[cond]['data_t_road'], 'b',\n",
    "                      linestyle='none', marker='o', markersize=8, label='initial data')\n",
    "\n",
    "plt.grid()\n",
    "plt.legend(fontsize=32)\n",
    "plt.ylabel(r' Road surface temperature, $^{\\circ}C$', fontsize=30)\n",
    "\n",
    "plt.tick_params(labelsize=30)\n",
    "plt.show()\n",
    "#plt.savefig('/mnt/HARD/MinMax94/plots/short_term_outliers.png')"
   ]
  },
  {
   "cell_type": "markdown",
   "metadata": {},
   "source": [
    "### Long term anomaly"
   ]
  },
  {
   "cell_type": "code",
   "execution_count": 8,
   "metadata": {},
   "outputs": [],
   "source": [
    "def generate_long_term_anomaly(df, index, col=MmxColumns.ROAD_TEMPERATURE):\n",
    "    series_duration = np.random.randint(300)\n",
    "    multiplier = np.random.uniform(1.5, 2)\n",
    "    perturbation = np.random.normal(0, 5, series_duration)\n",
    "    #print(series_duration, multiplier, index)\n",
    "    \n",
    "    perturbated_series = df.loc[index: (index + series_duration - 1), 'data_t_road'] * multiplier + perturbation\n",
    "    return perturbated_series\n",
    "\n",
    "number_of_anomalies = 3 * len(generate_station_id)\n",
    "col = MmxColumns.ROAD_TEMPERATURE\n",
    "index_list = np.random.choice(test.index, number_of_anomalies, replace=False)\n",
    "\n",
    "for index in index_list:\n",
    "    perturbated_series = generate_long_term_anomaly(test, index)\n",
    "    series_duration = len(perturbated_series)\n",
    "    test.loc[index: (index + series_duration - 1), col] += perturbated_series\n",
    "    test.loc[index: (index + series_duration - 1), 'label_true'] = True"
   ]
  },
  {
   "cell_type": "code",
   "execution_count": 9,
   "metadata": {},
   "outputs": [
    {
     "data": {
      "image/png": "[encoded data removed]",
      "text/plain": [
       "<matplotlib.figure.Figure at 0x7fafd7c33a90>"
      ]
     },
     "metadata": {},
     "output_type": "display_data"
    }
   ],
   "source": [
    "# generate_station_id = [615, 618, 620, 624, 626, 627, 635, 702, \n",
    "#                       704, 862, 874, 888, 1808, 1813, 1826]\n",
    "\n",
    "start = pd.Timestamp(2012, 1, 1)\n",
    "end = pd.Timestamp(2017, 1, 1)\n",
    "\n",
    "to_plot = test[test['station_id']==615]\n",
    "to_plot = to_plot[(to_plot['date_time_utc']<=end) & (to_plot['date_time_utc']>=start)]\n",
    "to_plot = to_plot.set_index('date_time_utc')\n",
    "\n",
    "plt.figure(figsize=(30, 10))\n",
    "\n",
    "for elem in [False, True]:\n",
    "    cond = to_plot['label_true'] == elem\n",
    "    if elem:\n",
    "        plt.plot_date(to_plot[cond].index, to_plot[cond]['data_t_road'], 'r',\n",
    "                      linestyle='none', marker='o', markersize=8, label='artificial outliers')\n",
    "    else:\n",
    "        plt.plot_date(to_plot[cond].index, to_plot[cond]['data_t_road'], 'b',\n",
    "                      linestyle='none', marker='o', markersize=8, label='initial data')\n",
    "\n",
    "plt.grid()\n",
    "plt.legend(fontsize=32)\n",
    "plt.ylabel(r' Road surface temperature, $^{\\circ}C$', fontsize=30)\n",
    "\n",
    "plt.tick_params(labelsize=30)\n",
    "plt.show()\n",
    "#plt.savefig('/mnt/HARD/MinMax94/plots/long_term_outliers.png')\n",
    "#plt.savefig('/mnt/HARD/MinMax94/plots/all_outliers.png')"
   ]
  },
  {
   "cell_type": "markdown",
   "metadata": {},
   "source": [
    "## XGBoost_7"
   ]
  },
  {
   "cell_type": "code",
   "execution_count": 10,
   "metadata": {},
   "outputs": [
    {
     "name": "stdout",
     "output_type": "stream",
     "text": [
      "CPU times: user 1.53 s, sys: 509 ms, total: 2.04 s\n",
      "Wall time: 2.04 s\n"
     ]
    }
   ],
   "source": [
    "%%time\n",
    "import xgboost as xgb\n",
    "from preprocessing import create_feature_df\n",
    "from sklearn.metrics import mean_absolute_error\n",
    "\n",
    "point = pd.Timestamp(2015, 6, 1)\n",
    "\n",
    "time = 0.5\n",
    "variables = ['data_t_road']\n",
    "df_xgb_7 = create_feature_df(test, winter_period=False, time=time,\n",
    "                           variables=variables)\n",
    "\n",
    "features = [col for col in df_xgb_7 if col.startswith('data_')]\n",
    "target = [col for col in df_xgb_7 if col.startswith('target_')][0]\n",
    "\n",
    "X_test = np.array(df_xgb_7[features].values)\n",
    "y_test = np.array(df_xgb_7[target].values.reshape(-1, 1))\n",
    "dtest = xgb.DMatrix(X_test, y_test)"
   ]
  },
  {
   "cell_type": "code",
   "execution_count": 11,
   "metadata": {},
   "outputs": [],
   "source": [
    "import pickle\n",
    "import numpy as np\n",
    "\n",
    "clf = pickle.load(open('/mnt/HARD/MinMax94/models/pickle/xgboost.pickle', 'rb'))\n",
    "y_true = dtest.get_label()\n",
    "y_pred = clf.predict(dtest).ravel()\n",
    "\n",
    "std = 0.889\n",
    "upper = y_pred + std * 7\n",
    "lower = y_pred - std * 7\n",
    "df_xgb_7['label_predict'] = ((y_true >= upper) | (y_true <= lower))\n",
    "df_xgb_7['decision_function'] = np.abs(y_true - y_pred)"
   ]
  },
  {
   "cell_type": "code",
   "execution_count": 12,
   "metadata": {},
   "outputs": [
    {
     "name": "stdout",
     "output_type": "stream",
     "text": [
      "Recall = 0.968 \n",
      "Precision = 0.940 \n",
      "F1 = 0.954\n",
      "                   label_true  label_predict  decision_function\n",
      "label_true           1.000000       0.585289           0.556565\n",
      "label_predict        0.585289       1.000000           0.764526\n",
      "decision_function    0.556565       0.764526           1.000000\n"
     ]
    }
   ],
   "source": [
    "st_id = generate_station_id\n",
    "window = pd.Timedelta('4h')\n",
    "\n",
    "#st_id = [114, 119, 302, 303, 442, 504, 511, 1838, 1896]\n",
    "#st_id = [114, 117, 119, 302, 303, 442, 503, 504, 511, 1838, 1896]\n",
    "#st_id = [114, 117, 119, 302, 303, 307, 393, 442, 503, 504, 511, 516, 1838, 1896]\n",
    "\n",
    "recall = calc_recall(df_xgb_7, st_id, window)\n",
    "precision = calc_precision(df_xgb_7, st_id, window)\n",
    "f1_score = calc_f1_score(precision, recall)\n",
    "\n",
    "\n",
    "print(\"Recall = {0:.3f} \\nPrecision = {1:.3f} \\nF1 = {2:.3f}\".format(recall, precision, f1_score))\n",
    "print(df_xgb_7[['label_true', 'label_predict', 'decision_function']].corr())"
   ]
  },
  {
   "cell_type": "markdown",
   "metadata": {},
   "source": [
    "## XGboost_Noisy_7"
   ]
  },
  {
   "cell_type": "code",
   "execution_count": 13,
   "metadata": {},
   "outputs": [
    {
     "name": "stdout",
     "output_type": "stream",
     "text": [
      "CPU times: user 1.51 s, sys: 560 ms, total: 2.07 s\n",
      "Wall time: 2.07 s\n"
     ]
    }
   ],
   "source": [
    "%%time\n",
    "import xgboost as xgb\n",
    "from preprocessing import create_feature_df\n",
    "from sklearn.metrics import mean_absolute_error\n",
    "\n",
    "point = pd.Timestamp(2015, 6, 1)\n",
    "\n",
    "time = 0.5\n",
    "variables = ['data_t_road']\n",
    "df_xgb_n7 = create_feature_df(test, winter_period=False, time=time,\n",
    "                           variables=variables)\n",
    "\n",
    "features = [col for col in df_xgb_n7 if col.startswith('data_')]\n",
    "target = [col for col in df_xgb_n7 if col.startswith('target_')][0]\n",
    "\n",
    "X_test = np.array(df_xgb_n7[features].values)\n",
    "y_test = np.array(df_xgb_n7[target].values.reshape(-1, 1))\n",
    "dtest = xgb.DMatrix(X_test, y_test)"
   ]
  },
  {
   "cell_type": "code",
   "execution_count": 14,
   "metadata": {},
   "outputs": [],
   "source": [
    "import pickle\n",
    "import numpy as np\n",
    "\n",
    "clf = pickle.load(open('/mnt/HARD/MinMax94/models/pickle/xgboost_noisy.pickle', 'rb'))\n",
    "y_true = dtest.get_label()\n",
    "y_pred = clf.predict(dtest).ravel()\n",
    "\n",
    "std = 0.889\n",
    "upper = y_pred + std * 7\n",
    "lower = y_pred - std * 7\n",
    "df_xgb_n7['label_predict'] = ((y_true >= upper) | (y_true <= lower))\n",
    "df_xgb_n7['decision_function'] = np.abs(y_true - y_pred)"
   ]
  },
  {
   "cell_type": "code",
   "execution_count": 15,
   "metadata": {},
   "outputs": [
    {
     "name": "stdout",
     "output_type": "stream",
     "text": [
      "Recall = 0.971 \n",
      "Precision = 0.959 \n",
      "F1 = 0.965\n",
      "                   label_true  label_predict  decision_function\n",
      "label_true           1.000000       0.606993           0.567624\n",
      "label_predict        0.606993       1.000000           0.785182\n",
      "decision_function    0.567624       0.785182           1.000000\n"
     ]
    }
   ],
   "source": [
    "st_id = generate_station_id\n",
    "window = pd.Timedelta('4h')\n",
    "\n",
    "#st_id = [114, 119, 302, 303, 442, 504, 511, 1838, 1896]\n",
    "#st_id = [114, 117, 119, 302, 303, 442, 503, 504, 511, 1838, 1896]\n",
    "#st_id = [114, 117, 119, 302, 303, 307, 393, 442, 503, 504, 511, 516, 1838, 1896]\n",
    "\n",
    "recall = calc_recall(df_xgb_n7, st_id, window)\n",
    "precision = calc_precision(df_xgb_n7, st_id, window)\n",
    "f1_score = calc_f1_score(precision, recall)\n",
    "\n",
    "\n",
    "print(\"Recall = {0:.3f} \\nPrecision = {1:.3f} \\nF1 = {2:.3f}\".format(recall, precision, f1_score))\n",
    "print(df_xgb_n7[['label_true', 'label_predict', 'decision_function']].corr())"
   ]
  },
  {
   "cell_type": "markdown",
   "metadata": {},
   "source": [
    "## XGBoost_Air"
   ]
  },
  {
   "cell_type": "code",
   "execution_count": 16,
   "metadata": {},
   "outputs": [
    {
     "name": "stdout",
     "output_type": "stream",
     "text": [
      "CPU times: user 1.77 s, sys: 770 ms, total: 2.54 s\n",
      "Wall time: 2.54 s\n"
     ]
    }
   ],
   "source": [
    "%%time\n",
    "\n",
    "import xgboost as xgb\n",
    "from preprocessing import create_feature_df\n",
    "\n",
    "point = pd.Timestamp(2015, 6, 1)\n",
    "\n",
    "time = 0.5\n",
    "variables = ['data_t_air', 'data_t_road']\n",
    "\n",
    "df_xgb_air = create_feature_df(test, winter_period=False, time=time,\n",
    "                           variables=variables)\n",
    "\n",
    "features = [col for col in df_xgb_air if col.startswith('data_')]\n",
    "features = [col for col in features if ('data_t_road' not in col)]\n",
    "target = [col for col in df_xgb_air if col.startswith('target_')][0]\n",
    "\n",
    "X_test = np.array(df_xgb_air[features].values)\n",
    "y_test = np.array(df_xgb_air[target].values.reshape(-1, 1))\n",
    "\n",
    "dtest = xgb.DMatrix(X_test, y_test)"
   ]
  },
  {
   "cell_type": "code",
   "execution_count": 17,
   "metadata": {},
   "outputs": [],
   "source": [
    "import pickle\n",
    "from preprocessing import create_feature_df\n",
    "from sklearn.preprocessing import MinMaxScaler\n",
    "from sklearn.metrics import mean_absolute_error\n",
    "import numpy as np\n",
    "\n",
    "\n",
    "clf = pickle.load(open('/mnt/HARD/MinMax94/models/pickle/xgboost_air.pickle', 'rb'))\n",
    "\n",
    "\n",
    "y_true = dtest.get_label()\n",
    "y_pred = clf.predict(dtest).ravel()\n",
    "std = 3.3851912\n",
    "upper = y_pred + std * 4\n",
    "lower = y_pred - std * 4\n",
    "df_xgb_air['label_predict'] = ((y_true >= upper) | (y_true <= lower))\n",
    "df_xgb_air['decision_function'] = np.abs(y_true - y_pred)"
   ]
  },
  {
   "cell_type": "code",
   "execution_count": 18,
   "metadata": {
    "scrolled": true
   },
   "outputs": [
    {
     "name": "stdout",
     "output_type": "stream",
     "text": [
      "Recall = 0.771 \n",
      "Precision = 0.807 \n",
      "F1 = 0.789\n",
      "                   label_true  label_predict  decision_function\n",
      "label_true           1.000000       0.608024           0.523347\n",
      "label_predict        0.608024       1.000000           0.660421\n",
      "decision_function    0.523347       0.660421           1.000000\n"
     ]
    }
   ],
   "source": [
    "st_id = generate_station_id\n",
    "window = pd.Timedelta('4h')\n",
    "\n",
    "#st_id = [114, 119, 302, 303, 442, 504, 511, 1838, 1896]\n",
    "#st_id = [114, 117, 119, 302, 303, 442, 503, 504, 511, 1838, 1896]\n",
    "#st_id = [114, 117, 119, 302, 303, 307, 393, 442, 503, 504, 511, 516, 1838, 1896]\n",
    "\n",
    "recall = calc_recall(df_xgb_air, st_id, window)\n",
    "precision = calc_precision(df_xgb_air, st_id, window)\n",
    "f1_score = calc_f1_score(precision, recall)\n",
    "\n",
    "print(\"Recall = {0:.3f} \\nPrecision = {1:.3f} \\nF1 = {2:.3f}\".format(recall, precision, f1_score))\n",
    "print(df_xgb_air[['label_true', 'label_predict', 'decision_function']].corr())"
   ]
  },
  {
   "cell_type": "markdown",
   "metadata": {},
   "source": [
    "## Ridge_7"
   ]
  },
  {
   "cell_type": "code",
   "execution_count": 19,
   "metadata": {},
   "outputs": [
    {
     "name": "stdout",
     "output_type": "stream",
     "text": [
      "CPU times: user 1.35 s, sys: 316 ms, total: 1.67 s\n",
      "Wall time: 1.67 s\n"
     ]
    }
   ],
   "source": [
    "%%time\n",
    "\n",
    "point = pd.Timestamp(2015, 6, 1)\n",
    "\n",
    "time = 0.5\n",
    "\n",
    "variables = ['data_t_road']\n",
    "df_ridge_7 = create_feature_df(test, winter_period=False, time=time,\n",
    "                           variables=variables)\n",
    "\n",
    "features = [col for col in df_ridge_7 if col.startswith('data_')]\n",
    "target = [col for col in df_ridge_7 if col.startswith('target_')][0]\n",
    "\n",
    "X_test = np.array(df_ridge_7[features].values)\n",
    "y_test = np.array(df_ridge_7[target].values.reshape(-1, 1))"
   ]
  },
  {
   "cell_type": "code",
   "execution_count": 20,
   "metadata": {},
   "outputs": [],
   "source": [
    "from sklearn.linear_model import LinearRegression, Ridge\n",
    "from sklearn.metrics import mean_absolute_error\n",
    "\n",
    "clf = pickle.load(open('/mnt/HARD/MinMax94/models/pickle/ridge.pickle', 'rb'))\n",
    "y_pred = clf.predict(X_test)\n",
    "y_true = copy(y_test)\n",
    "\n",
    "std = 0.876\n",
    "upper = y_pred + std * 7\n",
    "lower = y_pred - std * 7\n",
    "df_ridge_7['label_predict'] = ((y_true >= upper) | (y_true <= lower))\n",
    "df_ridge_7['decision_function'] = np.abs(y_true - y_pred)"
   ]
  },
  {
   "cell_type": "code",
   "execution_count": 21,
   "metadata": {},
   "outputs": [
    {
     "name": "stdout",
     "output_type": "stream",
     "text": [
      "Recall = 0.975 \n",
      "Precision = 0.943 \n",
      "F1 = 0.959\n",
      "                   label_true  label_predict  decision_function\n",
      "label_true           1.000000       0.578858           0.517550\n",
      "label_predict        0.578858       1.000000           0.797495\n",
      "decision_function    0.517550       0.797495           1.000000\n"
     ]
    }
   ],
   "source": [
    "st_id = generate_station_id\n",
    "window = pd.Timedelta('4h')\n",
    "\n",
    "#st_id = [114, 119, 302, 303, 442, 504, 511, 1838, 1896]\n",
    "#st_id = [114, 117, 119, 302, 303, 442, 503, 504, 511, 1838, 1896]\n",
    "#st_id = [114, 117, 119, 302, 303, 307, 393, 442, 503, 504, 511, 516, 1838, 1896]\n",
    "\n",
    "recall = calc_recall(df_ridge_7, st_id, window)\n",
    "precision = calc_precision(df_ridge_7, st_id, window)\n",
    "f1_score = calc_f1_score(precision, recall)\n",
    "\n",
    "print(\"Recall = {0:.3f} \\nPrecision = {1:.3f} \\nF1 = {2:.3f}\".format(recall, precision, f1_score))\n",
    "print(df_ridge_7[['label_true', 'label_predict', 'decision_function']].corr())"
   ]
  },
  {
   "cell_type": "markdown",
   "metadata": {},
   "source": [
    "## Elliptic Envelope"
   ]
  },
  {
   "cell_type": "code",
   "execution_count": 22,
   "metadata": {},
   "outputs": [],
   "source": [
    "from preprocessing import create_feature_df\n",
    "\n",
    "point = pd.Timestamp(2015, 6, 1)\n",
    "\n",
    "time = 0\n",
    "lag_list=(1, 2, 3)\n",
    "diff_list=((1, 2), (1, 3))\n",
    "post_process = False\n",
    "regression_mode = False\n",
    "variables = ['data_t_road']\n",
    "\n",
    "df_ee = create_feature_df(test, coordinates=False,\n",
    "                            winter_period=False, time=time, lag_list=lag_list, road_id=False,\n",
    "                            diff_list=diff_list, post_process=post_process, variables=variables)\n",
    "\n",
    "features = [col for col in df_ee if col.startswith('data_')]\n",
    "target = [col for col in df_ee if col.startswith('target_')]\n",
    "X_test = np.array(df_ee[features + target])"
   ]
  },
  {
   "cell_type": "code",
   "execution_count": 23,
   "metadata": {},
   "outputs": [],
   "source": [
    "clf = pickle.load(open('/mnt/HARD/MinMax94/models/pickle/elliptic_envelope.pickle', 'rb'))\n",
    "df_ee['label_predict'] = (1 - clf.predict(X_test)) / 2 \n",
    "df_ee['decision_function'] =  clf.decision_function(X_test)"
   ]
  },
  {
   "cell_type": "code",
   "execution_count": 24,
   "metadata": {},
   "outputs": [
    {
     "name": "stdout",
     "output_type": "stream",
     "text": [
      "Recall = 0.980 \n",
      "Precision = 0.910 \n",
      "F1 = 0.944\n",
      "                   label_true  label_predict  decision_function\n",
      "label_true           1.000000       0.612895          -0.564549\n",
      "label_predict        0.612895       1.000000          -0.782476\n",
      "decision_function   -0.564549      -0.782476           1.000000\n"
     ]
    }
   ],
   "source": [
    "st_id = generate_station_id\n",
    "window = pd.Timedelta('4h')\n",
    "\n",
    "#st_id = [114, 119, 302, 303, 442, 504, 511, 1838, 1896]\n",
    "#st_id = [114, 117, 119, 302, 303, 442, 503, 504, 511, 1838, 1896]\n",
    "#st_id = [114, 117, 119, 302, 303, 307, 393, 442, 503, 504, 511, 516, 1838, 1896]\n",
    "\n",
    "recall = calc_recall(df_ee, st_id, window)\n",
    "precision = calc_precision(df_ee, st_id, window)\n",
    "f1_score = calc_f1_score(precision, recall)\n",
    "\n",
    "print(\"Recall = {0:.3f} \\nPrecision = {1:.3f} \\nF1 = {2:.3f}\".format(recall, precision, f1_score))\n",
    "print(df_ee[['label_true', 'label_predict', 'decision_function']].corr())"
   ]
  },
  {
   "cell_type": "markdown",
   "metadata": {},
   "source": [
    "## One Class SVM"
   ]
  },
  {
   "cell_type": "code",
   "execution_count": 25,
   "metadata": {},
   "outputs": [],
   "source": [
    "from preprocessing import create_feature_df\n",
    "\n",
    "point = pd.Timestamp(2015, 6, 1)\n",
    "\n",
    "time = 0\n",
    "lag_list=(1, 2, 3)\n",
    "diff_list=((1, 2), (1, 3))\n",
    "post_process = False\n",
    "regression_mode = False\n",
    "variables = ['data_t_road']\n",
    "coordinates = False\n",
    "road_id = False\n",
    "\n",
    "df_svm = create_feature_df(test, \n",
    "                            winter_period=False, time=time, lag_list=lag_list,\n",
    "                            diff_list=diff_list, post_process=post_process, variables=variables,\n",
    "                           coordinates=coordinates, road_id=road_id)\n",
    "\n",
    "features = [col for col in df_svm if col.startswith('data_')]\n",
    "target = [col for col in df_svm if col.startswith('target_')]\n",
    "X_test = np.array(df_svm[features + target].values)"
   ]
  },
  {
   "cell_type": "code",
   "execution_count": 26,
   "metadata": {},
   "outputs": [],
   "source": [
    "clf = pickle.load(open('/mnt/HARD/MinMax94/models/pickle/one_class_svm_005.pickle', 'rb'))\n",
    "df_svm['label_predict'] = (1 - clf.predict(X_test)) / 2 \n",
    "df_svm['decision_function'] =  clf.decision_function(X_test)"
   ]
  },
  {
   "cell_type": "code",
   "execution_count": 27,
   "metadata": {},
   "outputs": [
    {
     "name": "stdout",
     "output_type": "stream",
     "text": [
      "Recall = 0.998 \n",
      "Precision = 0.730 \n",
      "F1 = 0.843\n",
      "                   label_true  label_predict  decision_function\n",
      "label_true           1.000000       0.693314          -0.677803\n",
      "label_predict        0.693314       1.000000          -0.762331\n",
      "decision_function   -0.677803      -0.762331           1.000000\n"
     ]
    }
   ],
   "source": [
    "st_id = generate_station_id\n",
    "window = pd.Timedelta('4h')\n",
    "\n",
    "#st_id = [114, 119, 302, 303, 442, 504, 511, 1838, 1896]\n",
    "#st_id = [114, 117, 119, 302, 303, 442, 503, 504, 511, 1838, 1896]\n",
    "#st_id = [114, 117, 119, 302, 303, 307, 393, 442, 503, 504, 511, 516, 1838, 1896]\n",
    "\n",
    "recall = calc_recall(df_svm, st_id, window)\n",
    "precision = calc_precision(df_svm, st_id, window)\n",
    "f1_score = calc_f1_score(precision, recall)\n",
    "\n",
    "print(\"Recall = {0:.3f} \\nPrecision = {1:.3f} \\nF1 = {2:.3f}\".format(recall, precision, f1_score))\n",
    "print(df_svm[['label_true', 'label_predict', 'decision_function']].corr())"
   ]
  },
  {
   "cell_type": "markdown",
   "metadata": {},
   "source": [
    "## Local Outlier Factor"
   ]
  },
  {
   "cell_type": "code",
   "execution_count": 28,
   "metadata": {},
   "outputs": [],
   "source": [
    "from sklearn.preprocessing import normalize\n",
    "\n",
    "point = pd.Timestamp(2015, 6, 1)\n",
    "\n",
    "time = 0\n",
    "lag_list=(1, 2)\n",
    "diff_list=((1, 2), )\n",
    "post_process = False\n",
    "regression_mode = False\n",
    "variables = ['data_t_road', 'data_t_air', 'data_t_underroad']\n",
    "df_lof = create_feature_df(test, \n",
    "                            winter_period=False, time=time, lag_list=lag_list,\n",
    "                            diff_list=diff_list, post_process=post_process, variables=variables)\n",
    "\n",
    "features = [col for col in df_lof if col.startswith('data_')]\n",
    "target = [col for col in df_lof if col.startswith('target_')]\n",
    "X_test = np.array(df_lof[features + target])"
   ]
  },
  {
   "cell_type": "code",
   "execution_count": 29,
   "metadata": {},
   "outputs": [],
   "source": [
    "clf = pickle.load(open('/mnt/HARD/MinMax94/models/pickle/local_outlier_factor.pickle', 'rb'))\n",
    "y_pred = clf.fit_predict(X_test)\n",
    "df_lof['label_predict'] = (1 - y_pred) / 2\n",
    "df_lof['decision_function'] = df_lof['label_predict']"
   ]
  },
  {
   "cell_type": "code",
   "execution_count": 30,
   "metadata": {},
   "outputs": [
    {
     "name": "stdout",
     "output_type": "stream",
     "text": [
      "Recall = 0.154 \n",
      "Precision = 0.446 \n",
      "F1 = 0.229\n",
      "                   label_true  label_predict  decision_function\n",
      "label_true           1.000000       0.049693           0.049693\n",
      "label_predict        0.049693       1.000000           1.000000\n",
      "decision_function    0.049693       1.000000           1.000000\n"
     ]
    }
   ],
   "source": [
    "st_id = generate_station_id\n",
    "window = pd.Timedelta('4h')\n",
    "\n",
    "#st_id = [114, 119, 302, 303, 442, 504, 511, 1838, 1896]\n",
    "#st_id = [114, 117, 119, 302, 303, 442, 503, 504, 511, 1838, 1896]\n",
    "#st_id = [114, 117, 119, 302, 303, 307, 393, 442, 503, 504, 511, 516, 1838, 1896]\n",
    "\n",
    "recall = calc_recall(df_lof, st_id, window)\n",
    "precision = calc_precision(df_lof, st_id, window)\n",
    "f1_score = calc_f1_score(precision, recall)\n",
    "\n",
    "print(\"Recall = {0:.3f} \\nPrecision = {1:.3f} \\nF1 = {2:.3f}\".format(recall, precision, f1_score))\n",
    "print(df_lof[['label_true', 'label_predict', 'decision_function']].corr())"
   ]
  },
  {
   "cell_type": "markdown",
   "metadata": {},
   "source": [
    "## Isolation Forest"
   ]
  },
  {
   "cell_type": "code",
   "execution_count": 31,
   "metadata": {},
   "outputs": [
    {
     "name": "stdout",
     "output_type": "stream",
     "text": [
      "CPU times: user 1.07 s, sys: 196 ms, total: 1.27 s\n",
      "Wall time: 1.27 s\n"
     ]
    }
   ],
   "source": [
    "%%time\n",
    "\n",
    "from preprocessing import create_feature_df\n",
    "\n",
    "point = pd.Timestamp(2015, 6, 1)\n",
    "\n",
    "time = 0\n",
    "lag_list=(1, 2, 3)\n",
    "diff_list=((1, 2), (1, 3))\n",
    "post_process = False\n",
    "variables=('data_t_road', )\n",
    "\n",
    "df_iforest = create_feature_df(test, \n",
    "                            winter_period=False, time=time, lag_list=lag_list,\n",
    "                            diff_list=diff_list, post_process=post_process, variables=variables)\n",
    "\n",
    "features = [col for col in df_iforest if col.startswith('data_')]\n",
    "target = [col for col in df_iforest if col.startswith('target_')]\n",
    "\n",
    "X_test = np.array(df_iforest[features + target])"
   ]
  },
  {
   "cell_type": "code",
   "execution_count": 32,
   "metadata": {},
   "outputs": [],
   "source": [
    "clf = pickle.load(open('/mnt/HARD/MinMax94/models/pickle/isolation_forest.pickle', 'rb'))\n",
    "df_iforest['label_predict'] = (1 - clf.predict(X_test)) / 2\n",
    "df_iforest['decision_function'] = clf.decision_function(X_test)"
   ]
  },
  {
   "cell_type": "code",
   "execution_count": 33,
   "metadata": {},
   "outputs": [
    {
     "name": "stdout",
     "output_type": "stream",
     "text": [
      "Recall = 0.881 \n",
      "Precision = 0.333 \n",
      "F1 = 0.483\n",
      "                   label_true  label_predict  decision_function\n",
      "label_true           1.000000       0.275769          -0.195465\n",
      "label_predict        0.275769       1.000000          -0.444116\n",
      "decision_function   -0.195465      -0.444116           1.000000\n"
     ]
    }
   ],
   "source": [
    "st_id = generate_station_id\n",
    "window = pd.Timedelta('4h')\n",
    "\n",
    "#st_id = [114, 119, 302, 303, 442, 504, 511, 1838, 1896]\n",
    "#st_id = [114, 117, 119, 302, 303, 442, 503, 504, 511, 1838, 1896]\n",
    "#st_id = [114, 117, 119, 302, 303, 307, 393, 442, 503, 504, 511, 516, 1838, 1896]\n",
    "\n",
    "recall = calc_recall(df_iforest, st_id, window)\n",
    "precision = calc_precision(df_iforest, st_id, window)\n",
    "f1_score = calc_f1_score(precision, recall)\n",
    "\n",
    "print(\"Recall = {0:.3f} \\nPrecision = {1:.3f} \\nF1 = {2:.3f}\".format(recall, precision, f1_score))\n",
    "print(df_iforest[['label_true', 'label_predict', 'decision_function']].corr())"
   ]
  },
  {
   "cell_type": "markdown",
   "metadata": {},
   "source": [
    "## Define threshhold"
   ]
  },
  {
   "cell_type": "code",
   "execution_count": 34,
   "metadata": {},
   "outputs": [],
   "source": [
    "col_list = ['date_time_utc', 'station_id', 'id_t_road', 'target_t_road', 'decision_function', \n",
    "            'label_predict', 'label_true']\n",
    "\n",
    "merge_on = ['date_time_utc', 'station_id', 'id_t_road', 'target_t_road', 'label_true']\n",
    "\n",
    "df_list = [(df_xgb_7, 'xgb_7'), (df_xgb_n7, 'xgb_n7'), (df_xgb_air, 'xgb_air'),\n",
    "           (df_ridge_7, 'ridge_7'),\n",
    "           (df_ee, 'ee'), (df_svm, 'svm'), (df_lof, 'lof'), (df_iforest, 'iforest')]\n",
    "\n",
    "for df, name in df_list:\n",
    "    df['label_predict_{0}'.format(name)] = df['label_predict']\n",
    "    del df['label_predict']\n",
    "    \n",
    "    if name != 'lof':\n",
    "        df['decision_function_{0}'.format(name)] = df['decision_function']\n",
    "        del df['decision_function']\n",
    "    \n",
    "    elif name == 'lof':\n",
    "        df['decision_function_{0}'.format(name)] = df['label_predict_lof']\n",
    "        \n",
    "col_list = ['date_time_utc', 'station_id', 'id_t_road', 'target_t_road', 'label_true']\n",
    "\n",
    "df_test = pd.merge(df_xgb_7, df_xgb_n7, on=merge_on)\n",
    "df_test = pd.merge(df_test, df_xgb_air, on=merge_on)\n",
    "df_test = pd.merge(df_test, df_ridge_7, on=merge_on)\n",
    "df_test = pd.merge(df_test, df_ee, on=merge_on)\n",
    "df_test = pd.merge(df_test, df_svm, on=merge_on)\n",
    "df_test = pd.merge(df_test, df_lof, on=merge_on)\n",
    "df_test = pd.merge(df_test, df_iforest, on=merge_on)\n",
    "\n",
    "df_test['date_time_utc'] = pd.to_datetime(df_test['date_time_utc'])"
   ]
  },
  {
   "cell_type": "code",
   "execution_count": 35,
   "metadata": {},
   "outputs": [],
   "source": [
    "from sklearn.preprocessing import MinMaxScaler\n",
    "\n",
    "#scaler = MinMaxScaler()\n",
    "scaler = pickle.load(open('/mnt/HARD/MinMax94/models/scalers/mm_{0}.pickle'.format('xgb_7'), 'rb'))\n",
    "df_test['decision_function_xgb_7'] = scaler.transform(df_test['decision_function_xgb_7'].values.reshape(-1, 1))\n",
    "\n",
    "scaler = pickle.load(open('/mnt/HARD/MinMax94/models/scalers/mm_{0}.pickle'.format('xgb_n7'), 'rb'))\n",
    "df_test['decision_function_xgb_n7'] = scaler.transform(df_test['decision_function_xgb_n7'].values.reshape(-1, 1))\n",
    "\n",
    "scaler = pickle.load(open('/mnt/HARD/MinMax94/models/scalers/mm_{0}.pickle'.format('xgb_air'), 'rb'))\n",
    "df_test['decision_function_xgb_air'] = scaler.transform(df_test['decision_function_xgb_air'].values.reshape(-1, 1))\n",
    "\n",
    "scaler = pickle.load(open('/mnt/HARD/MinMax94/models/scalers/mm_{0}.pickle'.format('ridge_7'), 'rb'))\n",
    "df_test['decision_function_ridge_7'] = scaler.transform(df_test['decision_function_ridge_7'].values.reshape(-1, 1))\n",
    "\n",
    "\n",
    "scaler = pickle.load(open('/mnt/HARD/MinMax94/models/scalers/mm_{0}.pickle'.format('ee'), 'rb'))\n",
    "df_test['decision_function_ee'] = scaler.transform(- df_test['decision_function_ee'].values.reshape(-1, 1))\n",
    "\n",
    "scaler = pickle.load(open('/mnt/HARD/MinMax94/models/scalers/mm_{0}.pickle'.format('svm'), 'rb'))\n",
    "df_test['decision_function_svm'] = scaler.transform(- df_test['decision_function_svm'].values.reshape(-1, 1))\n",
    "\n",
    "#df_test['decision_function_lof'] = df_test['decision_function_lof']\n",
    "\n",
    "scaler = pickle.load(open('/mnt/HARD/MinMax94/models/scalers/mm_{0}.pickle'.format('iforest'), 'rb'))\n",
    "df_test['decision_function_iforest'] = scaler.transform(- df_test['decision_function_iforest'].values.reshape(-1, 1))"
   ]
  },
  {
   "cell_type": "code",
   "execution_count": 36,
   "metadata": {},
   "outputs": [],
   "source": [
    "df_test['label_predict'] = (((1.0 * df_test['decision_function_xgb_7'] +\n",
    "                             1.0 * df_test['decision_function_xgb_n7'] + \n",
    "                             1.0 * df_test['decision_function_ridge_7'] +\n",
    "                             1.0 * df_test['decision_function_xgb_air'] +\n",
    "                             1.0 * df_test['decision_function_ee'] +\n",
    "                             1.0 * df_test['decision_function_svm'] +\n",
    "                             1.0 * df_test['decision_function_lof'] + \n",
    "                             1.0 * df_test['decision_function_iforest']) / 8.0) >= 0.1)"
   ]
  },
  {
   "cell_type": "code",
   "execution_count": 37,
   "metadata": {},
   "outputs": [
    {
     "data": {
      "text/html": [
       "<div>\n",
       "<style>\n",
       "    .dataframe thead tr:only-child th {\n",
       "        text-align: right;\n",
       "    }\n",
       "\n",
       "    .dataframe thead th {\n",
       "        text-align: left;\n",
       "    }\n",
       "\n",
       "    .dataframe tbody tr th {\n",
       "        vertical-align: top;\n",
       "    }\n",
       "</style>\n",
       "<table border=\"1\" class=\"dataframe\">\n",
       "  <thead>\n",
       "    <tr style=\"text-align: right;\">\n",
       "      <th></th>\n",
       "      <th>decision_function_xgb_7</th>\n",
       "      <th>decision_function_xgb_n7</th>\n",
       "      <th>decision_function_xgb_air</th>\n",
       "      <th>decision_function_ridge_7</th>\n",
       "      <th>decision_function_ee</th>\n",
       "      <th>decision_function_svm</th>\n",
       "      <th>decision_function_lof</th>\n",
       "      <th>decision_function_iforest</th>\n",
       "      <th>label_true</th>\n",
       "    </tr>\n",
       "  </thead>\n",
       "  <tbody>\n",
       "    <tr>\n",
       "      <th>decision_function_xgb_7</th>\n",
       "      <td>1.000000</td>\n",
       "      <td>0.922135</td>\n",
       "      <td>0.598911</td>\n",
       "      <td>0.684762</td>\n",
       "      <td>0.677602</td>\n",
       "      <td>0.608399</td>\n",
       "      <td>0.087433</td>\n",
       "      <td>0.197083</td>\n",
       "      <td>0.557463</td>\n",
       "    </tr>\n",
       "    <tr>\n",
       "      <th>decision_function_xgb_n7</th>\n",
       "      <td>0.922135</td>\n",
       "      <td>1.000000</td>\n",
       "      <td>0.572578</td>\n",
       "      <td>0.754077</td>\n",
       "      <td>0.745988</td>\n",
       "      <td>0.653473</td>\n",
       "      <td>0.078954</td>\n",
       "      <td>0.196636</td>\n",
       "      <td>0.568428</td>\n",
       "    </tr>\n",
       "    <tr>\n",
       "      <th>decision_function_xgb_air</th>\n",
       "      <td>0.598911</td>\n",
       "      <td>0.572578</td>\n",
       "      <td>1.000000</td>\n",
       "      <td>0.347125</td>\n",
       "      <td>0.415857</td>\n",
       "      <td>0.446100</td>\n",
       "      <td>0.040349</td>\n",
       "      <td>0.202742</td>\n",
       "      <td>0.523619</td>\n",
       "    </tr>\n",
       "    <tr>\n",
       "      <th>decision_function_ridge_7</th>\n",
       "      <td>0.684762</td>\n",
       "      <td>0.754077</td>\n",
       "      <td>0.347125</td>\n",
       "      <td>1.000000</td>\n",
       "      <td>0.924493</td>\n",
       "      <td>0.676355</td>\n",
       "      <td>0.087464</td>\n",
       "      <td>0.195779</td>\n",
       "      <td>0.518895</td>\n",
       "    </tr>\n",
       "    <tr>\n",
       "      <th>decision_function_ee</th>\n",
       "      <td>0.677602</td>\n",
       "      <td>0.745988</td>\n",
       "      <td>0.415857</td>\n",
       "      <td>0.924493</td>\n",
       "      <td>1.000000</td>\n",
       "      <td>0.754369</td>\n",
       "      <td>0.090117</td>\n",
       "      <td>0.281400</td>\n",
       "      <td>0.565429</td>\n",
       "    </tr>\n",
       "    <tr>\n",
       "      <th>decision_function_svm</th>\n",
       "      <td>0.608399</td>\n",
       "      <td>0.653473</td>\n",
       "      <td>0.446100</td>\n",
       "      <td>0.676355</td>\n",
       "      <td>0.754369</td>\n",
       "      <td>1.000000</td>\n",
       "      <td>0.106245</td>\n",
       "      <td>0.433261</td>\n",
       "      <td>0.678251</td>\n",
       "    </tr>\n",
       "    <tr>\n",
       "      <th>decision_function_lof</th>\n",
       "      <td>0.087433</td>\n",
       "      <td>0.078954</td>\n",
       "      <td>0.040349</td>\n",
       "      <td>0.087464</td>\n",
       "      <td>0.090117</td>\n",
       "      <td>0.106245</td>\n",
       "      <td>1.000000</td>\n",
       "      <td>0.024439</td>\n",
       "      <td>0.049970</td>\n",
       "    </tr>\n",
       "    <tr>\n",
       "      <th>decision_function_iforest</th>\n",
       "      <td>0.197083</td>\n",
       "      <td>0.196636</td>\n",
       "      <td>0.202742</td>\n",
       "      <td>0.195779</td>\n",
       "      <td>0.281400</td>\n",
       "      <td>0.433261</td>\n",
       "      <td>0.024439</td>\n",
       "      <td>1.000000</td>\n",
       "      <td>0.195507</td>\n",
       "    </tr>\n",
       "    <tr>\n",
       "      <th>label_true</th>\n",
       "      <td>0.557463</td>\n",
       "      <td>0.568428</td>\n",
       "      <td>0.523619</td>\n",
       "      <td>0.518895</td>\n",
       "      <td>0.565429</td>\n",
       "      <td>0.678251</td>\n",
       "      <td>0.049970</td>\n",
       "      <td>0.195507</td>\n",
       "      <td>1.000000</td>\n",
       "    </tr>\n",
       "  </tbody>\n",
       "</table>\n",
       "</div>"
      ],
      "text/plain": [
       "                           decision_function_xgb_7  decision_function_xgb_n7  \\\n",
       "decision_function_xgb_7                   1.000000                  0.922135   \n",
       "decision_function_xgb_n7                  0.922135                  1.000000   \n",
       "decision_function_xgb_air                 0.598911                  0.572578   \n",
       "decision_function_ridge_7                 0.684762                  0.754077   \n",
       "decision_function_ee                      0.677602                  0.745988   \n",
       "decision_function_svm                     0.608399                  0.653473   \n",
       "decision_function_lof                     0.087433                  0.078954   \n",
       "decision_function_iforest                 0.197083                  0.196636   \n",
       "label_true                                0.557463                  0.568428   \n",
       "\n",
       "                           decision_function_xgb_air  \\\n",
       "decision_function_xgb_7                     0.598911   \n",
       "decision_function_xgb_n7                    0.572578   \n",
       "decision_function_xgb_air                   1.000000   \n",
       "decision_function_ridge_7                   0.347125   \n",
       "decision_function_ee                        0.415857   \n",
       "decision_function_svm                       0.446100   \n",
       "decision_function_lof                       0.040349   \n",
       "decision_function_iforest                   0.202742   \n",
       "label_true                                  0.523619   \n",
       "\n",
       "                           decision_function_ridge_7  decision_function_ee  \\\n",
       "decision_function_xgb_7                     0.684762              0.677602   \n",
       "decision_function_xgb_n7                    0.754077              0.745988   \n",
       "decision_function_xgb_air                   0.347125              0.415857   \n",
       "decision_function_ridge_7                   1.000000              0.924493   \n",
       "decision_function_ee                        0.924493              1.000000   \n",
       "decision_function_svm                       0.676355              0.754369   \n",
       "decision_function_lof                       0.087464              0.090117   \n",
       "decision_function_iforest                   0.195779              0.281400   \n",
       "label_true                                  0.518895              0.565429   \n",
       "\n",
       "                           decision_function_svm  decision_function_lof  \\\n",
       "decision_function_xgb_7                 0.608399               0.087433   \n",
       "decision_function_xgb_n7                0.653473               0.078954   \n",
       "decision_function_xgb_air               0.446100               0.040349   \n",
       "decision_function_ridge_7               0.676355               0.087464   \n",
       "decision_function_ee                    0.754369               0.090117   \n",
       "decision_function_svm                   1.000000               0.106245   \n",
       "decision_function_lof                   0.106245               1.000000   \n",
       "decision_function_iforest               0.433261               0.024439   \n",
       "label_true                              0.678251               0.049970   \n",
       "\n",
       "                           decision_function_iforest  label_true  \n",
       "decision_function_xgb_7                     0.197083    0.557463  \n",
       "decision_function_xgb_n7                    0.196636    0.568428  \n",
       "decision_function_xgb_air                   0.202742    0.523619  \n",
       "decision_function_ridge_7                   0.195779    0.518895  \n",
       "decision_function_ee                        0.281400    0.565429  \n",
       "decision_function_svm                       0.433261    0.678251  \n",
       "decision_function_lof                       0.024439    0.049970  \n",
       "decision_function_iforest                   1.000000    0.195507  \n",
       "label_true                                  0.195507    1.000000  "
      ]
     },
     "execution_count": 37,
     "metadata": {},
     "output_type": "execute_result"
    }
   ],
   "source": [
    "z = df_test[['decision_function_xgb_7', 'decision_function_xgb_n7', 'decision_function_xgb_air', 'decision_function_ridge_7', 'decision_function_ee', 'decision_function_svm', \n",
    "        'decision_function_lof', 'decision_function_iforest', 'label_true']].corr()\n",
    "\n",
    "z"
   ]
  },
  {
   "cell_type": "code",
   "execution_count": null,
   "metadata": {},
   "outputs": [],
   "source": [
    "st_id = generate_station_id\n",
    "window = pd.Timedelta('4h')\n",
    "\n",
    "#st_id = [114, 119, 302, 303, 442, 504, 511, 1838, 1896]\n",
    "#st_id = [114, 117, 119, 302, 303, 442, 503, 504, 511, 1838, 1896]\n",
    "#st_id = [114, 117, 119, 302, 303, 307, 393, 442, 503, 504, 511, 516, 1838, 1896]\n",
    "\n",
    "recall = calc_recall(df_test, st_id, window)\n",
    "precision = calc_precision(df_test, st_id, window)\n",
    "f1_score = calc_f1_score(precision, recall)\n",
    "\n",
    "print(\"Recall = {0:.3f} \\nPrecision = {1:.3f} \\nF1 = {2:.3f}\".format(recall, precision, f1_score))\n",
    "#print(df_test[['label_true', 'label_predict', 'decision_function']].corr())"
   ]
  },
  {
   "cell_type": "code",
   "execution_count": 47,
   "metadata": {
    "scrolled": true
   },
   "outputs": [
    {
     "name": "stdout",
     "output_type": "stream",
     "text": [
      "Threshhold: 0.15\n",
      "Recall: 0.995 \n",
      "Precision: 0.680 \n",
      "F1:0.808\n",
      "----------------------------------------\n",
      "Threshhold: 0.16\n",
      "Recall: 0.994 \n",
      "Precision: 0.781 \n",
      "F1:0.875\n",
      "----------------------------------------\n",
      "Threshhold: 0.17\n",
      "Recall: 0.992 \n",
      "Precision: 0.840 \n",
      "F1:0.910\n",
      "----------------------------------------\n",
      "Threshhold: 0.18\n",
      "Recall: 0.992 \n",
      "Precision: 0.875 \n",
      "F1:0.930\n",
      "----------------------------------------\n",
      "Threshhold: 0.19\n",
      "Recall: 0.990 \n",
      "Precision: 0.897 \n",
      "F1:0.941\n",
      "----------------------------------------\n",
      "Threshhold: 0.20\n",
      "Recall: 0.987 \n",
      "Precision: 0.911 \n",
      "F1:0.947\n",
      "----------------------------------------\n",
      "Threshhold: 0.21\n",
      "Recall: 0.985 \n",
      "Precision: 0.923 \n",
      "F1:0.953\n",
      "----------------------------------------\n",
      "Threshhold: 0.22\n",
      "Recall: 0.984 \n",
      "Precision: 0.931 \n",
      "F1:0.957\n",
      "----------------------------------------\n",
      "Threshhold: 0.23\n",
      "Recall: 0.981 \n",
      "Precision: 0.939 \n",
      "F1:0.960\n",
      "----------------------------------------\n",
      "Threshhold: 0.24\n",
      "Recall: 0.979 \n",
      "Precision: 0.946 \n",
      "F1:0.962\n",
      "----------------------------------------\n",
      "Threshhold: 0.25\n",
      "Recall: 0.977 \n",
      "Precision: 0.953 \n",
      "F1:0.965\n",
      "----------------------------------------\n",
      "Threshhold: 0.26\n",
      "Recall: 0.975 \n",
      "Precision: 0.957 \n",
      "F1:0.966\n",
      "----------------------------------------\n",
      "Threshhold: 0.27\n",
      "Recall: 0.971 \n",
      "Precision: 0.962 \n",
      "F1:0.966\n",
      "----------------------------------------\n",
      "Threshhold: 0.28\n",
      "Recall: 0.965 \n",
      "Precision: 0.965 \n",
      "F1:0.965\n",
      "----------------------------------------\n",
      "Threshhold: 0.29\n",
      "Recall: 0.958 \n",
      "Precision: 0.967 \n",
      "F1:0.962\n",
      "----------------------------------------\n",
      "Threshhold: 0.30\n",
      "Recall: 0.950 \n",
      "Precision: 0.968 \n",
      "F1:0.959\n",
      "----------------------------------------\n",
      "Threshhold: 0.31\n",
      "Recall: 0.942 \n",
      "Precision: 0.970 \n",
      "F1:0.956\n",
      "----------------------------------------\n",
      "Threshhold: 0.32\n",
      "Recall: 0.930 \n",
      "Precision: 0.972 \n",
      "F1:0.950\n",
      "----------------------------------------\n",
      "Threshhold: 0.33\n",
      "Recall: 0.913 \n",
      "Precision: 0.971 \n",
      "F1:0.941\n",
      "----------------------------------------\n",
      "Threshhold: 0.34\n",
      "Recall: 0.897 \n",
      "Precision: 0.971 \n",
      "F1:0.933\n",
      "----------------------------------------\n",
      "Threshhold: 0.35\n",
      "Recall: 0.860 \n",
      "Precision: 0.972 \n",
      "F1:0.912\n",
      "----------------------------------------\n",
      "Threshhold: 0.36\n",
      "Recall: 0.827 \n",
      "Precision: 0.974 \n",
      "F1:0.895\n",
      "----------------------------------------\n",
      "Threshhold: 0.37\n",
      "Recall: 0.797 \n",
      "Precision: 0.975 \n",
      "F1:0.877\n",
      "----------------------------------------\n",
      "Threshhold: 0.38\n",
      "Recall: 0.757 \n",
      "Precision: 0.976 \n",
      "F1:0.852\n",
      "----------------------------------------\n",
      "Threshhold: 0.39\n",
      "Recall: 0.705 \n",
      "Precision: 0.977 \n",
      "F1:0.819\n",
      "----------------------------------------\n"
     ]
    }
   ],
   "source": [
    "std = 0.889\n",
    "thresh_list = []\n",
    "st_id = generate_station_id\n",
    "window = pd.Timedelta('4h')\n",
    "\n",
    "\n",
    "for thresh in np.arange(0.15, 0.4, 0.01):\n",
    "    df_test['label_predict'] =  df_test['label_predict'] = (((1.0 * df_test['decision_function_xgb_7'] +\n",
    "                             1.0 * df_test['decision_function_xgb_n7'] + \n",
    "                             1.0 * df_test['decision_function_xgb_air'] +\n",
    "                             1.0 * df_test['decision_function_ridge_7'] +\n",
    "                             1.0 * df_test['decision_function_ee'] +\n",
    "                             1.0 * df_test['decision_function_svm'] +\n",
    "                             1.0 * df_test['decision_function_lof'] +\n",
    "                             1.0 * df_test['decision_function_iforest']) / 8.0) >= thresh)\n",
    "    recall = calc_recall(df_test, st_id, window)\n",
    "    precision = calc_precision(df_test, st_id, window)\n",
    "    f1_score = calc_f1_score(precision, recall)\n",
    "    \n",
    "    thresh_list.append({'Threshold': thresh, 'Recall': recall, 'Precision': precision, 'F1': f1_score})\n",
    "    print(\"Threshhold: {0:.2f}\".format(thresh))\n",
    "    print(\"Recall: {0:.3f} \\nPrecision: {1:.3f} \\nF1:{2:.3f}\".format(recall, precision, f1_score))\n",
    "    print(\"----------------------------------------\")"
   ]
  },
  {
   "cell_type": "code",
   "execution_count": 48,
   "metadata": {},
   "outputs": [
    {
     "data": {
      "text/plain": [
       "[{'F1': 0.8079728921666335,\n",
       "  'Precision': 0.679997315976649,\n",
       "  'Recall': 0.9952857984678845,\n",
       "  'Threshold': 0.15},\n",
       " {'F1': 0.8751046533006527,\n",
       "  'Precision': 0.7814015721692591,\n",
       "  'Recall': 0.9943429581614615,\n",
       "  'Threshold': 0.16},\n",
       " {'F1': 0.9098309374238599,\n",
       "  'Precision': 0.8399052132701422,\n",
       "  'Recall': 0.9924572775486152,\n",
       "  'Threshold': 0.17},\n",
       " {'F1': 0.9298978115494594,\n",
       "  'Precision': 0.8753076292042657,\n",
       "  'Recall': 0.9917501473187978,\n",
       "  'Threshold': 0.18000000000000002},\n",
       " {'F1': 0.9411626756303961,\n",
       "  'Precision': 0.8966416693837627,\n",
       "  'Recall': 0.9903358868591632,\n",
       "  'Threshold': 0.19000000000000003},\n",
       " {'F1': 0.9473317809133064,\n",
       "  'Precision': 0.910999543587403,\n",
       "  'Recall': 0.9866823806717737,\n",
       "  'Threshold': 0.20000000000000004},\n",
       " {'F1': 0.9530991013439969,\n",
       "  'Precision': 0.9230677480916031,\n",
       "  'Recall': 0.9851502651738362,\n",
       "  'Threshold': 0.21000000000000005},\n",
       " {'F1': 0.9567080658341071,\n",
       "  'Precision': 0.9309145129224652,\n",
       "  'Recall': 0.9839717147908074,\n",
       "  'Threshold': 0.22000000000000006},\n",
       " {'F1': 0.9597793310083739,\n",
       "  'Precision': 0.9391100702576113,\n",
       "  'Recall': 0.9813789039481438,\n",
       "  'Threshold': 0.23000000000000007},\n",
       " {'F1': 0.9624942854301766,\n",
       "  'Precision': 0.9461852861035422,\n",
       "  'Recall': 0.9793753682969947,\n",
       "  'Threshold': 0.24000000000000007},\n",
       " {'F1': 0.9648828944019676,\n",
       "  'Precision': 0.9533819533819534,\n",
       "  'Recall': 0.9766647024160283,\n",
       "  'Threshold': 0.2500000000000001},\n",
       " {'F1': 0.9660141373576293,\n",
       "  'Precision': 0.9574054700343745,\n",
       "  'Recall': 0.9747790218031821,\n",
       "  'Threshold': 0.2600000000000001},\n",
       " {'F1': 0.9664137166099903,\n",
       "  'Precision': 0.9622102254684026,\n",
       "  'Recall': 0.9706540954625811,\n",
       "  'Threshold': 0.27000000000000013},\n",
       " {'F1': 0.9650885670984108,\n",
       "  'Precision': 0.9648266576910132,\n",
       "  'Recall': 0.9653506187389511,\n",
       "  'Threshold': 0.28000000000000014},\n",
       " {'F1': 0.9623948080580195,\n",
       "  'Precision': 0.9667857142857142,\n",
       "  'Recall': 0.9580436063641721,\n",
       "  'Threshold': 0.29000000000000015},\n",
       " {'F1': 0.9592471779791362,\n",
       "  'Precision': 0.9682782342824384,\n",
       "  'Recall': 0.9503830288744843,\n",
       "  'Threshold': 0.30000000000000016},\n",
       " {'F1': 0.955995389515659,\n",
       "  'Precision': 0.9698969072164948,\n",
       "  'Recall': 0.9424867413081909,\n",
       "  'Threshold': 0.31000000000000016},\n",
       " {'F1': 0.9504625167449389,\n",
       "  'Precision': 0.9717235188509874,\n",
       "  'Recall': 0.9301119622863877,\n",
       "  'Threshold': 0.3200000000000002},\n",
       " {'F1': 0.9410831029054896,\n",
       "  'Precision': 0.9711893622260527,\n",
       "  'Recall': 0.9127872716558633,\n",
       "  'Threshold': 0.3300000000000002},\n",
       " {'F1': 0.9325517681049886,\n",
       "  'Precision': 0.971182332345812,\n",
       "  'Recall': 0.8968768414849735,\n",
       "  'Threshold': 0.3400000000000002},\n",
       " {'F1': 0.9123164011684443,\n",
       "  'Precision': 0.9717261904761905,\n",
       "  'Recall': 0.859752504419564,\n",
       "  'Threshold': 0.3500000000000002},\n",
       " {'F1': 0.894764012517724,\n",
       "  'Precision': 0.9741492146596858,\n",
       "  'Recall': 0.8273423688862699,\n",
       "  'Threshold': 0.3600000000000002},\n",
       " {'F1': 0.8774601780250757,\n",
       "  'Precision': 0.9753801593048516,\n",
       "  'Recall': 0.7974071891573364,\n",
       "  'Threshold': 0.3700000000000002},\n",
       " {'F1': 0.8524797001406926,\n",
       "  'Precision': 0.9763337344564781,\n",
       "  'Recall': 0.7565114908662345,\n",
       "  'Threshold': 0.3800000000000002},\n",
       " {'F1': 0.8193332314990605,\n",
       "  'Precision': 0.9772321428571429,\n",
       "  'Recall': 0.7053624042427814,\n",
       "  'Threshold': 0.39000000000000024}]"
      ]
     },
     "execution_count": 48,
     "metadata": {},
     "output_type": "execute_result"
    }
   ],
   "source": [
    "thresh_list"
   ]
  },
  {
   "cell_type": "markdown",
   "metadata": {},
   "source": [
    "## Plot"
   ]
  },
  {
   "cell_type": "code",
   "execution_count": 83,
   "metadata": {},
   "outputs": [
    {
     "data": {
      "image/png": "[encoded data removed]",
      "text/plain": [
       "<matplotlib.figure.Figure at 0x7ff52dcd6f28>"
      ]
     },
     "metadata": {},
     "output_type": "display_data"
    }
   ],
   "source": [
    "import matplotlib.pyplot as plt\n",
    "\n",
    "#st_id = [114, 117, 119, 442, 504, 511, 1838, 1896]\n",
    "#303, 307!!, 393!!, 503, 516\n",
    "#test_station_id = [114, 117, 119, 302, 303, 307, 393, 442, 503, 504, 511, 516, 1838, 1896]\n",
    "z = copy(df_test[df_test['station_id']==615].set_index('date_time_utc'))\n",
    "\n",
    "start = pd.Timestamp(2012, 12, 1)\n",
    "end = pd.Timestamp(2017, 2, 1)\n",
    "\n",
    "to_plot = z[(z.index<=end) & (z.index>=start)]\n",
    "\n",
    "plt.figure(figsize=(30, 10))\n",
    "\n",
    "for elem in [True, False]:\n",
    "    cond_predict = (to_plot['label_predict'] == 0) == elem\n",
    "    cond_true = (to_plot['label_true'] == 0) == elem\n",
    "    \n",
    "    if elem:\n",
    "        plt.plot_date(to_plot[cond_predict].index, to_plot[cond_predict]['target_t_road'], 'b',\n",
    "                      linestyle='none', marker='o', markersize=8, label='t_road')\n",
    "    else:\n",
    "        \n",
    "        plt.plot_date(to_plot[cond_true].index, to_plot[cond_true]['target_t_road'], 'g.',\n",
    "                              linestyle='none', marker='o', label='outliers', markersize=12)\n",
    "        \n",
    "        plt.plot_date(to_plot[cond_predict].index, to_plot[cond_predict]['target_t_road'], 'r.',\n",
    "                              linestyle='none', marker='o', label='outliers', markersize=8)\n",
    "\n",
    "plt.grid()\n",
    "plt.legend(fontsize=32)\n",
    "plt.ylabel(r' Температура дороги, $^{\\circ}C$', fontsize=30)\n",
    "\n",
    "plt.tick_params(labelsize=30)\n",
    "plt.show()"
   ]
  },
  {
   "cell_type": "code",
   "execution_count": 20,
   "metadata": {},
   "outputs": [
    {
     "ename": "KeyError",
     "evalue": "\"['label_predict' 'decision_function'] not in index\"",
     "output_type": "error",
     "traceback": [
      "\u001b[0;31m---------------------------------------------------------------------------\u001b[0m",
      "\u001b[0;31mKeyError\u001b[0m                                  Traceback (most recent call last)",
      "\u001b[0;32m<ipython-input-20-397362f17d69>\u001b[0m in \u001b[0;36m<module>\u001b[0;34m()\u001b[0m\n\u001b[0;32m----> 1\u001b[0;31m \u001b[0mz\u001b[0m \u001b[0;34m=\u001b[0m \u001b[0mdf_test\u001b[0m\u001b[0;34m[\u001b[0m\u001b[0;34m[\u001b[0m\u001b[0;34m'label_true'\u001b[0m\u001b[0;34m,\u001b[0m \u001b[0;34m'label_predict'\u001b[0m\u001b[0;34m,\u001b[0m \u001b[0;34m'decision_function'\u001b[0m\u001b[0;34m]\u001b[0m\u001b[0;34m]\u001b[0m\u001b[0;34m\u001b[0m\u001b[0m\n\u001b[0m\u001b[1;32m      2\u001b[0m \u001b[0mz\u001b[0m\u001b[0;34m.\u001b[0m\u001b[0mcorr\u001b[0m\u001b[0;34m(\u001b[0m\u001b[0;34m)\u001b[0m\u001b[0;34m\u001b[0m\u001b[0m\n",
      "\u001b[0;32m/usr/local/lib/python3.5/dist-packages/pandas/core/frame.py\u001b[0m in \u001b[0;36m__getitem__\u001b[0;34m(self, key)\u001b[0m\n\u001b[1;32m   1956\u001b[0m         \u001b[0;32mif\u001b[0m \u001b[0misinstance\u001b[0m\u001b[0;34m(\u001b[0m\u001b[0mkey\u001b[0m\u001b[0;34m,\u001b[0m \u001b[0;34m(\u001b[0m\u001b[0mSeries\u001b[0m\u001b[0;34m,\u001b[0m \u001b[0mnp\u001b[0m\u001b[0;34m.\u001b[0m\u001b[0mndarray\u001b[0m\u001b[0;34m,\u001b[0m \u001b[0mIndex\u001b[0m\u001b[0;34m,\u001b[0m \u001b[0mlist\u001b[0m\u001b[0;34m)\u001b[0m\u001b[0;34m)\u001b[0m\u001b[0;34m:\u001b[0m\u001b[0;34m\u001b[0m\u001b[0m\n\u001b[1;32m   1957\u001b[0m             \u001b[0;31m# either boolean or fancy integer index\u001b[0m\u001b[0;34m\u001b[0m\u001b[0;34m\u001b[0m\u001b[0m\n\u001b[0;32m-> 1958\u001b[0;31m             \u001b[0;32mreturn\u001b[0m \u001b[0mself\u001b[0m\u001b[0;34m.\u001b[0m\u001b[0m_getitem_array\u001b[0m\u001b[0;34m(\u001b[0m\u001b[0mkey\u001b[0m\u001b[0;34m)\u001b[0m\u001b[0;34m\u001b[0m\u001b[0m\n\u001b[0m\u001b[1;32m   1959\u001b[0m         \u001b[0;32melif\u001b[0m \u001b[0misinstance\u001b[0m\u001b[0;34m(\u001b[0m\u001b[0mkey\u001b[0m\u001b[0;34m,\u001b[0m \u001b[0mDataFrame\u001b[0m\u001b[0;34m)\u001b[0m\u001b[0;34m:\u001b[0m\u001b[0;34m\u001b[0m\u001b[0m\n\u001b[1;32m   1960\u001b[0m             \u001b[0;32mreturn\u001b[0m \u001b[0mself\u001b[0m\u001b[0;34m.\u001b[0m\u001b[0m_getitem_frame\u001b[0m\u001b[0;34m(\u001b[0m\u001b[0mkey\u001b[0m\u001b[0;34m)\u001b[0m\u001b[0;34m\u001b[0m\u001b[0m\n",
      "\u001b[0;32m/usr/local/lib/python3.5/dist-packages/pandas/core/frame.py\u001b[0m in \u001b[0;36m_getitem_array\u001b[0;34m(self, key)\u001b[0m\n\u001b[1;32m   2000\u001b[0m             \u001b[0;32mreturn\u001b[0m \u001b[0mself\u001b[0m\u001b[0;34m.\u001b[0m\u001b[0mtake\u001b[0m\u001b[0;34m(\u001b[0m\u001b[0mindexer\u001b[0m\u001b[0;34m,\u001b[0m \u001b[0maxis\u001b[0m\u001b[0;34m=\u001b[0m\u001b[0;36m0\u001b[0m\u001b[0;34m,\u001b[0m \u001b[0mconvert\u001b[0m\u001b[0;34m=\u001b[0m\u001b[0;32mFalse\u001b[0m\u001b[0;34m)\u001b[0m\u001b[0;34m\u001b[0m\u001b[0m\n\u001b[1;32m   2001\u001b[0m         \u001b[0;32melse\u001b[0m\u001b[0;34m:\u001b[0m\u001b[0;34m\u001b[0m\u001b[0m\n\u001b[0;32m-> 2002\u001b[0;31m             \u001b[0mindexer\u001b[0m \u001b[0;34m=\u001b[0m \u001b[0mself\u001b[0m\u001b[0;34m.\u001b[0m\u001b[0mloc\u001b[0m\u001b[0;34m.\u001b[0m\u001b[0m_convert_to_indexer\u001b[0m\u001b[0;34m(\u001b[0m\u001b[0mkey\u001b[0m\u001b[0;34m,\u001b[0m \u001b[0maxis\u001b[0m\u001b[0;34m=\u001b[0m\u001b[0;36m1\u001b[0m\u001b[0;34m)\u001b[0m\u001b[0;34m\u001b[0m\u001b[0m\n\u001b[0m\u001b[1;32m   2003\u001b[0m             \u001b[0;32mreturn\u001b[0m \u001b[0mself\u001b[0m\u001b[0;34m.\u001b[0m\u001b[0mtake\u001b[0m\u001b[0;34m(\u001b[0m\u001b[0mindexer\u001b[0m\u001b[0;34m,\u001b[0m \u001b[0maxis\u001b[0m\u001b[0;34m=\u001b[0m\u001b[0;36m1\u001b[0m\u001b[0;34m,\u001b[0m \u001b[0mconvert\u001b[0m\u001b[0;34m=\u001b[0m\u001b[0;32mTrue\u001b[0m\u001b[0;34m)\u001b[0m\u001b[0;34m\u001b[0m\u001b[0m\n\u001b[1;32m   2004\u001b[0m \u001b[0;34m\u001b[0m\u001b[0m\n",
      "\u001b[0;32m/usr/local/lib/python3.5/dist-packages/pandas/core/indexing.py\u001b[0m in \u001b[0;36m_convert_to_indexer\u001b[0;34m(self, obj, axis, is_setter)\u001b[0m\n\u001b[1;32m   1229\u001b[0m                 \u001b[0mmask\u001b[0m \u001b[0;34m=\u001b[0m \u001b[0mcheck\u001b[0m \u001b[0;34m==\u001b[0m \u001b[0;34m-\u001b[0m\u001b[0;36m1\u001b[0m\u001b[0;34m\u001b[0m\u001b[0m\n\u001b[1;32m   1230\u001b[0m                 \u001b[0;32mif\u001b[0m \u001b[0mmask\u001b[0m\u001b[0;34m.\u001b[0m\u001b[0many\u001b[0m\u001b[0;34m(\u001b[0m\u001b[0;34m)\u001b[0m\u001b[0;34m:\u001b[0m\u001b[0;34m\u001b[0m\u001b[0m\n\u001b[0;32m-> 1231\u001b[0;31m                     \u001b[0;32mraise\u001b[0m \u001b[0mKeyError\u001b[0m\u001b[0;34m(\u001b[0m\u001b[0;34m'%s not in index'\u001b[0m \u001b[0;34m%\u001b[0m \u001b[0mobjarr\u001b[0m\u001b[0;34m[\u001b[0m\u001b[0mmask\u001b[0m\u001b[0;34m]\u001b[0m\u001b[0;34m)\u001b[0m\u001b[0;34m\u001b[0m\u001b[0m\n\u001b[0m\u001b[1;32m   1232\u001b[0m \u001b[0;34m\u001b[0m\u001b[0m\n\u001b[1;32m   1233\u001b[0m                 \u001b[0;32mreturn\u001b[0m \u001b[0m_values_from_object\u001b[0m\u001b[0;34m(\u001b[0m\u001b[0mindexer\u001b[0m\u001b[0;34m)\u001b[0m\u001b[0;34m\u001b[0m\u001b[0m\n",
      "\u001b[0;31mKeyError\u001b[0m: \"['label_predict' 'decision_function'] not in index\""
     ]
    }
   ],
   "source": [
    "z = df_test[['label_true', 'label_predict', 'decision_function']]\n",
    "z.corr()"
   ]
  },
  {
   "cell_type": "code",
   "execution_count": null,
   "metadata": {},
   "outputs": [],
   "source": []
  }
 ],
 "metadata": {
  "kernelspec": {
   "display_name": "Python 3",
   "language": "python",
   "name": "python3"
  },
  "language_info": {
   "codemirror_mode": {
    "name": "ipython",
    "version": 3
   },
   "file_extension": ".py",
   "mimetype": "text/x-python",
   "name": "python",
   "nbconvert_exporter": "python",
   "pygments_lexer": "ipython3",
   "version": "3.5.2"
  },
  "widgets": {
   "state": {
    "00326b32892a43d4ba69bd9c99cfa796": {
     "views": [
      {
       "cell_index": 7
      }
     ]
    },
    "1eb71c32c655466b842aaa0c3a382add": {
     "views": [
      {
       "cell_index": 7
      }
     ]
    },
    "2ad459046cde4777afe3f9e3c8c5b3ae": {
     "views": [
      {
       "cell_index": 7
      }
     ]
    },
    "3a74dceb621c486a9341da5c8a982164": {
     "views": [
      {
       "cell_index": 7
      }
     ]
    },
    "660c86c1a4384674a185be4b3bff31a9": {
     "views": [
      {
       "cell_index": 7
      }
     ]
    },
    "7f3b66d1e80d4f5e87d2988624d955d0": {
     "views": [
      {
       "cell_index": 7
      }
     ]
    },
    "943e2c1cc988476e971e75100750df58": {
     "views": [
      {
       "cell_index": 7
      }
     ]
    },
    "b4c7e54d4afe468e8123b8ed01cc507b": {
     "views": [
      {
       "cell_index": 7
      }
     ]
    },
    "daaa68dca49744bc9ee634c5c1142d96": {
     "views": [
      {
       "cell_index": 7
      }
     ]
    },
    "db245a5162754e999cfdd51d9b929484": {
     "views": [
      {
       "cell_index": 7
      }
     ]
    },
    "e0a44a8d4a2840a2aa38273cc13524ef": {
     "views": [
      {
       "cell_index": 7
      }
     ]
    },
    "eaa208b4699544f9a2ee2c4559d77e40": {
     "views": [
      {
       "cell_index": 7
      }
     ]
    },
    "f0ea691c74e14437adaf0ac14d37253b": {
     "views": [
      {
       "cell_index": 7
      }
     ]
    },
    "fa6314ecdce54b00b1655f84e78f9297": {
     "views": [
      {
       "cell_index": 7
      }
     ]
    }
   },
   "version": "1.2.0"
  }
 },
 "nbformat": 4,
 "nbformat_minor": 2
}
