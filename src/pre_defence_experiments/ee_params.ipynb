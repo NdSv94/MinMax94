{
 "cells": [
  {
   "cell_type": "code",
   "execution_count": 37,
   "metadata": {},
   "outputs": [],
   "source": [
    "import numpy as np\n",
    "import pandas as pd\n",
    "from copy import copy\n",
    "import sys\n",
    "sys.path.append('/home/ndsviriden/MinMax94/src/utils') \n",
    "from constants import data_directory, MmxColumns\n",
    "from interpolation import interpolate_mmx, create_patterns\n",
    "from converters import convert_raw_to_mmx\n",
    "from preprocessing import get_clean_data\n",
    "from loaders import load_mm94_stations, select_mm94_features\n",
    "from geographical import find_nearest_wmo_station, add_solar_angles, add_coordinates, add_road_id\n",
    "from sklearn.ensemble import IsolationForest\n",
    "from score import get_labels\n",
    "from score import calc_precision, calc_recall, calc_f1_score\n",
    "import gc\n",
    "from tqdm import tqdm_notebook\n",
    "from functools import reduce"
   ]
  },
  {
   "cell_type": "markdown",
   "metadata": {},
   "source": [
    "## Loading data"
   ]
  },
  {
   "cell_type": "code",
   "execution_count": 38,
   "metadata": {},
   "outputs": [
    {
     "name": "stderr",
     "output_type": "stream",
     "text": [
      "/home/ndsviriden/MinMax94/src/utils/geographical.py:65: RuntimeWarning: invalid value encountered in arccos\n",
      "  solar_azimuth = np.arccos(cos_az) * np.sign(h_rad)\n"
     ]
    },
    {
     "name": "stdout",
     "output_type": "stream",
     "text": [
      "CPU times: user 31.8 s, sys: 3.29 s, total: 35.1 s\n",
      "Wall time: 35.1 s\n"
     ]
    }
   ],
   "source": [
    "%%time\n",
    "generate_station_id = [615, 618, 620, 624, 626, 627, 635, 702, \n",
    "                       704, 862, 874, 888, 1808, 1813, 1826]\n",
    "\n",
    "raw = load_mm94_stations(generate_station_id)\n",
    "raw = select_mm94_features(raw, ['t_air', 't_road', 't_underroad', 'pressure', 'dampness'])\n",
    "\n",
    "mmx_rwis = convert_raw_to_mmx(raw)\n",
    "mmx_rwis_interpolated = interpolate_mmx(mmx_rwis)\n",
    "data = create_patterns(mmx_rwis_interpolated)\n",
    "data['data_solar_azimuth'], data['data_solar_altitude'] = add_solar_angles(data)\n",
    "data['data_latitude'], data['data_longitude'] = add_coordinates(data)\n",
    "data['data_road'] = add_road_id(data)\n",
    "data = data.dropna(subset=('data_t_road', ))\n",
    "data_clean = get_clean_data(data)\n",
    "data_clean = data_clean.reset_index(drop=True)\n",
    "\n",
    "gc.collect()"
   ]
  },
  {
   "cell_type": "markdown",
   "metadata": {},
   "source": [
    "## Generated anomalies"
   ]
  },
  {
   "cell_type": "markdown",
   "metadata": {},
   "source": [
    "### Single outlier"
   ]
  },
  {
   "cell_type": "code",
   "execution_count": 39,
   "metadata": {},
   "outputs": [],
   "source": [
    "def generate_single_anomaly(df, index, col=MmxColumns.ROAD_TEMPERATURE):\n",
    "    sign = np.random.choice([1, -1])\n",
    "    series_adding = sign * np.random.uniform(2, 5)\n",
    "    \n",
    "    perturbated_series = df.loc[index, col] + series_adding\n",
    "    return perturbated_series\n",
    "\n",
    "np.random.seed(42)\n",
    "test = copy(data_clean)\n",
    "test['label_true'] = False\n",
    "\n",
    "number_of_anomalies = 30 * len(generate_station_id)\n",
    "col = MmxColumns.ROAD_TEMPERATURE\n",
    "index_list = np.random.choice(test.index, number_of_anomalies, replace=False)\n",
    "\n",
    "for index in index_list:\n",
    "    perturbated_series = generate_single_anomaly(test, index)\n",
    "    test.loc[index, col] += perturbated_series\n",
    "    test.loc[index, 'label_true'] = True"
   ]
  },
  {
   "cell_type": "markdown",
   "metadata": {},
   "source": [
    "### Short-term anomaly"
   ]
  },
  {
   "cell_type": "code",
   "execution_count": 40,
   "metadata": {},
   "outputs": [],
   "source": [
    "def generate_short_term_anomaly(df, index, col=MmxColumns.ROAD_TEMPERATURE):\n",
    "    series_duration = np.random.randint(3, 12)\n",
    "    sign = np.random.choice([1, -1])\n",
    "    \n",
    "    series_adding = sign * np.random.exponential(2, series_duration)\n",
    "    perturbation = np.cumsum(series_adding)\n",
    "    \n",
    "    perturbated_series = df.loc[index: (index+series_duration-1), col] + perturbation\n",
    "    return perturbated_series\n",
    "\n",
    "\n",
    "number_of_anomalies = 20 * len(generate_station_id)\n",
    "col = MmxColumns.ROAD_TEMPERATURE\n",
    "index_list = np.random.choice(test.index, number_of_anomalies, replace=False)\n",
    "\n",
    "for index in index_list:\n",
    "    perturbated_series = generate_short_term_anomaly(test, index)\n",
    "    series_duration = len(perturbated_series)\n",
    "    test.loc[index: (index + series_duration - 1), col] += perturbated_series\n",
    "    test.loc[index: (index + series_duration - 1), 'label_true'] = True"
   ]
  },
  {
   "cell_type": "markdown",
   "metadata": {},
   "source": [
    "### Long term anomaly"
   ]
  },
  {
   "cell_type": "code",
   "execution_count": 41,
   "metadata": {},
   "outputs": [],
   "source": [
    "def generate_long_term_anomaly(df, index, col=MmxColumns.ROAD_TEMPERATURE):\n",
    "    series_duration = np.random.randint(300)\n",
    "    multiplier = np.random.uniform(1.5, 2)\n",
    "    perturbation = np.random.normal(0, 5, series_duration)\n",
    "    #print(series_duration, multiplier, index)\n",
    "    \n",
    "    perturbated_series = df.loc[index: (index + series_duration - 1), 'data_t_road'] * multiplier + perturbation\n",
    "    return perturbated_series\n",
    "\n",
    "number_of_anomalies = 3 * len(generate_station_id)\n",
    "col = MmxColumns.ROAD_TEMPERATURE\n",
    "index_list = np.random.choice(test.index, number_of_anomalies, replace=False)\n",
    "\n",
    "for index in index_list:\n",
    "    perturbated_series = generate_long_term_anomaly(test, index)\n",
    "    series_duration = len(perturbated_series)\n",
    "    test.loc[index: (index + series_duration - 1), col] += perturbated_series\n",
    "    test.loc[index: (index + series_duration - 1), 'label_true'] = True"
   ]
  },
  {
   "cell_type": "markdown",
   "metadata": {},
   "source": [
    "## Feature selection"
   ]
  },
  {
   "cell_type": "code",
   "execution_count": 42,
   "metadata": {},
   "outputs": [
    {
     "name": "stdout",
     "output_type": "stream",
     "text": [
      "CPU times: user 1.05 s, sys: 97.3 ms, total: 1.15 s\n",
      "Wall time: 1.15 s\n"
     ]
    }
   ],
   "source": [
    "%%time\n",
    "\n",
    "from preprocessing import create_feature_df\n",
    "\n",
    "\n",
    "time = 0\n",
    "lag_list=(1, 2, 3)\n",
    "diff_list=((1, 2), (1, 3))\n",
    "post_process = False\n",
    "regression_mode = False\n",
    "variables = ['data_t_road']\n",
    "\n",
    "df_test = create_feature_df(test, coordinates=False,\n",
    "                            winter_period=False, time=time, lag_list=lag_list, road_id=False,\n",
    "                            diff_list=diff_list, post_process=post_process, variables=variables)\n",
    "\n",
    "features = [col for col in df_test if col.startswith('data_')]\n",
    "target = [col for col in df_test if col.startswith('target_')]\n",
    "\n",
    "X_test = np.array(df_test[features + target])"
   ]
  },
  {
   "cell_type": "markdown",
   "metadata": {},
   "source": [
    "## Fit_Predict"
   ]
  },
  {
   "cell_type": "code",
   "execution_count": 31,
   "metadata": {},
   "outputs": [
    {
     "name": "stderr",
     "output_type": "stream",
     "text": [
      "/home/ndsviriden/.local/lib/python3.5/site-packages/sklearn/covariance/robust_covariance.py:622: UserWarning: The covariance matrix associated to your dataset is not full rank\n",
      "  warnings.warn(\"The covariance matrix associated to your dataset \"\n"
     ]
    },
    {
     "name": "stdout",
     "output_type": "stream",
     "text": [
      "Contamination: 0.0022\n",
      "Recall: 0.844 \n",
      "Precision: 0.987 \n",
      "F1:0.910\n",
      "------------------------------------------------\n",
      "Contamination: 0.0030\n",
      "Recall: 0.918 \n",
      "Precision: 0.979 \n",
      "F1:0.947\n",
      "------------------------------------------------\n",
      "Contamination: 0.0038\n",
      "Recall: 0.936 \n",
      "Precision: 0.973 \n",
      "F1:0.955\n",
      "------------------------------------------------\n",
      "Contamination: 0.0046\n",
      "Recall: 0.959 \n",
      "Precision: 0.965 \n",
      "F1:0.962\n",
      "------------------------------------------------\n",
      "Contamination: 0.0054\n",
      "Recall: 0.968 \n",
      "Precision: 0.949 \n",
      "F1:0.958\n",
      "------------------------------------------------\n",
      "Contamination: 0.0062\n",
      "Recall: 0.975 \n",
      "Precision: 0.927 \n",
      "F1:0.950\n",
      "------------------------------------------------\n",
      "Contamination: 0.0070\n",
      "Recall: 0.984 \n",
      "Precision: 0.902 \n",
      "F1:0.941\n",
      "------------------------------------------------\n"
     ]
    },
    {
     "name": "stderr",
     "output_type": "stream",
     "text": [
      "/home/ndsviriden/.local/lib/python3.5/site-packages/sklearn/covariance/robust_covariance.py:165: RuntimeWarning: Warning! det > previous_det (-115.276122570774518 > -118.788261334075656)\n",
      "  % (det, previous_det), RuntimeWarning)\n",
      "/home/ndsviriden/.local/lib/python3.5/site-packages/sklearn/covariance/robust_covariance.py:165: RuntimeWarning: Warning! det > previous_det (-113.658542416736537 > -118.861810428485995)\n",
      "  % (det, previous_det), RuntimeWarning)\n",
      "/home/ndsviriden/.local/lib/python3.5/site-packages/sklearn/covariance/robust_covariance.py:165: RuntimeWarning: Warning! det > previous_det (-115.433913254917385 > -117.643223022604417)\n",
      "  % (det, previous_det), RuntimeWarning)\n",
      "/home/ndsviriden/.local/lib/python3.5/site-packages/sklearn/covariance/robust_covariance.py:165: RuntimeWarning: Warning! det > previous_det (-115.295786779132271 > -122.501755010184809)\n",
      "  % (det, previous_det), RuntimeWarning)\n",
      "/home/ndsviriden/.local/lib/python3.5/site-packages/sklearn/covariance/robust_covariance.py:165: RuntimeWarning: Warning! det > previous_det (-115.661374413563578 > -119.760286465422979)\n",
      "  % (det, previous_det), RuntimeWarning)\n",
      "/home/ndsviriden/.local/lib/python3.5/site-packages/sklearn/covariance/robust_covariance.py:165: RuntimeWarning: Warning! det > previous_det (-116.502828073229509 > -121.197243930875572)\n",
      "  % (det, previous_det), RuntimeWarning)\n"
     ]
    },
    {
     "name": "stdout",
     "output_type": "stream",
     "text": [
      "Contamination: 0.0078\n",
      "Recall: 0.987 \n",
      "Precision: 0.871 \n",
      "F1:0.925\n",
      "------------------------------------------------\n",
      "Contamination: 0.0085\n",
      "Recall: 0.988 \n",
      "Precision: 0.836 \n",
      "F1:0.905\n",
      "------------------------------------------------\n",
      "Contamination: 0.0093\n",
      "Recall: 0.990 \n",
      "Precision: 0.806 \n",
      "F1:0.889\n",
      "------------------------------------------------\n",
      "Contamination: 0.0101\n",
      "Recall: 0.992 \n",
      "Precision: 0.773 \n",
      "F1:0.869\n",
      "------------------------------------------------\n",
      "Contamination: 0.0109\n",
      "Recall: 0.994 \n",
      "Precision: 0.742 \n",
      "F1:0.849\n",
      "------------------------------------------------\n",
      "Contamination: 0.0117\n",
      "Recall: 0.995 \n",
      "Precision: 0.717 \n",
      "F1:0.833\n",
      "------------------------------------------------\n"
     ]
    },
    {
     "name": "stderr",
     "output_type": "stream",
     "text": [
      "/home/ndsviriden/.local/lib/python3.5/site-packages/sklearn/covariance/robust_covariance.py:165: RuntimeWarning: Warning! det > previous_det (-114.893542434091415 > -120.863528354719918)\n",
      "  % (det, previous_det), RuntimeWarning)\n"
     ]
    },
    {
     "name": "stdout",
     "output_type": "stream",
     "text": [
      "Contamination: 0.0125\n",
      "Recall: 0.995 \n",
      "Precision: 0.692 \n",
      "F1:0.816\n",
      "------------------------------------------------\n"
     ]
    },
    {
     "name": "stderr",
     "output_type": "stream",
     "text": [
      "/home/ndsviriden/.local/lib/python3.5/site-packages/sklearn/covariance/robust_covariance.py:165: RuntimeWarning: Warning! det > previous_det (-116.296778373458821 > -117.462877416548764)\n",
      "  % (det, previous_det), RuntimeWarning)\n"
     ]
    },
    {
     "name": "stdout",
     "output_type": "stream",
     "text": [
      "Contamination: 0.0133\n",
      "Recall: 0.996 \n",
      "Precision: 0.673 \n",
      "F1:0.803\n",
      "------------------------------------------------\n",
      "Contamination: 0.0141\n",
      "Recall: 0.997 \n",
      "Precision: 0.651 \n",
      "F1:0.787\n",
      "------------------------------------------------\n",
      "Contamination: 0.0149\n",
      "Recall: 0.997 \n",
      "Precision: 0.634 \n",
      "F1:0.775\n",
      "------------------------------------------------\n"
     ]
    },
    {
     "name": "stderr",
     "output_type": "stream",
     "text": [
      "/home/ndsviriden/.local/lib/python3.5/site-packages/sklearn/covariance/robust_covariance.py:165: RuntimeWarning: Warning! det > previous_det (-111.471107358139918 > -114.471802310683387)\n",
      "  % (det, previous_det), RuntimeWarning)\n",
      "/home/ndsviriden/.local/lib/python3.5/site-packages/sklearn/covariance/robust_covariance.py:165: RuntimeWarning: Warning! det > previous_det (-116.734822420733792 > -120.963191719575917)\n",
      "  % (det, previous_det), RuntimeWarning)\n"
     ]
    },
    {
     "name": "stdout",
     "output_type": "stream",
     "text": [
      "Contamination: 0.0157\n",
      "Recall: 0.997 \n",
      "Precision: 0.616 \n",
      "F1:0.761\n",
      "------------------------------------------------\n",
      "Contamination: 0.0165\n",
      "Recall: 0.997 \n",
      "Precision: 0.599 \n",
      "F1:0.749\n",
      "------------------------------------------------\n"
     ]
    },
    {
     "name": "stderr",
     "output_type": "stream",
     "text": [
      "/home/ndsviriden/.local/lib/python3.5/site-packages/sklearn/covariance/robust_covariance.py:165: RuntimeWarning: Warning! det > previous_det (-115.458783451972963 > -118.679011632378831)\n",
      "  % (det, previous_det), RuntimeWarning)\n"
     ]
    },
    {
     "name": "stdout",
     "output_type": "stream",
     "text": [
      "Contamination: 0.0173\n",
      "Recall: 0.997 \n",
      "Precision: 0.580 \n",
      "F1:0.734\n",
      "------------------------------------------------\n"
     ]
    }
   ],
   "source": [
    "from sklearn.covariance import EllipticEnvelope\n",
    "\n",
    "thresh_list = []\n",
    "contamination = len(df_test[df_test['label_true']]) / len(test)\n",
    "\n",
    "for cont in np.linspace(contamination / 4, contamination * 2, 20):\n",
    "    \n",
    "    clf = EllipticEnvelope(contamination=cont)\n",
    "    clf.fit(X_test)\n",
    "    df_test['label_predict'] = (1 - clf.predict(X_test)) / 2 \n",
    "    df_test['decision_function'] =  clf.decision_function(X_test)\n",
    "    \n",
    "    window = pd.Timedelta('4h')\n",
    "    st_id = generate_station_id\n",
    "\n",
    "    recall = calc_recall(df_test, st_id, window)\n",
    "    precision = calc_precision(df_test, st_id, window)\n",
    "    f1_score = calc_f1_score(precision, recall)\n",
    "    \n",
    "    thresh_list.append({'Threshold': cont, 'Recall': recall, 'Precision': precision, 'F1': f1_score})\n",
    "    \n",
    "    print(\"Contamination: {0:.4f}\".format(cont))\n",
    "    print(\"Recall: {0:.3f} \\nPrecision: {1:.3f} \\nF1:{2:.3f}\".format(recall, precision, f1_score))\n",
    "    print(\"------------------------------------------------\")"
   ]
  },
  {
   "cell_type": "code",
   "execution_count": 32,
   "metadata": {},
   "outputs": [
    {
     "data": {
      "text/plain": [
       "[{'F1': 0.910119249872985,\n",
       "  'Precision': 0.9872821479039096,\n",
       "  'Recall': 0.8441436138905238,\n",
       "  'Threshold': 0.0021659204715816956},\n",
       " {'F1': 0.9472042611604105,\n",
       "  'Precision': 0.9786501377410468,\n",
       "  'Recall': 0.9177163037080636,\n",
       "  'Threshold': 0.0029638911716381097},\n",
       " {'F1': 0.9545650418488019,\n",
       "  'Precision': 0.9734129137276181,\n",
       "  'Recall': 0.9364331959976456,\n",
       "  'Threshold': 0.003761861871694524},\n",
       " {'F1': 0.9619838061963599,\n",
       "  'Precision': 0.9653088630259624,\n",
       "  'Recall': 0.9586815773984697,\n",
       "  'Threshold': 0.004559832571750938},\n",
       " {'F1': 0.9582385703097678,\n",
       "  'Precision': 0.9491428571428572,\n",
       "  'Recall': 0.9675103001765745,\n",
       "  'Threshold': 0.005357803271807352},\n",
       " {'F1': 0.9504445684931457,\n",
       "  'Precision': 0.9270557029177718,\n",
       "  'Recall': 0.9750441436138906,\n",
       "  'Threshold': 0.006155773971863766},\n",
       " {'F1': 0.9408118056153845,\n",
       "  'Precision': 0.9016585938646705,\n",
       "  'Recall': 0.9835197174808711,\n",
       "  'Threshold': 0.0069537446719201805},\n",
       " {'F1': 0.9251828277782999,\n",
       "  'Precision': 0.8707044107965767,\n",
       "  'Recall': 0.9869334902884049,\n",
       "  'Threshold': 0.007751715371976595},\n",
       " {'F1': 0.9054207968291226,\n",
       "  'Precision': 0.8355019696788827,\n",
       "  'Recall': 0.9881106533254855,\n",
       "  'Threshold': 0.008549686072033009},\n",
       " {'F1': 0.888761037319203,\n",
       "  'Precision': 0.8063107326127307,\n",
       "  'Recall': 0.9899941141848146,\n",
       "  'Threshold': 0.009347656772089423},\n",
       " {'F1': 0.868605549068737,\n",
       "  'Precision': 0.7726586862488684,\n",
       "  'Recall': 0.9917598587404356,\n",
       "  'Threshold': 0.010145627472145837},\n",
       " {'F1': 0.8493764369897053,\n",
       "  'Precision': 0.7415594105577318,\n",
       "  'Recall': 0.9938787522071807,\n",
       "  'Threshold': 0.010943598172202251},\n",
       " {'F1': 0.8330853891355005,\n",
       "  'Precision': 0.7167072322670376,\n",
       "  'Recall': 0.9945850500294291,\n",
       "  'Threshold': 0.011741568872258665},\n",
       " {'F1': 0.8163640280024599,\n",
       "  'Precision': 0.6922513429920234,\n",
       "  'Recall': 0.9947027663331371,\n",
       "  'Threshold': 0.01253953957231508},\n",
       " {'F1': 0.8028315100046426,\n",
       "  'Precision': 0.6726354453627181,\n",
       "  'Recall': 0.9955267804590936,\n",
       "  'Threshold': 0.013337510272371494},\n",
       " {'F1': 0.787372211990912,\n",
       "  'Precision': 0.6507581227436823,\n",
       "  'Recall': 0.9965862271924661,\n",
       "  'Threshold': 0.014135480972427908},\n",
       " {'F1': 0.7746905782232205,\n",
       "  'Precision': 0.6335178730093637,\n",
       "  'Recall': 0.9968216597998822,\n",
       "  'Threshold': 0.014933451672484322},\n",
       " {'F1': 0.7612169572221793,\n",
       "  'Precision': 0.6156491273600208,\n",
       "  'Recall': 0.9969393761035904,\n",
       "  'Threshold': 0.015731422372540736},\n",
       " {'F1': 0.7487406139055828,\n",
       "  'Precision': 0.5993207780179067,\n",
       "  'Recall': 0.9974102413184226,\n",
       "  'Threshold': 0.01652939307259715},\n",
       " {'F1': 0.7336354050991432,\n",
       "  'Precision': 0.5801967367615009,\n",
       "  'Recall': 0.9974102413184226,\n",
       "  'Threshold': 0.017327363772653565}]"
      ]
     },
     "execution_count": 32,
     "metadata": {},
     "output_type": "execute_result"
    }
   ],
   "source": [
    "thresh_list"
   ]
  },
  {
   "cell_type": "markdown",
   "metadata": {},
   "source": [
    "## Result"
   ]
  },
  {
   "cell_type": "code",
   "execution_count": 21,
   "metadata": {},
   "outputs": [
    {
     "name": "stdout",
     "output_type": "stream",
     "text": [
      "Recall: 0.989 \n",
      "Precision: 0.831 \n",
      "F1:0.903\n",
      "----------------------------------------\n"
     ]
    }
   ],
   "source": [
    "window = pd.Timedelta('4h')\n",
    "st_id = generate_station_id\n",
    "\n",
    "recall = calc_recall(df_test, st_id, window)\n",
    "precision = calc_precision(df_test, st_id, window)\n",
    "f1_score = calc_f1_score(precision, recall)\n",
    "\n",
    "print(\"Recall: {0:.3f} \\nPrecision: {1:.3f} \\nF1:{2:.3f}\".format(recall, precision, f1_score))"
   ]
  },
  {
   "cell_type": "markdown",
   "metadata": {},
   "source": [
    "import pickle\n",
    "\n",
    "pickle.dump(clf, open('/mnt/HARD/MinMax94/models/pickle/elliptic_envelope_artificial.pickle', \"wb\"))"
   ]
  },
  {
   "cell_type": "markdown",
   "metadata": {},
   "source": [
    "## Real data"
   ]
  },
  {
   "cell_type": "code",
   "execution_count": 45,
   "metadata": {},
   "outputs": [
    {
     "name": "stderr",
     "output_type": "stream",
     "text": [
      "/home/ndsviriden/MinMax94/src/utils/geographical.py:65: RuntimeWarning: invalid value encountered in arccos\n",
      "  solar_azimuth = np.arccos(cos_az) * np.sign(h_rad)\n"
     ]
    },
    {
     "name": "stdout",
     "output_type": "stream",
     "text": [
      "CPU times: user 24.8 s, sys: 1.91 s, total: 26.7 s\n",
      "Wall time: 26.7 s\n"
     ]
    }
   ],
   "source": [
    "%%time\n",
    "test_station_id = [114, 117, 119, 302, 303, 307, 393, 442, 503, 504, \n",
    "                   511, 516, 1838, 1896]\n",
    "\n",
    "\n",
    "\n",
    "raw = load_mm94_stations(test_station_id)\n",
    "raw = select_mm94_features(raw, ['t_air', 't_road', 't_underroad', 'pressure', 'dampness'])\n",
    "\n",
    "mmx_rwis = convert_raw_to_mmx(raw)\n",
    "mmx_rwis_interpolated = interpolate_mmx(mmx_rwis)\n",
    "data = create_patterns(mmx_rwis_interpolated)\n",
    "\n",
    "data['data_solar_azimuth'], data['data_solar_altitude'] = add_solar_angles(data)\n",
    "data['data_latitude'], data['data_longitude'] = add_coordinates(data)\n",
    "data['data_road'] = add_road_id(data)\n",
    "data = data.dropna(subset=('data_t_road', ))\n",
    "\n",
    "del data[MmxColumns.ID_AIR_TEMPERATURE], data[MmxColumns.ID_UNDERGROUND_TEMPERATURE], \\\n",
    "    data[MmxColumns.ID_PRESSURE], data[MmxColumns.ID_HUMIDITY]\n",
    "\n",
    "test_real = data[data['station_id'].isin(test_station_id)]\n",
    "test_real = test_real.reset_index(drop=True)\n",
    "test_real['label_true'] = get_labels(test_real, labels_type='true')\n",
    "\n",
    "del data, raw, mmx_rwis, mmx_rwis_interpolated\n",
    "gc.collect()"
   ]
  },
  {
   "cell_type": "code",
   "execution_count": 46,
   "metadata": {},
   "outputs": [
    {
     "name": "stdout",
     "output_type": "stream",
     "text": [
      "CPU times: user 851 ms, sys: 31.9 ms, total: 882 ms\n",
      "Wall time: 883 ms\n"
     ]
    }
   ],
   "source": [
    "%%time\n",
    "\n",
    "from preprocessing import create_feature_df\n",
    "\n",
    "\n",
    "time = 0\n",
    "lag_list=(1, 2, 3)\n",
    "diff_list=((1, 2), (1, 3))\n",
    "post_process = False\n",
    "regression_mode = False\n",
    "variables = ['data_t_road']\n",
    "\n",
    "df_test_real = create_feature_df(test_real, coordinates=False,\n",
    "                            winter_period=False, time=time, lag_list=lag_list, road_id=False,\n",
    "                            diff_list=diff_list, post_process=post_process, variables=variables)\n",
    "\n",
    "features = [col for col in df_test_real if col.startswith('data_')]\n",
    "target = [col for col in df_test_real if col.startswith('target_')]\n",
    "\n",
    "X_test_r = np.array(df_test_real[features + target])"
   ]
  },
  {
   "cell_type": "code",
   "execution_count": 47,
   "metadata": {},
   "outputs": [
    {
     "name": "stderr",
     "output_type": "stream",
     "text": [
      "/home/ndsviriden/.local/lib/python3.5/site-packages/sklearn/covariance/robust_covariance.py:622: UserWarning: The covariance matrix associated to your dataset is not full rank\n",
      "  warnings.warn(\"The covariance matrix associated to your dataset \"\n"
     ]
    },
    {
     "ename": "KeyError",
     "evalue": "'label_predict'",
     "output_type": "error",
     "traceback": [
      "\u001b[0;31m---------------------------------------------------------------------------\u001b[0m",
      "\u001b[0;31mKeyError\u001b[0m                                  Traceback (most recent call last)",
      "\u001b[0;32m/usr/local/lib/python3.5/dist-packages/pandas/core/indexes/base.py\u001b[0m in \u001b[0;36mget_loc\u001b[0;34m(self, key, method, tolerance)\u001b[0m\n\u001b[1;32m   2441\u001b[0m             \u001b[0;32mtry\u001b[0m\u001b[0;34m:\u001b[0m\u001b[0;34m\u001b[0m\u001b[0m\n\u001b[0;32m-> 2442\u001b[0;31m                 \u001b[0;32mreturn\u001b[0m \u001b[0mself\u001b[0m\u001b[0;34m.\u001b[0m\u001b[0m_engine\u001b[0m\u001b[0;34m.\u001b[0m\u001b[0mget_loc\u001b[0m\u001b[0;34m(\u001b[0m\u001b[0mkey\u001b[0m\u001b[0;34m)\u001b[0m\u001b[0;34m\u001b[0m\u001b[0m\n\u001b[0m\u001b[1;32m   2443\u001b[0m             \u001b[0;32mexcept\u001b[0m \u001b[0mKeyError\u001b[0m\u001b[0;34m:\u001b[0m\u001b[0;34m\u001b[0m\u001b[0m\n",
      "\u001b[0;32mpandas/_libs/index.pyx\u001b[0m in \u001b[0;36mpandas._libs.index.IndexEngine.get_loc (pandas/_libs/index.c:5280)\u001b[0;34m()\u001b[0m\n",
      "\u001b[0;32mpandas/_libs/index.pyx\u001b[0m in \u001b[0;36mpandas._libs.index.IndexEngine.get_loc (pandas/_libs/index.c:5126)\u001b[0;34m()\u001b[0m\n",
      "\u001b[0;32mpandas/_libs/hashtable_class_helper.pxi\u001b[0m in \u001b[0;36mpandas._libs.hashtable.PyObjectHashTable.get_item (pandas/_libs/hashtable.c:20523)\u001b[0;34m()\u001b[0m\n",
      "\u001b[0;32mpandas/_libs/hashtable_class_helper.pxi\u001b[0m in \u001b[0;36mpandas._libs.hashtable.PyObjectHashTable.get_item (pandas/_libs/hashtable.c:20477)\u001b[0;34m()\u001b[0m\n",
      "\u001b[0;31mKeyError\u001b[0m: 'label_predict'",
      "\nDuring handling of the above exception, another exception occurred:\n",
      "\u001b[0;31mKeyError\u001b[0m                                  Traceback (most recent call last)",
      "\u001b[0;32m<ipython-input-47-3d6d1d13784a>\u001b[0m in \u001b[0;36m<module>\u001b[0;34m()\u001b[0m\n\u001b[1;32m     14\u001b[0m     \u001b[0mst_id\u001b[0m \u001b[0;34m=\u001b[0m \u001b[0mgenerate_station_id\u001b[0m\u001b[0;34m\u001b[0m\u001b[0m\n\u001b[1;32m     15\u001b[0m \u001b[0;34m\u001b[0m\u001b[0m\n\u001b[0;32m---> 16\u001b[0;31m     \u001b[0mrecall\u001b[0m \u001b[0;34m=\u001b[0m \u001b[0mcalc_recall\u001b[0m\u001b[0;34m(\u001b[0m\u001b[0mdf_test\u001b[0m\u001b[0;34m,\u001b[0m \u001b[0mst_id\u001b[0m\u001b[0;34m,\u001b[0m \u001b[0mwindow\u001b[0m\u001b[0;34m)\u001b[0m\u001b[0;34m\u001b[0m\u001b[0m\n\u001b[0m\u001b[1;32m     17\u001b[0m     \u001b[0mprecision\u001b[0m \u001b[0;34m=\u001b[0m \u001b[0mcalc_precision\u001b[0m\u001b[0;34m(\u001b[0m\u001b[0mdf_test\u001b[0m\u001b[0;34m,\u001b[0m \u001b[0mst_id\u001b[0m\u001b[0;34m,\u001b[0m \u001b[0mwindow\u001b[0m\u001b[0;34m)\u001b[0m\u001b[0;34m\u001b[0m\u001b[0m\n\u001b[1;32m     18\u001b[0m     \u001b[0mf1_score\u001b[0m \u001b[0;34m=\u001b[0m \u001b[0mcalc_f1_score\u001b[0m\u001b[0;34m(\u001b[0m\u001b[0mprecision\u001b[0m\u001b[0;34m,\u001b[0m \u001b[0mrecall\u001b[0m\u001b[0;34m)\u001b[0m\u001b[0;34m\u001b[0m\u001b[0m\n",
      "\u001b[0;32m~/MinMax94/src/utils/score.py\u001b[0m in \u001b[0;36mcalc_recall\u001b[0;34m(df_test, station_list, window)\u001b[0m\n\u001b[1;32m     31\u001b[0m     \u001b[0;32mfor\u001b[0m \u001b[0mstation\u001b[0m \u001b[0;32min\u001b[0m \u001b[0mstation_list\u001b[0m\u001b[0;34m:\u001b[0m\u001b[0;34m\u001b[0m\u001b[0m\n\u001b[1;32m     32\u001b[0m         \u001b[0mdf\u001b[0m \u001b[0;34m=\u001b[0m \u001b[0mdf_test\u001b[0m\u001b[0;34m[\u001b[0m\u001b[0mdf_test\u001b[0m\u001b[0;34m[\u001b[0m\u001b[0mMmxColumns\u001b[0m\u001b[0;34m.\u001b[0m\u001b[0mSTATION_ID\u001b[0m\u001b[0;34m]\u001b[0m \u001b[0;34m==\u001b[0m \u001b[0mstation\u001b[0m\u001b[0;34m]\u001b[0m\u001b[0;34m\u001b[0m\u001b[0m\n\u001b[0;32m---> 33\u001b[0;31m         \u001b[0mpredicted_anomalies\u001b[0m \u001b[0;34m=\u001b[0m \u001b[0mdf\u001b[0m\u001b[0;34m[\u001b[0m\u001b[0mdf\u001b[0m\u001b[0;34m[\u001b[0m\u001b[0;34m'label_predict'\u001b[0m\u001b[0;34m]\u001b[0m \u001b[0;34m==\u001b[0m \u001b[0;36m1\u001b[0m\u001b[0;34m]\u001b[0m\u001b[0;34m\u001b[0m\u001b[0m\n\u001b[0m\u001b[1;32m     34\u001b[0m         \u001b[0;32mfor\u001b[0m \u001b[0manomaly\u001b[0m \u001b[0;32min\u001b[0m \u001b[0mpredicted_anomalies\u001b[0m\u001b[0;34m.\u001b[0m\u001b[0miterrows\u001b[0m\u001b[0;34m(\u001b[0m\u001b[0;34m)\u001b[0m\u001b[0;34m:\u001b[0m\u001b[0;34m\u001b[0m\u001b[0m\n\u001b[1;32m     35\u001b[0m             \u001b[0mdt\u001b[0m \u001b[0;34m=\u001b[0m \u001b[0manomaly\u001b[0m\u001b[0;34m[\u001b[0m\u001b[0;36m1\u001b[0m\u001b[0;34m]\u001b[0m\u001b[0;34m[\u001b[0m\u001b[0mMmxColumns\u001b[0m\u001b[0;34m.\u001b[0m\u001b[0mDATE_TIME_UTC\u001b[0m\u001b[0;34m]\u001b[0m\u001b[0;34m\u001b[0m\u001b[0m\n",
      "\u001b[0;32m/usr/local/lib/python3.5/dist-packages/pandas/core/frame.py\u001b[0m in \u001b[0;36m__getitem__\u001b[0;34m(self, key)\u001b[0m\n\u001b[1;32m   1962\u001b[0m             \u001b[0;32mreturn\u001b[0m \u001b[0mself\u001b[0m\u001b[0;34m.\u001b[0m\u001b[0m_getitem_multilevel\u001b[0m\u001b[0;34m(\u001b[0m\u001b[0mkey\u001b[0m\u001b[0;34m)\u001b[0m\u001b[0;34m\u001b[0m\u001b[0m\n\u001b[1;32m   1963\u001b[0m         \u001b[0;32melse\u001b[0m\u001b[0;34m:\u001b[0m\u001b[0;34m\u001b[0m\u001b[0m\n\u001b[0;32m-> 1964\u001b[0;31m             \u001b[0;32mreturn\u001b[0m \u001b[0mself\u001b[0m\u001b[0;34m.\u001b[0m\u001b[0m_getitem_column\u001b[0m\u001b[0;34m(\u001b[0m\u001b[0mkey\u001b[0m\u001b[0;34m)\u001b[0m\u001b[0;34m\u001b[0m\u001b[0m\n\u001b[0m\u001b[1;32m   1965\u001b[0m \u001b[0;34m\u001b[0m\u001b[0m\n\u001b[1;32m   1966\u001b[0m     \u001b[0;32mdef\u001b[0m \u001b[0m_getitem_column\u001b[0m\u001b[0;34m(\u001b[0m\u001b[0mself\u001b[0m\u001b[0;34m,\u001b[0m \u001b[0mkey\u001b[0m\u001b[0;34m)\u001b[0m\u001b[0;34m:\u001b[0m\u001b[0;34m\u001b[0m\u001b[0m\n",
      "\u001b[0;32m/usr/local/lib/python3.5/dist-packages/pandas/core/frame.py\u001b[0m in \u001b[0;36m_getitem_column\u001b[0;34m(self, key)\u001b[0m\n\u001b[1;32m   1969\u001b[0m         \u001b[0;31m# get column\u001b[0m\u001b[0;34m\u001b[0m\u001b[0;34m\u001b[0m\u001b[0m\n\u001b[1;32m   1970\u001b[0m         \u001b[0;32mif\u001b[0m \u001b[0mself\u001b[0m\u001b[0;34m.\u001b[0m\u001b[0mcolumns\u001b[0m\u001b[0;34m.\u001b[0m\u001b[0mis_unique\u001b[0m\u001b[0;34m:\u001b[0m\u001b[0;34m\u001b[0m\u001b[0m\n\u001b[0;32m-> 1971\u001b[0;31m             \u001b[0;32mreturn\u001b[0m \u001b[0mself\u001b[0m\u001b[0;34m.\u001b[0m\u001b[0m_get_item_cache\u001b[0m\u001b[0;34m(\u001b[0m\u001b[0mkey\u001b[0m\u001b[0;34m)\u001b[0m\u001b[0;34m\u001b[0m\u001b[0m\n\u001b[0m\u001b[1;32m   1972\u001b[0m \u001b[0;34m\u001b[0m\u001b[0m\n\u001b[1;32m   1973\u001b[0m         \u001b[0;31m# duplicate columns & possible reduce dimensionality\u001b[0m\u001b[0;34m\u001b[0m\u001b[0;34m\u001b[0m\u001b[0m\n",
      "\u001b[0;32m/usr/local/lib/python3.5/dist-packages/pandas/core/generic.py\u001b[0m in \u001b[0;36m_get_item_cache\u001b[0;34m(self, item)\u001b[0m\n\u001b[1;32m   1643\u001b[0m         \u001b[0mres\u001b[0m \u001b[0;34m=\u001b[0m \u001b[0mcache\u001b[0m\u001b[0;34m.\u001b[0m\u001b[0mget\u001b[0m\u001b[0;34m(\u001b[0m\u001b[0mitem\u001b[0m\u001b[0;34m)\u001b[0m\u001b[0;34m\u001b[0m\u001b[0m\n\u001b[1;32m   1644\u001b[0m         \u001b[0;32mif\u001b[0m \u001b[0mres\u001b[0m \u001b[0;32mis\u001b[0m \u001b[0;32mNone\u001b[0m\u001b[0;34m:\u001b[0m\u001b[0;34m\u001b[0m\u001b[0m\n\u001b[0;32m-> 1645\u001b[0;31m             \u001b[0mvalues\u001b[0m \u001b[0;34m=\u001b[0m \u001b[0mself\u001b[0m\u001b[0;34m.\u001b[0m\u001b[0m_data\u001b[0m\u001b[0;34m.\u001b[0m\u001b[0mget\u001b[0m\u001b[0;34m(\u001b[0m\u001b[0mitem\u001b[0m\u001b[0;34m)\u001b[0m\u001b[0;34m\u001b[0m\u001b[0m\n\u001b[0m\u001b[1;32m   1646\u001b[0m             \u001b[0mres\u001b[0m \u001b[0;34m=\u001b[0m \u001b[0mself\u001b[0m\u001b[0;34m.\u001b[0m\u001b[0m_box_item_values\u001b[0m\u001b[0;34m(\u001b[0m\u001b[0mitem\u001b[0m\u001b[0;34m,\u001b[0m \u001b[0mvalues\u001b[0m\u001b[0;34m)\u001b[0m\u001b[0;34m\u001b[0m\u001b[0m\n\u001b[1;32m   1647\u001b[0m             \u001b[0mcache\u001b[0m\u001b[0;34m[\u001b[0m\u001b[0mitem\u001b[0m\u001b[0;34m]\u001b[0m \u001b[0;34m=\u001b[0m \u001b[0mres\u001b[0m\u001b[0;34m\u001b[0m\u001b[0m\n",
      "\u001b[0;32m/usr/local/lib/python3.5/dist-packages/pandas/core/internals.py\u001b[0m in \u001b[0;36mget\u001b[0;34m(self, item, fastpath)\u001b[0m\n\u001b[1;32m   3588\u001b[0m \u001b[0;34m\u001b[0m\u001b[0m\n\u001b[1;32m   3589\u001b[0m             \u001b[0;32mif\u001b[0m \u001b[0;32mnot\u001b[0m \u001b[0misnull\u001b[0m\u001b[0;34m(\u001b[0m\u001b[0mitem\u001b[0m\u001b[0;34m)\u001b[0m\u001b[0;34m:\u001b[0m\u001b[0;34m\u001b[0m\u001b[0m\n\u001b[0;32m-> 3590\u001b[0;31m                 \u001b[0mloc\u001b[0m \u001b[0;34m=\u001b[0m \u001b[0mself\u001b[0m\u001b[0;34m.\u001b[0m\u001b[0mitems\u001b[0m\u001b[0;34m.\u001b[0m\u001b[0mget_loc\u001b[0m\u001b[0;34m(\u001b[0m\u001b[0mitem\u001b[0m\u001b[0;34m)\u001b[0m\u001b[0;34m\u001b[0m\u001b[0m\n\u001b[0m\u001b[1;32m   3591\u001b[0m             \u001b[0;32melse\u001b[0m\u001b[0;34m:\u001b[0m\u001b[0;34m\u001b[0m\u001b[0m\n\u001b[1;32m   3592\u001b[0m                 \u001b[0mindexer\u001b[0m \u001b[0;34m=\u001b[0m \u001b[0mnp\u001b[0m\u001b[0;34m.\u001b[0m\u001b[0marange\u001b[0m\u001b[0;34m(\u001b[0m\u001b[0mlen\u001b[0m\u001b[0;34m(\u001b[0m\u001b[0mself\u001b[0m\u001b[0;34m.\u001b[0m\u001b[0mitems\u001b[0m\u001b[0;34m)\u001b[0m\u001b[0;34m)\u001b[0m\u001b[0;34m[\u001b[0m\u001b[0misnull\u001b[0m\u001b[0;34m(\u001b[0m\u001b[0mself\u001b[0m\u001b[0;34m.\u001b[0m\u001b[0mitems\u001b[0m\u001b[0;34m)\u001b[0m\u001b[0;34m]\u001b[0m\u001b[0;34m\u001b[0m\u001b[0m\n",
      "\u001b[0;32m/usr/local/lib/python3.5/dist-packages/pandas/core/indexes/base.py\u001b[0m in \u001b[0;36mget_loc\u001b[0;34m(self, key, method, tolerance)\u001b[0m\n\u001b[1;32m   2442\u001b[0m                 \u001b[0;32mreturn\u001b[0m \u001b[0mself\u001b[0m\u001b[0;34m.\u001b[0m\u001b[0m_engine\u001b[0m\u001b[0;34m.\u001b[0m\u001b[0mget_loc\u001b[0m\u001b[0;34m(\u001b[0m\u001b[0mkey\u001b[0m\u001b[0;34m)\u001b[0m\u001b[0;34m\u001b[0m\u001b[0m\n\u001b[1;32m   2443\u001b[0m             \u001b[0;32mexcept\u001b[0m \u001b[0mKeyError\u001b[0m\u001b[0;34m:\u001b[0m\u001b[0;34m\u001b[0m\u001b[0m\n\u001b[0;32m-> 2444\u001b[0;31m                 \u001b[0;32mreturn\u001b[0m \u001b[0mself\u001b[0m\u001b[0;34m.\u001b[0m\u001b[0m_engine\u001b[0m\u001b[0;34m.\u001b[0m\u001b[0mget_loc\u001b[0m\u001b[0;34m(\u001b[0m\u001b[0mself\u001b[0m\u001b[0;34m.\u001b[0m\u001b[0m_maybe_cast_indexer\u001b[0m\u001b[0;34m(\u001b[0m\u001b[0mkey\u001b[0m\u001b[0;34m)\u001b[0m\u001b[0;34m)\u001b[0m\u001b[0;34m\u001b[0m\u001b[0m\n\u001b[0m\u001b[1;32m   2445\u001b[0m \u001b[0;34m\u001b[0m\u001b[0m\n\u001b[1;32m   2446\u001b[0m         \u001b[0mindexer\u001b[0m \u001b[0;34m=\u001b[0m \u001b[0mself\u001b[0m\u001b[0;34m.\u001b[0m\u001b[0mget_indexer\u001b[0m\u001b[0;34m(\u001b[0m\u001b[0;34m[\u001b[0m\u001b[0mkey\u001b[0m\u001b[0;34m]\u001b[0m\u001b[0;34m,\u001b[0m \u001b[0mmethod\u001b[0m\u001b[0;34m=\u001b[0m\u001b[0mmethod\u001b[0m\u001b[0;34m,\u001b[0m \u001b[0mtolerance\u001b[0m\u001b[0;34m=\u001b[0m\u001b[0mtolerance\u001b[0m\u001b[0;34m)\u001b[0m\u001b[0;34m\u001b[0m\u001b[0m\n",
      "\u001b[0;32mpandas/_libs/index.pyx\u001b[0m in \u001b[0;36mpandas._libs.index.IndexEngine.get_loc (pandas/_libs/index.c:5280)\u001b[0;34m()\u001b[0m\n",
      "\u001b[0;32mpandas/_libs/index.pyx\u001b[0m in \u001b[0;36mpandas._libs.index.IndexEngine.get_loc (pandas/_libs/index.c:5126)\u001b[0;34m()\u001b[0m\n",
      "\u001b[0;32mpandas/_libs/hashtable_class_helper.pxi\u001b[0m in \u001b[0;36mpandas._libs.hashtable.PyObjectHashTable.get_item (pandas/_libs/hashtable.c:20523)\u001b[0;34m()\u001b[0m\n",
      "\u001b[0;32mpandas/_libs/hashtable_class_helper.pxi\u001b[0m in \u001b[0;36mpandas._libs.hashtable.PyObjectHashTable.get_item (pandas/_libs/hashtable.c:20477)\u001b[0;34m()\u001b[0m\n",
      "\u001b[0;31mKeyError\u001b[0m: 'label_predict'"
     ]
    }
   ],
   "source": [
    "from sklearn.covariance import EllipticEnvelope\n",
    "\n",
    "thresh_list = []\n",
    "#contamination = len(df_test[df_test['label_true']]) / len(test)\n",
    "\n",
    "for cont in np.linspace(0.0021659204715816956, 0.017327363772653565, 20):\n",
    "    \n",
    "    clf = EllipticEnvelope(contamination=cont)\n",
    "    clf.fit(X_test)\n",
    "    df_test_real['label_predict'] = (1 - clf.predict(X_test_r)) / 2 \n",
    "    df_test_real['decision_function'] =  clf.decision_function(X_test_r)\n",
    "    \n",
    "    window = pd.Timedelta('4h')\n",
    "    st_id = generate_station_id\n",
    "\n",
    "    recall = calc_recall(df_test, st_id, window)\n",
    "    precision = calc_precision(df_test, st_id, window)\n",
    "    f1_score = calc_f1_score(precision, recall)\n",
    "    \n",
    "    thresh_list.append({'Threshold': cont, 'Recall': recall, 'Precision': precision, 'F1': f1_score})\n",
    "    \n",
    "    print(\"Contamination: {0:.4f}\".format(cont))\n",
    "    print(\"Recall: {0:.3f} \\nPrecision: {1:.3f} \\nF1:{2:.3f}\".format(recall, precision, f1_score))\n",
    "    print(\"------------------------------------------------\")"
   ]
  },
  {
   "cell_type": "code",
   "execution_count": null,
   "metadata": {},
   "outputs": [],
   "source": []
  }
 ],
 "metadata": {
  "kernelspec": {
   "display_name": "Python 3",
   "language": "python",
   "name": "python3"
  },
  "language_info": {
   "codemirror_mode": {
    "name": "ipython",
    "version": 3
   },
   "file_extension": ".py",
   "mimetype": "text/x-python",
   "name": "python",
   "nbconvert_exporter": "python",
   "pygments_lexer": "ipython3",
   "version": "3.5.2"
  }
 },
 "nbformat": 4,
 "nbformat_minor": 2
}
