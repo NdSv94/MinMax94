{
 "cells": [
  {
   "cell_type": "code",
   "execution_count": 2,
   "metadata": {},
   "outputs": [],
   "source": [
    "import numpy as np\n",
    "import pandas as pd\n",
    "from copy import copy\n",
    "import sys\n",
    "sys.path.append('/home/ndsviriden/MinMax94/src/utils') \n",
    "from constants import data_directory, MmxColumns\n",
    "from interpolation import interpolate_mmx, create_patterns\n",
    "from converters import convert_raw_to_mmx\n",
    "from preprocessing import get_clean_data\n",
    "from loaders import load_mm94_stations, select_mm94_features\n",
    "from geographical import find_nearest_wmo_station, add_solar_angles, add_coordinates, add_road_id\n",
    "from sklearn.ensemble import IsolationForest\n",
    "from score import get_labels\n",
    "from score import calc_precision, calc_recall\n",
    "import gc\n",
    "from tqdm import tqdm_notebook\n",
    "from functools import reduce"
   ]
  },
  {
   "cell_type": "markdown",
   "metadata": {},
   "source": [
    "## Loading data"
   ]
  },
  {
   "cell_type": "code",
   "execution_count": 3,
   "metadata": {},
   "outputs": [
    {
     "name": "stderr",
     "output_type": "stream",
     "text": [
      "/home/ndsviriden/MinMax94/src/utils/geographical.py:65: RuntimeWarning: invalid value encountered in arccos\n",
      "  solar_azimuth = np.arccos(cos_az) * np.sign(h_rad)\n"
     ]
    },
    {
     "name": "stdout",
     "output_type": "stream",
     "text": [
      "CPU times: user 1min 42s, sys: 10.3 s, total: 1min 52s\n",
      "Wall time: 1min 53s\n"
     ]
    }
   ],
   "source": [
    "%%time\n",
    "test_station_id = [114, 117, 119, 302, 303, 307, 393, 442, 503, 504, \n",
    "                   511, 516, 1838, 1896]\n",
    "\n",
    "\n",
    "train_station_id = [113, 115, 116, 118, 126, 150, 152, 200, 223, 228, \n",
    "                    239, 305, 308, 309, 401, 411, 432, 435, 454, 456, \n",
    "                    593, 628, 1831, 1899, 1911, 1921, 4007, 20323, 20717, 20743, \n",
    "                    20754, 20755, 20761, 20916, 20921]\n",
    "\n",
    "raw = load_mm94_stations(train_station_id + test_station_id)\n",
    "raw = select_mm94_features(raw, ['t_air', 't_road', 't_underroad', 'pressure', 'dampness'])\n",
    "\n",
    "mmx_rwis = convert_raw_to_mmx(raw)\n",
    "mmx_rwis_interpolated = interpolate_mmx(mmx_rwis)\n",
    "data = create_patterns(mmx_rwis_interpolated)\n",
    "\n",
    "data['data_solar_azimuth'], data['data_solar_altitude'] = add_solar_angles(data)\n",
    "data['data_latitude'], data['data_longitude'] = add_coordinates(data)\n",
    "data['data_road'] = add_road_id(data)\n",
    "data = data.dropna(subset=('data_t_road', ))\n",
    "\n",
    "del data[MmxColumns.ID_AIR_TEMPERATURE], data[MmxColumns.ID_UNDERGROUND_TEMPERATURE], \\\n",
    "    data[MmxColumns.ID_PRESSURE], data[MmxColumns.ID_HUMIDITY]\n",
    "\n",
    "train = data[data['station_id'].isin(train_station_id)]\n",
    "train = train.reset_index(drop=True)\n",
    "train_clean = get_clean_data(train)\n",
    "\n",
    "test = data[data['station_id'].isin(test_station_id)]\n",
    "test = test.reset_index(drop=True)\n",
    "test['label_true'] = get_labels(test, labels_type='true')\n",
    "\n",
    "del data, raw, mmx_rwis, mmx_rwis_interpolated\n",
    "gc.collect()"
   ]
  },
  {
   "cell_type": "markdown",
   "metadata": {},
   "source": [
    "## Results"
   ]
  },
  {
   "cell_type": "code",
   "execution_count": 4,
   "metadata": {
    "scrolled": true
   },
   "outputs": [],
   "source": [
    "col_list = ['date_time_utc', 'station_id', 'id_t_road', 'target_t_road', 'decision_function', \n",
    "            'label_predict', 'label_true']\n",
    "\n",
    "merge_on = ['date_time_utc', 'station_id', 'id_t_road', 'target_t_road', 'label_true']\n",
    "\n",
    "\n",
    "df_xgb_7 = pd.read_csv('/mnt/HARD/MinMax94/models/results/xgboost_7.csv', parse_dates=True,\n",
    "                    usecols=col_list, dtype={'label_predict': int})\n",
    "\n",
    "df_xgb_n7 = pd.read_csv('/mnt/HARD/MinMax94/models/results/xgboost_noisy_7.csv', parse_dates=True,\n",
    "                  usecols=col_list, dtype={'label_predict': int})\n",
    "\n",
    "df_xgb_air = pd.read_csv('/mnt/HARD/MinMax94/models/results/xgboost_air_4.csv', parse_dates=True,\n",
    "                    usecols=col_list, dtype={'label_predict': int})\n",
    "\n",
    "df_ridge_7 = pd.read_csv('/mnt/HARD/MinMax94/models/results/ridge_7.csv', parse_dates=True,\n",
    "                    usecols=col_list, dtype={'label_predict': int})\n",
    "\n",
    "df_ridge_n7 = pd.read_csv('/mnt/HARD/MinMax94/models/results/ridge_noisy_7.csv', parse_dates=True,\n",
    "                    usecols=col_list, dtype={'label_predict': int})\n",
    "\n",
    "\n",
    "df_ee = pd.read_csv('/mnt/HARD/MinMax94/models/results/elliptic_envelope.csv', parse_dates=True,\n",
    "                  usecols=col_list, dtype={'label_predict': int})\n",
    "\n",
    "df_svm = pd.read_csv('/mnt/HARD/MinMax94/models/results/one_class_svm_005.csv', parse_dates=True,\n",
    "                  usecols=col_list, dtype={'label_predict': int})\n",
    "\n",
    "df_lof = pd.read_csv('/mnt/HARD/MinMax94/models/results/local_outlier_factor.csv', parse_dates=True,\n",
    "                      usecols=[col for col in col_list if col!='decision_function'], \n",
    "                      dtype={'label_predict': int})\n",
    "\n",
    "df_iforest = pd.read_csv('/mnt/HARD/MinMax94/models/results/isolation_forest.csv', parse_dates=True,\n",
    "                  usecols=col_list, dtype={'label_predict': int})\n",
    "\n",
    "df_list = [(df_xgb_7, 'xgb_7'), (df_xgb_n7, 'xgb_n7'), (df_xgb_air, 'xgb_air'),\n",
    "           (df_ridge_7, 'ridge_7'), (df_ridge_n7, 'ridge_n7'),\n",
    "           (df_ee, 'ee'), (df_svm, 'svm'), (df_lof, 'lof'), (df_iforest, 'iforest')]\n",
    "\n",
    "for df, name in df_list:\n",
    "    df['label_predict_{0}'.format(name)] = df['label_predict']\n",
    "    del df['label_predict']\n",
    "    \n",
    "    if name != 'lof':\n",
    "        df['decision_function_{0}'.format(name)] = df['decision_function']\n",
    "        del df['decision_function']\n",
    "    \n",
    "    elif name == 'lof':\n",
    "        df['decision_function_{0}'.format(name)] = df['label_predict_lof']\n",
    "        \n",
    "col_list = ['date_time_utc', 'station_id', 'id_t_road', 'target_t_road', 'label_true']\n",
    "\n",
    "        \n",
    "df_test = pd.merge(df_xgb_7, df_xgb_n7, on=merge_on)\n",
    "df_test = pd.merge(df_test, df_xgb_air, on=merge_on)\n",
    "df_test = pd.merge(df_test, df_ridge_7, on=merge_on)\n",
    "df_test = pd.merge(df_test, df_ridge_n7, on=merge_on)\n",
    "df_test = pd.merge(df_test, df_ee, on=merge_on)\n",
    "df_test = pd.merge(df_test, df_svm, on=merge_on)\n",
    "df_test = pd.merge(df_test, df_lof, on=merge_on)\n",
    "df_test = pd.merge(df_test, df_iforest, on=merge_on)\n",
    "\n",
    "df_test['date_time_utc'] = pd.to_datetime(df_test['date_time_utc'])\n",
    "\n",
    "from sklearn.preprocessing import MinMaxScaler\n",
    "\n",
    "scaler = MinMaxScaler()\n",
    "df_test['decision_function_xgb_7'] = scaler.fit_transform(df_test['decision_function_xgb_7'].values.reshape(-1, 1))\n",
    "df_test['decision_function_xgb_n7'] = scaler.fit_transform(df_test['decision_function_xgb_n7'].values.reshape(-1, 1))\n",
    "df_test['decision_function_xgb_air'] = scaler.fit_transform(df_test['decision_function_xgb_air'].values.reshape(-1, 1))\n",
    "df_test['decision_function_ridge_7'] = scaler.fit_transform(df_test['decision_function_ridge_7'].values.reshape(-1, 1))\n",
    "df_test['decision_function_ridge_n7'] = scaler.fit_transform(df_test['decision_function_ridge_n7'].values.reshape(-1, 1))\n",
    "df_test['decision_function_ee'] = scaler.fit_transform(- df_test['decision_function_ee'].values.reshape(-1, 1))\n",
    "df_test['decision_function_svm'] = scaler.fit_transform(- df_test['decision_function_svm'].values.reshape(-1, 1))\n",
    "df_test['decision_function_lof'] = df_test['decision_function_lof']\n",
    "df_test['decision_function_iforest'] = scaler.fit_transform(- df_test['decision_function_iforest'].values.reshape(-1, 1))"
   ]
  },
  {
   "cell_type": "code",
   "execution_count": 9,
   "metadata": {},
   "outputs": [
    {
     "data": {
      "text/plain": [
       "0.6831258678765382"
      ]
     },
     "execution_count": 9,
     "metadata": {},
     "output_type": "execute_result"
    }
   ],
   "source": [
    "def f1_score(precision, recall):\n",
    "    return 2 * precision * recall / (precision + recall)\n",
    "\n",
    "recall, precision = 0.548, 0.9067\n",
    "f1_score(precision, recall)"
   ]
  },
  {
   "cell_type": "code",
   "execution_count": 187,
   "metadata": {},
   "outputs": [
    {
     "data": {
      "text/html": [
       "<div>\n",
       "<style>\n",
       "    .dataframe thead tr:only-child th {\n",
       "        text-align: right;\n",
       "    }\n",
       "\n",
       "    .dataframe thead th {\n",
       "        text-align: left;\n",
       "    }\n",
       "\n",
       "    .dataframe tbody tr th {\n",
       "        vertical-align: top;\n",
       "    }\n",
       "</style>\n",
       "<table border=\"1\" class=\"dataframe\">\n",
       "  <thead>\n",
       "    <tr style=\"text-align: right;\">\n",
       "      <th></th>\n",
       "      <th>decision_function_xgb_7</th>\n",
       "      <th>decision_function_xgb_n7</th>\n",
       "      <th>decision_function_ridge_7</th>\n",
       "      <th>decision_function_ridge_n7</th>\n",
       "      <th>decision_function_xgb_air</th>\n",
       "      <th>decision_function_ee</th>\n",
       "      <th>decision_function_svm</th>\n",
       "      <th>decision_function_lof</th>\n",
       "      <th>decision_function_iforest</th>\n",
       "      <th>label_true</th>\n",
       "    </tr>\n",
       "  </thead>\n",
       "  <tbody>\n",
       "    <tr>\n",
       "      <th>decision_function_xgb_7</th>\n",
       "      <td>1.000000</td>\n",
       "      <td>0.860369</td>\n",
       "      <td>0.820236</td>\n",
       "      <td>0.813420</td>\n",
       "      <td>0.288925</td>\n",
       "      <td>0.730726</td>\n",
       "      <td>0.368647</td>\n",
       "      <td>0.257805</td>\n",
       "      <td>0.185347</td>\n",
       "      <td>0.148027</td>\n",
       "    </tr>\n",
       "    <tr>\n",
       "      <th>decision_function_xgb_n7</th>\n",
       "      <td>0.860369</td>\n",
       "      <td>1.000000</td>\n",
       "      <td>0.881904</td>\n",
       "      <td>0.869087</td>\n",
       "      <td>0.233513</td>\n",
       "      <td>0.782925</td>\n",
       "      <td>0.369306</td>\n",
       "      <td>0.254607</td>\n",
       "      <td>0.203061</td>\n",
       "      <td>0.122508</td>\n",
       "    </tr>\n",
       "    <tr>\n",
       "      <th>decision_function_ridge_7</th>\n",
       "      <td>0.820236</td>\n",
       "      <td>0.881904</td>\n",
       "      <td>1.000000</td>\n",
       "      <td>0.967366</td>\n",
       "      <td>0.222178</td>\n",
       "      <td>0.841171</td>\n",
       "      <td>0.384880</td>\n",
       "      <td>0.258175</td>\n",
       "      <td>0.199791</td>\n",
       "      <td>0.132806</td>\n",
       "    </tr>\n",
       "    <tr>\n",
       "      <th>decision_function_ridge_n7</th>\n",
       "      <td>0.813420</td>\n",
       "      <td>0.869087</td>\n",
       "      <td>0.967366</td>\n",
       "      <td>1.000000</td>\n",
       "      <td>0.225174</td>\n",
       "      <td>0.825499</td>\n",
       "      <td>0.385755</td>\n",
       "      <td>0.254921</td>\n",
       "      <td>0.239844</td>\n",
       "      <td>0.121879</td>\n",
       "    </tr>\n",
       "    <tr>\n",
       "      <th>decision_function_xgb_air</th>\n",
       "      <td>0.288925</td>\n",
       "      <td>0.233513</td>\n",
       "      <td>0.222178</td>\n",
       "      <td>0.225174</td>\n",
       "      <td>1.000000</td>\n",
       "      <td>0.272387</td>\n",
       "      <td>0.151643</td>\n",
       "      <td>0.077241</td>\n",
       "      <td>0.195044</td>\n",
       "      <td>0.131608</td>\n",
       "    </tr>\n",
       "    <tr>\n",
       "      <th>decision_function_ee</th>\n",
       "      <td>0.730726</td>\n",
       "      <td>0.782925</td>\n",
       "      <td>0.841171</td>\n",
       "      <td>0.825499</td>\n",
       "      <td>0.272387</td>\n",
       "      <td>1.000000</td>\n",
       "      <td>0.499425</td>\n",
       "      <td>0.197205</td>\n",
       "      <td>0.403178</td>\n",
       "      <td>0.102241</td>\n",
       "    </tr>\n",
       "    <tr>\n",
       "      <th>decision_function_svm</th>\n",
       "      <td>0.368647</td>\n",
       "      <td>0.369306</td>\n",
       "      <td>0.384880</td>\n",
       "      <td>0.385755</td>\n",
       "      <td>0.151643</td>\n",
       "      <td>0.499425</td>\n",
       "      <td>1.000000</td>\n",
       "      <td>0.222730</td>\n",
       "      <td>0.489459</td>\n",
       "      <td>0.144206</td>\n",
       "    </tr>\n",
       "    <tr>\n",
       "      <th>decision_function_lof</th>\n",
       "      <td>0.257805</td>\n",
       "      <td>0.254607</td>\n",
       "      <td>0.258175</td>\n",
       "      <td>0.254921</td>\n",
       "      <td>0.077241</td>\n",
       "      <td>0.197205</td>\n",
       "      <td>0.222730</td>\n",
       "      <td>1.000000</td>\n",
       "      <td>0.035396</td>\n",
       "      <td>0.124231</td>\n",
       "    </tr>\n",
       "    <tr>\n",
       "      <th>decision_function_iforest</th>\n",
       "      <td>0.185347</td>\n",
       "      <td>0.203061</td>\n",
       "      <td>0.199791</td>\n",
       "      <td>0.239844</td>\n",
       "      <td>0.195044</td>\n",
       "      <td>0.403178</td>\n",
       "      <td>0.489459</td>\n",
       "      <td>0.035396</td>\n",
       "      <td>1.000000</td>\n",
       "      <td>0.008724</td>\n",
       "    </tr>\n",
       "    <tr>\n",
       "      <th>label_true</th>\n",
       "      <td>0.148027</td>\n",
       "      <td>0.122508</td>\n",
       "      <td>0.132806</td>\n",
       "      <td>0.121879</td>\n",
       "      <td>0.131608</td>\n",
       "      <td>0.102241</td>\n",
       "      <td>0.144206</td>\n",
       "      <td>0.124231</td>\n",
       "      <td>0.008724</td>\n",
       "      <td>1.000000</td>\n",
       "    </tr>\n",
       "  </tbody>\n",
       "</table>\n",
       "</div>"
      ],
      "text/plain": [
       "                            decision_function_xgb_7  decision_function_xgb_n7  \\\n",
       "decision_function_xgb_7                    1.000000                  0.860369   \n",
       "decision_function_xgb_n7                   0.860369                  1.000000   \n",
       "decision_function_ridge_7                  0.820236                  0.881904   \n",
       "decision_function_ridge_n7                 0.813420                  0.869087   \n",
       "decision_function_xgb_air                  0.288925                  0.233513   \n",
       "decision_function_ee                       0.730726                  0.782925   \n",
       "decision_function_svm                      0.368647                  0.369306   \n",
       "decision_function_lof                      0.257805                  0.254607   \n",
       "decision_function_iforest                  0.185347                  0.203061   \n",
       "label_true                                 0.148027                  0.122508   \n",
       "\n",
       "                            decision_function_ridge_7  \\\n",
       "decision_function_xgb_7                      0.820236   \n",
       "decision_function_xgb_n7                     0.881904   \n",
       "decision_function_ridge_7                    1.000000   \n",
       "decision_function_ridge_n7                   0.967366   \n",
       "decision_function_xgb_air                    0.222178   \n",
       "decision_function_ee                         0.841171   \n",
       "decision_function_svm                        0.384880   \n",
       "decision_function_lof                        0.258175   \n",
       "decision_function_iforest                    0.199791   \n",
       "label_true                                   0.132806   \n",
       "\n",
       "                            decision_function_ridge_n7  \\\n",
       "decision_function_xgb_7                       0.813420   \n",
       "decision_function_xgb_n7                      0.869087   \n",
       "decision_function_ridge_7                     0.967366   \n",
       "decision_function_ridge_n7                    1.000000   \n",
       "decision_function_xgb_air                     0.225174   \n",
       "decision_function_ee                          0.825499   \n",
       "decision_function_svm                         0.385755   \n",
       "decision_function_lof                         0.254921   \n",
       "decision_function_iforest                     0.239844   \n",
       "label_true                                    0.121879   \n",
       "\n",
       "                            decision_function_xgb_air  decision_function_ee  \\\n",
       "decision_function_xgb_7                      0.288925              0.730726   \n",
       "decision_function_xgb_n7                     0.233513              0.782925   \n",
       "decision_function_ridge_7                    0.222178              0.841171   \n",
       "decision_function_ridge_n7                   0.225174              0.825499   \n",
       "decision_function_xgb_air                    1.000000              0.272387   \n",
       "decision_function_ee                         0.272387              1.000000   \n",
       "decision_function_svm                        0.151643              0.499425   \n",
       "decision_function_lof                        0.077241              0.197205   \n",
       "decision_function_iforest                    0.195044              0.403178   \n",
       "label_true                                   0.131608              0.102241   \n",
       "\n",
       "                            decision_function_svm  decision_function_lof  \\\n",
       "decision_function_xgb_7                  0.368647               0.257805   \n",
       "decision_function_xgb_n7                 0.369306               0.254607   \n",
       "decision_function_ridge_7                0.384880               0.258175   \n",
       "decision_function_ridge_n7               0.385755               0.254921   \n",
       "decision_function_xgb_air                0.151643               0.077241   \n",
       "decision_function_ee                     0.499425               0.197205   \n",
       "decision_function_svm                    1.000000               0.222730   \n",
       "decision_function_lof                    0.222730               1.000000   \n",
       "decision_function_iforest                0.489459               0.035396   \n",
       "label_true                               0.144206               0.124231   \n",
       "\n",
       "                            decision_function_iforest  label_true  \n",
       "decision_function_xgb_7                      0.185347    0.148027  \n",
       "decision_function_xgb_n7                     0.203061    0.122508  \n",
       "decision_function_ridge_7                    0.199791    0.132806  \n",
       "decision_function_ridge_n7                   0.239844    0.121879  \n",
       "decision_function_xgb_air                    0.195044    0.131608  \n",
       "decision_function_ee                         0.403178    0.102241  \n",
       "decision_function_svm                        0.489459    0.144206  \n",
       "decision_function_lof                        0.035396    0.124231  \n",
       "decision_function_iforest                    1.000000    0.008724  \n",
       "label_true                                   0.008724    1.000000  "
      ]
     },
     "execution_count": 187,
     "metadata": {},
     "output_type": "execute_result"
    }
   ],
   "source": [
    "z = df_test[['decision_function_xgb_7', 'decision_function_xgb_n7', \n",
    "             'decision_function_ridge_7', 'decision_function_ridge_n7',\n",
    "             'decision_function_xgb_air',\n",
    "             'decision_function_ee',\n",
    "             'decision_function_svm', 'decision_function_lof', \n",
    "             'decision_function_iforest', 'label_true']]\n",
    "z.corr()"
   ]
  },
  {
   "cell_type": "code",
   "execution_count": 198,
   "metadata": {},
   "outputs": [],
   "source": [
    "df_test['label_predict'] = ((0.148027 * df_test['decision_function_xgb_7'] +\n",
    "                             0.122509 * df_test['decision_function_xgb_n7'] + \n",
    "                            0.132806 * df_test['decision_function_ridge_7'] +\n",
    "                            0.121879 * df_test['decision_function_ridge_n7'] +\n",
    "                            0.131608 * df_test['decision_function_xgb_air'] +\n",
    "                            0.102241 * df_test['decision_function_ee'] + \n",
    "                            0.144206 * df_test['decision_function_svm'] +\n",
    "                            0.124231 * df_test['decision_function_lof'] + \n",
    "                            0.008724 * df_test['decision_function_iforest']) /\n",
    "                            (0.148027 + 0.122509+ 0.132806 + 0.121879 + 0.131608 + 0.102241 + 0.144206 + 0.124231 + 0.008724)) >= 0.19"
   ]
  },
  {
   "cell_type": "code",
   "execution_count": 226,
   "metadata": {},
   "outputs": [],
   "source": [
    "df_test['label_predict'] = ((0.148027 * df_test['decision_function_xgb_7'] +\n",
    "                             0.122509 * df_test['decision_function_xgb_n7'] + \n",
    "                            0.132806 * df_test['decision_function_ridge_7'] +\n",
    "                            0.131608 * df_test['decision_function_xgb_air'] +\n",
    "                            0.108682 * df_test['decision_function_ee'] +\n",
    "                            0.135192 * df_test['decision_function_svm'] +\n",
    "                            0.008721 * df_test['decision_function_iforest']) /\n",
    "                            (0.148027 + 0.122509 + 0.132806 + 0.131608 + 0.108682 + 0.135192 + 0.008721)) >= 0.23"
   ]
  },
  {
   "cell_type": "code",
   "execution_count": 289,
   "metadata": {},
   "outputs": [],
   "source": [
    "df_test['label_predict'] = ((0.432 * df_test['decision_function_xgb_7'] +\n",
    "                            #0.469 * df_test['decision_function_xgb_n7'] + \n",
    "                            #0.609 * df_test['decision_function_ridge_7'] +\n",
    "                            0.488 * df_test['decision_function_xgb_air'] +\n",
    "                            #0.6681 * df_test['decision_function_ee'] +\n",
    "                            0.719 * df_test['decision_function_svm'] + \n",
    "                            0.008 * df_test['decision_function_iforest']) /\n",
    "                            (0.432 + 0.488 + 0.719 + 0.008)) >= 0.29"
   ]
  },
  {
   "cell_type": "code",
   "execution_count": 73,
   "metadata": {},
   "outputs": [],
   "source": [
    "df_test['label_predict'] = (((1.0 * df_test['decision_function_xgb_7'] +\n",
    "                             1.0 * df_test['decision_function_xgb_n7'] + \n",
    "                             1.0 * df_test['decision_function_ridge_7'] +\n",
    "                             1.0 * df_test['decision_function_xgb_air'] +\n",
    "                             1.0 * df_test['decision_function_ee'] +\n",
    "                             1.0 * df_test['decision_function_svm']) / 6.0) >= 0.18)"
   ]
  },
  {
   "cell_type": "code",
   "execution_count": 77,
   "metadata": {},
   "outputs": [],
   "source": [
    "df_test['label_predict'] = df_test['label_predict_lof']"
   ]
  },
  {
   "cell_type": "markdown",
   "metadata": {},
   "source": [
    "## Recall"
   ]
  },
  {
   "cell_type": "code",
   "execution_count": 78,
   "metadata": {},
   "outputs": [
    {
     "data": {
      "text/plain": [
       "0.5358931552587646"
      ]
     },
     "execution_count": 78,
     "metadata": {},
     "output_type": "execute_result"
    }
   ],
   "source": [
    "predicted_anomalies_ids = set()\n",
    "window = pd.Timedelta('4h')\n",
    "\n",
    "\n",
    "st_id = [114, 119, 302, 303, 442, 504, 511, 1838, 1896]\n",
    "#st_id = [114, 117, 119, 302, 303, 442, 503, 504, 511, 1838, 1896]\n",
    "#st_id = [114, 117, 119, 302, 303, 307, 393, 442, 503, 504, 511, 516, 1838, 1896]\n",
    "for station in st_id:\n",
    "    df = df_test[df_test['station_id']==station]\n",
    "    predicted_anomalies = df[df['label_predict']==1]\n",
    "    for anomaly in predicted_anomalies.iterrows():\n",
    "        dt = anomaly[1]['date_time_utc']\n",
    "        locality = df_test[(df_test['date_time_utc'] >= (dt - window)) & \n",
    "                       (df_test['date_time_utc'] <= (dt + window))]\n",
    "        \n",
    "        predicted_anomalies_ids.update(set(locality.index))\n",
    "\n",
    "true_anomalies_ids = set(df_test[(df_test['label_true']==1) & (df_test['station_id'].isin(st_id))].index)\n",
    "\n",
    "tp = set.intersection(true_anomalies_ids, predicted_anomalies_ids)\n",
    "recall = len(tp) / len(true_anomalies_ids)\n",
    "recall"
   ]
  },
  {
   "cell_type": "markdown",
   "metadata": {},
   "source": [
    "## Precision"
   ]
  },
  {
   "cell_type": "code",
   "execution_count": 79,
   "metadata": {},
   "outputs": [
    {
     "data": {
      "text/plain": [
       "0.5022026431718062"
      ]
     },
     "execution_count": 79,
     "metadata": {},
     "output_type": "execute_result"
    }
   ],
   "source": [
    "true_anomalies_ids = set()\n",
    "window = pd.Timedelta('4h')\n",
    "\n",
    "#st_id = [114, 119, 302, 303, 442, 504, 511, 1838, 1896]\n",
    "#st_id = [114, 117, 119, 302, 303, 442, 503, 504, 511, 1838, 1896]\n",
    "#st_id = [114, 117, 119, 302, 303, 307, 393, 442, 503, 504, 511, 516, 1838, 1896]\n",
    "for station in st_id:\n",
    "    df = df_test[df_test['station_id']==station]\n",
    "    true_anomalies = df[df['label_true']==1]\n",
    "    for anomaly in true_anomalies.iterrows():\n",
    "        dt = anomaly[1]['date_time_utc']\n",
    "        locality = df_test[(df_test['date_time_utc'] >= (dt - window)) & \n",
    "                       (df_test['date_time_utc'] <= (dt + window))]\n",
    "        \n",
    "        true_anomalies_ids.update(set(locality.index))\n",
    "        # print(list(locality.index))\n",
    "\n",
    "predicted_anomalies_ids = set(df_test[((df_test['label_predict']==1) & (df_test['station_id'].isin(st_id)))].index)\n",
    "\n",
    "tp = set.intersection(true_anomalies_ids, predicted_anomalies_ids)\n",
    "precision = len(tp) / len(predicted_anomalies_ids)\n",
    "precision"
   ]
  },
  {
   "cell_type": "code",
   "execution_count": 80,
   "metadata": {},
   "outputs": [
    {
     "data": {
      "text/plain": [
       "0.518501200824637"
      ]
     },
     "execution_count": 80,
     "metadata": {},
     "output_type": "execute_result"
    }
   ],
   "source": [
    "f1_score(precision, recall)"
   ]
  },
  {
   "cell_type": "markdown",
   "metadata": {},
   "source": [
    "## Cycle"
   ]
  },
  {
   "cell_type": "code",
   "execution_count": 86,
   "metadata": {},
   "outputs": [
    {
     "name": "stdout",
     "output_type": "stream",
     "text": [
      "114 : R = 0.611, P = 0.196\n",
      "117 : R = 0.515, P = 0.516\n",
      "119 : R = 0.848, P = 0.378\n",
      "302 : R = 0.578, P = 0.347\n",
      "303 : R = 0.605, P = 0.366\n",
      "307 : R = 0.168, P = 0.861\n",
      "393 : R = 0.038, P = 0.200\n",
      "442 : R = 1.000, P = 0.367\n",
      "503 : R = 0.137, P = 0.240\n",
      "504 : R = 1.000, P = 0.304\n",
      "511 : R = 1.000, P = 0.736\n",
      "516 : R = 0.194, P = 0.409\n",
      "1838 : R = 0.903, P = 0.476\n",
      "1896 : R = 0.606, P = 0.895\n"
     ]
    }
   ],
   "source": [
    "predicted_anomalies_ids = set()\n",
    "window = pd.Timedelta('4h')\n",
    "station_list = [114, 117, 119, 302, 303, 307, 393, 442, 503, 504, 511, 516, 1838, 1896]\n",
    "\n",
    "for station_id in station_list:\n",
    "    st_id = [station_id]\n",
    "    for station in st_id:\n",
    "        df = df_test[df_test['station_id']==station]\n",
    "        predicted_anomalies = df[df['label_predict']==1]\n",
    "        for anomaly in predicted_anomalies.iterrows():\n",
    "            dt = anomaly[1]['date_time_utc']\n",
    "            locality = df_test[(df_test['date_time_utc'] >= (dt - window)) & \n",
    "                           (df_test['date_time_utc'] <= (dt + window))]\n",
    "\n",
    "            predicted_anomalies_ids.update(set(locality.index))\n",
    "\n",
    "    true_anomalies_ids = set(df_test[(df_test['label_true']==1) & (df_test['station_id'].isin(st_id))].index)\n",
    "\n",
    "    tp = set.intersection(true_anomalies_ids, predicted_anomalies_ids)\n",
    "    recall = len(tp) / len(true_anomalies_ids)\n",
    "\n",
    "    true_anomalies_ids = set()\n",
    "    window = pd.Timedelta('4h')\n",
    "\n",
    "    for station in st_id:\n",
    "        df = df_test[df_test['station_id']==station]\n",
    "        true_anomalies = df[df['label_true']==1]\n",
    "        for anomaly in true_anomalies.iterrows():\n",
    "            dt = anomaly[1]['date_time_utc']\n",
    "            locality = df_test[(df_test['date_time_utc'] >= (dt - window)) & \n",
    "                           (df_test['date_time_utc'] <= (dt + window))]\n",
    "\n",
    "            true_anomalies_ids.update(set(locality.index))\n",
    "            # print(list(locality.index))\n",
    "\n",
    "    predicted_anomalies_ids = set(df_test[((df_test['label_predict']==1) & (df_test['station_id'].isin(st_id)))].index)\n",
    "\n",
    "    tp = set.intersection(true_anomalies_ids, predicted_anomalies_ids)\n",
    "    precision = len(tp) / len(predicted_anomalies_ids)\n",
    "    \n",
    "    print('{0} : R = {1:0.3f}, P = {2:0.3f}'.format(station_id, recall, precision))"
   ]
  },
  {
   "cell_type": "markdown",
   "metadata": {},
   "source": [
    "## Plot"
   ]
  },
  {
   "cell_type": "code",
   "execution_count": 262,
   "metadata": {},
   "outputs": [
    {
     "data": {
      "image/png": "[encoded data removed]",
      "text/plain": [
       "<matplotlib.figure.Figure at 0x7fb4024ea7f0>"
      ]
     },
     "metadata": {},
     "output_type": "display_data"
    }
   ],
   "source": [
    "import matplotlib.pyplot as plt\n",
    "\n",
    "#st_id = [114, 117, 119, 442, 504, 511, 1838, 1896]\n",
    "#303, 307!!, 393!!, 503, 516\n",
    "#test_station_id = [114, 119, 302, 303, 442, 504, 511, 516, 1838, 1896]\n",
    "z = copy(df_test[df_test['station_id']==442].set_index('date_time_utc'))\n",
    "\n",
    "start = pd.Timestamp(2012, 7, 5)\n",
    "end = pd.Timestamp(2017, 7, 20)\n",
    "\n",
    "to_plot = z[(z.index<=end) & (z.index>=start)]\n",
    "\n",
    "plt.figure(figsize=(30, 10))\n",
    "\n",
    "for elem in [True, False]:\n",
    "    cond_predict = (to_plot['label_predict'] == 0) == elem\n",
    "    cond_true = (to_plot['label_true'] == 0) == elem\n",
    "    \n",
    "    if elem:\n",
    "        plt.plot_date(to_plot[cond_predict].index, to_plot[cond_predict]['target_t_road'], 'b',\n",
    "                      linestyle='none', marker='o', markersize=8, label='t_road')\n",
    "    else:\n",
    "        \n",
    "        plt.plot_date(to_plot[cond_true].index, to_plot[cond_true]['target_t_road'], 'g.',\n",
    "                              linestyle='none', marker='o', label='outliers', markersize=12)\n",
    "        \n",
    "        plt.plot_date(to_plot[cond_predict].index, to_plot[cond_predict]['target_t_road'], 'r.',\n",
    "                              linestyle='none', marker='o', label='outliers', markersize=8)\n",
    "\n",
    "plt.grid()\n",
    "plt.legend(fontsize=32)\n",
    "plt.ylabel(r' Температура дороги, $^{\\circ}C$', fontsize=30)\n",
    "\n",
    "plt.tick_params(labelsize=30)\n",
    "plt.show()"
   ]
  },
  {
   "cell_type": "code",
   "execution_count": null,
   "metadata": {},
   "outputs": [],
   "source": []
  }
 ],
 "metadata": {
  "kernelspec": {
   "display_name": "Python 3",
   "language": "python",
   "name": "python3"
  },
  "language_info": {
   "codemirror_mode": {
    "name": "ipython",
    "version": 3
   },
   "file_extension": ".py",
   "mimetype": "text/x-python",
   "name": "python",
   "nbconvert_exporter": "python",
   "pygments_lexer": "ipython3",
   "version": "3.5.2"
  },
  "widgets": {
   "state": {
    "00326b32892a43d4ba69bd9c99cfa796": {
     "views": [
      {
       "cell_index": 7
      }
     ]
    },
    "1eb71c32c655466b842aaa0c3a382add": {
     "views": [
      {
       "cell_index": 7
      }
     ]
    },
    "2ad459046cde4777afe3f9e3c8c5b3ae": {
     "views": [
      {
       "cell_index": 7
      }
     ]
    },
    "3a74dceb621c486a9341da5c8a982164": {
     "views": [
      {
       "cell_index": 7
      }
     ]
    },
    "660c86c1a4384674a185be4b3bff31a9": {
     "views": [
      {
       "cell_index": 7
      }
     ]
    },
    "7f3b66d1e80d4f5e87d2988624d955d0": {
     "views": [
      {
       "cell_index": 7
      }
     ]
    },
    "943e2c1cc988476e971e75100750df58": {
     "views": [
      {
       "cell_index": 7
      }
     ]
    },
    "b4c7e54d4afe468e8123b8ed01cc507b": {
     "views": [
      {
       "cell_index": 7
      }
     ]
    },
    "daaa68dca49744bc9ee634c5c1142d96": {
     "views": [
      {
       "cell_index": 7
      }
     ]
    },
    "db245a5162754e999cfdd51d9b929484": {
     "views": [
      {
       "cell_index": 7
      }
     ]
    },
    "e0a44a8d4a2840a2aa38273cc13524ef": {
     "views": [
      {
       "cell_index": 7
      }
     ]
    },
    "eaa208b4699544f9a2ee2c4559d77e40": {
     "views": [
      {
       "cell_index": 7
      }
     ]
    },
    "f0ea691c74e14437adaf0ac14d37253b": {
     "views": [
      {
       "cell_index": 7
      }
     ]
    },
    "fa6314ecdce54b00b1655f84e78f9297": {
     "views": [
      {
       "cell_index": 7
      }
     ]
    }
   },
   "version": "1.2.0"
  }
 },
 "nbformat": 4,
 "nbformat_minor": 2
}
