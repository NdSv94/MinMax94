{
 "cells": [
  {
   "cell_type": "code",
   "execution_count": 1,
   "metadata": {},
   "outputs": [],
   "source": [
    "import numpy as np\n",
    "import pandas as pd\n",
    "from copy import copy\n",
    "import sys\n",
    "sys.path.append('/home/ndsviriden/MinMax94/src/utils') \n",
    "from constants import data_directory, MmxColumns\n",
    "from interpolation import interpolate_mmx, create_patterns\n",
    "from converters import convert_raw_to_mmx\n",
    "from preprocessing import get_clean_data, create_feature_df\n",
    "from generate_anomalies import generate_single_anomaly, generate_short_term_anomaly, generate_long_term_anomaly\n",
    "from loaders import load_mm94_stations, select_mm94_features\n",
    "from geographical import find_nearest_wmo_station, add_solar_angles, add_coordinates, add_road_id\n",
    "from sklearn.ensemble import IsolationForest\n",
    "from score import get_labels\n",
    "from score import calc_precision, calc_recall, calc_f1_score\n",
    "import gc\n",
    "from tqdm import tqdm_notebook\n",
    "from functools import reduce\n",
    "import matplotlib.pyplot as plt\n",
    "from sklearn.preprocessing import MinMaxScaler\n",
    "\n",
    "import warnings\n",
    "warnings.filterwarnings('ignore')\n",
    "\n",
    "%matplotlib inline"
   ]
  },
  {
   "cell_type": "markdown",
   "metadata": {},
   "source": [
    "## Loading data"
   ]
  },
  {
   "cell_type": "code",
   "execution_count": 2,
   "metadata": {},
   "outputs": [],
   "source": [
    "df_real = pd.read_csv('/mnt/HARD/Diplom/MinMax/results/ridge_real.csv')\n",
    "df_gen = pd.read_csv('/mnt/HARD/Diplom/MinMax/results/ridge_gen.csv')\n",
    "\n",
    "df_real['date_time_utc'] = pd.to_datetime(df_real['date_time_utc'])\n",
    "df_gen['date_time_utc'] = pd.to_datetime(df_gen['date_time_utc'])\n",
    "\n",
    "detectors = [col.split('_', 2)[-1] for col in df_real.columns if col.startswith('decision_function_')]"
   ]
  },
  {
   "cell_type": "markdown",
   "metadata": {},
   "source": [
    "## Linear Transformation "
   ]
  },
  {
   "cell_type": "code",
   "execution_count": 8,
   "metadata": {},
   "outputs": [],
   "source": [
    "scaler = MinMaxScaler()\n",
    "for detector in detectors:\n",
    "    scl = copy(scaler)\n",
    "    gen = df_gen['decision_function_{0}'.format(detector)].values.reshape(-1, 1)\n",
    "    real = df_real['decision_function_{0}'.format(detector)].values.reshape(-1, 1)\n",
    "    \n",
    "    df_gen['decision_function_lt_{0}'.format(detector)] = scl.fit_transform(gen)\n",
    "    df_real['decision_function_lt_{0}'.format(detector)] = scl.transform(real)\n",
    "    \n",
    "lt_cols = [col for col in df_gen if col.startswith('decision_function_lt_')]\n",
    "\n",
    "df_gen['decision_function_lt'] = df_gen[lt_cols].sum(1) / len(detectors)\n",
    "df_real['decision_function_lt'] = df_real[lt_cols].sum(1) / len(detectors)"
   ]
  },
  {
   "cell_type": "code",
   "execution_count": 10,
   "metadata": {},
   "outputs": [
    {
     "name": "stdout",
     "output_type": "stream",
     "text": [
      "threshold: 0.04 \t f1_gen: 0.863 \t f1_real: 0.311\n",
      "threshold: 0.05 \t f1_gen: 0.923 \t f1_real: 0.483\n",
      "threshold: 0.06 \t f1_gen: 0.949 \t f1_real: 0.603\n",
      "threshold: 0.07 \t f1_gen: 0.961 \t f1_real: 0.684\n",
      "threshold: 0.08 \t f1_gen: 0.964 \t f1_real: 0.725\n",
      "threshold: 0.09 \t f1_gen: 0.961 \t f1_real: 0.742\n",
      "threshold: 0.10 \t f1_gen: 0.952 \t f1_real: 0.742\n",
      "threshold: 0.11 \t f1_gen: 0.941 \t f1_real: 0.711\n",
      "threshold: 0.12 \t f1_gen: 0.907 \t f1_real: 0.700\n",
      "threshold: 0.13 \t f1_gen: 0.881 \t f1_real: 0.647\n"
     ]
    }
   ],
   "source": [
    "window = pd.Timedelta('4h')\n",
    "real_station_id = [114, 119, 302, 303, 442, 504, 511, 1838, 1896]\n",
    "generate_station_id = [615, 618, 620, 624, 626, 627, 635, 702, \n",
    "                       704, 862, 874, 888, 1808, 1813, 1826]\n",
    "results = []\n",
    "\n",
    "for thresh in np.arange(0.04, 0.14, 0.01):\n",
    "    \n",
    "    # Real data\n",
    "    df_real['label_predict'] = df_real['decision_function_lt'] > thresh\n",
    "    \n",
    "    recall_real = calc_recall(df_real, real_station_id, window)\n",
    "    precision_real = calc_precision(df_real, real_station_id, window)\n",
    "    f1_real = calc_f1_score(precision_real, recall_real)\n",
    "    \n",
    "    # Generated data\n",
    "    df_gen['label_predict'] = df_gen['decision_function_lt'] > thresh\n",
    "    \n",
    "    recall_gen = calc_recall(df_gen, generate_station_id, window)\n",
    "    precision_gen = calc_precision(df_gen, generate_station_id, window)\n",
    "    f1_gen = calc_f1_score(precision_gen, recall_gen)\n",
    "    \n",
    "    # Save results\n",
    "    results.append({'threshold': thresh, \n",
    "                    'recall_real': recall_real, \n",
    "                    'precision_real': precision_real, \n",
    "                    'f1_real': f1_real,\n",
    "                    'recall_gen': recall_gen, \n",
    "                    'precision_gen': precision_gen, \n",
    "                    'f1_gen': f1_gen})\n",
    "    \n",
    "    # Print results\n",
    "    print('threshold: {0:.2f} \\t f1_gen: {1:.3f} \\t f1_real: {2:.3f}'.format(thresh, f1_gen, f1_real))\n",
    "    \n",
    "results_df = pd.DataFrame(results)\n",
    "#results_df.to_csv('/mnt/HARD/Diplom/MinMax/threshold/ridge_fb_lt.csv', index=False)"
   ]
  },
  {
   "cell_type": "code",
   "execution_count": null,
   "metadata": {
    "scrolled": true
   },
   "outputs": [],
   "source": [
    "%matplotlib inline\n",
    "\n",
    "df_gen[df_gen['decision_function_lt'] < 10].boxplot('decision_function_lt', 'label_true')"
   ]
  },
  {
   "cell_type": "markdown",
   "metadata": {},
   "source": [
    "## Weigted Linear Trasformation"
   ]
  },
  {
   "cell_type": "code",
   "execution_count": 19,
   "metadata": {},
   "outputs": [],
   "source": [
    "scaler = MinMaxScaler()\n",
    "\n",
    "for detector in detectors:\n",
    "    scl = copy(scaler)\n",
    "    gen = df_gen['decision_function_{0}'.format(detector)].values.reshape(-1, 1)\n",
    "    real = df_real['decision_function_{0}'.format(detector)].values.reshape(-1, 1)\n",
    "    df_gen['decision_function_lt_{0}'.format(detector)] = scl.fit_transform(gen)\n",
    "    df_real['decision_function_lt_{0}'.format(detector)] = scl.transform(real)\n",
    "\n",
    "  \n",
    "corr_columns = [col for col in df_gen.columns if col.startswith('decision_function_lt_') or col=='label_true']\n",
    "corr = df_gen[corr_columns].corr()['label_true']\n",
    "\n",
    "for detector in detectors:\n",
    "    weight = corr['decision_function_lt_{0}'.format(detector)]\n",
    "    df_gen['decision_function_wlt_{0}'.format(detector)] = df_gen['decision_function_lt_{0}'.format(detector)] * weight\n",
    "    df_real['decision_function_wlt_{0}'.format(detector)] = df_real['decision_function_lt_{0}'.format(detector)] * weight\n",
    "\n",
    "wlt_cols = [col for col in df_gen if col.startswith('decision_function_wlt_')]\n",
    "df_gen['decision_function_wlt'] = df_gen[wlt_cols].sum(1) / (corr.sum() - 1)\n",
    "df_real['decision_function_wlt'] = df_real[wlt_cols].sum(1) / (corr.sum() - 1)"
   ]
  },
  {
   "cell_type": "code",
   "execution_count": 22,
   "metadata": {},
   "outputs": [
    {
     "name": "stdout",
     "output_type": "stream",
     "text": [
      "threshold: 0.04 \t f1_gen: 0.875 \t f1_real: 0.318\n",
      "threshold: 0.04 \t f1_gen: 0.908 \t f1_real: 0.406\n",
      "threshold: 0.05 \t f1_gen: 0.930 \t f1_real: 0.496\n",
      "threshold: 0.05 \t f1_gen: 0.944 \t f1_real: 0.553\n",
      "threshold: 0.06 \t f1_gen: 0.955 \t f1_real: 0.614\n",
      "threshold: 0.06 \t f1_gen: 0.959 \t f1_real: 0.669\n",
      "threshold: 0.07 \t f1_gen: 0.964 \t f1_real: 0.689\n",
      "threshold: 0.07 \t f1_gen: 0.965 \t f1_real: 0.707\n",
      "threshold: 0.08 \t f1_gen: 0.965 \t f1_real: 0.726\n",
      "threshold: 0.08 \t f1_gen: 0.965 \t f1_real: 0.738\n",
      "threshold: 0.09 \t f1_gen: 0.962 \t f1_real: 0.741\n",
      "threshold: 0.09 \t f1_gen: 0.960 \t f1_real: 0.734\n",
      "threshold: 0.10 \t f1_gen: 0.954 \t f1_real: 0.738\n",
      "threshold: 0.10 \t f1_gen: 0.949 \t f1_real: 0.719\n",
      "threshold: 0.11 \t f1_gen: 0.943 \t f1_real: 0.715\n",
      "threshold: 0.11 \t f1_gen: 0.926 \t f1_real: 0.699\n",
      "threshold: 0.12 \t f1_gen: 0.912 \t f1_real: 0.684\n",
      "threshold: 0.12 \t f1_gen: 0.898 \t f1_real: 0.668\n",
      "threshold: 0.13 \t f1_gen: 0.886 \t f1_real: 0.646\n",
      "threshold: 0.13 \t f1_gen: 0.867 \t f1_real: 0.641\n"
     ]
    }
   ],
   "source": [
    "window = pd.Timedelta('4h')\n",
    "real_station_id = [114, 119, 302, 303, 442, 504, 511, 1838, 1896]\n",
    "generate_station_id = [615, 618, 620, 624, 626, 627, 635, 702, \n",
    "                       704, 862, 874, 888, 1808, 1813, 1826]\n",
    "results = []\n",
    "\n",
    "for thresh in np.arange(0.04, 0.14, 0.005):\n",
    "    \n",
    "    # Real data\n",
    "    df_real['label_predict'] = df_real['decision_function_wlt'] > thresh\n",
    "    \n",
    "    recall_real = calc_recall(df_real, real_station_id, window)\n",
    "    precision_real = calc_precision(df_real, real_station_id, window)\n",
    "    f1_real = calc_f1_score(precision_real, recall_real)\n",
    "    \n",
    "    # Generated data\n",
    "    df_gen['label_predict'] = df_gen['decision_function_wlt'] > thresh\n",
    "    \n",
    "    recall_gen = calc_recall(df_gen, generate_station_id, window)\n",
    "    precision_gen = calc_precision(df_gen, generate_station_id, window)\n",
    "    f1_gen = calc_f1_score(precision_gen, recall_gen)\n",
    "    \n",
    "    # Save results\n",
    "    results.append({'threshold': thresh, \n",
    "                    'recall_real': recall_real, \n",
    "                    'precision_real': precision_real, \n",
    "                    'f1_real': f1_real,\n",
    "                    'recall_gen': recall_gen, \n",
    "                    'precision_gen': precision_gen, \n",
    "                    'f1_gen': f1_gen})\n",
    "    \n",
    "    # Print results\n",
    "    print('threshold: {0:.2f} \\t f1_gen: {1:.3f} \\t f1_real: {2:.3f}'.format(thresh, f1_gen, f1_real))\n",
    "    \n",
    "results_df = pd.DataFrame(results)\n",
    "#results_df.to_csv('/mnt/HARD/Diplom/MinMax/threshold/ridge_fb_wlt.csv', index=False)"
   ]
  },
  {
   "cell_type": "code",
   "execution_count": 23,
   "metadata": {},
   "outputs": [],
   "source": [
    "results_df.to_csv('/mnt/HARD/Diplom/MinMax/threshold/ridge_fb_wlt.csv', index=False)"
   ]
  },
  {
   "cell_type": "markdown",
   "metadata": {},
   "source": [
    "## Logistic Regression"
   ]
  },
  {
   "cell_type": "code",
   "execution_count": 15,
   "metadata": {},
   "outputs": [],
   "source": [
    "from sklearn.linear_model import LogisticRegression\n",
    "from sklearn.preprocessing import MinMaxScaler\n",
    "\n",
    "scaler = MinMaxScaler()\n",
    "\n",
    "for detector in detectors:\n",
    "    df_gen['decision_function_log_{0}'.format(detector)] = df_gen['decision_function_{0}'.format(detector)]\n",
    "    df_real['decision_function_log_{0}'.format(detector)] = df_real['decision_function_{0}'.format(detector)]\n",
    "\n",
    "log_cols = [col for col in df_gen if col.startswith('decision_function_log_')]\n",
    "\n",
    "X_train = df_gen[log_cols]\n",
    "y_train = df_gen['label_true']\n",
    "\n",
    "X_test = df_real[log_cols]\n",
    "y_test = df_real['label_true']\n",
    "\n",
    "clf = LogisticRegression()\n",
    "clf.fit(X_train, y_train)\n",
    "\n",
    "df_gen['decision_function_log'] = clf.decision_function(X_train)\n",
    "df_real['decision_function_log'] = clf.decision_function(X_test)\n",
    "\n",
    "df_gen['decision_function_log'] = scaler.fit_transform(df_gen['decision_function_log'].values.reshape(-1, 1))\n",
    "df_real['decision_function_log'] = scaler.transform(df_real['decision_function_log'].values.reshape(-1, 1))"
   ]
  },
  {
   "cell_type": "code",
   "execution_count": 24,
   "metadata": {},
   "outputs": [
    {
     "name": "stdout",
     "output_type": "stream",
     "text": [
      "threshold: 0.12 \t f1_gen: 0.898 \t f1_real: 0.501\n",
      "threshold: 0.13 \t f1_gen: 0.920 \t f1_real: 0.613\n",
      "threshold: 0.14 \t f1_gen: 0.934 \t f1_real: 0.683\n",
      "threshold: 0.15 \t f1_gen: 0.939 \t f1_real: 0.728\n",
      "threshold: 0.16 \t f1_gen: 0.943 \t f1_real: 0.748\n",
      "threshold: 0.17 \t f1_gen: 0.944 \t f1_real: 0.759\n",
      "threshold: 0.18 \t f1_gen: 0.944 \t f1_real: 0.753\n",
      "threshold: 0.19 \t f1_gen: 0.943 \t f1_real: 0.751\n",
      "threshold: 0.20 \t f1_gen: 0.944 \t f1_real: 0.743\n",
      "threshold: 0.21 \t f1_gen: 0.941 \t f1_real: 0.739\n",
      "threshold: 0.22 \t f1_gen: 0.933 \t f1_real: 0.724\n",
      "threshold: 0.23 \t f1_gen: 0.927 \t f1_real: 0.732\n",
      "threshold: 0.24 \t f1_gen: 0.919 \t f1_real: 0.707\n",
      "threshold: 0.25 \t f1_gen: 0.907 \t f1_real: 0.708\n",
      "threshold: 0.26 \t f1_gen: 0.895 \t f1_real: 0.671\n",
      "threshold: 0.27 \t f1_gen: 0.878 \t f1_real: 0.649\n"
     ]
    }
   ],
   "source": [
    "window = pd.Timedelta('4h')\n",
    "real_station_id = [114, 119, 302, 303, 442, 504, 511, 1838, 1896]\n",
    "generate_station_id = [615, 618, 620, 624, 626, 627, 635, 702, \n",
    "                       704, 862, 874, 888, 1808, 1813, 1826]\n",
    "results = []\n",
    "\n",
    "for thresh in np.arange(0.12, 0.27, 0.01):\n",
    "#for thresh in np.arange(0.2, 0.25, 0.01):\n",
    "    \n",
    "    # Real data\n",
    "    df_real['label_predict'] = df_real['decision_function_log'] > thresh\n",
    "    \n",
    "    recall_real = calc_recall(df_real, real_station_id, window)\n",
    "    precision_real = calc_precision(df_real, real_station_id, window)\n",
    "    f1_real = calc_f1_score(precision_real, recall_real)\n",
    "    \n",
    "    # Generated data\n",
    "    df_gen['label_predict'] = df_gen['decision_function_log'] > thresh\n",
    "    \n",
    "    recall_gen = calc_recall(df_gen, generate_station_id, window)\n",
    "    precision_gen = calc_precision(df_gen, generate_station_id, window)\n",
    "    f1_gen = calc_f1_score(precision_gen, recall_gen)\n",
    "    \n",
    "    # Save results\n",
    "    results.append({'threshold': thresh, \n",
    "                    'recall_real': recall_real, \n",
    "                    'precision_real': precision_real, \n",
    "                    'f1_real': f1_real,\n",
    "                    'recall_gen': recall_gen, \n",
    "                    'precision_gen': precision_gen, \n",
    "                    'f1_gen': f1_gen})\n",
    "    \n",
    "    # Print results\n",
    "    print('threshold: {0:.2f} \\t f1_gen: {1:.4f} \\t f1_real: {2:.3f}'.format(thresh, f1_gen, f1_real))\n",
    "    \n",
    "results_df = pd.DataFrame(results)\n",
    "#results_df.to_csv('/mnt/HARD/Diplom/MinMax/threshold/ridge_fb_log.csv', index=False)"
   ]
  },
  {
   "cell_type": "code",
   "execution_count": 22,
   "metadata": {},
   "outputs": [
    {
     "data": {
      "text/plain": [
       "<matplotlib.axes._subplots.AxesSubplot at 0x7fd403fbbb70>"
      ]
     },
     "execution_count": 22,
     "metadata": {},
     "output_type": "execute_result"
    },
    {
     "data": {
      "image/png": "[encoded data removed]",
      "text/plain": [
       "<matplotlib.figure.Figure at 0x7fd403f842e8>"
      ]
     },
     "metadata": {},
     "output_type": "display_data"
    }
   ],
   "source": [
    "%matplotlib inline\n",
    "\n",
    "df_gen[df_gen['decision_function_log'] < 0.4].boxplot('decision_function_log', 'label_true')"
   ]
  }
 ],
 "metadata": {
  "kernelspec": {
   "display_name": "Python 3",
   "language": "python",
   "name": "python3"
  },
  "language_info": {
   "codemirror_mode": {
    "name": "ipython",
    "version": 3
   },
   "file_extension": ".py",
   "mimetype": "text/x-python",
   "name": "python",
   "nbconvert_exporter": "python",
   "pygments_lexer": "ipython3",
   "version": "3.5.2"
  },
  "widgets": {
   "state": {
    "00326b32892a43d4ba69bd9c99cfa796": {
     "views": [
      {
       "cell_index": 7
      }
     ]
    },
    "1eb71c32c655466b842aaa0c3a382add": {
     "views": [
      {
       "cell_index": 7
      }
     ]
    },
    "2ad459046cde4777afe3f9e3c8c5b3ae": {
     "views": [
      {
       "cell_index": 7
      }
     ]
    },
    "3a74dceb621c486a9341da5c8a982164": {
     "views": [
      {
       "cell_index": 7
      }
     ]
    },
    "660c86c1a4384674a185be4b3bff31a9": {
     "views": [
      {
       "cell_index": 7
      }
     ]
    },
    "7f3b66d1e80d4f5e87d2988624d955d0": {
     "views": [
      {
       "cell_index": 7
      }
     ]
    },
    "943e2c1cc988476e971e75100750df58": {
     "views": [
      {
       "cell_index": 7
      }
     ]
    },
    "b4c7e54d4afe468e8123b8ed01cc507b": {
     "views": [
      {
       "cell_index": 7
      }
     ]
    },
    "daaa68dca49744bc9ee634c5c1142d96": {
     "views": [
      {
       "cell_index": 7
      }
     ]
    },
    "db245a5162754e999cfdd51d9b929484": {
     "views": [
      {
       "cell_index": 7
      }
     ]
    },
    "e0a44a8d4a2840a2aa38273cc13524ef": {
     "views": [
      {
       "cell_index": 7
      }
     ]
    },
    "eaa208b4699544f9a2ee2c4559d77e40": {
     "views": [
      {
       "cell_index": 7
      }
     ]
    },
    "f0ea691c74e14437adaf0ac14d37253b": {
     "views": [
      {
       "cell_index": 7
      }
     ]
    },
    "fa6314ecdce54b00b1655f84e78f9297": {
     "views": [
      {
       "cell_index": 7
      }
     ]
    }
   },
   "version": "1.2.0"
  }
 },
 "nbformat": 4,
 "nbformat_minor": 2
}
