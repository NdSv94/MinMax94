{
 "cells": [
  {
   "cell_type": "code",
   "execution_count": 1,
   "metadata": {},
   "outputs": [],
   "source": [
    "import numpy as np\n",
    "import pandas as pd\n",
    "from copy import copy\n",
    "import sys\n",
    "sys.path.append('/home/ndsviriden/MinMax94/src/utils') \n",
    "from constants import data_directory, MmxColumns\n",
    "from interpolation import interpolate_mmx, create_patterns\n",
    "from converters import convert_raw_to_mmx\n",
    "from preprocessing import get_clean_data\n",
    "from generate_anomalies import generate_single_anomaly, generate_short_term_anomaly, generate_long_term_anomaly\n",
    "from loaders import load_mm94_stations, select_mm94_features\n",
    "from geographical import find_nearest_wmo_station, add_solar_angles, add_coordinates, add_road_id\n",
    "from sklearn.ensemble import IsolationForest\n",
    "from score import get_labels\n",
    "from score import calc_precision, calc_recall, calc_f1_score\n",
    "import matplotlib.pyplot as plt\n",
    "import gc\n",
    "from tqdm import tqdm_notebook\n",
    "from functools import reduce"
   ]
  },
  {
   "cell_type": "markdown",
   "metadata": {},
   "source": [
    "## Loading data"
   ]
  },
  {
   "cell_type": "code",
   "execution_count": 2,
   "metadata": {},
   "outputs": [
    {
     "name": "stderr",
     "output_type": "stream",
     "text": [
      "/home/ndsviriden/MinMax94/src/utils/geographical.py:65: RuntimeWarning: invalid value encountered in arccos\n",
      "  solar_azimuth = np.arccos(cos_az) * np.sign(h_rad)\n"
     ]
    },
    {
     "name": "stdout",
     "output_type": "stream",
     "text": [
      "CPU times: user 2min 1s, sys: 14 s, total: 2min 15s\n",
      "Wall time: 2min 15s\n"
     ]
    }
   ],
   "source": [
    "%%time\n",
    "test_station_id = [114, 117, 119, 302, 303, 307, 393, 442, 503, 504, \n",
    "                   511, 516, 1838, 1896]\n",
    "\n",
    "\n",
    "train_station_id = [113, 115, 116, 118, 126, 150, 152, 200, 223, 228, \n",
    "                    239, 305, 308, 309, 401, 411, 432, 435, 454, 456, \n",
    "                    593, 628, 1831, 1899, 1911, 1921, 4007, 20323, 20717, 20743, \n",
    "                    20754, 20755, 20761, 20916, 20921]\n",
    "\n",
    "generate_station_id = [615, 618, 620, 624, 626, 627, 635, 702, \n",
    "                       704, 862, 874, 888, 1808, 1813, 1826]\n",
    "\n",
    "raw = load_mm94_stations(train_station_id + test_station_id + generate_station_id)\n",
    "raw = select_mm94_features(raw, ['t_air', 't_road', 't_underroad', 'pressure', 'dampness'])\n",
    "\n",
    "mmx_rwis = convert_raw_to_mmx(raw)\n",
    "mmx_rwis_interpolated = interpolate_mmx(mmx_rwis)\n",
    "data = create_patterns(mmx_rwis_interpolated)\n",
    "\n",
    "data['data_solar_azimuth'], data['data_solar_altitude'] = add_solar_angles(data)\n",
    "data['data_latitude'], data['data_longitude'] = add_coordinates(data)\n",
    "data['data_road'] = add_road_id(data)\n",
    "data = data.dropna(subset=('data_t_road', ))\n",
    "\n",
    "del data[MmxColumns.ID_AIR_TEMPERATURE], data[MmxColumns.ID_UNDERGROUND_TEMPERATURE], \\\n",
    "    data[MmxColumns.ID_PRESSURE], data[MmxColumns.ID_HUMIDITY]\n",
    "\n",
    "train = data[data['station_id'].isin(train_station_id)]\n",
    "train = train.reset_index(drop=True)\n",
    "train_clean = get_clean_data(train)\n",
    "\n",
    "test = data[data['station_id'].isin(test_station_id)]\n",
    "test = test.reset_index(drop=True)\n",
    "test['label_true'] = get_labels(test, labels_type='true')\n",
    "\n",
    "generated = data[data['station_id'].isin(generate_station_id)]\n",
    "generated = generated.reset_index(drop=True)\n",
    "generated_clean = get_clean_data(generated)\n",
    "\n",
    "del data, raw, mmx_rwis, mmx_rwis_interpolated\n",
    "gc.collect()"
   ]
  },
  {
   "cell_type": "markdown",
   "metadata": {},
   "source": [
    "## Generated anomalies"
   ]
  },
  {
   "cell_type": "code",
   "execution_count": 3,
   "metadata": {},
   "outputs": [],
   "source": [
    "np.random.seed(42)\n",
    "to_generate = copy(generated_clean)\n",
    "to_generate['label_true'] = False\n",
    "col = MmxColumns.ROAD_TEMPERATURE\n",
    "\n",
    "#---------------------------------------------------------------------------------\n",
    "number_of_anomalies = 30 * len(generate_station_id)\n",
    "index_list = np.random.choice(to_generate.index, number_of_anomalies, replace=False)\n",
    "\n",
    "for index in index_list:\n",
    "    perturbated_series = generate_single_anomaly(to_generate, index)\n",
    "    to_generate.loc[index, col] += perturbated_series\n",
    "    to_generate.loc[index, 'label_true'] = True\n",
    "    \n",
    "#---------------------------------------------------------------------------------\n",
    "number_of_anomalies = 20 * len(generate_station_id)\n",
    "index_list = np.random.choice(to_generate.index, number_of_anomalies, replace=False)\n",
    "\n",
    "for index in index_list:\n",
    "    perturbated_series = generate_short_term_anomaly(to_generate, index)\n",
    "    series_duration = len(perturbated_series)\n",
    "    to_generate.loc[index: (index + series_duration - 1), col] += perturbated_series\n",
    "    to_generate.loc[index: (index + series_duration - 1), 'label_true'] = True\n",
    "\n",
    "#---------------------------------------------------------------------------------\n",
    "number_of_anomalies = 3 * len(generate_station_id)\n",
    "index_list = np.random.choice(to_generate.index, number_of_anomalies, replace=False)\n",
    "\n",
    "for index in index_list:\n",
    "    perturbated_series = generate_long_term_anomaly(to_generate, index)\n",
    "    series_duration = len(perturbated_series)\n",
    "    to_generate.loc[index: (index + series_duration - 1), col] += perturbated_series\n",
    "    to_generate.loc[index: (index + series_duration - 1), 'label_true'] = True"
   ]
  },
  {
   "cell_type": "code",
   "execution_count": 4,
   "metadata": {},
   "outputs": [
    {
     "data": {
      "image/png": "[encoded data removed]",
      "text/plain": [
       "<matplotlib.figure.Figure at 0x7f78d7819f28>"
      ]
     },
     "metadata": {},
     "output_type": "display_data"
    }
   ],
   "source": [
    "start = pd.Timestamp(2012, 12, 20)\n",
    "end = pd.Timestamp(2017, 1, 27)\n",
    "\n",
    "to_plot = to_generate[to_generate['station_id']==615]\n",
    "to_plot = to_plot[(to_plot['date_time_utc']<=end) & (to_plot['date_time_utc']>=start)]\n",
    "to_plot = to_plot.set_index('date_time_utc')\n",
    "\n",
    "\n",
    "plt.figure(figsize=(30, 10))\n",
    "\n",
    "for elem in [False, True]:\n",
    "    cond = to_plot['label_true'] == elem\n",
    "    if elem:\n",
    "        plt.plot_date(to_plot[cond].index, to_plot[cond]['data_t_road'], 'r',\n",
    "                      linestyle='none', marker='o', markersize=10, label='artificial outliers')\n",
    "    else:\n",
    "        plt.plot_date(to_plot[cond].index, to_plot[cond]['data_t_road'], 'b',\n",
    "                      linestyle='none', marker='o', markersize=8, label='initial data')\n",
    "\n",
    "plt.grid()\n",
    "plt.legend(fontsize=32)\n",
    "plt.ylabel(r' Road surface temperature, $^{\\circ}C$', fontsize=30)\n",
    "\n",
    "plt.tick_params(labelsize=30)\n",
    "plt.show()"
   ]
  },
  {
   "cell_type": "markdown",
   "metadata": {},
   "source": [
    "## XGBoost"
   ]
  },
  {
   "cell_type": "code",
   "execution_count": 5,
   "metadata": {},
   "outputs": [
    {
     "name": "stdout",
     "output_type": "stream",
     "text": [
      "CPU times: user 24.7 s, sys: 3.85 ms, total: 24.7 s\n",
      "Wall time: 8.27 s\n"
     ]
    }
   ],
   "source": [
    "%%time\n",
    "\n",
    "import pickle\n",
    "import numpy as np\n",
    "import xgboost as xgb\n",
    "from preprocessing import create_feature_df\n",
    "from sklearn.metrics import mean_absolute_error\n",
    "\n",
    "point = pd.Timestamp(2015, 6, 1)\n",
    "clf = pickle.load(open('/mnt/HARD/Diplom/MinMax/models/model_centered/xgboost.pickle', 'rb'))\n",
    "\n",
    "time = 0.5\n",
    "variables = ['data_t_road']\n",
    "\n",
    "df_xgb_real = create_feature_df(test, winter_period=False, time=time,\n",
    "                           variables=variables)\n",
    "df_xgb_gen = create_feature_df(to_generate, winter_period=False, time=time,\n",
    "                           variables=variables)\n",
    "\n",
    "features = [col for col in df_xgb_real if col.startswith('data_')]\n",
    "target = [col for col in df_xgb_real if col.startswith('target_')][0]\n",
    "\n",
    "X_test = np.array(df_xgb_real[features].values)\n",
    "y_test = np.array(df_xgb_real[target].values.reshape(-1, 1))\n",
    "dtest = xgb.DMatrix(X_test, y_test)\n",
    "\n",
    "X_gen = np.array(df_xgb_gen[features].values)\n",
    "y_gen = np.array(df_xgb_gen[target].values.reshape(-1, 1))\n",
    "dgen = xgb.DMatrix(X_gen, y_gen)\n",
    "\n",
    "df_xgb_real['decision_function'] = np.abs(dtest.get_label() - clf.predict(dtest).ravel())\n",
    "df_xgb_gen['decision_function'] = np.abs(dgen.get_label() - clf.predict(dgen).ravel())"
   ]
  },
  {
   "cell_type": "markdown",
   "metadata": {},
   "source": [
    "### Label predict. Find optimal"
   ]
  },
  {
   "cell_type": "code",
   "execution_count": 6,
   "metadata": {
    "scrolled": true
   },
   "outputs": [
    {
     "name": "stdout",
     "output_type": "stream",
     "text": [
      "threshold: 4.00 \t f1_gen: 0.913 \t f1_real: 0.433\n",
      "threshold: 4.20 \t f1_gen: 0.921 \t f1_real: 0.457\n",
      "threshold: 4.40 \t f1_gen: 0.927 \t f1_real: 0.477\n",
      "threshold: 4.60 \t f1_gen: 0.933 \t f1_real: 0.496\n",
      "threshold: 4.80 \t f1_gen: 0.936 \t f1_real: 0.519\n",
      "threshold: 5.00 \t f1_gen: 0.942 \t f1_real: 0.543\n",
      "threshold: 5.20 \t f1_gen: 0.945 \t f1_real: 0.563\n",
      "threshold: 5.40 \t f1_gen: 0.948 \t f1_real: 0.575\n",
      "threshold: 5.60 \t f1_gen: 0.951 \t f1_real: 0.590\n",
      "threshold: 5.80 \t f1_gen: 0.951 \t f1_real: 0.609\n",
      "threshold: 6.00 \t f1_gen: 0.953 \t f1_real: 0.620\n",
      "threshold: 6.20 \t f1_gen: 0.954 \t f1_real: 0.630\n",
      "threshold: 6.40 \t f1_gen: 0.956 \t f1_real: 0.643\n",
      "threshold: 6.60 \t f1_gen: 0.956 \t f1_real: 0.638\n",
      "threshold: 6.80 \t f1_gen: 0.956 \t f1_real: 0.639\n",
      "threshold: 7.00 \t f1_gen: 0.957 \t f1_real: 0.651\n",
      "threshold: 7.20 \t f1_gen: 0.957 \t f1_real: 0.660\n",
      "threshold: 7.40 \t f1_gen: 0.958 \t f1_real: 0.671\n",
      "threshold: 7.60 \t f1_gen: 0.958 \t f1_real: 0.648\n",
      "threshold: 7.80 \t f1_gen: 0.958 \t f1_real: 0.647\n",
      "threshold: 8.00 \t f1_gen: 0.958 \t f1_real: 0.652\n",
      "threshold: 8.20 \t f1_gen: 0.957 \t f1_real: 0.662\n",
      "threshold: 8.40 \t f1_gen: 0.953 \t f1_real: 0.660\n",
      "threshold: 8.60 \t f1_gen: 0.952 \t f1_real: 0.665\n",
      "threshold: 8.80 \t f1_gen: 0.950 \t f1_real: 0.649\n",
      "threshold: 9.00 \t f1_gen: 0.948 \t f1_real: 0.634\n",
      "threshold: 9.20 \t f1_gen: 0.944 \t f1_real: 0.630\n",
      "threshold: 9.40 \t f1_gen: 0.939 \t f1_real: 0.629\n",
      "threshold: 9.60 \t f1_gen: 0.938 \t f1_real: 0.627\n",
      "threshold: 9.80 \t f1_gen: 0.937 \t f1_real: 0.629\n",
      "threshold: 10.00 \t f1_gen: 0.933 \t f1_real: 0.631\n",
      "threshold: 10.20 \t f1_gen: 0.929 \t f1_real: 0.635\n",
      "threshold: 10.40 \t f1_gen: 0.924 \t f1_real: 0.637\n",
      "threshold: 10.60 \t f1_gen: 0.919 \t f1_real: 0.621\n",
      "threshold: 10.80 \t f1_gen: 0.913 \t f1_real: 0.619\n",
      "threshold: 11.00 \t f1_gen: 0.908 \t f1_real: 0.612\n",
      "threshold: 11.20 \t f1_gen: 0.899 \t f1_real: 0.615\n",
      "threshold: 11.40 \t f1_gen: 0.893 \t f1_real: 0.599\n",
      "threshold: 11.60 \t f1_gen: 0.886 \t f1_real: 0.600\n",
      "threshold: 11.80 \t f1_gen: 0.878 \t f1_real: 0.589\n"
     ]
    }
   ],
   "source": [
    "window = pd.Timedelta('4h')\n",
    "real_station_id = [114, 119, 302, 303, 442, 504, 511, 1838, 1896]\n",
    "results = []\n",
    "\n",
    "df_real = copy(df_xgb_real[['date_time_utc', 'station_id', 'id_t_road', \n",
    "                           'target_t_road', 'decision_function', 'label_true']])\n",
    "\n",
    "df_gen = copy(df_xgb_gen[['date_time_utc', 'station_id', 'id_t_road', \n",
    "                         'target_t_road', 'decision_function', 'label_true']])\n",
    "\n",
    "\n",
    "for thresh in np.arange(4, 12, 0.2):\n",
    "    \n",
    "    # Real data\n",
    "    df_real['label_predict'] = df_real['decision_function'] > thresh\n",
    "    \n",
    "    recall_real = calc_recall(df_real, real_station_id, window)\n",
    "    precision_real = calc_precision(df_real, real_station_id, window)\n",
    "    f1_real = calc_f1_score(precision_real, recall_real)\n",
    "    \n",
    "    # Generated data\n",
    "    df_gen['label_predict'] = df_gen['decision_function'] > thresh\n",
    "    \n",
    "    recall_gen = calc_recall(df_gen, generate_station_id, window)\n",
    "    precision_gen = calc_precision(df_gen, generate_station_id, window)\n",
    "    f1_gen = calc_f1_score(precision_gen, recall_gen)\n",
    "    \n",
    "    # Save results\n",
    "    results.append({'threshold': thresh, \n",
    "                    'recall_real': recall_real, \n",
    "                    'precision_real': precision_real, \n",
    "                    'f1_real': f1_real,\n",
    "                    'recall_gen': recall_gen, \n",
    "                    'precision_gen': precision_gen, \n",
    "                    'f1_gen': f1_gen})\n",
    "    \n",
    "    # Print results\n",
    "    print('threshold: {0:.2f} \\t f1_gen: {1:.3f} \\t f1_real: {2:.3f}'.format(thresh, f1_gen, f1_real))\n",
    "    \n",
    "results_df = pd.DataFrame(results)\n",
    "results_df.to_csv('/mnt/HARD/Diplom/MinMax/threshold/xgboost.csv', index=False)"
   ]
  },
  {
   "cell_type": "code",
   "execution_count": 7,
   "metadata": {},
   "outputs": [
    {
     "name": "stdout",
     "output_type": "stream",
     "text": [
      "Real: \t thresh: 7.40 \t F1: 0.671 \t R: 0.674 \t P: 0.667\n",
      "Optm: \t thresh: 7.80 \t F1: 0.647 \t R: 0.640 \t P: 0.655\n"
     ]
    }
   ],
   "source": [
    "real_max_f1 = results_df['f1_real'].max()\n",
    "real_max_point = results_df['threshold'][results_df['f1_real'] == real_max_f1].iloc[0]\n",
    "real_recall = results_df['recall_real'][results_df['f1_real'] == real_max_f1].iloc[0]\n",
    "real_precision = results_df['precision_real'][results_df['f1_real'] == real_max_f1].iloc[0]\n",
    "\n",
    "gen_max_f1 = results_df['f1_gen'].max()\n",
    "gen_max_point = results_df['threshold'][results_df['f1_gen'] == gen_max_f1].iloc[0]\n",
    "\n",
    "art_max_point = gen_max_point\n",
    "art_max_f1 = results_df[results_df['threshold'] == art_max_point]['f1_real'].iloc[0]\n",
    "art_recall = results_df[results_df['threshold'] == art_max_point]['recall_real'].iloc[0]\n",
    "art_precision = results_df[results_df['threshold'] == art_max_point]['precision_real'].iloc[0]\n",
    "\n",
    "print('Real: \\t thresh: {0:.2f} \\t F1: {1:.3f} \\t R: {2:.3f} \\t P: {3:.3f}'.\n",
    "      format(real_max_point, real_max_f1, real_recall, real_precision))\n",
    "\n",
    "print('Optm: \\t thresh: {0:.2f} \\t F1: {1:.3f} \\t R: {2:.3f} \\t P: {3:.3f}'.\n",
    "      format(art_max_point, art_max_f1, art_recall, art_precision))\n",
    "\n",
    "df_xgb_real['label_predict'] = df_xgb_real['decision_function'] > art_max_point\n",
    "df_xgb_gen['label_predict'] = df_xgb_gen['decision_function'] > art_max_point"
   ]
  },
  {
   "cell_type": "markdown",
   "metadata": {},
   "source": [
    "## XGboost_Noisy"
   ]
  },
  {
   "cell_type": "code",
   "execution_count": 8,
   "metadata": {},
   "outputs": [
    {
     "name": "stdout",
     "output_type": "stream",
     "text": [
      "CPU times: user 25 s, sys: 276 ms, total: 25.3 s\n",
      "Wall time: 8.68 s\n"
     ]
    }
   ],
   "source": [
    "%%time\n",
    "point = pd.Timestamp(2015, 6, 1)\n",
    "clf = pickle.load(open('/mnt/HARD/Diplom/MinMax/models/model_centered/xgboost_noisy.pickle', 'rb'))\n",
    "\n",
    "time = 0.5\n",
    "variables = ['data_t_road']\n",
    "\n",
    "df_xgb_n_real = create_feature_df(test, winter_period=False, time=time,\n",
    "                           variables=variables)\n",
    "df_xgb_n_gen = create_feature_df(to_generate, winter_period=False, time=time,\n",
    "                           variables=variables)\n",
    "\n",
    "features = [col for col in df_xgb_n_real if col.startswith('data_')]\n",
    "target = [col for col in df_xgb_n_real if col.startswith('target_')][0]\n",
    "\n",
    "X_test = np.array(df_xgb_n_real[features].values)\n",
    "y_test = np.array(df_xgb_n_real[target].values.reshape(-1, 1))\n",
    "dtest = xgb.DMatrix(X_test, y_test)\n",
    "\n",
    "X_gen = np.array(df_xgb_n_gen[features].values)\n",
    "y_gen = np.array(df_xgb_n_gen[target].values.reshape(-1, 1))\n",
    "dgen = xgb.DMatrix(X_gen, y_gen)\n",
    "\n",
    "df_xgb_n_real['decision_function'] = np.abs(dtest.get_label() - clf.predict(dtest).ravel())\n",
    "df_xgb_n_gen['decision_function'] = np.abs(dgen.get_label() - clf.predict(dgen).ravel())"
   ]
  },
  {
   "cell_type": "markdown",
   "metadata": {},
   "source": [
    "### Label predict. Find optimal for xgb_noisy."
   ]
  },
  {
   "cell_type": "code",
   "execution_count": 9,
   "metadata": {
    "scrolled": true
   },
   "outputs": [
    {
     "name": "stdout",
     "output_type": "stream",
     "text": [
      "threshold: 4.00 \t f1_gen: 0.930 \t f1_real: 0.431\n",
      "threshold: 4.20 \t f1_gen: 0.937 \t f1_real: 0.466\n",
      "threshold: 4.40 \t f1_gen: 0.944 \t f1_real: 0.498\n",
      "threshold: 4.60 \t f1_gen: 0.949 \t f1_real: 0.527\n",
      "threshold: 4.80 \t f1_gen: 0.952 \t f1_real: 0.558\n",
      "threshold: 5.00 \t f1_gen: 0.955 \t f1_real: 0.572\n",
      "threshold: 5.20 \t f1_gen: 0.958 \t f1_real: 0.593\n",
      "threshold: 5.40 \t f1_gen: 0.961 \t f1_real: 0.596\n",
      "threshold: 5.60 \t f1_gen: 0.964 \t f1_real: 0.608\n",
      "threshold: 5.80 \t f1_gen: 0.964 \t f1_real: 0.613\n",
      "threshold: 6.00 \t f1_gen: 0.965 \t f1_real: 0.622\n",
      "threshold: 6.20 \t f1_gen: 0.967 \t f1_real: 0.648\n",
      "threshold: 6.40 \t f1_gen: 0.967 \t f1_real: 0.674\n",
      "threshold: 6.60 \t f1_gen: 0.967 \t f1_real: 0.682\n",
      "threshold: 6.80 \t f1_gen: 0.967 \t f1_real: 0.676\n",
      "threshold: 7.00 \t f1_gen: 0.968 \t f1_real: 0.686\n",
      "threshold: 7.20 \t f1_gen: 0.968 \t f1_real: 0.682\n",
      "threshold: 7.40 \t f1_gen: 0.969 \t f1_real: 0.686\n",
      "threshold: 7.60 \t f1_gen: 0.970 \t f1_real: 0.684\n",
      "threshold: 7.80 \t f1_gen: 0.969 \t f1_real: 0.690\n",
      "threshold: 8.00 \t f1_gen: 0.968 \t f1_real: 0.698\n",
      "threshold: 8.20 \t f1_gen: 0.968 \t f1_real: 0.697\n",
      "threshold: 8.40 \t f1_gen: 0.968 \t f1_real: 0.693\n",
      "threshold: 8.60 \t f1_gen: 0.966 \t f1_real: 0.697\n",
      "threshold: 8.80 \t f1_gen: 0.965 \t f1_real: 0.697\n",
      "threshold: 9.00 \t f1_gen: 0.962 \t f1_real: 0.689\n",
      "threshold: 9.20 \t f1_gen: 0.962 \t f1_real: 0.667\n",
      "threshold: 9.40 \t f1_gen: 0.961 \t f1_real: 0.663\n",
      "threshold: 9.60 \t f1_gen: 0.959 \t f1_real: 0.661\n",
      "threshold: 9.80 \t f1_gen: 0.956 \t f1_real: 0.657\n",
      "threshold: 10.00 \t f1_gen: 0.955 \t f1_real: 0.632\n",
      "threshold: 10.20 \t f1_gen: 0.955 \t f1_real: 0.624\n",
      "threshold: 10.40 \t f1_gen: 0.953 \t f1_real: 0.618\n",
      "threshold: 10.60 \t f1_gen: 0.952 \t f1_real: 0.608\n",
      "threshold: 10.80 \t f1_gen: 0.951 \t f1_real: 0.610\n",
      "threshold: 11.00 \t f1_gen: 0.949 \t f1_real: 0.598\n",
      "threshold: 11.20 \t f1_gen: 0.946 \t f1_real: 0.598\n",
      "threshold: 11.40 \t f1_gen: 0.944 \t f1_real: 0.587\n",
      "threshold: 11.60 \t f1_gen: 0.942 \t f1_real: 0.578\n",
      "threshold: 11.80 \t f1_gen: 0.939 \t f1_real: 0.549\n"
     ]
    }
   ],
   "source": [
    "window = pd.Timedelta('4h')\n",
    "real_station_id = [114, 119, 302, 303, 442, 504, 511, 1838, 1896]\n",
    "results = []\n",
    "\n",
    "df_real = copy(df_xgb_n_real[['date_time_utc', 'station_id', 'id_t_road', \n",
    "                           'target_t_road', 'decision_function', 'label_true']])\n",
    "\n",
    "df_gen = copy(df_xgb_n_gen[['date_time_utc', 'station_id', 'id_t_road', \n",
    "                         'target_t_road', 'decision_function', 'label_true']])\n",
    "\n",
    "\n",
    "for thresh in np.arange(4, 12, 0.2):\n",
    "    \n",
    "    # Real data\n",
    "    df_real['label_predict'] = df_real['decision_function'] > thresh\n",
    "    \n",
    "    recall_real = calc_recall(df_real, real_station_id, window)\n",
    "    precision_real = calc_precision(df_real, real_station_id, window)\n",
    "    f1_real = calc_f1_score(precision_real, recall_real)\n",
    "    \n",
    "    # Generated data\n",
    "    df_gen['label_predict'] = df_gen['decision_function'] > thresh\n",
    "    \n",
    "    recall_gen = calc_recall(df_gen, generate_station_id, window)\n",
    "    precision_gen = calc_precision(df_gen, generate_station_id, window)\n",
    "    f1_gen = calc_f1_score(precision_gen, recall_gen)\n",
    "    \n",
    "    # Save results\n",
    "    results.append({'threshold': thresh, \n",
    "                    'recall_real': recall_real, \n",
    "                    'precision_real': precision_real, \n",
    "                    'f1_real': f1_real,\n",
    "                    'recall_gen': recall_gen, \n",
    "                    'precision_gen': precision_gen, \n",
    "                    'f1_gen': f1_gen})\n",
    "    \n",
    "    # Print results\n",
    "    print('threshold: {0:.2f} \\t f1_gen: {1:.3f} \\t f1_real: {2:.3f}'.format(thresh, f1_gen, f1_real))\n",
    "    \n",
    "results_df = pd.DataFrame(results)\n",
    "results_df.to_csv('/mnt/HARD/Diplom/MinMax/threshold/xgboost_noisy.csv', index=False)"
   ]
  },
  {
   "cell_type": "code",
   "execution_count": 10,
   "metadata": {},
   "outputs": [
    {
     "name": "stdout",
     "output_type": "stream",
     "text": [
      "Real: \t thresh: 8.00 \t F1: 0.698 \t R: 0.636 \t P: 0.775\n",
      "Optm: \t thresh: 7.60 \t F1: 0.684 \t R: 0.637 \t P: 0.738\n"
     ]
    }
   ],
   "source": [
    "real_max_f1 = results_df['f1_real'].max()\n",
    "real_max_point = results_df['threshold'][results_df['f1_real'] == real_max_f1].iloc[0]\n",
    "real_recall = results_df['recall_real'][results_df['f1_real'] == real_max_f1].iloc[0]\n",
    "real_precision = results_df['precision_real'][results_df['f1_real'] == real_max_f1].iloc[0]\n",
    "\n",
    "gen_max_f1 = results_df['f1_gen'].max()\n",
    "gen_max_point = results_df['threshold'][results_df['f1_gen'] == gen_max_f1].iloc[0]\n",
    "\n",
    "art_max_point = gen_max_point\n",
    "art_max_f1 = results_df[results_df['threshold'] == art_max_point]['f1_real'].iloc[0]\n",
    "art_recall = results_df[results_df['threshold'] == art_max_point]['recall_real'].iloc[0]\n",
    "art_precision = results_df[results_df['threshold'] == art_max_point]['precision_real'].iloc[0]\n",
    "\n",
    "print('Real: \\t thresh: {0:.2f} \\t F1: {1:.3f} \\t R: {2:.3f} \\t P: {3:.3f}'.\n",
    "      format(real_max_point, real_max_f1, real_recall, real_precision))\n",
    "\n",
    "print('Optm: \\t thresh: {0:.2f} \\t F1: {1:.3f} \\t R: {2:.3f} \\t P: {3:.3f}'.\n",
    "      format(art_max_point, art_max_f1, art_recall, art_precision))\n",
    "\n",
    "df_xgb_n_real['label_predict'] = df_xgb_n_real['decision_function'] > art_max_point\n",
    "df_xgb_n_gen['label_predict'] = df_xgb_n_gen['decision_function'] > art_max_point"
   ]
  },
  {
   "cell_type": "markdown",
   "metadata": {},
   "source": [
    "## XGBoost_Air"
   ]
  },
  {
   "cell_type": "code",
   "execution_count": 11,
   "metadata": {},
   "outputs": [
    {
     "name": "stdout",
     "output_type": "stream",
     "text": [
      "CPU times: user 26.3 s, sys: 868 ms, total: 27.1 s\n",
      "Wall time: 10.2 s\n"
     ]
    }
   ],
   "source": [
    "%%time\n",
    "point = pd.Timestamp(2015, 6, 1)\n",
    "clf = pickle.load(open('/mnt/HARD/Diplom/MinMax/models/model_centered/xgboost_air.pickle', 'rb'))\n",
    "\n",
    "time = 0.5\n",
    "variables = ['data_t_air', 'data_t_road']\n",
    "\n",
    "df_xgb_air_real = create_feature_df(test, winter_period=False, time=time,\n",
    "                           variables=variables)\n",
    "df_xgb_air_gen = create_feature_df(to_generate, winter_period=False, time=time,\n",
    "                           variables=variables)\n",
    "\n",
    "features = [col for col in df_xgb_air_real if col.startswith('data_')]\n",
    "features = [col for col in features if ('data_t_road' not in col)]\n",
    "target = [col for col in df_xgb_air_real if col.startswith('target_')][0]\n",
    "\n",
    "X_test = np.array(df_xgb_air_real[features].values)\n",
    "y_test = np.array(df_xgb_air_real[target].values.reshape(-1, 1))\n",
    "dtest = xgb.DMatrix(X_test, y_test)\n",
    "\n",
    "X_gen = np.array(df_xgb_air_gen[features].values)\n",
    "y_gen = np.array(df_xgb_air_gen[target].values.reshape(-1, 1))\n",
    "dgen = xgb.DMatrix(X_gen, y_gen)\n",
    "\n",
    "df_xgb_air_real['decision_function'] = np.abs(dtest.get_label() - clf.predict(dtest).ravel())\n",
    "df_xgb_air_gen['decision_function'] = np.abs(dgen.get_label() - clf.predict(dgen).ravel())"
   ]
  },
  {
   "cell_type": "markdown",
   "metadata": {},
   "source": [
    "### Label predict. Find optimal for xgb_air."
   ]
  },
  {
   "cell_type": "code",
   "execution_count": 12,
   "metadata": {},
   "outputs": [
    {
     "name": "stdout",
     "output_type": "stream",
     "text": [
      "threshold: 9.00 \t f1_gen: 0.640 \t f1_real: 0.255\n",
      "threshold: 9.50 \t f1_gen: 0.672 \t f1_real: 0.308\n",
      "threshold: 10.00 \t f1_gen: 0.695 \t f1_real: 0.361\n",
      "threshold: 10.50 \t f1_gen: 0.713 \t f1_real: 0.419\n",
      "threshold: 11.00 \t f1_gen: 0.730 \t f1_real: 0.479\n",
      "threshold: 11.50 \t f1_gen: 0.747 \t f1_real: 0.533\n",
      "threshold: 12.00 \t f1_gen: 0.762 \t f1_real: 0.582\n",
      "threshold: 12.50 \t f1_gen: 0.770 \t f1_real: 0.599\n",
      "threshold: 13.00 \t f1_gen: 0.778 \t f1_real: 0.632\n",
      "threshold: 13.50 \t f1_gen: 0.781 \t f1_real: 0.654\n",
      "threshold: 14.00 \t f1_gen: 0.785 \t f1_real: 0.671\n",
      "threshold: 14.50 \t f1_gen: 0.788 \t f1_real: 0.682\n",
      "threshold: 15.00 \t f1_gen: 0.789 \t f1_real: 0.691\n",
      "threshold: 15.50 \t f1_gen: 0.786 \t f1_real: 0.705\n",
      "threshold: 16.00 \t f1_gen: 0.780 \t f1_real: 0.703\n",
      "threshold: 16.50 \t f1_gen: 0.775 \t f1_real: 0.697\n",
      "threshold: 17.00 \t f1_gen: 0.765 \t f1_real: 0.706\n",
      "threshold: 17.50 \t f1_gen: 0.757 \t f1_real: 0.708\n",
      "threshold: 18.00 \t f1_gen: 0.749 \t f1_real: 0.716\n",
      "threshold: 18.50 \t f1_gen: 0.734 \t f1_real: 0.714\n",
      "threshold: 19.00 \t f1_gen: 0.724 \t f1_real: 0.711\n",
      "threshold: 19.50 \t f1_gen: 0.717 \t f1_real: 0.715\n",
      "threshold: 20.00 \t f1_gen: 0.704 \t f1_real: 0.691\n",
      "threshold: 20.50 \t f1_gen: 0.693 \t f1_real: 0.694\n",
      "threshold: 21.00 \t f1_gen: 0.687 \t f1_real: 0.672\n",
      "threshold: 21.50 \t f1_gen: 0.681 \t f1_real: 0.664\n",
      "threshold: 22.00 \t f1_gen: 0.672 \t f1_real: 0.654\n",
      "threshold: 22.50 \t f1_gen: 0.665 \t f1_real: 0.651\n",
      "threshold: 23.00 \t f1_gen: 0.656 \t f1_real: 0.651\n",
      "threshold: 23.50 \t f1_gen: 0.644 \t f1_real: 0.651\n",
      "threshold: 24.00 \t f1_gen: 0.633 \t f1_real: 0.622\n",
      "threshold: 24.50 \t f1_gen: 0.625 \t f1_real: 0.581\n"
     ]
    }
   ],
   "source": [
    "window = pd.Timedelta('4h')\n",
    "real_station_id = [114, 119, 302, 303, 442, 504, 511, 1838, 1896]\n",
    "results = []\n",
    "\n",
    "df_real = copy(df_xgb_air_real[['date_time_utc', 'station_id', 'id_t_road', \n",
    "                           'target_t_road', 'decision_function', 'label_true']])\n",
    "\n",
    "df_gen = copy(df_xgb_air_gen[['date_time_utc', 'station_id', 'id_t_road', \n",
    "                         'target_t_road', 'decision_function', 'label_true']])\n",
    "\n",
    "\n",
    "for thresh in np.arange(9, 25, 0.5):\n",
    "    \n",
    "    # Real data\n",
    "    df_real['label_predict'] = df_real['decision_function'] > thresh\n",
    "    \n",
    "    recall_real = calc_recall(df_real, real_station_id, window)\n",
    "    precision_real = calc_precision(df_real, real_station_id, window)\n",
    "    f1_real = calc_f1_score(precision_real, recall_real)\n",
    "    \n",
    "    # Generated data\n",
    "    df_gen['label_predict'] = df_gen['decision_function'] > thresh\n",
    "    \n",
    "    recall_gen = calc_recall(df_gen, generate_station_id, window)\n",
    "    precision_gen = calc_precision(df_gen, generate_station_id, window)\n",
    "    f1_gen = calc_f1_score(precision_gen, recall_gen)\n",
    "    \n",
    "    # Save results\n",
    "    results.append({'threshold': thresh, \n",
    "                    'recall_real': recall_real, \n",
    "                    'precision_real': precision_real, \n",
    "                    'f1_real': f1_real,\n",
    "                    'recall_gen': recall_gen, \n",
    "                    'precision_gen': precision_gen, \n",
    "                    'f1_gen': f1_gen})\n",
    "    \n",
    "    # Print results\n",
    "    print('threshold: {0:.2f} \\t f1_gen: {1:.3f} \\t f1_real: {2:.3f}'.format(thresh, f1_gen, f1_real))\n",
    "    \n",
    "results_df = pd.DataFrame(results)\n",
    "results_df.to_csv('/mnt/HARD/Diplom/MinMax/threshold/xgboost_air.csv', index=False)"
   ]
  },
  {
   "cell_type": "code",
   "execution_count": 13,
   "metadata": {},
   "outputs": [
    {
     "name": "stdout",
     "output_type": "stream",
     "text": [
      "Real: \t thresh: 18.00 \t F1: 0.716 \t R: 0.613 \t P: 0.862\n",
      "Optm: \t thresh: 15.00 \t F1: 0.691 \t R: 0.662 \t P: 0.722\n"
     ]
    }
   ],
   "source": [
    "real_max_f1 = results_df['f1_real'].max()\n",
    "real_max_point = results_df['threshold'][results_df['f1_real'] == real_max_f1].iloc[0]\n",
    "real_recall = results_df['recall_real'][results_df['f1_real'] == real_max_f1].iloc[0]\n",
    "real_precision = results_df['precision_real'][results_df['f1_real'] == real_max_f1].iloc[0]\n",
    "\n",
    "gen_max_f1 = results_df['f1_gen'].max()\n",
    "gen_max_point = results_df['threshold'][results_df['f1_gen'] == gen_max_f1].iloc[0]\n",
    "\n",
    "art_max_point = gen_max_point\n",
    "art_max_f1 = results_df[results_df['threshold'] == art_max_point]['f1_real'].iloc[0]\n",
    "art_recall = results_df[results_df['threshold'] == art_max_point]['recall_real'].iloc[0]\n",
    "art_precision = results_df[results_df['threshold'] == art_max_point]['precision_real'].iloc[0]\n",
    "\n",
    "print('Real: \\t thresh: {0:.2f} \\t F1: {1:.3f} \\t R: {2:.3f} \\t P: {3:.3f}'.\n",
    "      format(real_max_point, real_max_f1, real_recall, real_precision))\n",
    "\n",
    "print('Optm: \\t thresh: {0:.2f} \\t F1: {1:.3f} \\t R: {2:.3f} \\t P: {3:.3f}'.\n",
    "      format(art_max_point, art_max_f1, art_recall, art_precision))\n",
    "\n",
    "df_xgb_air_real['label_predict'] = df_xgb_air_real['decision_function'] > art_max_point\n",
    "df_xgb_air_gen['label_predict'] = df_xgb_air_gen['decision_function'] > art_max_point"
   ]
  },
  {
   "cell_type": "markdown",
   "metadata": {},
   "source": [
    "## Ridge"
   ]
  },
  {
   "cell_type": "code",
   "execution_count": 14,
   "metadata": {},
   "outputs": [
    {
     "name": "stdout",
     "output_type": "stream",
     "text": [
      "CPU times: user 2.59 s, sys: 500 ms, total: 3.09 s\n",
      "Wall time: 3.01 s\n"
     ]
    }
   ],
   "source": [
    "%%time\n",
    "\n",
    "point = pd.Timestamp(2015, 6, 1)\n",
    "clf = pickle.load(open('/mnt/HARD/Diplom/MinMax/models/model_centered/ridge.pickle', 'rb'))\n",
    "\n",
    "time = 0.5\n",
    "variables = ['data_t_road']\n",
    "\n",
    "df_ridge_real = create_feature_df(test, winter_period=False, time=time,\n",
    "                           variables=variables)\n",
    "df_ridge_gen = create_feature_df(to_generate, winter_period=False, time=time,\n",
    "                           variables=variables)\n",
    "\n",
    "features = [col for col in df_ridge_real if col.startswith('data_')]\n",
    "target = [col for col in df_ridge_real if col.startswith('target_')][0]\n",
    "\n",
    "X_test = np.array(df_ridge_real[features].values)\n",
    "y_test = np.array(df_ridge_real[target].values.reshape(-1, 1))\n",
    "\n",
    "X_gen = np.array(df_ridge_gen[features].values)\n",
    "y_gen = np.array(df_ridge_gen[target].values.reshape(-1, 1))\n",
    "\n",
    "df_ridge_real['decision_function'] = np.abs(y_test.ravel() - clf.predict(X_test).ravel())\n",
    "df_ridge_gen['decision_function'] = np.abs(y_gen.ravel() - clf.predict(X_gen).ravel())"
   ]
  },
  {
   "cell_type": "code",
   "execution_count": 15,
   "metadata": {
    "scrolled": true
   },
   "outputs": [
    {
     "name": "stdout",
     "output_type": "stream",
     "text": [
      "threshold: 4.00 \t f1_gen: 0.915 \t f1_real: 0.425\n",
      "threshold: 4.20 \t f1_gen: 0.923 \t f1_real: 0.452\n",
      "threshold: 4.40 \t f1_gen: 0.931 \t f1_real: 0.476\n",
      "threshold: 4.60 \t f1_gen: 0.938 \t f1_real: 0.511\n",
      "threshold: 4.80 \t f1_gen: 0.942 \t f1_real: 0.529\n",
      "threshold: 5.00 \t f1_gen: 0.946 \t f1_real: 0.550\n",
      "threshold: 5.20 \t f1_gen: 0.949 \t f1_real: 0.572\n",
      "threshold: 5.40 \t f1_gen: 0.952 \t f1_real: 0.594\n",
      "threshold: 5.60 \t f1_gen: 0.953 \t f1_real: 0.609\n",
      "threshold: 5.80 \t f1_gen: 0.955 \t f1_real: 0.620\n",
      "threshold: 6.00 \t f1_gen: 0.957 \t f1_real: 0.639\n",
      "threshold: 6.20 \t f1_gen: 0.959 \t f1_real: 0.646\n",
      "threshold: 6.40 \t f1_gen: 0.960 \t f1_real: 0.657\n",
      "threshold: 6.60 \t f1_gen: 0.961 \t f1_real: 0.674\n",
      "threshold: 6.80 \t f1_gen: 0.960 \t f1_real: 0.670\n",
      "threshold: 7.00 \t f1_gen: 0.962 \t f1_real: 0.674\n",
      "threshold: 7.20 \t f1_gen: 0.962 \t f1_real: 0.681\n",
      "threshold: 7.40 \t f1_gen: 0.962 \t f1_real: 0.699\n",
      "threshold: 7.60 \t f1_gen: 0.963 \t f1_real: 0.698\n",
      "threshold: 7.80 \t f1_gen: 0.964 \t f1_real: 0.707\n",
      "threshold: 8.00 \t f1_gen: 0.965 \t f1_real: 0.699\n",
      "threshold: 8.20 \t f1_gen: 0.965 \t f1_real: 0.703\n",
      "threshold: 8.40 \t f1_gen: 0.965 \t f1_real: 0.710\n",
      "threshold: 8.60 \t f1_gen: 0.965 \t f1_real: 0.704\n",
      "threshold: 8.80 \t f1_gen: 0.963 \t f1_real: 0.707\n",
      "threshold: 9.00 \t f1_gen: 0.962 \t f1_real: 0.694\n",
      "threshold: 9.20 \t f1_gen: 0.960 \t f1_real: 0.700\n",
      "threshold: 9.40 \t f1_gen: 0.959 \t f1_real: 0.698\n",
      "threshold: 9.60 \t f1_gen: 0.957 \t f1_real: 0.700\n",
      "threshold: 9.80 \t f1_gen: 0.957 \t f1_real: 0.702\n",
      "threshold: 10.00 \t f1_gen: 0.957 \t f1_real: 0.696\n",
      "threshold: 10.20 \t f1_gen: 0.955 \t f1_real: 0.695\n",
      "threshold: 10.40 \t f1_gen: 0.955 \t f1_real: 0.682\n",
      "threshold: 10.60 \t f1_gen: 0.954 \t f1_real: 0.674\n",
      "threshold: 10.80 \t f1_gen: 0.953 \t f1_real: 0.676\n",
      "threshold: 11.00 \t f1_gen: 0.953 \t f1_real: 0.666\n",
      "threshold: 11.20 \t f1_gen: 0.951 \t f1_real: 0.668\n",
      "threshold: 11.40 \t f1_gen: 0.948 \t f1_real: 0.665\n",
      "threshold: 11.60 \t f1_gen: 0.947 \t f1_real: 0.661\n",
      "threshold: 11.80 \t f1_gen: 0.946 \t f1_real: 0.642\n"
     ]
    }
   ],
   "source": [
    "window = pd.Timedelta('4h')\n",
    "real_station_id = [114, 119, 302, 303, 442, 504, 511, 1838, 1896]\n",
    "results = []\n",
    "\n",
    "df_real = copy(df_ridge_real[['date_time_utc', 'station_id', 'id_t_road', \n",
    "                           'target_t_road', 'decision_function', 'label_true']])\n",
    "\n",
    "df_gen = copy(df_ridge_gen[['date_time_utc', 'station_id', 'id_t_road', \n",
    "                         'target_t_road', 'decision_function', 'label_true']])\n",
    "\n",
    "\n",
    "for thresh in np.arange(4, 12, 0.2):\n",
    "    \n",
    "    # Real data\n",
    "    df_real['label_predict'] = df_real['decision_function'] > thresh\n",
    "    \n",
    "    recall_real = calc_recall(df_real, real_station_id, window)\n",
    "    precision_real = calc_precision(df_real, real_station_id, window)\n",
    "    f1_real = calc_f1_score(precision_real, recall_real)\n",
    "    \n",
    "    # Generated data\n",
    "    df_gen['label_predict'] = df_gen['decision_function'] > thresh\n",
    "    \n",
    "    recall_gen = calc_recall(df_gen, generate_station_id, window)\n",
    "    precision_gen = calc_precision(df_gen, generate_station_id, window)\n",
    "    f1_gen = calc_f1_score(precision_gen, recall_gen)\n",
    "    \n",
    "    # Save results\n",
    "    results.append({'threshold': thresh, \n",
    "                    'recall_real': recall_real, \n",
    "                    'precision_real': precision_real, \n",
    "                    'f1_real': f1_real,\n",
    "                    'recall_gen': recall_gen, \n",
    "                    'precision_gen': precision_gen, \n",
    "                    'f1_gen': f1_gen})\n",
    "    \n",
    "    # Print results\n",
    "    print('threshold: {0:.2f} \\t f1_gen: {1:.3f} \\t f1_real: {2:.3f}'.format(thresh, f1_gen, f1_real))\n",
    "    \n",
    "results_df = pd.DataFrame(results)\n",
    "results_df.to_csv('/mnt/HARD/Diplom/MinMax/threshold/ridge.csv', index=False)"
   ]
  },
  {
   "cell_type": "code",
   "execution_count": 16,
   "metadata": {},
   "outputs": [
    {
     "name": "stdout",
     "output_type": "stream",
     "text": [
      "Real: \t thresh: 8.40 \t F1: 0.710 \t R: 0.668 \t P: 0.758\n",
      "Optm: \t thresh: 8.40 \t F1: 0.710 \t R: 0.668 \t P: 0.758\n"
     ]
    }
   ],
   "source": [
    "real_max_f1 = results_df['f1_real'].max()\n",
    "real_max_point = results_df['threshold'][results_df['f1_real'] == real_max_f1].iloc[0]\n",
    "real_recall = results_df['recall_real'][results_df['f1_real'] == real_max_f1].iloc[0]\n",
    "real_precision = results_df['precision_real'][results_df['f1_real'] == real_max_f1].iloc[0]\n",
    "\n",
    "gen_max_f1 = results_df['f1_gen'].max()\n",
    "gen_max_point = results_df['threshold'][results_df['f1_gen'] == gen_max_f1].iloc[0]\n",
    "\n",
    "art_max_point = gen_max_point\n",
    "art_max_f1 = results_df[results_df['threshold'] == art_max_point]['f1_real'].iloc[0]\n",
    "art_recall = results_df[results_df['threshold'] == art_max_point]['recall_real'].iloc[0]\n",
    "art_precision = results_df[results_df['threshold'] == art_max_point]['precision_real'].iloc[0]\n",
    "\n",
    "print('Real: \\t thresh: {0:.2f} \\t F1: {1:.3f} \\t R: {2:.3f} \\t P: {3:.3f}'.\n",
    "      format(real_max_point, real_max_f1, real_recall, real_precision))\n",
    "\n",
    "print('Optm: \\t thresh: {0:.2f} \\t F1: {1:.3f} \\t R: {2:.3f} \\t P: {3:.3f}'.\n",
    "      format(art_max_point, art_max_f1, art_recall, art_precision))\n",
    "\n",
    "df_ridge_real['label_predict'] = df_ridge_real['decision_function'] > art_max_point\n",
    "df_ridge_gen['label_predict'] = df_ridge_gen['decision_function'] > art_max_point"
   ]
  },
  {
   "cell_type": "markdown",
   "metadata": {},
   "source": [
    "## Elliptic Envelope"
   ]
  },
  {
   "cell_type": "code",
   "execution_count": 26,
   "metadata": {},
   "outputs": [
    {
     "name": "stdout",
     "output_type": "stream",
     "text": [
      "CPU times: user 2.19 s, sys: 384 ms, total: 2.57 s\n",
      "Wall time: 2.57 s\n"
     ]
    }
   ],
   "source": [
    "%%time\n",
    "\n",
    "point = pd.Timestamp(2015, 6, 1)\n",
    "clf = pickle.load(open('/mnt/HARD/Diplom/MinMax/models/model_centered/elliptic_envelope.pickle', 'rb'))\n",
    "\n",
    "time = 0\n",
    "lag_list=(1, 2, 3)\n",
    "diff_list=((1, 2), (1, 3))\n",
    "post_process = False\n",
    "regression_mode = False\n",
    "variables = ['data_t_road']\n",
    "\n",
    "df_ee_real = create_feature_df(test, coordinates=False,\n",
    "                            winter_period=False, time=time, lag_list=lag_list, road_id=False,\n",
    "                            diff_list=diff_list, post_process=post_process, variables=variables)\n",
    "\n",
    "df_ee_gen = create_feature_df(to_generate, coordinates=False,\n",
    "                            winter_period=False, time=time, lag_list=lag_list, road_id=False,\n",
    "                            diff_list=diff_list, post_process=post_process, variables=variables)\n",
    "\n",
    "\n",
    "features = [col for col in df_ee_real if col.startswith('data_')]\n",
    "target = [col for col in df_ee_real if col.startswith('target_')]\n",
    "\n",
    "X_test = np.array(df_ee_real[features + target])\n",
    "X_gen = np.array(df_ee_gen[features + target])\n",
    "\n",
    "df_ee_real['decision_function'] = - clf.decision_function(X_test)\n",
    "df_ee_gen['decision_function'] = - clf.decision_function(X_gen)\n",
    "\n",
    "df_ee_real['label_predict'] = (1 - clf.predict(X_test)) / 2\n",
    "df_ee_gen['label_predict'] = (1 - clf.predict(X_gen)) / 2"
   ]
  },
  {
   "cell_type": "code",
   "execution_count": 27,
   "metadata": {},
   "outputs": [
    {
     "name": "stdout",
     "output_type": "stream",
     "text": [
      "Real: \t F1: 0.577 \t R: 0.719 \t P: 0.482\n",
      "Genr: \t F1: 0.944 \t R: 0.980 \t P: 0.910\n"
     ]
    }
   ],
   "source": [
    "# Real data\n",
    "recall_real = calc_recall(df_ee_real, real_station_id, window)\n",
    "precision_real = calc_precision(df_ee_real, real_station_id, window)\n",
    "f1_real = calc_f1_score(precision_real, recall_real)\n",
    "\n",
    "# Generated data\n",
    "recall_gen = calc_recall(df_ee_gen, generate_station_id, window)\n",
    "precision_gen = calc_precision(df_ee_gen, generate_station_id, window)\n",
    "f1_gen = calc_f1_score(precision_gen, recall_gen)\n",
    "\n",
    "print('Real: \\t F1: {0:.3f} \\t R: {1:.3f} \\t P: {2:.3f}'.\n",
    "      format(f1_real, recall_real, precision_real))\n",
    "\n",
    "print('Genr: \\t F1: {0:.3f} \\t R: {1:.3f} \\t P: {2:.3f}'.\n",
    "      format(f1_gen, recall_gen, precision_gen))"
   ]
  },
  {
   "cell_type": "markdown",
   "metadata": {},
   "source": [
    "## One Class SVM"
   ]
  },
  {
   "cell_type": "code",
   "execution_count": 28,
   "metadata": {},
   "outputs": [
    {
     "name": "stdout",
     "output_type": "stream",
     "text": [
      "CPU times: user 16min 46s, sys: 364 ms, total: 16min 47s\n",
      "Wall time: 16min 48s\n"
     ]
    }
   ],
   "source": [
    "%%time\n",
    "\n",
    "point = pd.Timestamp(2015, 6, 1)\n",
    "clf = pickle.load(open('/mnt/HARD/Diplom/MinMax/models/model_centered/one_class_svm.pickle', 'rb'))\n",
    "\n",
    "time = 0\n",
    "lag_list=(1, 2, 3)\n",
    "diff_list=((1, 2), (1, 3))\n",
    "post_process = False\n",
    "regression_mode = False\n",
    "variables = ['data_t_road']\n",
    "coordinates = False\n",
    "road_id = False\n",
    "\n",
    "df_svm_real = create_feature_df(test, \n",
    "                            winter_period=False, time=time, lag_list=lag_list,\n",
    "                            diff_list=diff_list, post_process=post_process, variables=variables,\n",
    "                           coordinates=coordinates, road_id=road_id)\n",
    "\n",
    "df_svm_gen = create_feature_df(to_generate, \n",
    "                            winter_period=False, time=time, lag_list=lag_list,\n",
    "                            diff_list=diff_list, post_process=post_process, variables=variables,\n",
    "                            coordinates=coordinates, road_id=road_id)\n",
    "\n",
    "features = [col for col in df_svm_real if col.startswith('data_')]\n",
    "target = [col for col in df_svm_real if col.startswith('target_')]\n",
    "\n",
    "X_test = np.array(df_svm_real[features + target].values)\n",
    "X_gen = np.array(df_svm_gen[features + target].values)\n",
    "\n",
    "df_svm_real['decision_function'] = - clf.decision_function(X_test)\n",
    "df_svm_gen['decision_function'] =  - clf.decision_function(X_gen)\n",
    "\n",
    "df_svm_real['label_predict'] = (1 - clf.predict(X_test)) / 2\n",
    "df_svm_gen['label_predict'] = (1 - clf.predict(X_gen)) / 2"
   ]
  },
  {
   "cell_type": "code",
   "execution_count": 29,
   "metadata": {},
   "outputs": [
    {
     "name": "stdout",
     "output_type": "stream",
     "text": [
      "Real: \t F1: 0.227 \t R: 0.904 \t P: 0.130\n",
      "Genr: \t F1: 0.841 \t R: 0.998 \t P: 0.727\n"
     ]
    }
   ],
   "source": [
    "# Real data\n",
    "recall_real = calc_recall(df_svm_real, real_station_id, window)\n",
    "precision_real = calc_precision(df_svm_real, real_station_id, window)\n",
    "f1_real = calc_f1_score(precision_real, recall_real)\n",
    "\n",
    "# Generated data\n",
    "recall_gen = calc_recall(df_svm_gen, generate_station_id, window)\n",
    "precision_gen = calc_precision(df_svm_gen, generate_station_id, window)\n",
    "f1_gen = calc_f1_score(precision_gen, recall_gen)\n",
    "\n",
    "print('Real: \\t F1: {0:.3f} \\t R: {1:.3f} \\t P: {2:.3f}'.\n",
    "      format(f1_real, recall_real, precision_real))\n",
    "\n",
    "print('Genr: \\t F1: {0:.3f} \\t R: {1:.3f} \\t P: {2:.3f}'.\n",
    "      format(f1_gen, recall_gen, precision_gen))"
   ]
  },
  {
   "cell_type": "markdown",
   "metadata": {},
   "source": [
    "## Local Outlier Factor"
   ]
  },
  {
   "cell_type": "code",
   "execution_count": 30,
   "metadata": {},
   "outputs": [
    {
     "name": "stdout",
     "output_type": "stream",
     "text": [
      "CPU times: user 14min 34s, sys: 4.4 s, total: 14min 38s\n",
      "Wall time: 14min 40s\n"
     ]
    }
   ],
   "source": [
    "%%time\n",
    "\n",
    "point = pd.Timestamp(2015, 6, 1)\n",
    "clf = pickle.load(open('/mnt/HARD/Diplom/MinMax/models/model_centered/local_outlier_factor.pickle', 'rb'))\n",
    "\n",
    "time = 0\n",
    "lag_list=(1, 2)\n",
    "diff_list=((1, 2), )\n",
    "post_process = False\n",
    "regression_mode = False\n",
    "variables = ['data_t_road', 'data_t_air', 'data_t_underroad']\n",
    "\n",
    "df_lof_real = create_feature_df(test, \n",
    "                            winter_period=False, time=time, lag_list=lag_list,\n",
    "                            diff_list=diff_list, post_process=post_process, variables=variables)\n",
    "\n",
    "df_lof_gen = create_feature_df(to_generate, \n",
    "                            winter_period=False, time=time, lag_list=lag_list,\n",
    "                            diff_list=diff_list, post_process=post_process, variables=variables)\n",
    "\n",
    "features = [col for col in df_lof_real if col.startswith('data_')]\n",
    "target = [col for col in df_lof_real if col.startswith('target_')]\n",
    "\n",
    "X_test = np.array(df_lof_real[features + target])\n",
    "X_gen = np.array(df_lof_gen[features + target])\n",
    "\n",
    "df_lof_real['decision_function'] = - clf._decision_function(X_test)\n",
    "df_lof_gen['decision_function'] = - clf._decision_function(X_gen)\n",
    "\n",
    "df_lof_real['label_predict'] = (1 - clf._predict(X_test)) / 2\n",
    "df_lof_gen['label_predict'] = (1 - clf._predict(X_gen)) / 2"
   ]
  },
  {
   "cell_type": "code",
   "execution_count": 31,
   "metadata": {},
   "outputs": [
    {
     "name": "stdout",
     "output_type": "stream",
     "text": [
      "Real: \t F1: 0.507 \t R: 0.513 \t P: 0.502\n",
      "Genr: \t F1: 0.812 \t R: 0.984 \t P: 0.691\n"
     ]
    }
   ],
   "source": [
    "# Real data\n",
    "recall_real = calc_recall(df_lof_real, real_station_id, window)\n",
    "precision_real = calc_precision(df_lof_real, real_station_id, window)\n",
    "f1_real = calc_f1_score(precision_real, recall_real)\n",
    "\n",
    "# Generated data\n",
    "recall_gen = calc_recall(df_lof_gen, generate_station_id, window)\n",
    "precision_gen = calc_precision(df_lof_gen, generate_station_id, window)\n",
    "f1_gen = calc_f1_score(precision_gen, recall_gen)\n",
    "\n",
    "print('Real: \\t F1: {0:.3f} \\t R: {1:.3f} \\t P: {2:.3f}'.\n",
    "      format(f1_real, recall_real, precision_real))\n",
    "\n",
    "print('Genr: \\t F1: {0:.3f} \\t R: {1:.3f} \\t P: {2:.3f}'.\n",
    "      format(f1_gen, recall_gen, precision_gen))"
   ]
  },
  {
   "cell_type": "markdown",
   "metadata": {},
   "source": [
    "## Isolation Forest"
   ]
  },
  {
   "cell_type": "code",
   "execution_count": 32,
   "metadata": {},
   "outputs": [
    {
     "name": "stdout",
     "output_type": "stream",
     "text": [
      "CPU times: user 1min 1s, sys: 15.7 s, total: 1min 17s\n",
      "Wall time: 1min 17s\n"
     ]
    }
   ],
   "source": [
    "%%time\n",
    "\n",
    "point = pd.Timestamp(2015, 6, 1)\n",
    "clf = pickle.load(open('/mnt/HARD/Diplom/MinMax/models/model_centered/isolation_forest.pickle', 'rb'))\n",
    "\n",
    "time = 0\n",
    "lag_list=(1, 2, 3)\n",
    "diff_list=((1, 2), (1, 3))\n",
    "post_process = False\n",
    "variables=('data_t_road', )\n",
    "\n",
    "df_iforest_real = create_feature_df(test, \n",
    "                            winter_period=False, time=time, lag_list=lag_list,\n",
    "                            diff_list=diff_list, post_process=post_process, variables=variables)\n",
    "\n",
    "df_iforest_gen = create_feature_df(to_generate, \n",
    "                            winter_period=False, time=time, lag_list=lag_list,\n",
    "                            diff_list=diff_list, post_process=post_process, variables=variables)\n",
    "\n",
    "features = [col for col in df_iforest_real if col.startswith('data_')]\n",
    "target = [col for col in df_iforest_real if col.startswith('target_')]\n",
    "\n",
    "X_test = np.array(df_iforest_real[features + target])\n",
    "X_gen = np.array(df_iforest_gen[features + target])\n",
    "\n",
    "df_iforest_real['decision_function'] = - clf.decision_function(X_test)\n",
    "df_iforest_gen['decision_function'] = - clf.decision_function(X_gen)\n",
    "\n",
    "df_iforest_real['label_predict'] = (1 - clf.predict(X_test)) / 2\n",
    "df_iforest_gen['label_predict'] = (1 - clf.predict(X_gen)) / 2"
   ]
  },
  {
   "cell_type": "code",
   "execution_count": 33,
   "metadata": {},
   "outputs": [
    {
     "name": "stdout",
     "output_type": "stream",
     "text": [
      "Real: \t F1: 0.308 \t R: 0.395 \t P: 0.252\n",
      "Genr: \t F1: 0.530 \t R: 0.536 \t P: 0.525\n"
     ]
    }
   ],
   "source": [
    "# Real data\n",
    "recall_real = calc_recall(df_iforest_real, real_station_id, window)\n",
    "precision_real = calc_precision(df_iforest_real, real_station_id, window)\n",
    "f1_real = calc_f1_score(precision_real, recall_real)\n",
    "\n",
    "# Generated data\n",
    "recall_gen = calc_recall(df_iforest_gen, generate_station_id, window)\n",
    "precision_gen = calc_precision(df_iforest_gen, generate_station_id, window)\n",
    "f1_gen = calc_f1_score(precision_gen, recall_gen)\n",
    "\n",
    "print('Real: \\t F1: {0:.3f} \\t R: {1:.3f} \\t P: {2:.3f}'.\n",
    "      format(f1_real, recall_real, precision_real))\n",
    "\n",
    "print('Genr: \\t F1: {0:.3f} \\t R: {1:.3f} \\t P: {2:.3f}'.\n",
    "      format(f1_gen, recall_gen, precision_gen))"
   ]
  },
  {
   "cell_type": "markdown",
   "metadata": {},
   "source": [
    "## Save data"
   ]
  },
  {
   "cell_type": "markdown",
   "metadata": {},
   "source": [
    "### Merge generated data"
   ]
  },
  {
   "cell_type": "code",
   "execution_count": null,
   "metadata": {},
   "outputs": [],
   "source": [
    "col_list = ['date_time_utc', 'station_id', 'id_t_road', 'target_t_road', 'decision_function', \n",
    "            'label_predict', 'label_true']\n",
    "\n",
    "merge_on = ['date_time_utc', 'station_id', 'id_t_road', 'target_t_road', 'label_true']\n",
    "\n",
    "df_gen_list = [(df_xgb_gen, 'xgb'), (df_xgb_n_gen, 'xgb_n'), (df_xgb_air_gen, 'xgb_air'),\n",
    "           (df_ridge_gen, 'ridge'),\n",
    "           (df_ee_gen, 'ee'), (df_svm_gen, 'svm'), (df_lof_gen, 'lof'), (df_iforest_gen, 'iforest')]\n",
    "\n",
    "for df, name in df_gen_list:\n",
    "    print(name)\n",
    "    df['decision_function_{0}'.format(name)] = df['decision_function']\n",
    "    df['label_predict_{0}'.format(name)] = df['label_predict']\n",
    "    del df['decision_function'], df['label_predict']"
   ]
  },
  {
   "cell_type": "code",
   "execution_count": 40,
   "metadata": {},
   "outputs": [],
   "source": [
    "col_list = ['date_time_utc', 'station_id', 'id_t_road', 'target_t_road', 'label_true']\n",
    "\n",
    "df_gen = pd.merge(df_xgb_gen, df_xgb_n_gen, on=merge_on)\n",
    "df_gen = pd.merge(df_gen, df_xgb_air_gen, on=merge_on)\n",
    "df_gen = pd.merge(df_gen, df_ridge_gen, on=merge_on)\n",
    "df_gen = pd.merge(df_gen, df_ee_gen, on=merge_on)\n",
    "df_gen = pd.merge(df_gen, df_svm_gen, on=merge_on)\n",
    "df_gen = pd.merge(df_gen, df_lof_gen, on=merge_on)\n",
    "df_gen = pd.merge(df_gen, df_iforest_gen, on=merge_on)\n",
    "\n",
    "df_gen['date_time_utc'] = pd.to_datetime(df_gen['date_time_utc'])\n",
    "\n",
    "\n",
    "columns_list = col_list + [col for col in df_gen.columns if col.startswith('decision_') or col.startswith('label_predict')]\n",
    "df_gen_to_save = df_gen[columns_list]\n",
    "\n",
    "df_gen_to_save.to_csv('/mnt/HARD/Diplom/MinMax/results/model_gen.csv', index=False)\n",
    "\n",
    "#del df_gen"
   ]
  },
  {
   "cell_type": "markdown",
   "metadata": {},
   "source": [
    "### Merge real data"
   ]
  },
  {
   "cell_type": "code",
   "execution_count": 48,
   "metadata": {},
   "outputs": [
    {
     "name": "stdout",
     "output_type": "stream",
     "text": [
      "xgb\n",
      "xgb_n\n",
      "xgb_air\n",
      "ridge\n",
      "ee\n",
      "svm\n",
      "lof\n",
      "iforest\n"
     ]
    },
    {
     "ename": "KeyError",
     "evalue": "\"['decision_function'] not in index\"",
     "output_type": "error",
     "traceback": [
      "\u001b[0;31m---------------------------------------------------------------------------\u001b[0m",
      "\u001b[0;31mKeyError\u001b[0m                                  Traceback (most recent call last)",
      "\u001b[0;32m<ipython-input-48-21f9e56d86c2>\u001b[0m in \u001b[0;36m<module>\u001b[0;34m()\u001b[0m\n\u001b[1;32m     24\u001b[0m \u001b[0;34m\u001b[0m\u001b[0m\n\u001b[1;32m     25\u001b[0m \u001b[0mcolumns_list\u001b[0m \u001b[0;34m=\u001b[0m \u001b[0mcol_list\u001b[0m \u001b[0;34m+\u001b[0m \u001b[0;34m[\u001b[0m\u001b[0mcol\u001b[0m \u001b[0;32mfor\u001b[0m \u001b[0mcol\u001b[0m \u001b[0;32min\u001b[0m \u001b[0mdf_test\u001b[0m\u001b[0;34m.\u001b[0m\u001b[0mcolumns\u001b[0m \u001b[0;32mif\u001b[0m \u001b[0mcol\u001b[0m\u001b[0;34m.\u001b[0m\u001b[0mstartswith\u001b[0m\u001b[0;34m(\u001b[0m\u001b[0;34m'decision_'\u001b[0m\u001b[0;34m)\u001b[0m \u001b[0;32mor\u001b[0m \u001b[0mcol\u001b[0m\u001b[0;34m.\u001b[0m\u001b[0mstartswith\u001b[0m\u001b[0;34m(\u001b[0m\u001b[0;34m'label_predict'\u001b[0m\u001b[0;34m)\u001b[0m\u001b[0;34m]\u001b[0m\u001b[0;34m\u001b[0m\u001b[0m\n\u001b[0;32m---> 26\u001b[0;31m \u001b[0mdf_test_to_save\u001b[0m \u001b[0;34m=\u001b[0m \u001b[0mdf_test\u001b[0m\u001b[0;34m[\u001b[0m\u001b[0mcolumns_list\u001b[0m\u001b[0;34m]\u001b[0m\u001b[0;34m\u001b[0m\u001b[0m\n\u001b[0m\u001b[1;32m     27\u001b[0m \u001b[0;34m\u001b[0m\u001b[0m\n\u001b[1;32m     28\u001b[0m \u001b[0mdf_test_to_save\u001b[0m\u001b[0;34m.\u001b[0m\u001b[0mto_csv\u001b[0m\u001b[0;34m(\u001b[0m\u001b[0;34m'/mnt/HARD/Diplom/MinMax/results/model_real.csv'\u001b[0m\u001b[0;34m,\u001b[0m \u001b[0mindex\u001b[0m\u001b[0;34m=\u001b[0m\u001b[0;32mFalse\u001b[0m\u001b[0;34m)\u001b[0m\u001b[0;34m\u001b[0m\u001b[0m\n",
      "\u001b[0;32m~/.local/lib/python3.5/site-packages/pandas/core/frame.py\u001b[0m in \u001b[0;36m__getitem__\u001b[0;34m(self, key)\u001b[0m\n\u001b[1;32m   2131\u001b[0m         \u001b[0;32mif\u001b[0m \u001b[0misinstance\u001b[0m\u001b[0;34m(\u001b[0m\u001b[0mkey\u001b[0m\u001b[0;34m,\u001b[0m \u001b[0;34m(\u001b[0m\u001b[0mSeries\u001b[0m\u001b[0;34m,\u001b[0m \u001b[0mnp\u001b[0m\u001b[0;34m.\u001b[0m\u001b[0mndarray\u001b[0m\u001b[0;34m,\u001b[0m \u001b[0mIndex\u001b[0m\u001b[0;34m,\u001b[0m \u001b[0mlist\u001b[0m\u001b[0;34m)\u001b[0m\u001b[0;34m)\u001b[0m\u001b[0;34m:\u001b[0m\u001b[0;34m\u001b[0m\u001b[0m\n\u001b[1;32m   2132\u001b[0m             \u001b[0;31m# either boolean or fancy integer index\u001b[0m\u001b[0;34m\u001b[0m\u001b[0;34m\u001b[0m\u001b[0m\n\u001b[0;32m-> 2133\u001b[0;31m             \u001b[0;32mreturn\u001b[0m \u001b[0mself\u001b[0m\u001b[0;34m.\u001b[0m\u001b[0m_getitem_array\u001b[0m\u001b[0;34m(\u001b[0m\u001b[0mkey\u001b[0m\u001b[0;34m)\u001b[0m\u001b[0;34m\u001b[0m\u001b[0m\n\u001b[0m\u001b[1;32m   2134\u001b[0m         \u001b[0;32melif\u001b[0m \u001b[0misinstance\u001b[0m\u001b[0;34m(\u001b[0m\u001b[0mkey\u001b[0m\u001b[0;34m,\u001b[0m \u001b[0mDataFrame\u001b[0m\u001b[0;34m)\u001b[0m\u001b[0;34m:\u001b[0m\u001b[0;34m\u001b[0m\u001b[0m\n\u001b[1;32m   2135\u001b[0m             \u001b[0;32mreturn\u001b[0m \u001b[0mself\u001b[0m\u001b[0;34m.\u001b[0m\u001b[0m_getitem_frame\u001b[0m\u001b[0;34m(\u001b[0m\u001b[0mkey\u001b[0m\u001b[0;34m)\u001b[0m\u001b[0;34m\u001b[0m\u001b[0m\n",
      "\u001b[0;32m~/.local/lib/python3.5/site-packages/pandas/core/frame.py\u001b[0m in \u001b[0;36m_getitem_array\u001b[0;34m(self, key)\u001b[0m\n\u001b[1;32m   2175\u001b[0m             \u001b[0;32mreturn\u001b[0m \u001b[0mself\u001b[0m\u001b[0;34m.\u001b[0m\u001b[0m_take\u001b[0m\u001b[0;34m(\u001b[0m\u001b[0mindexer\u001b[0m\u001b[0;34m,\u001b[0m \u001b[0maxis\u001b[0m\u001b[0;34m=\u001b[0m\u001b[0;36m0\u001b[0m\u001b[0;34m,\u001b[0m \u001b[0mconvert\u001b[0m\u001b[0;34m=\u001b[0m\u001b[0;32mFalse\u001b[0m\u001b[0;34m)\u001b[0m\u001b[0;34m\u001b[0m\u001b[0m\n\u001b[1;32m   2176\u001b[0m         \u001b[0;32melse\u001b[0m\u001b[0;34m:\u001b[0m\u001b[0;34m\u001b[0m\u001b[0m\n\u001b[0;32m-> 2177\u001b[0;31m             \u001b[0mindexer\u001b[0m \u001b[0;34m=\u001b[0m \u001b[0mself\u001b[0m\u001b[0;34m.\u001b[0m\u001b[0mloc\u001b[0m\u001b[0;34m.\u001b[0m\u001b[0m_convert_to_indexer\u001b[0m\u001b[0;34m(\u001b[0m\u001b[0mkey\u001b[0m\u001b[0;34m,\u001b[0m \u001b[0maxis\u001b[0m\u001b[0;34m=\u001b[0m\u001b[0;36m1\u001b[0m\u001b[0;34m)\u001b[0m\u001b[0;34m\u001b[0m\u001b[0m\n\u001b[0m\u001b[1;32m   2178\u001b[0m             \u001b[0;32mreturn\u001b[0m \u001b[0mself\u001b[0m\u001b[0;34m.\u001b[0m\u001b[0m_take\u001b[0m\u001b[0;34m(\u001b[0m\u001b[0mindexer\u001b[0m\u001b[0;34m,\u001b[0m \u001b[0maxis\u001b[0m\u001b[0;34m=\u001b[0m\u001b[0;36m1\u001b[0m\u001b[0;34m,\u001b[0m \u001b[0mconvert\u001b[0m\u001b[0;34m=\u001b[0m\u001b[0;32mTrue\u001b[0m\u001b[0;34m)\u001b[0m\u001b[0;34m\u001b[0m\u001b[0m\n\u001b[1;32m   2179\u001b[0m \u001b[0;34m\u001b[0m\u001b[0m\n",
      "\u001b[0;32m~/.local/lib/python3.5/site-packages/pandas/core/indexing.py\u001b[0m in \u001b[0;36m_convert_to_indexer\u001b[0;34m(self, obj, axis, is_setter)\u001b[0m\n\u001b[1;32m   1267\u001b[0m                 \u001b[0;32mif\u001b[0m \u001b[0mmask\u001b[0m\u001b[0;34m.\u001b[0m\u001b[0many\u001b[0m\u001b[0;34m(\u001b[0m\u001b[0;34m)\u001b[0m\u001b[0;34m:\u001b[0m\u001b[0;34m\u001b[0m\u001b[0m\n\u001b[1;32m   1268\u001b[0m                     raise KeyError('{mask} not in index'\n\u001b[0;32m-> 1269\u001b[0;31m                                    .format(mask=objarr[mask]))\n\u001b[0m\u001b[1;32m   1270\u001b[0m \u001b[0;34m\u001b[0m\u001b[0m\n\u001b[1;32m   1271\u001b[0m                 \u001b[0;32mreturn\u001b[0m \u001b[0m_values_from_object\u001b[0m\u001b[0;34m(\u001b[0m\u001b[0mindexer\u001b[0m\u001b[0;34m)\u001b[0m\u001b[0;34m\u001b[0m\u001b[0m\n",
      "\u001b[0;31mKeyError\u001b[0m: \"['decision_function'] not in index\""
     ]
    }
   ],
   "source": [
    "df_real_list = [(df_xgb_real, 'xgb'), (df_xgb_n_real, 'xgb_n'), \n",
    "                (df_xgb_air_real, 'xgb_air'), (df_ridge_real, 'ridge'),\n",
    "                (df_ee_real, 'ee'), (df_svm_real, 'svm'), (df_lof_real, 'lof'), \n",
    "                (df_iforest_real, 'iforest')]\n",
    "\n",
    "for df, name in df_real_list:\n",
    "    print(name)\n",
    "    df['decision_function_{0}'.format(name)] = df['decision_function']\n",
    "    df['label_predict_{0}'.format(name)] = df['label_predict']\n",
    "    del df['decision_function'], df['label_predict']\n",
    "    \n",
    "col_list = ['date_time_utc', 'station_id', 'id_t_road', 'target_t_road', 'label_true']\n",
    "merge_on = ['date_time_utc', 'station_id', 'id_t_road', 'target_t_road', 'label_true']\n",
    "\n",
    "df_test = pd.merge(df_xgb_real, df_xgb_n_real, on=merge_on)\n",
    "df_test = pd.merge(df_test, df_xgb_air_real, on=merge_on)\n",
    "df_test = pd.merge(df_test, df_ridge_real, on=merge_on)\n",
    "df_test = pd.merge(df_test, df_ee_real, on=merge_on)\n",
    "df_test = pd.merge(df_test, df_svm_real, on=merge_on)\n",
    "df_test = pd.merge(df_test, df_lof_real, on=merge_on)\n",
    "df_test = pd.merge(df_test, df_iforest_real, on=merge_on)\n",
    "\n",
    "df_test['date_time_utc'] = pd.to_datetime(df_test['date_time_utc'])\n",
    "\n",
    "col_list = ['date_time_utc', 'station_id', 'id_t_road', 'target_t_road', 'label_true']\n",
    "columns_list = col_list + [col for col in df_test.columns if col.startswith('decision_') or col.startswith('label_predict')]\n",
    "df_test_to_save = df_test[columns_list]\n",
    "\n",
    "df_test_to_save.to_csv('/mnt/HARD/Diplom/MinMax/results/model_real.csv', index=False)\n",
    "del df_test\n"
   ]
  },
  {
   "cell_type": "code",
   "execution_count": 49,
   "metadata": {},
   "outputs": [],
   "source": [
    "col_list = ['date_time_utc', 'station_id', 'id_t_road', 'target_t_road', 'label_true']\n",
    "\n",
    "columns_list = col_list + [col for col in df_test.columns if col.startswith('decision_') or col.startswith('label_predict')]\n",
    "df_test_to_save = df_test[columns_list]\n",
    "\n",
    "df_test_to_save.to_csv('/mnt/HARD/Diplom/MinMax/results/model_real.csv', index=False)\n",
    "del df_test"
   ]
  },
  {
   "cell_type": "markdown",
   "metadata": {},
   "source": [
    "## Plot"
   ]
  },
  {
   "cell_type": "code",
   "execution_count": 83,
   "metadata": {},
   "outputs": [
    {
     "data": {
      "image/png": "[encoded data removed]",
      "text/plain": [
       "<matplotlib.figure.Figure at 0x7ff52dcd6f28>"
      ]
     },
     "metadata": {},
     "output_type": "display_data"
    }
   ],
   "source": [
    "import matplotlib.pyplot as plt\n",
    "\n",
    "#st_id = [114, 117, 119, 442, 504, 511, 1838, 1896]\n",
    "#303, 307!!, 393!!, 503, 516\n",
    "#test_station_id = [114, 117, 119, 302, 303, 307, 393, 442, 503, 504, 511, 516, 1838, 1896]\n",
    "z = copy(df_test[df_test['station_id']==615].set_index('date_time_utc'))\n",
    "\n",
    "start = pd.Timestamp(2012, 12, 1)\n",
    "end = pd.Timestamp(2017, 2, 1)\n",
    "\n",
    "to_plot = z[(z.index<=end) & (z.index>=start)]\n",
    "\n",
    "plt.figure(figsize=(30, 10))\n",
    "\n",
    "for elem in [True, False]:\n",
    "    cond_predict = (to_plot['label_predict'] == 0) == elem\n",
    "    cond_true = (to_plot['label_true'] == 0) == elem\n",
    "    \n",
    "    if elem:\n",
    "        plt.plot_date(to_plot[cond_predict].index, to_plot[cond_predict]['target_t_road'], 'b',\n",
    "                      linestyle='none', marker='o', markersize=8, label='t_road')\n",
    "    else:\n",
    "        \n",
    "        plt.plot_date(to_plot[cond_true].index, to_plot[cond_true]['target_t_road'], 'g.',\n",
    "                              linestyle='none', marker='o', label='outliers', markersize=12)\n",
    "        \n",
    "        plt.plot_date(to_plot[cond_predict].index, to_plot[cond_predict]['target_t_road'], 'r.',\n",
    "                              linestyle='none', marker='o', label='outliers', markersize=8)\n",
    "\n",
    "plt.grid()\n",
    "plt.legend(fontsize=32)\n",
    "plt.ylabel(r' Температура дороги, $^{\\circ}C$', fontsize=30)\n",
    "\n",
    "plt.tick_params(labelsize=30)\n",
    "plt.show()"
   ]
  },
  {
   "cell_type": "code",
   "execution_count": 20,
   "metadata": {},
   "outputs": [
    {
     "ename": "KeyError",
     "evalue": "\"['label_predict' 'decision_function'] not in index\"",
     "output_type": "error",
     "traceback": [
      "\u001b[0;31m---------------------------------------------------------------------------\u001b[0m",
      "\u001b[0;31mKeyError\u001b[0m                                  Traceback (most recent call last)",
      "\u001b[0;32m<ipython-input-20-397362f17d69>\u001b[0m in \u001b[0;36m<module>\u001b[0;34m()\u001b[0m\n\u001b[0;32m----> 1\u001b[0;31m \u001b[0mz\u001b[0m \u001b[0;34m=\u001b[0m \u001b[0mdf_test\u001b[0m\u001b[0;34m[\u001b[0m\u001b[0;34m[\u001b[0m\u001b[0;34m'label_true'\u001b[0m\u001b[0;34m,\u001b[0m \u001b[0;34m'label_predict'\u001b[0m\u001b[0;34m,\u001b[0m \u001b[0;34m'decision_function'\u001b[0m\u001b[0;34m]\u001b[0m\u001b[0;34m]\u001b[0m\u001b[0;34m\u001b[0m\u001b[0m\n\u001b[0m\u001b[1;32m      2\u001b[0m \u001b[0mz\u001b[0m\u001b[0;34m.\u001b[0m\u001b[0mcorr\u001b[0m\u001b[0;34m(\u001b[0m\u001b[0;34m)\u001b[0m\u001b[0;34m\u001b[0m\u001b[0m\n",
      "\u001b[0;32m/usr/local/lib/python3.5/dist-packages/pandas/core/frame.py\u001b[0m in \u001b[0;36m__getitem__\u001b[0;34m(self, key)\u001b[0m\n\u001b[1;32m   1956\u001b[0m         \u001b[0;32mif\u001b[0m \u001b[0misinstance\u001b[0m\u001b[0;34m(\u001b[0m\u001b[0mkey\u001b[0m\u001b[0;34m,\u001b[0m \u001b[0;34m(\u001b[0m\u001b[0mSeries\u001b[0m\u001b[0;34m,\u001b[0m \u001b[0mnp\u001b[0m\u001b[0;34m.\u001b[0m\u001b[0mndarray\u001b[0m\u001b[0;34m,\u001b[0m \u001b[0mIndex\u001b[0m\u001b[0;34m,\u001b[0m \u001b[0mlist\u001b[0m\u001b[0;34m)\u001b[0m\u001b[0;34m)\u001b[0m\u001b[0;34m:\u001b[0m\u001b[0;34m\u001b[0m\u001b[0m\n\u001b[1;32m   1957\u001b[0m             \u001b[0;31m# either boolean or fancy integer index\u001b[0m\u001b[0;34m\u001b[0m\u001b[0;34m\u001b[0m\u001b[0m\n\u001b[0;32m-> 1958\u001b[0;31m             \u001b[0;32mreturn\u001b[0m \u001b[0mself\u001b[0m\u001b[0;34m.\u001b[0m\u001b[0m_getitem_array\u001b[0m\u001b[0;34m(\u001b[0m\u001b[0mkey\u001b[0m\u001b[0;34m)\u001b[0m\u001b[0;34m\u001b[0m\u001b[0m\n\u001b[0m\u001b[1;32m   1959\u001b[0m         \u001b[0;32melif\u001b[0m \u001b[0misinstance\u001b[0m\u001b[0;34m(\u001b[0m\u001b[0mkey\u001b[0m\u001b[0;34m,\u001b[0m \u001b[0mDataFrame\u001b[0m\u001b[0;34m)\u001b[0m\u001b[0;34m:\u001b[0m\u001b[0;34m\u001b[0m\u001b[0m\n\u001b[1;32m   1960\u001b[0m             \u001b[0;32mreturn\u001b[0m \u001b[0mself\u001b[0m\u001b[0;34m.\u001b[0m\u001b[0m_getitem_frame\u001b[0m\u001b[0;34m(\u001b[0m\u001b[0mkey\u001b[0m\u001b[0;34m)\u001b[0m\u001b[0;34m\u001b[0m\u001b[0m\n",
      "\u001b[0;32m/usr/local/lib/python3.5/dist-packages/pandas/core/frame.py\u001b[0m in \u001b[0;36m_getitem_array\u001b[0;34m(self, key)\u001b[0m\n\u001b[1;32m   2000\u001b[0m             \u001b[0;32mreturn\u001b[0m \u001b[0mself\u001b[0m\u001b[0;34m.\u001b[0m\u001b[0mtake\u001b[0m\u001b[0;34m(\u001b[0m\u001b[0mindexer\u001b[0m\u001b[0;34m,\u001b[0m \u001b[0maxis\u001b[0m\u001b[0;34m=\u001b[0m\u001b[0;36m0\u001b[0m\u001b[0;34m,\u001b[0m \u001b[0mconvert\u001b[0m\u001b[0;34m=\u001b[0m\u001b[0;32mFalse\u001b[0m\u001b[0;34m)\u001b[0m\u001b[0;34m\u001b[0m\u001b[0m\n\u001b[1;32m   2001\u001b[0m         \u001b[0;32melse\u001b[0m\u001b[0;34m:\u001b[0m\u001b[0;34m\u001b[0m\u001b[0m\n\u001b[0;32m-> 2002\u001b[0;31m             \u001b[0mindexer\u001b[0m \u001b[0;34m=\u001b[0m \u001b[0mself\u001b[0m\u001b[0;34m.\u001b[0m\u001b[0mloc\u001b[0m\u001b[0;34m.\u001b[0m\u001b[0m_convert_to_indexer\u001b[0m\u001b[0;34m(\u001b[0m\u001b[0mkey\u001b[0m\u001b[0;34m,\u001b[0m \u001b[0maxis\u001b[0m\u001b[0;34m=\u001b[0m\u001b[0;36m1\u001b[0m\u001b[0;34m)\u001b[0m\u001b[0;34m\u001b[0m\u001b[0m\n\u001b[0m\u001b[1;32m   2003\u001b[0m             \u001b[0;32mreturn\u001b[0m \u001b[0mself\u001b[0m\u001b[0;34m.\u001b[0m\u001b[0mtake\u001b[0m\u001b[0;34m(\u001b[0m\u001b[0mindexer\u001b[0m\u001b[0;34m,\u001b[0m \u001b[0maxis\u001b[0m\u001b[0;34m=\u001b[0m\u001b[0;36m1\u001b[0m\u001b[0;34m,\u001b[0m \u001b[0mconvert\u001b[0m\u001b[0;34m=\u001b[0m\u001b[0;32mTrue\u001b[0m\u001b[0;34m)\u001b[0m\u001b[0;34m\u001b[0m\u001b[0m\n\u001b[1;32m   2004\u001b[0m \u001b[0;34m\u001b[0m\u001b[0m\n",
      "\u001b[0;32m/usr/local/lib/python3.5/dist-packages/pandas/core/indexing.py\u001b[0m in \u001b[0;36m_convert_to_indexer\u001b[0;34m(self, obj, axis, is_setter)\u001b[0m\n\u001b[1;32m   1229\u001b[0m                 \u001b[0mmask\u001b[0m \u001b[0;34m=\u001b[0m \u001b[0mcheck\u001b[0m \u001b[0;34m==\u001b[0m \u001b[0;34m-\u001b[0m\u001b[0;36m1\u001b[0m\u001b[0;34m\u001b[0m\u001b[0m\n\u001b[1;32m   1230\u001b[0m                 \u001b[0;32mif\u001b[0m \u001b[0mmask\u001b[0m\u001b[0;34m.\u001b[0m\u001b[0many\u001b[0m\u001b[0;34m(\u001b[0m\u001b[0;34m)\u001b[0m\u001b[0;34m:\u001b[0m\u001b[0;34m\u001b[0m\u001b[0m\n\u001b[0;32m-> 1231\u001b[0;31m                     \u001b[0;32mraise\u001b[0m \u001b[0mKeyError\u001b[0m\u001b[0;34m(\u001b[0m\u001b[0;34m'%s not in index'\u001b[0m \u001b[0;34m%\u001b[0m \u001b[0mobjarr\u001b[0m\u001b[0;34m[\u001b[0m\u001b[0mmask\u001b[0m\u001b[0;34m]\u001b[0m\u001b[0;34m)\u001b[0m\u001b[0;34m\u001b[0m\u001b[0m\n\u001b[0m\u001b[1;32m   1232\u001b[0m \u001b[0;34m\u001b[0m\u001b[0m\n\u001b[1;32m   1233\u001b[0m                 \u001b[0;32mreturn\u001b[0m \u001b[0m_values_from_object\u001b[0m\u001b[0;34m(\u001b[0m\u001b[0mindexer\u001b[0m\u001b[0;34m)\u001b[0m\u001b[0;34m\u001b[0m\u001b[0m\n",
      "\u001b[0;31mKeyError\u001b[0m: \"['label_predict' 'decision_function'] not in index\""
     ]
    }
   ],
   "source": [
    "z = df_test[['label_true', 'label_predict', 'decision_function']]\n",
    "z.corr()"
   ]
  },
  {
   "cell_type": "code",
   "execution_count": null,
   "metadata": {},
   "outputs": [],
   "source": []
  }
 ],
 "metadata": {
  "kernelspec": {
   "display_name": "Python 3",
   "language": "python",
   "name": "python3"
  },
  "language_info": {
   "codemirror_mode": {
    "name": "ipython",
    "version": 3
   },
   "file_extension": ".py",
   "mimetype": "text/x-python",
   "name": "python",
   "nbconvert_exporter": "python",
   "pygments_lexer": "ipython3",
   "version": "3.5.2"
  },
  "widgets": {
   "state": {
    "00326b32892a43d4ba69bd9c99cfa796": {
     "views": [
      {
       "cell_index": 7
      }
     ]
    },
    "1eb71c32c655466b842aaa0c3a382add": {
     "views": [
      {
       "cell_index": 7
      }
     ]
    },
    "2ad459046cde4777afe3f9e3c8c5b3ae": {
     "views": [
      {
       "cell_index": 7
      }
     ]
    },
    "3a74dceb621c486a9341da5c8a982164": {
     "views": [
      {
       "cell_index": 7
      }
     ]
    },
    "660c86c1a4384674a185be4b3bff31a9": {
     "views": [
      {
       "cell_index": 7
      }
     ]
    },
    "7f3b66d1e80d4f5e87d2988624d955d0": {
     "views": [
      {
       "cell_index": 7
      }
     ]
    },
    "943e2c1cc988476e971e75100750df58": {
     "views": [
      {
       "cell_index": 7
      }
     ]
    },
    "b4c7e54d4afe468e8123b8ed01cc507b": {
     "views": [
      {
       "cell_index": 7
      }
     ]
    },
    "daaa68dca49744bc9ee634c5c1142d96": {
     "views": [
      {
       "cell_index": 7
      }
     ]
    },
    "db245a5162754e999cfdd51d9b929484": {
     "views": [
      {
       "cell_index": 7
      }
     ]
    },
    "e0a44a8d4a2840a2aa38273cc13524ef": {
     "views": [
      {
       "cell_index": 7
      }
     ]
    },
    "eaa208b4699544f9a2ee2c4559d77e40": {
     "views": [
      {
       "cell_index": 7
      }
     ]
    },
    "f0ea691c74e14437adaf0ac14d37253b": {
     "views": [
      {
       "cell_index": 7
      }
     ]
    },
    "fa6314ecdce54b00b1655f84e78f9297": {
     "views": [
      {
       "cell_index": 7
      }
     ]
    }
   },
   "version": "1.2.0"
  }
 },
 "nbformat": 4,
 "nbformat_minor": 2
}
