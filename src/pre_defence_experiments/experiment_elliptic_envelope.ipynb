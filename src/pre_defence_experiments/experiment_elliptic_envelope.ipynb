{
 "cells": [
  {
   "cell_type": "code",
   "execution_count": 1,
   "metadata": {},
   "outputs": [],
   "source": [
    "import numpy as np\n",
    "import pandas as pd\n",
    "from copy import copy\n",
    "import sys\n",
    "sys.path.append('/home/ndsviriden/MinMax94/src/utils') \n",
    "from constants import data_directory, MmxColumns\n",
    "from interpolation import interpolate_mmx, create_patterns\n",
    "from converters import convert_raw_to_mmx\n",
    "from preprocessing import get_clean_data\n",
    "from loaders import load_mm94_stations, select_mm94_features\n",
    "from geographical import find_nearest_wmo_station, add_solar_angles, add_coordinates, add_road_id\n",
    "from sklearn.ensemble import IsolationForest\n",
    "from score import get_labels\n",
    "from score import calculate_precision, calculate_recall\n",
    "import gc\n",
    "from tqdm import tqdm_notebook\n",
    "from functools import reduce"
   ]
  },
  {
   "cell_type": "markdown",
   "metadata": {},
   "source": [
    "## Loading data"
   ]
  },
  {
   "cell_type": "code",
   "execution_count": 2,
   "metadata": {},
   "outputs": [
    {
     "name": "stderr",
     "output_type": "stream",
     "text": [
      "/home/ndsviriden/MinMax94/src/utils/geographical.py:65: RuntimeWarning: invalid value encountered in arccos\n",
      "  solar_azimuth = np.arccos(cos_az) * np.sign(h_rad)\n"
     ]
    },
    {
     "name": "stdout",
     "output_type": "stream",
     "text": [
      "CPU times: user 1min 33s, sys: 10.3 s, total: 1min 43s\n",
      "Wall time: 1min 43s\n"
     ]
    }
   ],
   "source": [
    "%%time\n",
    "test_station_id = [114, 117, 119, 302, 303, 307, 393, 442, 503, 504, \n",
    "                   511, 516, 1838, 1896]\n",
    "\n",
    "\n",
    "train_station_id = [113, 115, 116, 118, 126, 150, 152, 200, 223, 228, \n",
    "                    239, 305, 308, 309, 401, 411, 432, 435, 454, 456, \n",
    "                    593, 628, 1831, 1899, 1911, 1921, 4007, 20323, 20717, 20743, \n",
    "                    20754, 20755, 20761, 20916, 20921]\n",
    "\n",
    "raw = load_mm94_stations(train_station_id + test_station_id)\n",
    "raw = select_mm94_features(raw, ['t_air', 't_road', 't_underroad', 'pressure', 'dampness'])\n",
    "\n",
    "mmx_rwis = convert_raw_to_mmx(raw)\n",
    "mmx_rwis_interpolated = interpolate_mmx(mmx_rwis)\n",
    "data = create_patterns(mmx_rwis_interpolated)\n",
    "\n",
    "data['data_solar_azimuth'], data['data_solar_altitude'] = add_solar_angles(data)\n",
    "data['data_latitude'], data['data_longitude'] = add_coordinates(data)\n",
    "data['data_road'] = add_road_id(data)\n",
    "data = data.dropna(subset=('data_t_road', ))\n",
    "\n",
    "del data[MmxColumns.ID_AIR_TEMPERATURE], data[MmxColumns.ID_UNDERGROUND_TEMPERATURE], \\\n",
    "    data[MmxColumns.ID_PRESSURE], data[MmxColumns.ID_HUMIDITY]\n",
    "\n",
    "train = data[data['station_id'].isin(train_station_id)]\n",
    "train = train.reset_index(drop=True)\n",
    "train_clean = get_clean_data(train)\n",
    "\n",
    "\n",
    "test = data[data['station_id'].isin(test_station_id)]\n",
    "test = test.reset_index(drop=True)\n",
    "test['label_true'] = get_labels(test, labels_type='true')\n",
    "\n",
    "del data, raw, mmx_rwis, mmx_rwis_interpolated\n",
    "gc.collect()"
   ]
  },
  {
   "cell_type": "markdown",
   "metadata": {},
   "source": [
    "## Feature selection"
   ]
  },
  {
   "cell_type": "code",
   "execution_count": 3,
   "metadata": {
    "scrolled": true
   },
   "outputs": [
    {
     "name": "stdout",
     "output_type": "stream",
     "text": [
      "CPU times: user 2.92 s, sys: 40.1 ms, total: 2.96 s\n",
      "Wall time: 2.96 s\n"
     ]
    }
   ],
   "source": [
    "%%time\n",
    "\n",
    "from preprocessing import create_feature_df\n",
    "\n",
    "point = pd.Timestamp(2015, 6, 1)\n",
    "\n",
    "time = 0\n",
    "lag_list=(1, 2, 3)\n",
    "diff_list=((1, 2), (1, 3))\n",
    "post_process = False\n",
    "regression_mode = False\n",
    "variables = ['data_t_road']\n",
    "\n",
    "df_train = create_feature_df(train_clean[train_clean['date_time_utc'] < point], coordinates=False,\n",
    "                             winter_period=False, time=time, lag_list=lag_list, road_id=False, \n",
    "                             diff_list=diff_list, post_process=post_process, variables=variables)\n",
    "df_valid = create_feature_df(train_clean[train_clean['date_time_utc'] >= point], coordinates=False,\n",
    "                             winter_period=False, time=time, lag_list=lag_list, road_id=False,\n",
    "                             diff_list=diff_list, post_process=post_process, variables=variables)\n",
    "df_test = create_feature_df(test, coordinates=False,\n",
    "                            winter_period=False, time=time, lag_list=lag_list, road_id=False,\n",
    "                            diff_list=diff_list, post_process=post_process, variables=variables)\n",
    "\n",
    "features = [col for col in df_train if col.startswith('data_')]\n",
    "target = [col for col in df_train if col.startswith('target_')]\n",
    "\n",
    "X_train = np.array(df_train[features + target].values)\n",
    "#y_train = np.array(df_train[target])\n",
    "\n",
    "X_valid = np.array(df_valid[features + target])\n",
    "#y_valid = np.array(df_valid[target])\n",
    "\n",
    "X_test = np.array(df_test[features + target])\n",
    "#y_test = np.array(df_test[target].values.reshape(-1, 1))"
   ]
  },
  {
   "cell_type": "code",
   "execution_count": 4,
   "metadata": {
    "scrolled": true
   },
   "outputs": [
    {
     "name": "stderr",
     "output_type": "stream",
     "text": [
      "/home/ndsviriden/.local/lib/python3.5/site-packages/sklearn/covariance/robust_covariance.py:622: UserWarning: The covariance matrix associated to your dataset is not full rank\n",
      "  warnings.warn(\"The covariance matrix associated to your dataset \"\n",
      "/home/ndsviriden/.local/lib/python3.5/site-packages/sklearn/covariance/robust_covariance.py:165: RuntimeWarning: Warning! det > previous_det (-111.580588382420203 > -114.579823402527808)\n",
      "  % (det, previous_det), RuntimeWarning)\n",
      "/home/ndsviriden/.local/lib/python3.5/site-packages/sklearn/covariance/robust_covariance.py:165: RuntimeWarning: Warning! det > previous_det (-112.398124331394200 > -117.487163356945473)\n",
      "  % (det, previous_det), RuntimeWarning)\n",
      "/home/ndsviriden/.local/lib/python3.5/site-packages/sklearn/covariance/robust_covariance.py:165: RuntimeWarning: Warning! det > previous_det (-113.284617685630920 > -113.645216111726327)\n",
      "  % (det, previous_det), RuntimeWarning)\n",
      "/home/ndsviriden/.local/lib/python3.5/site-packages/sklearn/covariance/robust_covariance.py:165: RuntimeWarning: Warning! det > previous_det (-118.567701624910455 > -119.488497854386424)\n",
      "  % (det, previous_det), RuntimeWarning)\n",
      "/home/ndsviriden/.local/lib/python3.5/site-packages/sklearn/covariance/robust_covariance.py:165: RuntimeWarning: Warning! det > previous_det (-113.025418588032352 > -115.003501239672090)\n",
      "  % (det, previous_det), RuntimeWarning)\n",
      "/home/ndsviriden/.local/lib/python3.5/site-packages/sklearn/covariance/robust_covariance.py:165: RuntimeWarning: Warning! det > previous_det (-115.044965772731544 > -115.750436698897133)\n",
      "  % (det, previous_det), RuntimeWarning)\n",
      "/home/ndsviriden/.local/lib/python3.5/site-packages/sklearn/covariance/robust_covariance.py:165: RuntimeWarning: Warning! det > previous_det (-112.430305432391634 > -115.438620209565698)\n",
      "  % (det, previous_det), RuntimeWarning)\n",
      "/home/ndsviriden/.local/lib/python3.5/site-packages/sklearn/covariance/robust_covariance.py:165: RuntimeWarning: Warning! det > previous_det (-114.157650852634418 > -124.986912534214710)\n",
      "  % (det, previous_det), RuntimeWarning)\n",
      "/home/ndsviriden/.local/lib/python3.5/site-packages/sklearn/covariance/robust_covariance.py:165: RuntimeWarning: Warning! det > previous_det (-115.383717190563843 > -119.309870431386727)\n",
      "  % (det, previous_det), RuntimeWarning)\n",
      "/home/ndsviriden/.local/lib/python3.5/site-packages/sklearn/covariance/robust_covariance.py:165: RuntimeWarning: Warning! det > previous_det (-113.989902067724302 > -115.842740612664784)\n",
      "  % (det, previous_det), RuntimeWarning)\n",
      "/home/ndsviriden/.local/lib/python3.5/site-packages/sklearn/covariance/robust_covariance.py:165: RuntimeWarning: Warning! det > previous_det (-112.052259906709594 > -112.642285489212739)\n",
      "  % (det, previous_det), RuntimeWarning)\n",
      "/home/ndsviriden/.local/lib/python3.5/site-packages/sklearn/covariance/robust_covariance.py:165: RuntimeWarning: Warning! det > previous_det (-117.008664196465830 > -117.257862826472035)\n",
      "  % (det, previous_det), RuntimeWarning)\n",
      "/home/ndsviriden/.local/lib/python3.5/site-packages/sklearn/covariance/robust_covariance.py:165: RuntimeWarning: Warning! det > previous_det (-113.973202775020326 > -114.798601345394346)\n",
      "  % (det, previous_det), RuntimeWarning)\n",
      "/home/ndsviriden/.local/lib/python3.5/site-packages/sklearn/covariance/robust_covariance.py:165: RuntimeWarning: Warning! det > previous_det (-113.437480406928884 > -113.568786820730466)\n",
      "  % (det, previous_det), RuntimeWarning)\n",
      "/home/ndsviriden/.local/lib/python3.5/site-packages/sklearn/covariance/robust_covariance.py:165: RuntimeWarning: Warning! det > previous_det (-116.247968811241449 > -118.763293597628547)\n",
      "  % (det, previous_det), RuntimeWarning)\n",
      "/home/ndsviriden/.local/lib/python3.5/site-packages/sklearn/covariance/robust_covariance.py:165: RuntimeWarning: Warning! det > previous_det (-112.900203653769353 > -113.011182799883215)\n",
      "  % (det, previous_det), RuntimeWarning)\n",
      "/home/ndsviriden/.local/lib/python3.5/site-packages/sklearn/covariance/robust_covariance.py:165: RuntimeWarning: Warning! det > previous_det (-113.221292777510016 > -117.897470907809776)\n",
      "  % (det, previous_det), RuntimeWarning)\n",
      "/home/ndsviriden/.local/lib/python3.5/site-packages/sklearn/covariance/robust_covariance.py:165: RuntimeWarning: Warning! det > previous_det (-111.934136595106168 > -113.156658418830574)\n",
      "  % (det, previous_det), RuntimeWarning)\n",
      "/home/ndsviriden/.local/lib/python3.5/site-packages/sklearn/covariance/robust_covariance.py:165: RuntimeWarning: Warning! det > previous_det (-112.238656130119935 > -112.547887745201180)\n",
      "  % (det, previous_det), RuntimeWarning)\n",
      "/home/ndsviriden/.local/lib/python3.5/site-packages/sklearn/covariance/robust_covariance.py:165: RuntimeWarning: Warning! det > previous_det (-113.450907923590719 > -119.962496125741652)\n",
      "  % (det, previous_det), RuntimeWarning)\n",
      "/home/ndsviriden/.local/lib/python3.5/site-packages/sklearn/covariance/robust_covariance.py:165: RuntimeWarning: Warning! det > previous_det (-113.925880909532111 > -118.838951516764070)\n",
      "  % (det, previous_det), RuntimeWarning)\n",
      "/home/ndsviriden/.local/lib/python3.5/site-packages/sklearn/covariance/robust_covariance.py:165: RuntimeWarning: Warning! det > previous_det (-113.327658693472586 > -113.476394229254410)\n",
      "  % (det, previous_det), RuntimeWarning)\n",
      "/home/ndsviriden/.local/lib/python3.5/site-packages/sklearn/covariance/robust_covariance.py:165: RuntimeWarning: Warning! det > previous_det (-113.637485149279556 > -114.617364110648637)\n",
      "  % (det, previous_det), RuntimeWarning)\n",
      "/home/ndsviriden/.local/lib/python3.5/site-packages/sklearn/covariance/robust_covariance.py:165: RuntimeWarning: Warning! det > previous_det (-114.760892184785590 > -115.749801653530724)\n",
      "  % (det, previous_det), RuntimeWarning)\n",
      "/home/ndsviriden/.local/lib/python3.5/site-packages/sklearn/covariance/robust_covariance.py:165: RuntimeWarning: Warning! det > previous_det (-112.607496893432511 > -112.648263769626922)\n",
      "  % (det, previous_det), RuntimeWarning)\n",
      "/home/ndsviriden/.local/lib/python3.5/site-packages/sklearn/covariance/robust_covariance.py:165: RuntimeWarning: Warning! det > previous_det (-114.621478402522214 > -124.829179385462595)\n",
      "  % (det, previous_det), RuntimeWarning)\n",
      "/home/ndsviriden/.local/lib/python3.5/site-packages/sklearn/covariance/robust_covariance.py:165: RuntimeWarning: Warning! det > previous_det (-113.993709374264242 > -118.703729044171098)\n",
      "  % (det, previous_det), RuntimeWarning)\n",
      "/home/ndsviriden/.local/lib/python3.5/site-packages/sklearn/covariance/robust_covariance.py:165: RuntimeWarning: Warning! det > previous_det (-114.680251963082583 > -114.973846121542820)\n",
      "  % (det, previous_det), RuntimeWarning)\n",
      "/home/ndsviriden/.local/lib/python3.5/site-packages/sklearn/covariance/robust_covariance.py:165: RuntimeWarning: Warning! det > previous_det (-113.853701411368434 > -118.465688836482400)\n",
      "  % (det, previous_det), RuntimeWarning)\n",
      "/home/ndsviriden/.local/lib/python3.5/site-packages/sklearn/covariance/robust_covariance.py:165: RuntimeWarning: Warning! det > previous_det (-112.902663178763632 > -119.141084120792485)\n",
      "  % (det, previous_det), RuntimeWarning)\n",
      "/home/ndsviriden/.local/lib/python3.5/site-packages/sklearn/covariance/robust_covariance.py:165: RuntimeWarning: Warning! det > previous_det (-116.902266631761591 > -117.713592612272549)\n",
      "  % (det, previous_det), RuntimeWarning)\n",
      "/home/ndsviriden/.local/lib/python3.5/site-packages/sklearn/covariance/robust_covariance.py:165: RuntimeWarning: Warning! det > previous_det (-114.026193596244269 > -115.932899226694090)\n",
      "  % (det, previous_det), RuntimeWarning)\n",
      "/home/ndsviriden/.local/lib/python3.5/site-packages/sklearn/covariance/robust_covariance.py:165: RuntimeWarning: Warning! det > previous_det (-115.692652550870775 > -117.454988988557517)\n",
      "  % (det, previous_det), RuntimeWarning)\n",
      "/home/ndsviriden/.local/lib/python3.5/site-packages/sklearn/covariance/robust_covariance.py:165: RuntimeWarning: Warning! det > previous_det (-112.638110857765355 > -113.876177561474336)\n",
      "  % (det, previous_det), RuntimeWarning)\n",
      "/home/ndsviriden/.local/lib/python3.5/site-packages/sklearn/covariance/robust_covariance.py:165: RuntimeWarning: Warning! det > previous_det (-113.672619199685940 > -115.043268935059089)\n",
      "  % (det, previous_det), RuntimeWarning)\n",
      "/home/ndsviriden/.local/lib/python3.5/site-packages/sklearn/covariance/robust_covariance.py:165: RuntimeWarning: Warning! det > previous_det (-114.072530866588266 > -117.185176203136507)\n",
      "  % (det, previous_det), RuntimeWarning)\n"
     ]
    },
    {
     "name": "stderr",
     "output_type": "stream",
     "text": [
      "/home/ndsviriden/.local/lib/python3.5/site-packages/sklearn/covariance/robust_covariance.py:165: RuntimeWarning: Warning! det > previous_det (-113.617815696713251 > -114.514193346850220)\n",
      "  % (det, previous_det), RuntimeWarning)\n",
      "/home/ndsviriden/.local/lib/python3.5/site-packages/sklearn/covariance/robust_covariance.py:165: RuntimeWarning: Warning! det > previous_det (-118.351772441392200 > -119.174933593186921)\n",
      "  % (det, previous_det), RuntimeWarning)\n",
      "/home/ndsviriden/.local/lib/python3.5/site-packages/sklearn/covariance/robust_covariance.py:165: RuntimeWarning: Warning! det > previous_det (-114.276649338449147 > -115.378522093846186)\n",
      "  % (det, previous_det), RuntimeWarning)\n"
     ]
    },
    {
     "data": {
      "text/plain": [
       "EllipticEnvelope(assume_centered=False, contamination=0.001,\n",
       "         random_state=None, store_precision=True, support_fraction=None)"
      ]
     },
     "execution_count": 4,
     "metadata": {},
     "output_type": "execute_result"
    }
   ],
   "source": [
    "from sklearn.covariance import EllipticEnvelope\n",
    "\n",
    "clf = EllipticEnvelope(contamination=0.001)\n",
    "clf.fit(X_train)"
   ]
  },
  {
   "cell_type": "code",
   "execution_count": 9,
   "metadata": {},
   "outputs": [],
   "source": [
    "import pickle\n",
    "\n",
    "pickle.dump(clf, open('/mnt/HARD/MinMax94/models/pickle/elliptic_envelope.pickle', \"wb\"))"
   ]
  },
  {
   "cell_type": "code",
   "execution_count": 10,
   "metadata": {},
   "outputs": [],
   "source": [
    "import pickle\n",
    "\n",
    "clf = pickle.load(open('/mnt/HARD/MinMax94/models/pickle/elliptic_envelope.pickle', \"rb\"))"
   ]
  },
  {
   "cell_type": "code",
   "execution_count": 11,
   "metadata": {},
   "outputs": [],
   "source": [
    "y_true = df_test['label_true']\n",
    "df_test['label_predict'] = (1 - clf.predict(X_test)) / 2 "
   ]
  },
  {
   "cell_type": "code",
   "execution_count": 12,
   "metadata": {},
   "outputs": [],
   "source": [
    "df_test['decision_function'] =  clf.decision_function(X_test)"
   ]
  },
  {
   "cell_type": "code",
   "execution_count": 13,
   "metadata": {},
   "outputs": [],
   "source": [
    "df_test.to_csv('/mnt/HARD/MinMax94/models/results/elliptic_envelope.csv', index=False)"
   ]
  },
  {
   "cell_type": "markdown",
   "metadata": {},
   "source": [
    "## Recall"
   ]
  },
  {
   "cell_type": "code",
   "execution_count": 14,
   "metadata": {},
   "outputs": [
    {
     "data": {
      "text/plain": [
       "0.381547551414612"
      ]
     },
     "execution_count": 14,
     "metadata": {},
     "output_type": "execute_result"
    }
   ],
   "source": [
    "predicted_anomalies_ids = set()\n",
    "window = pd.Timedelta('4h')\n",
    "\n",
    "st_id = [114, 119, 302, 303, 442, 504, 511, 1838, 1896]\n",
    "#st_id = [114, 117, 119, 302, 303, 442, 503, 504, 511, 1838, 1896]\n",
    "st_id = [114, 117, 119, 302, 303, 307, 393, 442, 503, 504, 511, 516, 1838, 1896]\n",
    "for station in st_id:\n",
    "    df = df_test[df_test['station_id']==station]\n",
    "    predicted_anomalies = df[df['label_predict']==1]\n",
    "    for anomaly in predicted_anomalies.iterrows():\n",
    "        dt = anomaly[1]['date_time_utc']\n",
    "        locality = df_test[(df_test['date_time_utc'] >= (dt - window)) & \n",
    "                       (df_test['date_time_utc'] <= (dt + window))]\n",
    "        \n",
    "        predicted_anomalies_ids.update(set(locality.index))\n",
    "\n",
    "true_anomalies_ids = set(df_test[(df_test['label_true']==1) & (df_test['station_id'].isin(st_id))].index)\n",
    "\n",
    "tp = set.intersection(true_anomalies_ids, predicted_anomalies_ids)\n",
    "recall = len(tp) / len(true_anomalies_ids)\n",
    "recall"
   ]
  },
  {
   "cell_type": "markdown",
   "metadata": {},
   "source": [
    "## Precision"
   ]
  },
  {
   "cell_type": "code",
   "execution_count": null,
   "metadata": {},
   "outputs": [],
   "source": [
    "true_anomalies_ids = set()\n",
    "window = pd.Timedelta('4h')\n",
    "\n",
    "#st_id = [114, 119, 302, 303, 442, 504, 511, 1838, 1896]\n",
    "#st_id = [114, 117, 119, 302, 303, 442, 503, 504, 511, 1838, 1896]\n",
    "st_id = [114, 117, 119, 302, 303, 307, 393, 442, 503, 504, 511, 516, 1838, 1896]\n",
    "for station in st_id:\n",
    "    df = df_test[df_test['station_id']==station]\n",
    "    true_anomalies = df[df['label_true']==1]\n",
    "    for anomaly in true_anomalies.iterrows():\n",
    "        dt = anomaly[1]['date_time_utc']\n",
    "        locality = df_test[(df_test['date_time_utc'] >= (dt - window)) & \n",
    "                       (df_test['date_time_utc'] <= (dt + window))]\n",
    "        \n",
    "        true_anomalies_ids.update(set(locality.index))\n",
    "        # print(list(locality.index))\n",
    "\n",
    "predicted_anomalies_ids = set(df_test[((df_test['label_predict']==1) & (df_test['station_id'].isin(st_id)))].index)\n",
    "\n",
    "tp = set.intersection(true_anomalies_ids, predicted_anomalies_ids)\n",
    "precision = len(tp) / len(predicted_anomalies_ids)\n",
    "precision"
   ]
  },
  {
   "cell_type": "markdown",
   "metadata": {},
   "source": [
    "## Cycle"
   ]
  },
  {
   "cell_type": "code",
   "execution_count": null,
   "metadata": {},
   "outputs": [],
   "source": [
    "predicted_anomalies_ids = set()\n",
    "window = pd.Timedelta('4h')\n",
    "station_list = [114, 117, 119, 302, 303, 307, 393, 442, 503, 504, 511, 516, 1838, 1896]\n",
    "\n",
    "for station_id in station_list:\n",
    "    st_id = [station_id]\n",
    "    for station in st_id:\n",
    "        df = df_test[df_test['station_id']==station]\n",
    "        predicted_anomalies = df[df['label_predict']==1]\n",
    "        for anomaly in predicted_anomalies.iterrows():\n",
    "            dt = anomaly[1]['date_time_utc']\n",
    "            locality = df_test[(df_test['date_time_utc'] >= (dt - window)) & \n",
    "                           (df_test['date_time_utc'] <= (dt + window))]\n",
    "\n",
    "            predicted_anomalies_ids.update(set(locality.index))\n",
    "\n",
    "    true_anomalies_ids = set(df_test[(df_test['label_true']==1) & (df_test['station_id'].isin(st_id))].index)\n",
    "\n",
    "    tp = set.intersection(true_anomalies_ids, predicted_anomalies_ids)\n",
    "    recall = len(tp) / len(true_anomalies_ids)\n",
    "\n",
    "    true_anomalies_ids = set()\n",
    "    window = pd.Timedelta('4h')\n",
    "\n",
    "    for station in st_id:\n",
    "        df = df_test[df_test['station_id']==station]\n",
    "        true_anomalies = df[df['label_true']==1]\n",
    "        for anomaly in true_anomalies.iterrows():\n",
    "            dt = anomaly[1]['date_time_utc']\n",
    "            locality = df_test[(df_test['date_time_utc'] >= (dt - window)) & \n",
    "                           (df_test['date_time_utc'] <= (dt + window))]\n",
    "\n",
    "            true_anomalies_ids.update(set(locality.index))\n",
    "            # print(list(locality.index))\n",
    "\n",
    "    predicted_anomalies_ids = set(df_test[((df_test['label_predict']==1) & (df_test['station_id'].isin(st_id)))].index)\n",
    "\n",
    "    tp = set.intersection(true_anomalies_ids, predicted_anomalies_ids)\n",
    "    precision = len(tp) / len(predicted_anomalies_ids)\n",
    "    \n",
    "    print('{0} : R = {1:0.3f}, P = {2:0.3f}'.format(station_id, recall, precision))"
   ]
  },
  {
   "cell_type": "markdown",
   "metadata": {},
   "source": [
    "## Plot"
   ]
  },
  {
   "cell_type": "code",
   "execution_count": null,
   "metadata": {},
   "outputs": [],
   "source": [
    "import matplotlib.pyplot as plt\n",
    "\n",
    "#st_id = [114, 117, 119, 442, 504, 511, 1838, 1896]\n",
    "#303, 307!!, 393!!, 503, 516\n",
    "#test_station_id = [114, 117, 119, 302, 303, 307, 393, 442, 503, 504, 511, 516, 1838, 1896]\n",
    "z = copy(df_test[df_test['station_id']==442].set_index('date_time_utc'))\n",
    "\n",
    "start = pd.Timestamp(2012, 4, 1)\n",
    "end = pd.Timestamp(2017, 5, 1)\n",
    "\n",
    "to_plot = z[(z.index<=end) & (z.index>=start)]\n",
    "\n",
    "plt.figure(figsize=(30, 10))\n",
    "\n",
    "for elem in [True, False]:\n",
    "    cond_predict = (to_plot['label_predict'] == 0) == elem\n",
    "    cond_true = (to_plot['label_true'] == 0) == elem\n",
    "    \n",
    "    if elem:\n",
    "        plt.plot_date(to_plot[cond_predict].index, to_plot[cond_predict]['target_t_road'], 'b',\n",
    "                      linestyle='none', marker='o', markersize=8, label='t_road')\n",
    "    else:\n",
    "        \n",
    "        plt.plot_date(to_plot[cond_true].index, to_plot[cond_true]['target_t_road'], 'g.',\n",
    "                              linestyle='none', marker='o', label='outliers', markersize=12)\n",
    "        \n",
    "        plt.plot_date(to_plot[cond_predict].index, to_plot[cond_predict]['target_t_road'], 'r.',\n",
    "                              linestyle='none', marker='o', label='outliers', markersize=8)\n",
    "\n",
    "plt.grid()\n",
    "plt.legend(fontsize=32)\n",
    "plt.ylabel(r' Температура дороги, $^{\\circ}C$', fontsize=30)\n",
    "\n",
    "plt.tick_params(labelsize=30)\n",
    "plt.show()"
   ]
  },
  {
   "cell_type": "code",
   "execution_count": null,
   "metadata": {},
   "outputs": [],
   "source": []
  }
 ],
 "metadata": {
  "kernelspec": {
   "display_name": "Python 3",
   "language": "python",
   "name": "python3"
  },
  "language_info": {
   "codemirror_mode": {
    "name": "ipython",
    "version": 3
   },
   "file_extension": ".py",
   "mimetype": "text/x-python",
   "name": "python",
   "nbconvert_exporter": "python",
   "pygments_lexer": "ipython3",
   "version": "3.5.2"
  },
  "widgets": {
   "state": {
    "00326b32892a43d4ba69bd9c99cfa796": {
     "views": [
      {
       "cell_index": 7
      }
     ]
    },
    "1eb71c32c655466b842aaa0c3a382add": {
     "views": [
      {
       "cell_index": 7
      }
     ]
    },
    "2ad459046cde4777afe3f9e3c8c5b3ae": {
     "views": [
      {
       "cell_index": 7
      }
     ]
    },
    "3a74dceb621c486a9341da5c8a982164": {
     "views": [
      {
       "cell_index": 7
      }
     ]
    },
    "660c86c1a4384674a185be4b3bff31a9": {
     "views": [
      {
       "cell_index": 7
      }
     ]
    },
    "7f3b66d1e80d4f5e87d2988624d955d0": {
     "views": [
      {
       "cell_index": 7
      }
     ]
    },
    "943e2c1cc988476e971e75100750df58": {
     "views": [
      {
       "cell_index": 7
      }
     ]
    },
    "b4c7e54d4afe468e8123b8ed01cc507b": {
     "views": [
      {
       "cell_index": 7
      }
     ]
    },
    "daaa68dca49744bc9ee634c5c1142d96": {
     "views": [
      {
       "cell_index": 7
      }
     ]
    },
    "db245a5162754e999cfdd51d9b929484": {
     "views": [
      {
       "cell_index": 7
      }
     ]
    },
    "e0a44a8d4a2840a2aa38273cc13524ef": {
     "views": [
      {
       "cell_index": 7
      }
     ]
    },
    "eaa208b4699544f9a2ee2c4559d77e40": {
     "views": [
      {
       "cell_index": 7
      }
     ]
    },
    "f0ea691c74e14437adaf0ac14d37253b": {
     "views": [
      {
       "cell_index": 7
      }
     ]
    },
    "fa6314ecdce54b00b1655f84e78f9297": {
     "views": [
      {
       "cell_index": 7
      }
     ]
    }
   },
   "version": "1.2.0"
  }
 },
 "nbformat": 4,
 "nbformat_minor": 2
}
