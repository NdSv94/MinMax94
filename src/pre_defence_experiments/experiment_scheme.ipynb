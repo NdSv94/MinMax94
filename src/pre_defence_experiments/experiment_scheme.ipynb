{
 "cells": [
  {
   "cell_type": "code",
   "execution_count": 1,
   "metadata": {},
   "outputs": [],
   "source": [
    "import numpy as np\n",
    "import pandas as pd\n",
    "from copy import copy\n",
    "import sys\n",
    "sys.path.append('/home/ndsviriden/MinMax94/src/utils') \n",
    "from constants import data_directory, MmxColumns\n",
    "from interpolation import interpolate_mmx, create_patterns\n",
    "from converters import convert_raw_to_mmx, get_clean_data\n",
    "from loaders import load_mm94_stations, select_mm94_features\n",
    "from geographical import find_nearest_wmo_station, add_solar_angles, add_coordinates, add_road_id\n",
    "from sklearn.ensemble import IsolationForest\n",
    "from score import get_labels\n",
    "from score import calculate_precision, calculate_recall\n",
    "import gc\n",
    "from tqdm import tqdm_notebook\n",
    "from functools import reduce"
   ]
  },
  {
   "cell_type": "code",
   "execution_count": 2,
   "metadata": {},
   "outputs": [],
   "source": [
    "# available for test:\n",
    "# 20921, 20916, 20761, 20755, 20754, 20743, 20717, 20323\n",
    "# 1921, 1911, 1899, 1831, 1826, 1813, 1808, 704, 702, 635, 628, 626, 615, 593,\n",
    "# 456, 454, 435, 432, 411, 401, 309, 308, 305, 302, 239, 228, 231, 200, 158, 150, \n",
    "# 126, 119, 118, 117, 116, 115, 114, 113\n",
    "\n",
    "# available for experiments:\n",
    "# 114, 115, 116, 117, 119, 302, 303, 304, 305, 306, 307,\n",
    "# 308, 309, 393, 442, 470, 471, 472, 502, 503, 504, 505,\n",
    "# 506, 507, 508, 511, 512, 513, 514, 515, 516, 591, 592,\n",
    "# 593, 596, 597, 599, 612, 613, 614, 615, 616, 617, 618,\n",
    "# 619, 620, 621, 622, 623, 624, 625, 626, 627, 628, 629,\n",
    "# 836, 837, 838, 839, 862, 863, 874, 875, 888, 1820, 1832,\n",
    "# 1833, 1834, 1835, 1836, 1838, 1896, 1899, 4007\n",
    "\n",
    "# small outliers:\n",
    "# 114, 119, 302, 303, 442, 511, 512, 514, 629, 838, 839\n",
    "\n",
    "# big bugs\n",
    "# 307, 393, 503, 504, 505, 516, 619, 1838, 1896 -- big bugs"
   ]
  },
  {
   "cell_type": "markdown",
   "metadata": {},
   "source": [
    "## Loading data"
   ]
  },
  {
   "cell_type": "code",
   "execution_count": 3,
   "metadata": {},
   "outputs": [
    {
     "name": "stderr",
     "output_type": "stream",
     "text": [
      "/home/ndsviriden/MinMax94/src/utils/geographical.py:65: RuntimeWarning: invalid value encountered in arccos\n",
      "  solar_azimuth = np.arccos(cos_az) * np.sign(h_rad)\n"
     ]
    },
    {
     "name": "stdout",
     "output_type": "stream",
     "text": [
      "CPU times: user 1min 45s, sys: 12.1 s, total: 1min 57s\n",
      "Wall time: 1min 57s\n"
     ]
    }
   ],
   "source": [
    "%%time\n",
    "test_station_id = [114, 117, 119, 302, 303, 307, 393, 442, 503, 504, 511, 516, 1838, 1896]\n",
    "                   #[20921, 20916, 20761, 20755, 20754, 20743, 20717, 20323, \n",
    "                   #1921, 1911, 1899, 1831, 1826, 1813, 1808, 704, 702, 635,\n",
    "                   #628, 626, 615, 593, 456, 454, 435, 432, 411, 401, \n",
    "                   #309, 308, 305, 302, 239, 228, 223, 200, 152, 150,\n",
    "                   #126, 119, 118, 117, 116, 115, 114, 113]\n",
    "\n",
    "\n",
    "train_station_id = [456, 454, 435, 432, 411, 401, 309, 308, 305, 302, 239, 228, 200, 152, 150, \n",
    "                    126, 119, 118, 117, 116, 115, 114, 113, 1820,\n",
    "                    20921, 20916, 20761, 20755, 20754, 20743, 20717, 20323,\n",
    "                    628, 626, 615, 593, 456, 454, 435, 432, 411, 401] \n",
    "#                    613, 614, 616, 617, 618, 619, 620, 621, 622, 623, \n",
    "#                    624, 625, 627, 629, 836, 837, 838, 839, 862, 863, \n",
    "#                    874, 875, 888, 1820, 1832, 1833, 1834, 1835, 1836, \n",
    "#                    1838, 1896, 4007]\n",
    "\n",
    "raw = load_mm94_stations(train_station_id + test_station_id)\n",
    "raw = select_mm94_features(raw, ['t_air', 't_road', 't_underroad', 'pressure', 'dampness'])\n",
    "\n",
    "mmx_rwis = convert_raw_to_mmx(raw)\n",
    "mmx_rwis_interpolated = interpolate_mmx(mmx_rwis)\n",
    "data = create_patterns(mmx_rwis_interpolated)\n",
    "\n",
    "data['data_solar_azimuth'], data['data_solar_altitude'] = add_solar_angles(data)\n",
    "data['data_latitude'], data['data_longitude'] = add_coordinates(data)\n",
    "data['data_road'] = add_road_id(data)\n",
    "data = data.dropna(subset=('data_t_road', ))\n",
    "\n",
    "del data[MmxColumns.ID_AIR_TEMPERATURE], data[MmxColumns.ID_UNDERGROUND_TEMPERATURE], \\\n",
    "    data[MmxColumns.ID_PRESSURE], data[MmxColumns.ID_HUMIDITY]\n",
    "\n",
    "train = data[data['station_id'].isin(train_station_id)]\n",
    "train = train.reset_index(drop=True)\n",
    "\n",
    "test = data[data['station_id'].isin(test_station_id)]\n",
    "test = test.reset_index(drop=True)\n",
    "\n",
    "del data, raw, mmx_rwis, mmx_rwis_interpolated\n",
    "gc.collect()"
   ]
  },
  {
   "cell_type": "markdown",
   "metadata": {},
   "source": [
    "## Add labels to test"
   ]
  },
  {
   "cell_type": "code",
   "execution_count": 31,
   "metadata": {},
   "outputs": [],
   "source": [
    "test['label_true'] = get_labels(test, labels_type='true')\n",
    "#test['label_true'] = np.random.binomial(1, 0.05, len(test))\n",
    "#test['label_predict'] = np.random.binomial(1, 0.2, len(test))"
   ]
  },
  {
   "cell_type": "markdown",
   "metadata": {},
   "source": [
    "## Calculate Precision"
   ]
  },
  {
   "cell_type": "code",
   "execution_count": null,
   "metadata": {},
   "outputs": [],
   "source": [
    "precision = calculate_precision(test)\n",
    "recall = calculate_recall(test)\n",
    "print(precision, recall)"
   ]
  },
  {
   "cell_type": "markdown",
   "metadata": {},
   "source": [
    "## Clean data"
   ]
  },
  {
   "cell_type": "code",
   "execution_count": 6,
   "metadata": {},
   "outputs": [],
   "source": [
    "train = get_clean_data(train)"
   ]
  },
  {
   "cell_type": "markdown",
   "metadata": {},
   "source": [
    "## Feature selection"
   ]
  },
  {
   "cell_type": "code",
   "execution_count": 42,
   "metadata": {
    "scrolled": true
   },
   "outputs": [
    {
     "name": "stdout",
     "output_type": "stream",
     "text": [
      "CPU times: user 8.1 s, sys: 2.77 s, total: 10.9 s\n",
      "Wall time: 11 s\n"
     ]
    }
   ],
   "source": [
    "%%time\n",
    "\n",
    "import xgboost as xgb\n",
    "from preprocessing import create_feature_df\n",
    "\n",
    "point = pd.Timestamp(2015, 6, 1)\n",
    "\n",
    "df_train = create_feature_df(train[train['date_time_utc'] < point])\n",
    "df_valid = create_feature_df(train[train['date_time_utc'] >= point])\n",
    "df_test = create_feature_df(test)\n",
    "\n",
    "features = [col for col in df_train if col.startswith('data_')]\n",
    "target = [col for col in df_train if col.startswith('target_')][0]\n",
    "\n",
    "X_train = np.array(df_train[features].values)\n",
    "y_train = np.array(df_train[target].values.reshape(-1, 1))\n",
    "\n",
    "X_valid = np.array(df_valid[features].values)\n",
    "y_valid = np.array(df_valid[target].values.reshape(-1, 1))\n",
    "\n",
    "X_test = np.array(df_test[features].values)\n",
    "y_test = np.array(df_test[target].values.reshape(-1, 1))\n",
    "\n",
    "dtrain = xgb.DMatrix(X_train, y_train)\n",
    "dval = xgb.DMatrix(X_valid, y_valid)\n",
    "dtest = xgb.DMatrix(X_test, y_test)"
   ]
  },
  {
   "cell_type": "code",
   "execution_count": 28,
   "metadata": {},
   "outputs": [
    {
     "name": "stdout",
     "output_type": "stream",
     "text": [
      "[0]\ttrain-mae:6.75922\tvalid-mae:6.75261\n",
      "[20]\ttrain-mae:0.940096\tvalid-mae:0.928302\n",
      "[40]\ttrain-mae:0.380067\tvalid-mae:0.382304\n",
      "[60]\ttrain-mae:0.344972\tvalid-mae:0.357759\n",
      "[80]\ttrain-mae:0.337546\tvalid-mae:0.358211\n",
      "[100]\ttrain-mae:0.333335\tvalid-mae:0.35669\n",
      "[120]\ttrain-mae:0.330044\tvalid-mae:0.35561\n",
      "[140]\ttrain-mae:0.32748\tvalid-mae:0.354994\n",
      "[160]\ttrain-mae:0.325039\tvalid-mae:0.35489\n",
      "[180]\ttrain-mae:0.32296\tvalid-mae:0.355886\n",
      "[199]\ttrain-mae:0.321171\tvalid-mae:0.355577\n"
     ]
    }
   ],
   "source": [
    "#from sklearn.metrics import mean_squared_error as mse\n",
    "import xgboost as xgb\n",
    "from functools import partial\n",
    "\n",
    "params = {}\n",
    "\n",
    "params[\"eval_metric\"] = 'mae'\n",
    "params[\"eta\"] = 0.1\n",
    "params[\"lambda\"] = 1.\n",
    "#params[\"alpha\"] = 1.0\n",
    "params[\"subsample\"] = 0.9\n",
    "#params[\"min_child_weight\"] = 1.\n",
    "params[\"colsample_bytree\"] = 0.9\n",
    "params[\"max_depth\"] = 7\n",
    "params[\"silent\"] = 1\n",
    "params[\"gamma\"] = 0.1\n",
    "delta = 1.\n",
    "watchlist = [(dtrain, 'train'), (dval, 'valid')]\n",
    "\n",
    "clf = xgb.train(params, dtrain, 200, watchlist, verbose_eval=20)"
   ]
  },
  {
   "cell_type": "code",
   "execution_count": 52,
   "metadata": {},
   "outputs": [
    {
     "name": "stdout",
     "output_type": "stream",
     "text": [
      "0.3551597\n"
     ]
    }
   ],
   "source": [
    "from sklearn.metrics import mean_absolute_error\n",
    "\n",
    "y_true = dtest.get_label()\n",
    "y_pred = clf.predict(dtest).ravel()\n",
    "\n",
    "print(mean_absolute_error(y_true, y_pred))\n",
    "upper = y_pred + 0.48 * 10\n",
    "lower = y_pred - 0.48 * 10\n",
    "df_test['label_predict'] = ((y_true > upper) | (y_true < lower))"
   ]
  },
  {
   "cell_type": "code",
   "execution_count": 53,
   "metadata": {},
   "outputs": [
    {
     "name": "stdout",
     "output_type": "stream",
     "text": [
      "CPU times: user 5min 56s, sys: 485 ms, total: 5min 56s\n",
      "Wall time: 5min 59s\n"
     ]
    },
    {
     "data": {
      "text/plain": [
       "1.0"
      ]
     },
     "execution_count": 53,
     "metadata": {},
     "output_type": "execute_result"
    }
   ],
   "source": [
    "%%time\n",
    "calculate_precision(df_test)"
   ]
  },
  {
   "cell_type": "code",
   "execution_count": 58,
   "metadata": {},
   "outputs": [
    {
     "data": {
      "text/plain": [
       "0.006649850951616602"
      ]
     },
     "execution_count": 58,
     "metadata": {},
     "output_type": "execute_result"
    }
   ],
   "source": [
    "calculate_recall(df_test)"
   ]
  },
  {
   "cell_type": "code",
   "execution_count": 57,
   "metadata": {},
   "outputs": [
    {
     "data": {
      "image/png": "[encoded data removed]",
      "text/plain": [
       "<matplotlib.figure.Figure at 0x7f0bc82089b0>"
      ]
     },
     "metadata": {},
     "output_type": "display_data"
    }
   ],
   "source": [
    "import matplotlib.pyplot as plt\n",
    "\n",
    "\n",
    "#test_station_id = [114, 117, 119, 302, 303, 307, 393, 442, 503, 504, 511, 516, 1838, 1896]\n",
    "z = copy(df_test[df_test['station_id']==119].set_index('date_time_utc'))\n",
    "\n",
    "start = pd.Timestamp(2016, 3, 10)\n",
    "end = pd.Timestamp(2016, 4, 10)\n",
    "\n",
    "to_plot = z[(z.index<=end) & (z.index>=start)]\n",
    "\n",
    "plt.figure(figsize=(30, 10))\n",
    "\n",
    "for elem in [True, False]:\n",
    "    cond = (to_plot['label_predict'] == 0) == elem\n",
    "    if elem:\n",
    "        plt.plot_date(to_plot[cond].index, to_plot[cond]['target_t_road'], 'b',\n",
    "                      linestyle='none', marker='o', markersize=8, label='t_road')\n",
    "    else:\n",
    "        plt.plot_date(to_plot[cond].index, to_plot[cond]['target_t_road'], 'r.',\n",
    "                              linestyle='none', marker='o', label='outliers', markersize=8)\n",
    "plt.grid()\n",
    "plt.legend(fontsize=32)\n",
    "plt.ylabel(r' Температура дороги, $^{\\circ}C$', fontsize=30)\n",
    "\n",
    "plt.tick_params(labelsize=30)\n",
    "plt.show()"
   ]
  },
  {
   "cell_type": "code",
   "execution_count": null,
   "metadata": {},
   "outputs": [],
   "source": []
  }
 ],
 "metadata": {
  "kernelspec": {
   "display_name": "Python 3",
   "language": "python",
   "name": "python3"
  },
  "language_info": {
   "codemirror_mode": {
    "name": "ipython",
    "version": 3
   },
   "file_extension": ".py",
   "mimetype": "text/x-python",
   "name": "python",
   "nbconvert_exporter": "python",
   "pygments_lexer": "ipython3",
   "version": "3.5.2"
  },
  "widgets": {
   "state": {
    "00326b32892a43d4ba69bd9c99cfa796": {
     "views": [
      {
       "cell_index": 7
      }
     ]
    },
    "1eb71c32c655466b842aaa0c3a382add": {
     "views": [
      {
       "cell_index": 7
      }
     ]
    },
    "2ad459046cde4777afe3f9e3c8c5b3ae": {
     "views": [
      {
       "cell_index": 7
      }
     ]
    },
    "3a74dceb621c486a9341da5c8a982164": {
     "views": [
      {
       "cell_index": 7
      }
     ]
    },
    "660c86c1a4384674a185be4b3bff31a9": {
     "views": [
      {
       "cell_index": 7
      }
     ]
    },
    "7f3b66d1e80d4f5e87d2988624d955d0": {
     "views": [
      {
       "cell_index": 7
      }
     ]
    },
    "943e2c1cc988476e971e75100750df58": {
     "views": [
      {
       "cell_index": 7
      }
     ]
    },
    "b4c7e54d4afe468e8123b8ed01cc507b": {
     "views": [
      {
       "cell_index": 7
      }
     ]
    },
    "daaa68dca49744bc9ee634c5c1142d96": {
     "views": [
      {
       "cell_index": 7
      }
     ]
    },
    "db245a5162754e999cfdd51d9b929484": {
     "views": [
      {
       "cell_index": 7
      }
     ]
    },
    "e0a44a8d4a2840a2aa38273cc13524ef": {
     "views": [
      {
       "cell_index": 7
      }
     ]
    },
    "eaa208b4699544f9a2ee2c4559d77e40": {
     "views": [
      {
       "cell_index": 7
      }
     ]
    },
    "f0ea691c74e14437adaf0ac14d37253b": {
     "views": [
      {
       "cell_index": 7
      }
     ]
    },
    "fa6314ecdce54b00b1655f84e78f9297": {
     "views": [
      {
       "cell_index": 7
      }
     ]
    }
   },
   "version": "1.2.0"
  }
 },
 "nbformat": 4,
 "nbformat_minor": 2
}
